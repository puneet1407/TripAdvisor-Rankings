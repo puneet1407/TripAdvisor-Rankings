{
 "cells": [
  {
   "cell_type": "code",
   "execution_count": 207,
   "metadata": {
    "collapsed": true
   },
   "outputs": [],
   "source": [
    "import pandas as pd\n",
    "import numpy as np\n",
    "import seaborn as sns\n",
    "import matplotlib.pyplot as plt\n",
    "%matplotlib inline\n",
    "import pickle"
   ]
  },
  {
   "cell_type": "code",
   "execution_count": 208,
   "metadata": {
    "collapsed": true
   },
   "outputs": [],
   "source": [
    "from gensim import corpora, models, matutils\n",
    "from sklearn.feature_extraction.text import CountVectorizer, TfidfVectorizer"
   ]
  },
  {
   "cell_type": "code",
   "execution_count": 209,
   "metadata": {
    "collapsed": true
   },
   "outputs": [],
   "source": [
    "df = pd.read_pickle('reviews.pickle')"
   ]
  },
  {
   "cell_type": "code",
   "execution_count": 210,
   "metadata": {
    "collapsed": false
   },
   "outputs": [
    {
     "data": {
      "text/plain": [
       "(98613, 11)"
      ]
     },
     "execution_count": 210,
     "metadata": {},
     "output_type": "execute_result"
    }
   ],
   "source": [
    "df.shape"
   ]
  },
  {
   "cell_type": "code",
   "execution_count": 211,
   "metadata": {
    "collapsed": false
   },
   "outputs": [
    {
     "data": {
      "text/plain": [
       "Index([    u'review_id',          u'name',         u'title',       u'content',\n",
       "             u'recency',       u'staysum',         u'stars',  u'reviewer_loc',\n",
       "         u'mon_of_stay', u'yrmon_of_stay',   u'travel_type'],\n",
       "      dtype='object')"
      ]
     },
     "execution_count": 211,
     "metadata": {},
     "output_type": "execute_result"
    }
   ],
   "source": [
    "df.columns"
   ]
  },
  {
   "cell_type": "code",
   "execution_count": 212,
   "metadata": {
    "collapsed": true
   },
   "outputs": [],
   "source": [
    "df.drop(['review_id','staysum','reviewer_loc'],axis=1,inplace=True)"
   ]
  },
  {
   "cell_type": "code",
   "execution_count": 213,
   "metadata": {
    "collapsed": false
   },
   "outputs": [
    {
     "data": {
      "text/plain": [
       "Index([         u'name',         u'title',       u'content',       u'recency',\n",
       "               u'stars',   u'mon_of_stay', u'yrmon_of_stay',   u'travel_type'],\n",
       "      dtype='object')"
      ]
     },
     "execution_count": 213,
     "metadata": {},
     "output_type": "execute_result"
    }
   ],
   "source": [
    "df.columns"
   ]
  },
  {
   "cell_type": "code",
   "execution_count": 214,
   "metadata": {
    "collapsed": false
   },
   "outputs": [
    {
     "data": {
      "text/plain": [
       "array(['2017-04-07T00:00:00.000000000', '2017-04-06T00:00:00.000000000',\n",
       "       '2017-04-05T00:00:00.000000000', ...,\n",
       "       '2010-01-28T00:00:00.000000000', '2010-01-27T00:00:00.000000000',\n",
       "       '2010-01-13T00:00:00.000000000'], dtype='datetime64[ns]')"
      ]
     },
     "execution_count": 214,
     "metadata": {},
     "output_type": "execute_result"
    }
   ],
   "source": [
    "df.recency.unique()"
   ]
  },
  {
   "cell_type": "code",
   "execution_count": 215,
   "metadata": {
    "collapsed": false
   },
   "outputs": [
    {
     "data": {
      "text/plain": [
       "name             0\n",
       "title            0\n",
       "content          0\n",
       "recency          0\n",
       "stars            0\n",
       "mon_of_stay      0\n",
       "yrmon_of_stay    0\n",
       "travel_type      0\n",
       "dtype: int64"
      ]
     },
     "execution_count": 215,
     "metadata": {},
     "output_type": "execute_result"
    }
   ],
   "source": [
    "df.isnull().sum()"
   ]
  },
  {
   "cell_type": "code",
   "execution_count": 216,
   "metadata": {
    "collapsed": false
   },
   "outputs": [],
   "source": [
    "#create hotel-level reviews dataframe, combining all of hotel's reviews into one\n",
    "df_by_hotel = df.groupby('name').agg({'content': lambda x: ' '.join(x)}).reset_index()"
   ]
  },
  {
   "cell_type": "code",
   "execution_count": 217,
   "metadata": {
    "collapsed": false
   },
   "outputs": [
    {
     "data": {
      "text/html": [
       "<div>\n",
       "<table border=\"1\" class=\"dataframe\">\n",
       "  <thead>\n",
       "    <tr style=\"text-align: right;\">\n",
       "      <th></th>\n",
       "      <th>name</th>\n",
       "      <th>content</th>\n",
       "    </tr>\n",
       "  </thead>\n",
       "  <tbody>\n",
       "    <tr>\n",
       "      <th>0</th>\n",
       "      <td>1 Hotel Central Park</td>\n",
       "      <td>we have had numerous stays at hotel one in ny...</td>\n",
       "    </tr>\n",
       "    <tr>\n",
       "      <th>1</th>\n",
       "      <td>11 Howard</td>\n",
       "      <td>i stayed 5nights in this hotel and highly rec...</td>\n",
       "    </tr>\n",
       "    <tr>\n",
       "      <th>2</th>\n",
       "      <td>3 West Club</td>\n",
       "      <td>great location but the room was terribly outd...</td>\n",
       "    </tr>\n",
       "    <tr>\n",
       "      <th>3</th>\n",
       "      <td>36 Hudson Hotel</td>\n",
       "      <td>stayed at the hotel over the new year staff w...</td>\n",
       "    </tr>\n",
       "    <tr>\n",
       "      <th>4</th>\n",
       "      <td>414 Hotel</td>\n",
       "      <td>we stayed at the 414 for the second time and ...</td>\n",
       "    </tr>\n",
       "  </tbody>\n",
       "</table>\n",
       "</div>"
      ],
      "text/plain": [
       "                   name                                            content\n",
       "0  1 Hotel Central Park   we have had numerous stays at hotel one in ny...\n",
       "1             11 Howard   i stayed 5nights in this hotel and highly rec...\n",
       "2           3 West Club   great location but the room was terribly outd...\n",
       "3       36 Hudson Hotel   stayed at the hotel over the new year staff w...\n",
       "4             414 Hotel   we stayed at the 414 for the second time and ..."
      ]
     },
     "execution_count": 217,
     "metadata": {},
     "output_type": "execute_result"
    }
   ],
   "source": [
    "df_by_hotel.head()"
   ]
  },
  {
   "cell_type": "code",
   "execution_count": 218,
   "metadata": {
    "collapsed": false
   },
   "outputs": [
    {
     "data": {
      "text/plain": [
       "(444, 2)"
      ]
     },
     "execution_count": 218,
     "metadata": {},
     "output_type": "execute_result"
    }
   ],
   "source": [
    "df_by_hotel.shape"
   ]
  },
  {
   "cell_type": "code",
   "execution_count": 219,
   "metadata": {
    "collapsed": false
   },
   "outputs": [
    {
     "data": {
      "text/plain": [
       "u' we have had numerous stays at hotel one in nyc the hotel is greatextremely comfortable clean and with a fantastic staff i am finally getting around to write this after four stays at the hotelall were wonderful also staff goes above and beyondin particular antigona  janessa great place to stayelizabeth   1 hotel is a beautiful breath of fresh air close to central park its the perfect location for the park the theater district shopping and museums the staff was very friendly and helpful and went out of their way for us many times we had a lovely window seat to watch the world go by on a rainy afternoon we cant wait to come back   this hotel is amazing  so different from any other hotel we have stayed in from the minute you walk in you feel at home it doesnt feel like a cold soulless hotel but like a warm and inviting living room the staff at the front desk are friendly and polite and quick  checking in was a breeze we had booked a city room which was more than adequate for what we needed for our five night stay loved the smartphone in the room for contacting the hotel and sorting out the lights the bathroom with its full glass wall its different to say the least but you can close this off if you want tooafter an extremely comfortable first night we decided to see if they had any park view rooms available so i messaged the hotel via the smart phone and within 30 mins we were in a different room we really cant recommend this hotel enough  the location is fab the venue is fab the staff are fab  its just fabulous we will definitely be back   this hotel is perfectly located right by the park and columbus circle and only a 20 min walk to lincoln center its beautifully and uniquely appointed with such great decor choices the all glass shower in the middle of the room is amazing but if you arent super close with your travel mate you may want to have separate roomshighly recommend catching weekend brunch downstairs at jams but dont forget to make a reservation in advance   i highly recommend 1 hotel central park the hotel is extremely beautiful earthy clean and nicely decorated the entire staff is extremely accommodating truly one of my most memorable stays in new york city   i stayed here for a few nights the hotel is beautifully decorated and is an excellent mix of old and new decorationthe rooms have super fast wifi good ac comfortable beds however i do feel that theyve gone a little too far with the sleekness for example they have only cardboard clothes hangers which cant be used for hanging suit trousers some rooms do not have full length cupboards for hanging clothes the small shower has a really large stand to how the shampoo bottleshopefully they read this feedback and fix at least the coat hanger issue   were having coffee in our cozy alcove room no there is no view but the room is truly cozy its small but doesnt feel small everything about the room is designed to be kind to the environment but that certainly doesnt take away from the pleasure it brings to the guest the bed is extremely comfortable and the room is peacefully quiet we were out of nespresso pods so i texted a request for more on the smart phone in the room from it you can order room service as well as control all the various lights in the room or turn on a privacy notice so you wont be disturbed we will definitely be back and we highly recommend it   me and my girlfriend visited the hotel as the first part of our 2 week trip travelling around the usa and it couldnt have started our trip any better if youre into something a little different and quirky then this will definitely be the place for you on arrival to the hotel we had just got ripped off by an uber taxi from jfk dont use these after explaining to the reception they then provided us a 100 credit to our room so that we could enjoy the food  drink in jams restaurant this was such a lovely gesture from the hotel which was a great surprise and something you dont forget the food in jams was beautiful photos attached and the waitresses were really helpful when looking into the menuthe rooms lighting is controlled completely by a mobile device which also allows you to send sms to reception for any questions or requests the room itself is beautifully designed extremely clean and provides a really comfortable area for sleeping in the bed is like the comfiest thing everrrr quoted by my girlfriendcannot recommend this hotel enough can honestly say there hasnt been one flaw for us to point out even go as far as saying its the best hotel weve ever stayed inwill definitely be returningryan  saffronx   i loved being here from the moment i walked in the door it has a very earthy smell that is very comforting while being in a hectic city i cant say enough good things about our room we stayed in a superior king room with an amazing shower that had a big piece of cypress wood in it this made the shower smell amazing i loved sitting on the window seat looking down at the city great place to recharge romantic for couples great location the staff is very accommodating   i really enjoyed my stay here i like the eco friendly concept and the decor was totally my style the room size was perfect and the bed was comfortable i enjoyed being greeted by the staff as i came and went i didnt dine in the restaurant although i did go down for coffee i think they could use a barista making coffee to go but then again starbucks is right across the street i loved being a block away from central park and equidistant from the west side and the east side i stayed for five nights and happily would have stayed longer highly recommend   excellent service and had comfortable stay richard at the concierge and christopher at the door were especially helpful and provided great service would highly recommend this if you have to stay in new york   i had amazing experience at jams having dinner with friends davi our waiter was the best i had the ocean perch and it was delicious also try the sweet potatoes and beet salad my favs nice ambience   this hotel all the attention is one of my favorite hotels around the world and i have to mention erica she is the girl who makes the rooms she is jut amazing always serving always making things happen making my stay magical and one of the greatest experiences in hotels everybody in the hotel the inspiration it creates just to walk around the decoration everything is recycled everything is amazing thank you guys for making my 6 night stay amazing will defenitly come back thank you   i have stayed her several times and have found the hotel to be perfect it is a wonderful hotel in a great location very close to central park the staff is truly terrific and accommodating the rooms are comfortable and nicely appointed will always return   the only complaint i have is the smoke detector is located directly above the bedor directly above your head even with my eyes closed i could see the flashing light all night long my colleagues complained of the same issueso just sleep on your sides or wear an eye mask   i stayed here for a couple of nights as a graduation gift from my father the location itself is conveniently located to central park but to reach everything else you need to either take the metro or take a taxiuber which can be a little pricey however it was definitely walkable distance to many other great places such as famous restaurants and whatnot or you can completely boycott public transportation and just walk if it is sunny outside the hotel smells great right when you walk in i believe you can buy their scents and the decor is very pinterestinstagramesque it is very modern but downtoearth the staff treated me very well the entire stay and made sure i had everything i needed i ordered room service for a meal as it was raining outside and i refused to get wet and the food was delicious i highly recommend it the view i got was a view of the street but still beautiful nonetheless the bed was comfortable shower was pretty cool it is an expensive hotel but it is worth the price due to location staff and food this is nyc after all i would love to stay at their chain in florida some day   nice romantic getaway location very interesting d\\xe9cor with lots of live plants really like our corner room with view of the park special thanks to alex and christopher for their attentive care and wealth of informationlooking forward to my next visit   1 hotel is my new favorite brand and its so exciting to watch them grow i stumbled curiously upon them though staying at another hotel while visiting miami for the first time a couple of years ago it definitely caught my interest as it was right up my alley i love conscious and ecofriendly it is what i strive for in my own life i just love the simplicity the tranquility the clean linesit all makes me happy the 1 hotel in miami had just opened when discovered it and although we didnt get to stay there the brand was now on our radarshorty after back in ny my husband somehow found out that they were opening a smaller boutique hotel in nyc the new location just so happened to be along the express bus route he took home so he wound up passing it every day that winter he surprised me with a nights stay i was in love the moment i walked in this was it my happy place my sanctuary from urban life and my life so all the way from queens it was our new staycation spot we had been to other hotels which were nice but this was perfectsince then we have surprised each other back and forth with 1 hotel central park staycations for a total of 3 stays in the last year our most recent one being this past january the rooms are tranquil and beautiful the staff is wonderful and accommodating always striving to personalize our stay and make it special and the location is better than any hotel i have experienced in nyc it is in midtown but away from all the crowds and just at the entrance of central park it really doesnt get any better it is an oasis in the middle of manhattani dance in nyc and had early morning rehearsals last spring i love 1 hotels so much that i would come into the city with my husband to grab breakfast at jams some mornings just to feel like i was on vacation and breathe in the airenvironment as i sipped my cappuccino the homemade granola is awesome by the way before we both to head off into the concrete jungle a note about the granola i had just mentioned that i enjoyed it to someone during our first stay there and guess what was in our room upon checkin 9 months later when we came back againan entire bag of my granola waiting for me in my roommy suggestions for a perfect romantic evening in nyc and our favorite thing to do just get 2 seats at the bar at marea a two michelin star restaurant just a block away from the hotel share a couple of their amazing pasta dishes over a few glasses of wine the deserts are amazing there as well then go for a romantic stroll through central park before heading back to the hotel for maybe a night cap at jams all within perfect walking distance 1 hotel is not in the middle of times square thanks goodness but close enough to walk or a very short cab ride if your wearing heels ladies incase your catching a showfyi if this helps in regards to general walking distance just to the north you have all of central park to the west is columbus circle and a whole foods market incase anyone other than me cares about that east of the hotel is the plaza plenty of horse and carriage rides lined up across from the former fao shwartz and upscale 5th avenue shopping etc and as mentioned just a bit south west is times square you are also near the subway and buses and can pretty much go anywhere from there take if from a new yorker we even hopped over to brooklyn for brunch one time while staying at 1 hotel central park it took us less than 20 minutes to get to williamsburg f to the l train and your there in no timewe have stayed at quite a few places living just outside of nyc and both working in it most of our lives and this hotel is definitely our favorite it is also very reasonably priced for such a nice hotel in nyc especially considering the location we are so excited to experience their new property that just opened in brooklyn i homeschool our 10 year old daughter its a lot of work so when i found out they were opening a biggerresort like hotel in brooklyn similar to miami i assume i announced that if i every go missing its probably because i kidnapped myself and that is where i will probably bebut please dont come and find mei really dont think nyc has anything like it and i am actually excited because as it turns out i dont have to kidnap myself after all we will be staying there one night at the new 1 hotel brooklyn bridge this weekend i will report back keep a lookout  ps all the rooms have a cushioned window nook where you can sip your coffee read people watch i think the neighbors across the way know me already it sounds creepy i know but this is what we do in nyc we watch each other because we dont have wildlife anyway i now know what it feels like to be a cat as i could just sit there and gaze out the window all day    i brought a former world leader to this property and could not have been more pleased emily t recommended the property and sent along lauren y and colleen to help execute the stay they had everything perfectly placed our group came with quite a few staffers and we had the entire floor to ourselves security was tremendous the rooms had great views and the principal who has stayed in many hotels loved the property the food was incredible and the staff went above and beyond to make our stay perfect michael b at the front desk even ran around the building to get us our taxi and rode to make sure it was at our pick up location i will absolutely be staying here again and recommend for the food view and awesome beds   a wonderful little hotel one block from central park great staff very service oriented and always available to help i had as all problem with my room and they upgraded me to a wonderful room on the18th floor a very neat theme very natural feel a lot of stone and wood incorporated into the construction definitely feels more comfortable that standard cut and paste hotel chains very neat recycled themes through the hotel i found it interesting my hangers in the closet contained love letters and hold mapsthe elevators can be a little slow during peak times during the day bar is great and the food is good breakfast can be a bit pricey overall i have really enjoyed my stay and would recommend it to friends looking for a slightly different atmosphere comfortable and very friendly   a wonderful location right at the bottom of central park the overall feel of the hotel was fresh crisp and professional yet comfortable and personable our room was unique and almost ethereal we loved the cozy window seat the clear shower with rain shower head and the dispensers of woodsy bathing supplies so much better than the little sample sizesthe service we were extended is what made the hotel stay for us the staff truly went above and beyond to make our stay a memorable experience we will definitely be coming back to 1 hotel central park   we had the pleasure of staying at 1 hotel central park this weekend and had an amazing time great location steps away from central park as well as restaurants shops subways etc the hotel has a beautiful ecofriendly design throughout which is very well maintained you can definitely tell that the team takes great pride in the upkeep we were in a park suite which had fabulous views of central park and so many small touches that show an extraordinary attention to detail everyone was extremely warm and friendly and couldn\\u2019t have been more helpful greeted pleasantly when coming and going from the hotel and truly made to feel at home we also had the pleasure of enjoying the scrumptious brunch in jams a vast variety of deliciousness\\u2026 best avocado toast the i\\u2019ve ever had \\u2013 yumwe\\u2019ll definitely be back   we stayed 4 nights and had a wonderful time at this beautiful hotel after a long trip from australia the staff could not have been more helpful or attentive highly recommend rooms with the window nook and park view  great for people watching spot and extra room to store your stuff lots of great touches beginning with the heavenly smell as you walk through the front doors fabulous shower and comfy beds and pillows friendly faces and smiles and great attention to detail my new favourite   loved everything about our stay staff was attentive  friendly room was nicely appointed with a modern flare and eco friendly friendly bar staff and great cocktails reasonably priced for nyc excellent location close to many nyc hot spots it was perfect for our weekend in town   so happy to be back at 1 hotel i love the feel of this placeit is very warm and inviting the staff is fantastic and really makes you feel like youre at home they are dog friendly and even had a dog bed in the room the hotel is one block off central park the food at their restaurant jams is great i will definitely stay here again   my wife and i stayed at this eco friendly hotel one block south of central park the location room size cleanliness and attentiveness of the staff were all very good and although we found the eco friendly bent very interesting  we wondered how serious they can be when the room didnt even have key activated lightshvac anyway beside the steel girder right out side the bathroom door which could be a jazzers for us middle of the night peeers this hotel particularly for the price is one of the better ones in the city   im coming back here great location near central park and has access to subway great service and i like the hipster vibe of the whole place i really recommend this hotel did not have time to try the food but i guess its good since the dining area is always full thank you 1 hotel had a great time here   we had an amazing stay at the 1 hotel central park the hotel has a really great vibe with beautiful ecoinspired designs throughout we stayed in the park suite which not only had great views of central park but also several inspiring touches of greenery bringing the feel of the park inside the suite also has two awesome window nooks where one can lay and watch the all the action below but without any of the noise  it is very quiet moreover though it is the staff that make this hotel so special they were universally attentive warm and friendly   the hotels staffs hard work for guestsso friendlynice and smilingill be back here to visit new yorkmy choice is perfect\\u30db\\u30c6\\u30eb\\u306e\\u30b9\\u30bf\\u30c3\\u30d5\\u306f\\u4e00\\u6240\\u61f8\\u547d\\u306b\\u30b2\\u30b9\\u30c8\\u306e\\u305f\\u3081\\u306b\\u52d5\\u3044\\u3066\\u3044\\u307e\\u3059\\u3002\\u307e\\u305f\\u30d5\\u30ec\\u30f3\\u30c9\\u30ea\\u30a3\\u3067\\u89aa\\u5207\\u3067\\u6c17\\u304c\\u5229\\u304d\\u3001\\u3044\\u3064\\u3082\\u30b9\\u30de\\u30a4\\u30eb\\u3067\\u3059\\u3002ny\\u306b\\u884c\\u304f\\u3068\\u304d\\u306f\\u3001\\u307e\\u305f\\u3053\\u3061\\u3089\\u306b\\u6cca\\u307e\\u308a\\u305f\\u3044\\u3068\\u601d\\u3044\\u307e\\u3059\\u3002\\u79c1\\u306e\\u9078\\u629e\\u3001\\u9593\\u9055\\u3044\\u306f\\u3042\\u308a\\u307e\\u305b\\u3093\\u3067\\u3057\\u305f\\u3002   stayed one night at this hotel decor and lay out is lovely  bed is comfortable and the staff is exceptional  check in was quick and easy  door men remembered me by name and the restaurant is great   the lobby smelled great the staff was wonderful we experienced blizzard like conditions and were happy to have to stay in our room and order room service the window seat is a great feature all the little amenities contributed to a very pleasurable stay   my friend and i went on a girlsgetaway to new york and this was the perfect home base for the weekend fun vibe super friendly staff unique accommodations not your standard chain hotel brand and great location   we stayed at this hotel during the recent march snow storm the hotel has lots of interesting features centered around ecology and personal wellbeing with a modern touch to its decor the hotel smells very nicelike a spring morning in the forest we booked the city king room and for two people it is a bit small but normal for new york city boutique hotels the furnishings are attractive and the bed was very comfortable given the layout of the room please note that there is absolutley no privacy when one is in the bathroom if you are a couple you will hear everything best to play music or turn on the tv note that the hangars are made of durable cardboard see picture which i am not crazy about since they are absolutely the worst for suits in addition the bathroom could benefit from more hooks which would help with reusing the towels the room has bathrobes a safe and a very quiet hvac system the location is great if you need to be near central park the entrace to the f line subway is just around the corner and there are plenty of 4 or 5 stars restaurants within a 5 minute walk one final suggestion ot the owners of this hotel make the front door easier to open the front door runs from the floor to ceiling and requires a significant amount of strength to pull it open   the king studio was like a stay at a spa the room size was a decent size but next time i will book a suite the 1 hotel was very accommodating to our needs except when you stay on the side of the bed there is a remote which looks like a cell phone but it controls the entire room and the headboard attached to the bed controls the lighting and privacy settings for room service outside your door which i did not know so in the morning when i was leaving i had forgot about the privacy light being on and cleaning lady skipped my room because of that little setting so i would highly advise to pay attention to which buttons you press but other than that i enjoyed my stay at 1 hotel the food in the dinning area was amazing and very healthy my hotel room was so comfortable to the point that i did not leave the room for the first day haha   recently my wife and i booked an overnight stay at your hotel and were very pleased with your staff who was very warm and friendly went over and above to make sure we were fully satisfied the rooms were very clean and came equipped with all the latest and greatest technology which was very impressive every detail of the hotel we loved from the organic decor to the fresh clean scent throughout the hotel love that i want to mention that we also dined at your restaurant and were both very happy with the service and quality of the food btw the pork chop was amazing overall we loved our stay with you from start to finish and would highly recommend your hotel to anyone looking for a warm friendly and very accommodating hotel   i stayed at the property a little over a week ago and truly had an amazing experience so many great things to consider  beautiful property good location great food and awesome staff cant ask for any more    i was recently booked into the 1 hotel for a work event i stayed at the facility for three days and used their restaurant conference room and gym every detail about this hotel was well thought out and executed to the finest detail fresh plants and quirky art adorn the entire hotel many natural resources are used through out the hotel making the whole experience comforting austin and alex greeted me at the door took my luggage and valeted my vehicle through out my stay i would see both of them and they could not be more gracious and hospitable  true assets to the hotel the entire staff at the hotel was super friendly and you had the feeling that they were genuinely happy to see you jams restaurant had amazing food and supplied all the indining options which was perfect i recommend the kale salad with pecorino breadcrumbs and anchovy dressing the rooms were super clean had great views of the park and offered cool options like a window seat glass shower and a rain shower head the amenities had a earthy smell and were fantastic to use in abundance i would recommend this hotel and have asked to be booked back for future work needs bravo 1 hotel   if youre looking to step out of the box you wont be disappointed at the 1hotel in nyc designed with totally recycled and repurposed material the 1hotel is classy upscale friendly and inviting i perched on the window seat with a complimentary espresso and watched snowflakes cling to the central park trees the staff went out of their way to arrange show tickets for us and met our every need the 1hotel is located close to mass transit and 5th ave shopping no mistake booking a room here   i usually booked my own hotel but this reservation was made by my husband i was all tied up in a meeting and couldnt do it myself never stayed there before till earlier this year and i have to sayi was blown away by the beauty of it loved the theme had an amazing view of central park the rooms were clean well organized and the staff were extremely friendly had an amazing view of central park it was an excellent choice by my husband also thank you to the young lady at the front desk who looked a bit tired and was still able to give me every bit of her attention being a coowner of a company i know often times the workers dont get the praise that they deserved for their hard work hope she sees thisi think her name was evelyn or something hope i got it right thank you for your professionalism my dear   last month me and my wife visited this beautiful hotel located near central park we loved the fact that they were ecofriendly and everything was green people literally the staff were very helpful professional and understanding checkingin was fast and easy special thanks to nicole who greeted us upon arrival and was able to resolve our issue in a timely manner very professional this is a must see hotel and will definitely recommend it until next timeciao   everything was amazing from when we walked in with the bellman helping us with our luggage and being checked in by the front desk agents the rooms were beautifully designed and clean felt like we were in a cozy cabin my favorite was the complimentary socks and the yoga mats in the room absolutely love the vibe of the hotel i highly recommended to all   i love this hotel ive stayed there multiple times and have had great service from all of the staff christopher is amazing  always remembers me and is super helpful the rooms are lovely and very ecofriendly every little detail is done beautifully in line with their mission i love the king rooms with the window seat if you plan to spend any time in your room relaxing or working it is worth the upgrade   ive stayed there twice the staff is very nice and they try very hard to be friendly and accommodating the location is excellent some rooms are gorgeous others just ok i found the temperature to be a bit cold the restaurant downstairs serves a buffet breakfast for 45person which i thought was a bit of a rip off overall it is a clean comfortable hotel in a good location with a pretty friendly staff   horrible experience this hotel ruined a lovely night for my fianc\\xe9 and i after returning from a long night out and about we both suddenly began to feel very itchy the itching did not subside after taking showers and seemed to be getting worse alarmed at thinking bed bugs may be the cause we immediately called the hotel manager he denied the possibility of bed bugs but unfortunately the itching persisted he refused to provide an alternative room and said the most he could do was 20 off the room i also found a large amount of dust and a stain on the bed sheet gross my fianc\\xe9 and i left at 2am and ended up getting no sleep at all it was awful and unsafe to drive with that level of exhaustion never again   we had a splendid time during our 4 night stay at the one hotelthe hotel is designed and managed in an eco friendly fashionour room was spacious and overlooked both central park and the city splendid views stuff was externally helpful and professional we will definitely be back   had a great corner suite that was at the end of the hall so was very quite bed is amazing and the living room area was a great extra space to lounge gym is quit nice as well would definitely stay here and recommend it   i love this hotel it has a concept of being eco friendly organic food recyclable materials and more it is near the central park end of 6th avenue service is great beds are comfy food is good i love itgreat work   i have nothing negative to say about this hotel it was clean beautifully maintained everyday bed comfortable staff friendly christopher always there to open the door  obliging jams restaurant the food was deliciouswe walked everywhereim going back   very lovely hotel and great location what really makes the place is the staff they all were amazingly helpful and seemed to genuinely care about the comfort of the guests room service was great too shout out to christopher for helping me hail a cab in the middle of a ny snow storm in the middle of march   its a perfect modern and cozy hotel we had the best experience  very nice staff and the best housekeeper ever grace is the best  i am architect and i really loved the hotel design and details rooms are also very calm even located in the heart of the city we could sleep very well nice bed nice shower and amazing amenities you dont need to bring your own shampoo body wash or body lotion we will definitely refer this hotel    i adore this hotel fabulous service and prime location i cant wait to be back truly an oasis in the city  i found everyone i encountered to be informed  kind also the bar is fantastic if you are looking to relax and meet friends for a drink   i loved the nature growing on the exterior of the building the front desk welcomed me with great enthusiasm i enjoyed the hotel immensely front desk was great as well as other individuals in lobby area always a smile jams was great where we had lunch the steak with bearnaise sauce was fantastic great food and server was very efficient professional and quick on any items to refill or otherwise we enjoyed a meeting room on the 2nd floor where we had some great views through the glass windows of the surrounding streets and buildings the room was amazing with its marble wood and custom cabinets the theme of 1 hotels is always amazing with its natural custom touches and organic room themes custom touches that you come to expect with a world class hotel being just a block away from central park allowed me to explore nature and see the beauty of this historic natural area amongst the skyscrapers loved it   we had the best time at 1 hotel the hotel was in the perfect location just one block away from central park everyone was incredibly friendly and kind we highly recommend this hotel you cant go wrong here we will be back   this is a great hotel in a very good location the hotel is very well presented there is the breakfastdinner area in the ground floor we had breakfast a couple of times which was impressive i have to admit with good choice for every appetite the rooms are well decorated in a rustic fashion i have to admit that they are quite small but that was expected for a ny hotel the view from the room was very nice and we had the chance to watch the thanksgiving parade there was a little bit of noise coming from the street n the evening but again something that wasnt surprising most of the staff were friendly but we had an awkward encounter when we asked to reserve a breakfast table to watch the parade and we were offered with a hard no and no alternatives i would have expected as a resident of the hotel to either have priority or at least offered an alternative the issue was resolved the next morning by the floor manager and we managed to enjoy both breakfast and the parade until we went upstairs to our room to watch the rest pricewise it is a tad expensive but it is worth it would recommend   my wife and i had a comfortable and wonderful stay at 1 hotel central parkthanks to our erika for making our stay comfortable and making our rooms clean and tidy we love the scent of the hotel when you enter and the eco friendly environment it gives more power to 1 central hotel and continue making a difference in our environment and the people around   we have been here several times and have never been disappointed staff is fantastic amazingly friendly and accommodating the hotel is in a great spot surrounded by some of nys finest restaurants its great if you are going to the theater or just want to hang out in the park we highly recommend   my wife and i enjoyed a great weekend at 1 hotel central park the atmosphere is very comfortable yet elegant the entire property feels healthy and sustainable dont miss the brunch the staff were very helpful too lastly the location is excellent and very close to broadway shows and central park   after checking into the hudson hotel to find my my room completely unacceptable i booked in at 1 hotel central park 1hcp was like sleeping in a tree house cozy great mattress rooms perfectly appointed and well stocked the staff is very friendly and accommodating i will return to this hotel and loved being a guest here also the location is perfect subway stations practically out the door for anywhere you want to go easy easy easy   we loved our stay at 1hotel we chose it because it was central but the structure room and overall ambience exceeded expectations great service great room great restaurant and great location when we go back to new york we will stay here again we usually try elsewhere rather than go back to the same place but not this time   i stayed here for work for a week and really loved it great location a block from central park for me it was an east walk to work each morningthe rooms are very cool and earthy lots of wood and metal features very warm and cozy atmosphere shower and soaps are great this room is not to be shared by friends though as the shower is exposed so no privacy in that respect fridge in room has bunch of drinks for a cost can request iron ironing board and steamer stayed on 9th floor front side of building facing north and it was pretty quiet thermostat in room worked well restaurant is a nice scene and has a great drink selection   the hotel is amazing i loved everything about it the decor the sustainability culture the staff was wonderful and welcoming the restaurant called neighbors was very lively and food and service was spectacular the location is easy to get to with lots of restaurants shops and central park within walking distance train station is right at the corner   we visited for one night to see billy joel and have dinner the hotel is relaxed and hip very clean and in a great location most noteworthy is the service the entire staff cant do enough to help you this hotel is family friendly and seems like a good choice for families as well we will definitely return   lovely hotel with sustainable practices throughout the building  small boutique hotel super friendly staff  front desk and parking valet exceptional arrived early and when i asked about parking at the front desk they told us our room was ready and we could check in early bed comfortable and room well stocked rooms all have live plants stylish furnishings from reclaimedrecycled products very little plastic use with the exception of the refillable shampoo and soap dispensers  even the disposable spoons are wooden sustainability is a feature i seek when booking a hotel our room was very clean but a little small restaurant has interesting menu selection and food was very good great location just a block off central park and within easy walk of theaters the plants in the room were a bit dry and needed watering and i noticed some of the plants on the green wall outside were dying  the contractor caring for the plants needs to pay better attention since this is a major feature of this hotel overall a great place to stay   when an opportunity to for an actual girls trip no kids no husband with my best friend arose 1 hotel literally and figuratively caught my eye and i said this is it my girlfriend who has been to the city a few times glanced at my email and not being familiar with the name wrote back we can do better i stood my ground having studied the imposing and impersonal high end hotels and after deciding she could stay somewhere else if she didnt like it booked our stay at 1 hotel central park when we walked into the foyer after traveling since 4am california time she looked at me and said i was wrong we walked into the most gorgeous sophisticated and yet earthy hotel i have ever seen mossy wall art wood hangings gorgeous bellmen and cozy lobby seating made us feel like the best of napa met new york city and created this hotel our room with the double beds was the perfect size for the two of us even with all her stuff and had a peekaboo view of central park everything looked immaculate yet touched by a magical curator of organic landscape art the people here could not have treated us better especially the bellmen who raced out to 6th ave to hail us a cab or walk us to the subway steps the restaurant jams was our first drink in the city and as we looked around at all of the afterwork cocktail business crowd we felt right at home in the california inspired organic vibe i cant express how big our smiles were at finding this sanctuary to come home to after each adventure in the city we loved the hotel loved the staff the food the drinks the cleanliness and the organic sophistication after traveling throughout europe and asia and staying at five star hotels throughout this hotel is one of very few that has the power to make an experience for the traveler above and beyond the magnificence of a great city or place my husband and daughter were not only happy to see me come home glowing from a great trip but are excited to come back and stay here soon thank you 1 hotel   we loved 1 hotel amazing location gorgeous design helpful staff clean room and quiet halls the food at the hotel is delicious and the gym is big and spacious highly recommend it for business or leisure   issac was the best assistant was very nice attentive and accommodatinghe made our stay at the hotel even better highly recommendvery good service and willingness to help even at late hoursif you decided to book dont forget issac is your guy   amazing hotel green concept juan at the pool bar and axel beach server best employee ever they have a tesla car for you rooftop amazing view but expensive 1st at miami and i love it for sure i will come back   i almost dont want to give this place the wonderful review that it deserves because i want to keep it as a secret getaway for us this hotel is so much more than their photos online can show from the moment you are greeted  to the time you are saying goodbye all of the staff is friendly and warm and sincere this is hard to find in upscale nyc hotels the views of central park are breathtaking and worth the pricethe ambiance is calming and inviting with scent and lighting the decor is authentic and also calming also everything in their hotel is geared towards leaving a smaller footprint big bottles of shampoo that stay in the room vs tiny useless ones we all take home  lolthat leads me to the ultimate hotel 1 experience their shower has a block of cedar wood in it that serves as a bench for the products but once it gets heated and wet from the water it releases natural scent to take your 3 minute shower please use the timer provided to a 3 minute spa experience jams the restaurant downstairs is very healthy and still very deliciouswe will definitely be returning   it was a cool hotel earth friendly dog friendly central park right there shopping food anything u need is really right there we had a great time weather was great for februarystaff in hotel very nice   this hotel was great the rooms were awesome the food was great and the location was perfect christopher and the entire staff was very helpful would recommend to others who would enjoy this cool place   we throughly enjoyed our overnight stay at 1 hotel central park the hotel is unique and was very interesting and enjoyable it has a one of a kind feel and everything worked out great the location is ideal the staff was really good and the overall experience exceeded our expectations we frequently do over night stays in the city and will be back to 1 hotel central park   we loved staying at the stylish 1 hotel at central park the room was gorgeous and efficient the staff also took such wonderful care of our puppy  delivering her treats toys bowls and bed it was such a sweet and thoughtful touch we really appreciated it we also loved our room service it was hot delicious and rather reasonably priced i wish we stayed longer   my friend and i got adjoining rooms at a special winter offer which was more than i usually spend but really worth it for this level of quality and comfort i loved my room the view the window seat all the lighting options the bed was unusually comfortable and the towels were also extremely nice and it was so quiet the staff were superfriendly and helpful i assumed the water bottles were free since i saw no price list for the drinks but they were 5 each jams we had only a snack there so cannot recommend   i reserved a junior suite through bookingcom for a onenight stay over presidents day weekend i requested early checkin but there was no room available i did however get to stay an extra hour until 1pm the room was lovely i wish i lived there and me and my friend did not want to leave the king size bed was comfortable enough for three people i love the lighting system there were controls in the living room and bathroom to dim the lights there was also a phone on the night stand next to the bed at first i thought someone left their phone but it was for us we could control the lights from it as well as text or call room service concierge front desk etc we could even request free things like a toothbrush comb shaving cream etc the bed was super comfortable and the shower felt great in the morning the second floor has a gym and areas to workstudyprinthave a meeting i did not try the restaurant or room service central park is also maybe a 3 minute walk away the area was nice plenty of fancy stores to gawk at like ferrari cartier louis vuitton i would love to stay again id say my room would be more affordable for the middleaged crowd we saw at 538 a night but there are cheaper options than the junior suite and i wanted to splurge   aboslutely loved the stay at 1hotels i was in town for the fashion week and spacious rooms really made my life easier staff was incredibly friendly which is very important for me and real friendly not trying to fake it the rooms and whole hotel are really cosy and warm and make you feel like at home i will def come back soon and recommend the stay to everyone including loved the fat that everything is eco and healthy nowadays very important 3   1 hotel central park is wonderfully located if the uptown scene is where you want to be took advantage of the park and everything surroundingthe people at 1 were my favorite part everyone was kind and made us southerners feel right at home the rooms a feel of the whole hotel was comfortable but lovely at the same time the restaurant was very tasty but too pricey for what you get but hey  its nyc   waited 20 minutes for my luggage to come from the luggage room nearly missed out flight because of it the rooms were fine clean etc yet we had a jr suite it was very very small the breakfast was good however very expensive 55 usd per person   loved the decor  does not feel like a typical hotel the hotel staff was accommodating friendly and overall a pleasure to interact with a special shout out to antigona at the front desk who helped me with copies i needed of reports for work my room was the least expensive line on the small side but more than adequate i would definitely return   everything about my stay was great from start to finish reception and door men warm and welcoming jam the restaurant is worth dining in as i had a wonderful breakfast the rooms are beautifully done and i would return in a heartbeat a gem of a hotel   cool place to visit i wouldnt mind very convient on top of that its clean and around all the tourist attractions so you dont really have to go anywhere unless you wanna see stuff in another borough and if so trains are not far so you will be right where you need to be   hotel is clad in recycled wood products and has an eco vibe which creates a warm and inviting atmosphere research your room options as they have different sizes and offerings friendly and attentive staff comfortable bed and my room which was an interior was quiet if you want to be near central park area this is a good choice they have an app to communicate with staff which was intuitive and functioned to the extent i needed it to starbucks and merci market across the street   terrific hotel everything was as expected great service beautiful decor clean i would have no hesitation recommending this hotel to anyone close the central park very convenient for lincoln center great restaurant   a green haven in the middle of nyc as you walk in everyone is super nice inviting cordial and does everything possible to make you feel at home its pet friendly so our dog was welcomed with open arms and he loved every minute of extra attention our room was so relaxing industrial warehouse meets organic cotton with the coziest window nook that overlooks central park   i love the vibe and charm of this island of green and coziness in the heart of the city the rooms are very modern and neat comfy and all the amenities make the space very pleasant even if a bit small location is great and service is impeccable the restaurant is excellent and offers nice choice for all meals  from breakfast till dinner and late drinks would definitely come back again    love everything about the hotel beautiful space excellent service and perfect location the hotels mission related to environmental sustainability is evident throughout the property highly recommend   love this hotel stayed with a friend for a night small rooms but the hotel itself is great and has a really cool vibe the one in miami is a bit better with larger rooms etc however this hotel could be a great contender next time i visit   this was our first stay at 1 hotel central park we had read the reviews and found that the guests had represented the hotel very accurately it has a charming facade on the corner of 58th and 6th avenue the valetfront deskconcierge desk and restaurant jam staff were all efficient and very attentive the hotel aims to please and it shows i recommend it especially if you are visiting mid manhattan convenient to 5th avenue carnegie hall columbus circle central park my husband and i also chose the hotel because of their eco focus   discreet 1st class service and a great location made this an ideal venue for a short trip to nyc  we loved the window seat where we could watch people go by to and from the park we would recommend this to our friends   love this place great bar and restaurant downstairs everyone is so welcoming love the simple natural decor great shower and really comfy bed location is excellent we walked almost everywhere cant recommend it enough   we took my mother in law aunt and two 20something daughters to nyc for christmas and got one suite and an additional room at 1 hotel central park views were not great however the rooms were superb and the staff was fantastic we cant wait to go back   overnight stay at the 1hotel easy check in interesting room with lots of natural wood and eco friendly products not a huge room but a comfortable king size bed and great pillowsstaff was friendly and attentive were going back to ny city in the spring well most likely stay t the 1hotel again   super cool boutique style hotel in midtown i loved that when you walk into the lobby it smells like the forest they actually pump the aroma in thru the ventilation system the cedar shampoo  conditioner was amazing too great location and the staff if very helpful and friendly overall great atmosphere jams is great too just beware of the 45 brunch we had no idea of the cost and had 130 brunch for two we were a little surprised to say the least   i really wanted to love this hotel the eco philosophy and newness appealed to me however the rooms are too small to represent value for money if you are located by the air conditioning units you cannot even sleep let alone have a real view i was moved to a different room for this very reason  the restaurant was closed without any notice on one night which meant no room service when travelling solo i do tend to eat in and this was a major inconvenience for me at this price point i need more bang for my buck i left feeling shortchanged which is never a good thing more style over substance methinksthe staff were uniformly personable and lovely to interact with   this new kind of experience puts an end to the time of the chandeliers marble and pretentiousness recycled materials sustainability awareness and respect for the planet is the new luxurythe location cant be better just two steps in front of the metro station staff is friendly and rooms are just incredible   nothing will make you appreciate locations service and people more than when you have a baby let me start by saying this is my 4th time staying in this hotel and my 1st time with a new baby in tow the location of this hotel is fantastic you are just steps away from everything you would need as an adult and with kids its steps from the central park zoo the holiday windows rockefeller center and shopping the perfect location for a 3 nap a day baby this trip was especially amazingbefore arriving at the hotel we contacted lorenzo the hotel concierge as we noticed on the website they offered babysitting and i wanted to find out what it was all about being a new 1st time parent of a 5 year old i wanted to know if there was a chance this babysitter would stroll out of the hotel with my child this was also my first time leaving the baby alone and i was going to do it in a hotel room in a city that wasnt mine panic right well lorenzo was fantastic in quelling my fears and assured me that the babysitters guild that they contract with has been around for 74 years and is very highly regarded we bit the bullet and booked the sitterit was awesome our sitter was so lovely and also had a 6mo she was so good in fact that we booked 2 nights and had date nights when we arrived at the hotel and our room was not our preferred layout for the babes so we went down and talked to buba who was a complete rockstar with the line building behind me she acted with kindness understanding and complete patience and she helped us find a new room that accommodated our family she had the pack and play as well as our belongings moved to the new room and it was perfect we live in philadelphia and stay at many hotels while traveling lorenzo and buba are my baby heros and because of them and the location i will stay here forever  we are thinking we might try the new hotel 1 in miami this weekend stay tuned jamie  brigit   i frequently stay at the 1 when i come to manhattan for business excellent and timely laundry service beautifully appointed rooms the ambiance and design of the hotel make you feel like you are outside in a forest the location is close to major subways and central park love this brand i never look anywhere else when im in the big apple   on arrival the welcome was great and i was offered an upgradethe atmosphere in the hotel is fantasic created by the unusual decor the scent in the lobby and the buzz of the placethe owners have done a lot to create an original atmosphere whilst helping the environmentin the bedroom the design was most unusual a very comfy bed nice quality sheets and towels lovely shampoo shower gel etca mobile hone is in the room to control all ones needsalso a great location   family of 4 with boys age 5 and 7 in a twobedroom suite had a great time somehow we ended up with no kidding 18 pillows which the boys used for forts and pillow fightsstaff met our every needjams restaurant has excellent excellent food pricey sometimes breakfast staff a little slow overall i highly recommend this if you want a nyc vacation near central park and not far from show district   the 1hotel is a very nice  cute hotel it can be considered an ecohotel concierge service lorenzo  nicole was greatall the people working at the hotelwas very nice and very profesionalthe only thingis that the room could have been a little bigger    if youre looking for a real experience in your new york hotel have a little money to burn are under the age of 40 and like to see and be seen then 1 hotel central park is perfect for you a haven for the young beautiful and ecochic it is also a luxuriously appointed and thoughtfully designed hotel that dares to be warm natural and human in its decor although the recycled theme can get a bit thick at times this place backs up its holierthanthou attitude with interiors that seem to be lifted out of a rainforest and surprisingly cozy textures and surfaces that relax the mind and body after being subjected to a brusque new york concrete landscape so go on  take the waterfall shower in the glass box in the center of your room then curl up on the shearling chair thank goodness you have air plants decorating the wall instead of blah cheap hotel art and sip a chardonnay from a recycled wine glass bottle youll feel like a pampered queen or king in this highend place  not a dirty hippie   absolutely wonderful hotel great concept great culture genuine warm service good value beautiful design and fantastic restaurant jamswe loved everything about it and will make it our new regular haunt in the city   simple earthy clean and the subtle fresh smell was noticeable and relaxing very friendly staff room was spacious and comfy i liked that the toiletries were in fixed containers  but was sad that meant i didnt get to take some home loved the little touches   what a wonderful oasis in the hustle and bustle of manhattan what made my stay the best was the attentive and friendly staff everyone from the bellhop front desk concierge management restaurant and housekeeping were very warm friendly and inviting in a sincere way their first priority was ensuring we felt at home and welcome at the hotel i wish i had their names to thank each one personallywhen we arrived we had no idea where and how to park or even if there was valet i called the hotel and the manager was beyond friendly and mentioned that either herself or the bellhop would meet us outside to my surprise both of them were there and they welcomed us and put us to ease after the stress of driving through a city which at that time had many closed streets and filled parking lots due to the womens march at checkin the representative at the front desk was incredibly friendly and super accommodating since it was our first time there he gave us a quick orientation of the hotel its amenities and a background on the design concept getting up to our room a two bed city view on the 14th floor i was pleasantly surprised that we also had a view of central park the room was beautifully and ethically designeddecorated not one detail was overlooked it was a cozy room and i probably could of nested in it all weekend because of how cozy it was the bellhop walked through how to use everything in the room and again explained the whole idea of being a green hotel this included the triple filtered water tap the dehumidifier for when taking a shower and the boxes for recycling and donating any items i might have packed and didnt want to bring home after acclimating in the room for about a half hour we headed down to the barrestaurant for a cocktail when getting of the elevator we ran into the manager and she asked if everything was ok with our room and checkin she was genuinely interested in how we were doing we then headed to the restaurant which was busy due to the protests the restaurant looked like they were a bit caught off guard about all the protesters coming in for drink but the service never wavered the cocktails were fantastic fresh and original the only criticism i have about the restaurant is that the manager brunette with hair in a pony tail or head hostess was extremely stressed and i noticed this the next day as well she seemed to be moving around back and forth really quickly not looking up not smiling and not paying attention to customers as packed as the bar was she wouldnt let the guests of the hotel myself included or protesters sit at a table just for a drink and there were only 2 tables that had diners thankfully the bartenders and wait staff didnt seem to be too affected by her stress luckily we only had to wait about 15 minutes for some people at the bar to get up so we could siti absolutely love this hotel and will be back i loved the design and the attention to detail from room keys to room design to elevator to lounge etc but what brought this hotel to the forefront was its incredible service kudos and thank you to the staff for an enjoyable stay   this place made our trip to new york even more amazing the hotel has a great vibe ecofriendly the staff is soooooo friendly and extremely helpful the rooms are cozy i could stay in the room sitting on the window forever very clean i definitely recommend this place   this is a wonderful ecofriendly hotel with staff who work very hard for their guests the facilities are based around leaving a minimum carbon footprint and the rooms are spacious and comfortable the food for room service is also lovely   great location fantastic cool industrial design in a luxury wrapping nice fitness center spkurge for a high floor with a burw of central park and a window street hip restaurantbar really nice deli across 6th ave for inroom snacks   this was a great place to stay that is located near central park staff was excellent and extremely accommodating to anything needed very clean and modern hotel that is more like a spa experience for hippies very conscious of environmentally friendly products and environment   we visit our daughter who is going to college in nyc and usually book the marriot or sheraton she recommended this hotel and we decided to give it a try very clean very friendly eco and human great location   this hotel was absolutely amazing and lovely the location is wonderful on the corner of 6th and 68th its elegant the rooms are big and welldecorated i loved the bathroom with a huge porcelain sink and a rainlike shower that was to die for natural materials and live plants spread throughout staff here was super attentive and very kind all aroundtry the hotels restaurant jams small menu but wonderful dishesoptimal hotel experience in nyc  ill be back soon   we stayed at the 1 hotel the week before thanksgiving and it was just beautiful the service was excellent from start to finish janessa checked us in and she was very helpful her sweet smile gave us a welcoming feel for the hotel we ate at jams and the food was wonderful along with staff i can not say enough about how beautiful the decor was and even the wonderful smell throughout the hotel all of the staff were helpful friendly and relaxed the location of the hotel was great with a beautiful view of central park but the warm hospitality of the staff made our stay special i wish i could remember more of the great staff names but i do remember steven who checked us out and shane we will definitely stay here again   i loved my stay here my room was a decent size for the city but the space was used well i especially loved the window seat in my room everything had a feel of luxurious care to it comfortable bed excellent shower really loved relaxing in the soft gown and snuggly woollen socks that were provided really good noise insulation too  i was on the 4th floor but wasnt disturbed by road noise the ac was also unobtrusive   i have stayed at 1 hotel central park on four different occasions now each time i am reminded why i return the service is wonderful the people are great and the rooms are great jams the restaurant is also very good though it closes fairly early for ny   i really wantedto like this hotel and there is indeed much to like fantastic location funky decor buzzy bar etchowever i did not have a great stay a number of issues and observations the rooms are smallnew york hotel room small and mine in particular also quite gloomy and being a ny hotelstill very expensive in addition the heating and plumbing system sounded like it was having a fistfight with itself the whole time very noisyespecially at nightalso the water from the taps came out looking like milki took a photo as it weirded me outcertainly not drinkable for meno alchohol in the mini barwhere are we utahthe restaurant was also very very expensive i would add i have lived in ny and have travelled there dozens upon dozens of times so i am not getting first timers ny shock not only expensivebut very average the breakfast was sub par and the dinner mediocre i had dinner one evening with my ny lawyer and he felt his salad was laughable myself and my colleague both had the tuna poki appetizer on separate evenings and found it lamentablei also found the service subpari also had an unpleasant attitude incident with a staff memberwhose name i took but i will not share here out of respect to himand because we all have bad daysbuti had paid for 3 nightsasked for a credit for the 3rd night because i needed to return to london earlier than expectedand it was handled in my view ineptly passive aggressively unprofessionally and unsatisfactorily very disappointingi spend my life in 5 star hotelsand this is not one of themi would however add i also had some excellent experiences and interactions with a number of the other staff so am not infering this is a universal issueand as i saywe all have bad daysso many other great places to stay in nythis one regretably is style over substance   i had to change my reservation due to illness and the staff was incredibly understanding kind and easy to work with upon arriving our room was upgraded the hotel is modern lush and a true oasis i will absolutely be back   i love everything about this hotel location staff decor the best shower i ever had  comfy bed and robes love love love it they made me feel special with a hand written notes note and cookies \\u2764\\ufe0f\\u2764\\ufe0f i love that its a green hotel   i have been here twice now on business and will go nowhere else because of the 1hotel difference it is streets ahead of any rival in the precinct their attention is impeccably focussed on the detail it has a boutique feel but is quite substantial the ethos behind this hotel group is also compelling the ambience and fit out is stylish alive and human friendly  a cosy home away from home service is a key driver  effortless charming and sincere from front of house to wait staff and the tireless housekeeping team and there are the special touches the fruit stall outside the lift the proliferation of plantlife inside and out brightening the bleakest ny winter day the quality toilietries bed linen and towels the grey flannel robes and thick cream socks that greet you in your room once you have come in from the cold could not be more welcoming the turndown service is excellent the full length window seat where you can lie and read and watch the passersby wrapped in a supplied rug is pretty special i like the small hanging blackboards by which we and the housekeeping staff keep in touch the nespresso machine and lovely glassware are comforting too food from their restaurant jams is of a high standard i have been staying at hotels in this precinct for over a decade and this establishment is a standout congratulations 1 hotel central park cant wait for your sister to open in brooklyn thank you   beautiful experience from start to finish the entire staff from housekeeping to doormen and from restaurant to concierge was attentive and friendly yeison at the reception desk was particularly helpful and resourceful hotel design is nicely executed with comfortable and well appointed rooms if you are a traveler who values your hotel as a central part of the travel experience and not just a place to sleep this is one to consider ill easily book 1 hotel central park again   the decor was elegant cool and modern without being sparse the lobby had a warm homely feel to it and the staff are as warm and welcoming as the interiorour room was a small suite great value for money as we got a discounted price for the last minute bookingloved the roomspotlessly cleanthe bathroom was lovely the robes were so fab i ended up buying one to take home all the staff were amazing and in particular joshua davis at reception made our checkout easy hes the best loved himi have nothing netivate to say except a bottle of water at night by the bedside would have been nice the small ones in the fridge were not enough but apart from that ten out of ten for me and ill definitely be back   i recently stayed at 1 hotel central park for 5 nights for my mothers 50th couldnt recommend a better hotel anyone wanting to stay uptown this is definitely the hotel to book all staff were extremely friendly from the minute we entered the door to the minute we left our room was roomy stayed in a kingsize bedroom with city view clean and had room service knock on everyday to see if we needed anything theres a gym inroom service restaurant downstairs fresh fruit from 7am every morning for any guests to take staff are more than happy to help you with restaurant recommendations to booking taxis for you if need be there are subway stations close by starbucks opposite and local mini stores to buy water and other foods and nearby pret its very close and walking distance to 5th ave rockafella radio city central park empire state saks broadway times sq  macys you can hop on a subway to get to places such as 911 memorial  museum statue of liberty bryant park etc you are also walking distance to the tkts booths for anyone wanting to buy broadway tickets whilst in nyoverall this hotel was incredible and will definitely be coming back to stay i miss it already   the hotel design and more importantly the staff makes you feel like at home even on a business trip with the right balance of friendly and respectful high level service a very rare quality a special mention to the concierge team and in particular richard who knows exactly what it means to go the extra mile and makes your wish come true a few last words to get a taste smiles wood recycling fruit healthy breakfast the park inroom tablet in one trip this has become my favorite new york hotel where i have been traveling to for work a couple of times a year for the last 10 years and i will be back thank you all   this hotel was fantastic from beginning to end great vibe most helpful and proactive staff shout out to yeison rooms are beautifully appointed in their country chic style will most definitely make this my home away from home when i return to nyc   my boyfriend and i stayed at 1 hotel miami so when we were heading to nyc for the weekend we naturally no pun looked at their nyc location it was his birthday so i had a bottle of champ delivered to the front desk and called to ask them to chill about half hour before we arrived not only did they take care of that they also wrote a nice little note and gifted him us a mini lemon cake per nyc space the rooms are small but so is every other hotel room in nyc unless youre dropping 1k a night another perk is the free fresh fruit in the lobby they do this in miami too its also located at the foot of central park so if youre a jogger this is a great location   my husband had stayed here for work previously and we got adjoining rooms for our family visit the hotel is funky and interesting  staff were friendly and attentive the rooms were pretty spacious for new york standards and the window seat  to relax and watch the world go by was highly sought after i loved the shower configuration my very private 13 year old son less so the hotel is so well located and offers all that you need to make a nyc stay fantastic   the hotel was excellent the location and helpful personnel made the experience enjoyable the unique decor and overall ambience made it feel as if we were staying in a west coast hotel not a hotel one block from central park the connected rooms made the accommodations very comfortable for the 6 of us the concierge was extremely helpful at organizing tours shuttle service and places to eatwe would definitely go back to 1 hotel   a home away from home the location is great right on 6th and a block from central park yet it feels tucked away the staff was very welcoming and not stuffy they accommodated me so graciously as our flight was delayed another day the housekeeping was careful and very clean and accommodating as well it was nice that they spoke perfect english   i already stayed three times in this hotel and i would go there any time again it is central and i like the modern interior with a touch of nature the staff is extremely friendly and always helpful i especially remember christopher almost cant wait to go there again   the hotel was funky and unique the staff were amazingly attentive and couldnt do enough for us the room was full of fun technology and was beautifully decorated as well as having views of central park it wasnt a huge room but it had all the space we needed for 2 nights away with all the mod cons to keep us entertained and on our toes   if you are environmentally friendly this is the place for you you walk into this hotel and you feel like your one with nature we stayed in the alcove queen room and i couldn\\u2019t have been more pleased the d\\xe9cor is so cozy and warm with marble and wood elements it had an espresso machine organic bedsheets even a yoga mat it is the perfect place for complete relaxation in central park thank you all the staff for making my stay great   i thoroughly enjoyed my stay at this hotel i travel a lot for work and only sometimes for pleasure but regardless of where im going its the details that matter this was actually my birthday trip and i could not have asked for a better stay the hotel was immaculate when it came to cleanliness the hotel also smells fresh and amazing you probably get that compliment a lot the amenities in the room were also greati wish i could have taken home that soap thats how good it smelled importantly the staff immediately gave me a favorable impression of your hotel as soon as i entered they were professional warm and welcoming the entire stafffrom the front desk to the doormenwas genuinely friendly and helpful i will not stay at any other hotel in new york on my future visits i look forward to visiting again soon   beautiful atmosphere and the staff was outstanding they went out of their way to help us when we arrived and were all very friendly alex and christopher in particular were very helpful and went out of their ways to make sure we had a good stay   i visit new york regularly for work and have stayed at a number of properties 1 hotel central park provides me with the comforts of home and is located in the perfect location the decor is amazing and the inroom automation is super convenient and fun its also great to have a hotel that has free wifi that actually works well throughout the entire property also i highly recommend the jams breakfast it wont disappoint   this hotel has much to recommend 1 hotel central park is a boutique hotel in the best sense of the term meaning is has its own personality staff are young professional and exceedingly friendly the lobby and restaurant are elegant yet laid back rooms as others have noted are on the small side but my city king room was so well designed that i forgot about square footage and for instance rooms at the viceroy a block away are about the same size but are not laid out as efficiently the window seat was a favorite thoughtful touches are everywherequick and free wifi plugs just where you need them a desk a minibar and beautiful glassware excellent and infinitely adjustable lighting a large television blackout curtains extra blankets throw pillows and socks left on the bed at turndown it should also be said that the bed was even more comfortable than the ones i love at four seasons hotels the showers are a focal point of the room and deservedly so as they are a thing of beauty however there was black mold in the corners of the shower made all the more conspicuous against the white marble though housekeeping took care of this right away it was an unwelcome surprise in an otherwise impeccably clean room bath products were terrific as were the robes and there was an abundant supply of towels though the hotel is a terrific location close to the park some of the best shopping in the city the museum of modern art and with ample public transportation options nearby there is a problem at least for nowit is one block away from trump tower you can literally get around the hellish traffic problems caused by security and street closures with careful planning its a small quibble though i lived in new york until 4 years ago and go back oftenthis is my new home away from home in the city   the 1 hotel central park is a great hotel when staying in new york city its located one block away from central park in midtown manhattan between 6th and 5th avenue therefore you can easily walk through central park go shopping in 5th avenue or visit the zoo   a fairly new hotel very near central park that shows what the future of hotels can be even in nyc the sustainable concept is presented and executed in such a welcomed understated fashion the staff are truly at the top of their game the location makes it perfect for a variety of visitors central park is in view close to broadway for the tourists and for the rest the accommodations are really well done we visited for all to short of a stay but will be back very soon   1 hotel has become my home away from home during my frequent business travel to ny i love the sustainability focus the beauty of the hotel the modernhip feel the location and most of all the service from the staff i highly recommend a visit and have talked up the hotel to my colleagues  who now also enjoy staying there do go and give a hello to my favorite 1 hotel team members so far janessa michael evelyne and radaisy at the front desk as well as christopher and shane who will welcome you warmly at the front doors    this hotel is a gem in a sea of hotels in nyca very fresh approach to a hotel in a city that is dominated by concrete and glasswe arrived and were warmly greeted by the staff and check in quickly with no problemsthe room keys are really cool circles disk made of bamboo i believe nice touch compared to the usual plastic cardthe whole hotel is very eco friendly and they use many items that have been recovered from other places and are reused hereall features in the room are controlled by smart phoneyou even get a yoga matt that you can use in or outside the hotelthe beds were super comfortable as wellthe hotel restaurant jams serves delicious food at a reasonable nyc priceover all i think this is one of if not my favorite hotel in a city centerthank you one hotel for a great experience ps awesome shower   my husband and i stayed a 1 central park to celebrate our anniversary and to see hamilton we decided to stay somewhere different than the waldorf towers and we are so glad we did 1 central park was one block from the park and we could see the it from our window seat we sat in the window for morning coffee we made with the nespresso machine in our room just like home we capped off each evening with dessert and cocktails while we looked at the city lights the food and the hotel was extremely good as well as the specialty cocktails i suggest west of the park which is made with bourbon and maple syrup the beds were very comfortable and the room was extremely quiet i loved the lotions and washes which were naturally derived and smelled like the outdoors the staff was extremely accommodating and helpful at the end of the stay josh and josh at the desk held our bags after check out while we did a few more things before departing when we returned to leave and go to grand central for our train we were treated with a ride in the hotels tesla we couldnt have enjoyed our stay more and will definitely stay here again when we return to nyc   fantastic hotel close to all ny famous areas clean comfortable  nice restaurant  nice bar  rooms are really beautiful and modern  really a good price  best value in ny never saw better hotel in ny really good for everyone    my seven year old and i stayed in a king room with a city and park view there was a lovely window seat that was big enough for a large child or small adult to sleep on the bed and linens were very comfortable the itouch like device used to control the room and call for service worked well the soundproofing on the windows is pretty good the rain shower was one of the better ones we have experienced my son pointed out that it was more like real rain than the one we have at home we did experience some noise from pipes for about an hour on one night of our stay the service was outstanding very friendly and warm at each turn the location is outstanding if you are planning to do activities on the uws or ues and the proximity to the nrq came in handy when we wanted to go to bryant park   i highly reccomend this hotel to anyone visiting new yorkthe hotel is modern clean and every single member of staff from the doorman to the cleaners and bar staff greeted us with a smile and conversation every single day without fail it really made the differencei am terrible at remembering names but a big thanks to our cleaner on the 15th floor 3rd january  6th of january for being so helpful and friendly throughout our stay and christopher working the front door we really appreciated how friendly and helpful you were during our stay the hotel driver with the tesla was also extremely helpful and told us all about the city and landmarks as he drove us aroundhighly recommended   staff made this hotel and trip exceptional for my daughter and me great hotel location and staff this is our new favorite nyc hotel the hotels restaurant jams is also excellent with healthy and tasty options the pastery chef makes the best macarons the city   1 hotel central park is a great place to stay the staff is warm and friendly the rooms are comfortable and the lobby smells great it is nice to finally find a hotel that puts in the extra effort to have sustainable values and deliver on them   phenomenal service everyone is extremely friendly and down to earth an oasis in nyc gorgeous room simply beautiful bench in window was great you can open the windows and hear the hustle of the city while enjoying your organic fresh oasis of a room love the show being open words cant express the level of satisfaction this location gave us must visit   a great location and a beautiful hotel the bar is great and the drinks menu superb the only down point is the bar staff who are a tad arrogant and unwelcoming the liquor list is impressive and the cocktails are well made   stayed at the miami beach 1hotel and love it so decided to try central park first let me say the staff is really good across the board this hotel is simple and comfortable but not loaded with eccentric amenities it is fairly utilitarian yet comfortable my room was rather small perhaps too small but it was the entry level room what distinguishes this hotelroom are the materials and decor the natural woods and simplicity seem to help minimize the otherwise sparse furnishings that said most everything is offered my only real issue was that it was hard to navigate the room due to space constraints also the shower produced a relatively narrow band of water flow but despite physical size constraints the room furnishings were all minimally comfortable and adequate the gym was small but adequate with free weights and other modern typical equipment the 2nd floor conference and business rooms were really great and we held several callsmeetings in that area the bar and restaurant were comfortable the menu is a bit eclectic for me but the homemade breakfast granola is really outstanding the location is great being adjacent to the park and business area around 57th and upper west side options overall despite a few typical nyhoteltype limits we found this to be a really warm comfortable place to spend the week   i love this place love the decor love the staff from check in to check out  you are well taken care of here i love that they allow pets i have a little yorkie and they treat him so well providing a comfy dog bed for him austin and alex who helped us with our luggage and car valet are wonderful they will remember you by name from the time you meet them until the time you leave besides the hotel itself being comfortable and cozy the staff service is excellent i will continue to make this place my choice every time i am in nyc bravo to your hotel and staff   i stayed for 2 night the hotel located in the mid of nyc i really enjoyed my stay there with my wife very friendly employees breakfast was good will be there soon on our wedding anniversary and sure we will stay here   were do i start  the moment we walked through the doors the hotel staff were there to greet you they are the friendliest staff and most well mannered hotel staff i have ever come across each and every one of them the smell of the hotel as you open the doors is amazing it just screams luxury and cleanliness the room in which we stayed was 1112 it was amazing very stylish room very hip and very different but so amazing the shower is fab the layout and design of this hotel is just something else its fabulous the hotel provide you with everything in the room you could think of and more for example the robes omg they are like a massive hoddie i had to purchase one before we left they are fab the bed was so comfortable slept like a baby i can not recommend this hotel enough and it is so reasonably priced for a 5 hotel on our departure we were helped by alex and austin they were so so lovely i mean this hotel staff couldnt do any more for you this hotel is new as far as im aware and to be honest i would be back here in a heart beat can not sing there praises enough they are simply amazing can not thank them enough for being so friendly and helpful   my fianc\\xe9 and i stayed here from christmas day until the 2nd of january we picked the hotel due to the proximity to central park the hotel is a breathe of fresh air its clean modern and the staff went above and beyond our room was large for nyc loved the window seat and the plants in the room it felt very fresh a massive massive thank you to michelle from housekeeping shes a star our room was kept immaculate thanks to her she went above and beyond every time she serviced her room please pass this on we didnt eat at the restaurant but the food looked great thanks again for making our trip to nyc a memorable one we will definitely be back   we had an awesome time at the hotel excellent service very friendly staffour room was cleaned every day during our staythe shower was to die for in room dining was extra fast  we ordered breakfast and dinner both were great will definitely come back to stay here next time we are in ny cannot wait for the brooklyn location to be opened   very nice hotel perfect location subway is right the corner witch it will take you anywhere you need to go plenty of nice restaurants of walking distance if you need to bring your car they offer a stay and park offer very affordable    here is a perfect example where a hotel owner has been over advised and consulted on what is cool in the new millennium1 hotel is overpriced by 30 on average 2 the hotel does not overlook the park it is a block away3 the restaurant menu i feel is limited and needs a little more umpf for the price and the  farm to table scene needs to be updated like how about some tapas dishes like fruit and cheese plates more mediterranean selections more fish4 the room service menu needs to be structured to corporate transient guest for late night salt and sugar rushes and kids menu for weekends a little more expansivewait staff a little overworked too many tables per server5 the window seat in the rooms is a nice hong kong style touch for nyc6 the worst feature is the bathrooms no real privacy and awkwarddesign very poor7 the organic feel of wood and stone or brick with the chelsea feel is ok but could of been expanded even more8 for a hotel that has been open more than a year staff training should of been better and supervision feels like a passee old school top down management style that should be changed to a  everyone has a place at the table style  staff needs to be included more and feel that they are really partof something and not just to show upjimbo bateso   the rooms are small with little space for two pieces of luggage didnt quite understand its green credentials the reclaimed materials cardboard drawers triple filtered water from the basin tap or the little sand hour glass in the shower which suggests you have a 5 minute shower the weird glass wall between the bathroom and the bedrooma design faultthere was no alcohol or soft drinks that we would prefer in the mini bar no complimentary water other than from the tapon the plus side the window seat was interesting giving plenty of viewing to the opposite building and vice versathe worst part for us was how surly the staff were the girls at the restaurant front desk were so rude and miserable they need a lesson in customer service the concierge appeared to be flustered and aloof we had asked him for a speakeasy or something authentic suggesting zuma or nobureallythe lobbyrestaurant and bar are too small for the amount of guests which resulted in a feeling of crampness and clutter guests luggage on trolleys waiting at the bar for service and waiting for a table to eat special thanks though to sarah and carlos who were the only staff that were polite and useful with informationcarlos you should try for the position of concierge your knowledge of local eateries did not disappointall in all i wouldnt stay here again it lacks finesse and refinement that you would expect from a hotel of this price \\xa3400 per night and im not being fooled by the green sell just because i have moss wall by my door   wonderful hotel with perfect vibe of informal stylish good taste very comfortable and cosy in cold weather unbeatable location and sustainable ethos was very welcome my two teenagers and i dared a joined set of rooms with a magnificent view over central park loved the styling of the rooms   we stayed in an alcove 2bedroom suite for 2 nights very quiet and plenty of space for the entire family beds are extremely comfortable everything from the smell sound color palette room design indoor plants exudes serenity and calmness having young children we especially appreciate the wood floor early checkin and late checkout accommodated no problem complimentary fruits in the lobby and triplefiltered tap water a big plus staff always ready to greet you location is ideal for our trip which is to take the kids to some spots we enjoyed as exnew yorkers will be back for sure   we thoroughly enjoyed our stay a 1 hotel central park it was nice to stay at a hotel in the middle of nyc that is truly environmentally friendly the service was also a refreshing change from the typical nyc service employees treated you like you were part of the family and truly made you feel and treated you in a manner demonstrating that they cared about your stay great customer service from the ivy covered walls covering the outside of the hotel to the beautiful and cozy lobby to the immaculate and environmentally designed rooms 1 hotel central park is one of the best hotel stays in nyc great location   what you see written about this place doesnt give due credit what i saw written about this place was nothing but remarkablemy family and i arrived to 1 hotel cp a week prior to thanksgiving nothing is better than being in the city during this holiday time getting out of the taxi and walking to the front door of this building was my favorite part seeing this beautiful ivy covered hotel we stayed here for about three nights our room was great nice view that overlooks 6th ave where you could see a bit of central park in the corner yoga mat was in the room which allowed me to continue my practice i regretfully forgot my mat at home i loved the lighting controls in the room and the iphone that controlled everything was a really nice touchnormally i dont always check out hotel restaurants since they are always a tad bit expensive but i kept hearing great reviews about jams table for 4 early reservation i believe our waitress was named alexandria she was wonderful great recommendations and great drinks  nothing bad to say at allafter venturing off to central park times square and some local irish pubs getting back to our roots we were always greeted back with the best staff i have ever met alex at the front door made our stay he was always happy and truly seemed like he enjoyed where he worked  which always makes me wanna be somewhere where peopleemployees are treated right plus it was always nice checking out the plants near the door while chattingalex recommended going to chelsea piers and the high line off we went you could have spent all day there  so many laughs smiles and photos were taken that day memories that we will never forget i wanted to thank 1 hotel alexandria the front desk alex and everyone else at this fine establishment for giving our family a truly enchanting stay one for the booksmy apologizes for not writing sooner i did make a promise to alex i would take some time to give you all a review thanks again   if youre into quirk which my wife and i are this hotel is definitely worth a visit the staff are excellent and very attentive the hotel is made up of entirely recyclable and reclaimed products so its creative nature backed up by fantastic service ensures of a great stay ive stayed in many hotels in nyc over the years the spacious rooms and good bathroom size means its now at the top of my list and recommendations for friendsthanks 1 hotels for another great stay   this was a curious hotel which is apparently loved by the beautiful young green crowd in new yorkbeing a 53 year old conservative traveller who rather enjoys space good old fashioned service and who is not partial o moss and lichen this really is not the place for methe rooms were beautifully and quirkily decorated however space was limited and so it was difficult to fully relax and chilled which given a room was 400 a night seemed somewhat bad value for moneyit was not helped by an aloof concierge who clearly knew that he was above doing this role and certainly was not focused on giving great servicethe upside was that location is outstanding on all sides just a block away fro central park and all the other attractions is the areaso if you are funky green and have more money than sense this is the place for you but sadly not for me   me and my husband stayed for a romantic weekend getaway the hotel was a perfect choice beautifully and thoughtfully designed with excellent service and very conveniently located i absolutely loved the design solutions that brought in the lush of the jungle into the comfort of modern interiors we ate at hotel restaurant for breakfasts and one dinner it was delicious i will definitely stay again and hope they open more hotels around the world   this hotel has some nice features but it is too cute for its own good its obviously supposed to be an ecologically aware hotel but most of those features are meaningless while adding inconvenience it is clean the people are nice and the location is good the price is out of proportion with the quality of the hotel so if you stay there be prepared to feel like you are overpaying in order to participate in virtue signalling environmentalismone thing about this hotel that i found really annoying was that in my room at least the wall between the bathroom and the bedroom is glass the door to the bathroom cannot be locked  it is just a swinging glass door if you are staying in the room alone this is not a big deal but if you are a couple or you think you will have some friends or family stop by your room this arrangement is completely absurd since when do people like to share their bedroom activities with friends families or significant others or perhaps a maid that inadvertently enters your room while you are in the bathroom i think most people like to be able to use the bathroom with a degree of certainty about privacy this is a really stupid design feature far too cute and no hotel should copy it   this hotel is fantastic and just next to central park  people were really nice everything is good looking good taste and modern mix of wood and metal they also care about our planet and pay attention to environment on several points restaurant was good too my room 519 was great until i went to bed and realized it was not the ventilation which was making so much noise but the whole ventilation machinery or whatever behind the window such a shame because a good sleep is a basic for every h\\xf4tel   excellent hotel quaint and friendly christopher was always there to greet us in our comings and goings he helped with luggage storage after checkout and was quick to lend a hand we are from the south and it felt like southern hospitality greeted us in new york   what a joy for a preholiday long weekend this new hotel has perfectly executed their desired concept of urban ecocon oasis reclaimed  organic cool yet welcoming atmosphere usability food and service were spot on our usual nyc haunts include the peninsula st regis  the edition last weekend 1 hotel made the definitely return list for us we chose the alcove jr suite and had a cutefunctional living room and a cozy king bed no view in this room no need for this trip totally efficient use of space bathroom privacy might be the only con if you are super modest glass wall  door are the barrier between bathroom and room there is a curtain on the bedroom side and just requires a little extra work   we stayed here for the macys day parade for a view of the parade you cant beat the rooms facing 6th avenue we watched the parade from our room with the window open so you could hear its a very modern hotel with a good location although a little far north if you want quick walking access to times square and theatre district the rooms were good but pricey the service was very friendly there are some quirky things about the hotel as it is very eco friendlyno writing pad in the room dont serve soft drinksoverall a good experience   the hotel is beautifully decorated clean and rooms were rustic with a modern eco friendly touch the staff was friendly and professional christopher was super helpful their green cocktail is delicious i love their menu options   such a beautiful hotel everything was perfect the rooms are spacious and cosy wood is everywhere and it makes this place stand out located next to central park shops and cafes nice restaurant on the ground floor   i am sure the other reviews will cover the excellent rooms and services offered as well as the excellent location walking distance to most places and a subway station just outside but i will point out to 3 things that make this place truly exceptional1 a genuine attempt at maintaining a sustainable environment everything is refillable including the excellent bathroom amenities and lots of little details have been paid attention to 2 the restaurant downstairs jams is absolutely fabulous3 large baskets of organic free fruit are available in the lobby we didnt get a room with a view and the hot water and heating in the rooms was not always consistent but the pleasure of staying at such a responsible hotel was worth these small discomforts   me and my wife spent a short holiday in new york and it was defiantly the right choice to stay in 1hotel central park since we arrived at the hotel entrance we have been approached immediately with warm welcome started by joshua and he took care about our luggage entering the hotel lobby we felt like home away from home reception was ready with our room key and we have been assisted by catherine with sincere smile on our way to the room christopher escorted us and did a detailed room orientation the room has so many advance gadgets and cool features specially the greenery touch concepts and design during our stay we met with brianna from concierge she was so helpful and knowledgeable about all outlets we may need around the area there is also an excellent restaurant and bar at the lobby area which they serve very good food and fantastic cocktails one more important fact noticed at the hotel all employees are happy to service guests at all time1hotel you exceeded our expectations   great location friendly and helpful staff thanks josh davis wifi was free and worked great over all cant say enough of how we enjoyed our stay we were just across the street from central park so we went for a walk run every morning we will definitely be back   came with my daughter to celebrate her 16th christopher warmly welcomed us back and had already placed a lovely note with some special treats in our room for her he is too muchbriana and lorenzo at the concierge desk had great suggestions to make the stay fun and took care of everything well be back   the whole package was amazing a little pricy of course but you get what you paied for and even morebecause the staff you can not weight in goldthank you for this amazing experienceperfect location and very quiet rooms   great vibe great social conscience great location and especially a great staff in particular id like to thank buba murotova at the front desk and shane and christopher at the front door nice touches the hot cider in the lobby the complimentary fruit and granola by the elevator the hotel takes green to a new level   from the moment joshua took our luggage from the side walk to the way christoper showed us all the cool features and gadgets in the room we almost didnt want to leave the hotel brianna on concierge made sure we well occupied and fed you visit this hotel as much for the people working there as you would the super cool decor honestly we didnt expect such service in new york the hotel was a cosy reprieve from the hustle and bustle on the streets we highly recommend  just remember to get out and about   excellent location excellent atmosphere excellent room and excellent restaurant the wifi is complementary and works really good we really enjoy our stay at 1 central park and for sure we ll come back in our next trip to new york   overall this hotel was amazing the decor was unique the service was great and the location was fantastic it was maybe a little over the top for me in terms of a green hotel  id personally prefer luxury and service over a recycling plan and repurposed wood room keys  but im not their target audience while it was a great visit i probably wouldnt stay there again   the hotel is one of a kind great location very nice rooms its a must stay hotel staff is beyond amazing and helpful the food at jams is very good i would highly recommend this hotel the city view is nice   we visited this hotel in march  april for our honeymoon and was our first visit to nyc this was an amazing hotel in which was a must for me the staff were fantastic and were able to provide champagne in our room on the first night i cant wait to go again and if an opportunity becomes available to rebook this beautiful hotel thank you for making our honeymoon amazing   great spot great location i was on the 11th floor on the avenue and it was very quiet for nyc tastefully done and my room was laid out in a smart way buba who checked me in was particularly nice and helpful during my stay as was brianna the concierge but really everyone was nice and responsive   it is a great place to stay the food and service is terrific the location is perfect and close to most everything would highly recommend the connected rooms if you are traveling with children we will definitely be back   we absolutely loved having the dog bed treats and toys waiting in the room our first stay with our dog did not include those items we were blown away when we opened the door this trip furthermore the front desk and other lobby personnel were respectful caring and personable everyone loved seeing our dog and expressed great gratitude for our dog staying at the hotel customer service is top notch thank you room was beautiful clean and just enough space the layout maximized the room size and we appreciate the reading nook we also appreciate the level of emphasis towards ecofriendly accommodations   we enjoyed our stay very much i want to thank all the staff for such a fantastic experience specially to christopher and steven who were amazing they were so friendly kind and polite they answered all our questions and made our stay very memorable  i loved the handwritten note in seed paper we had so much fun exploring the city the hotel location is very convenient i also enjoyed coming back to the hotel and relaxing plus the room was really comfortable  cant wait to come back   without a doubt the best hotel stay ive ever had in new york city this hotel is absolutely amazing the hotels decor is stunning with the reclaimed wood and hardware accents adding to its whimsy and charm the warm colors and variety of textures in the sleeping rooms made our stay uber comfy i did not want to leave you cannot get a better location 1 block to central park and close to tons of great shopping and restaurants the restaurant jams does a terrific sunday brunch as well it was a great way to end our trip every single person on the hotels team from door staff to restaurant staff was friendly welcoming willing to engage in conversation and helpful i will not stay anywhere else in nyc going forward i loved this hotel so much ive already booked my next stay i cannot say enough about how wonderful this property is   1 hotel central park is my new favorite nyc hotel my mother and i stayed here for 3 nights her first trip to nyc this past weekend and were absolutely blown away the hotels team from the door staff to the restaurant staff were friendly warm welcoming and always willing and ready to engage in conversation or offer assistance the rooms are gorgeously appointed and warm loved the natural color scheme and textural variety the glass shower and open bathroom was airy and open but still afforded plenty of privacy for 2 people sharing the room the hotel is in an excellent location 1 block walk to central park and close to great shopping and restaurants i loved the hotel so much ive already booked my next stay   your hotel is just lovely the plants the reclaimed wood  branches the level of recycled material used  especially darling were the hangars in the room fruit by the elevators  tea in the rooms well done  much appreciated in particular i would like to thank shane  christopher who were excellent at their jobs they took such good care of us greeting us warmly when we arrived  every time we headed to the door even holding the umbrella while tucking us into our cab when we left on a very snowy morning great stay  we will absolutely be back thank you    we stayed at this hotel with our 2 children ages 8 and 11 to enjoy christmas in new york christopher and shane provided us with excellent customer service while we were there christopher gave us a tour of our room and explained how everything worked shane made sure to provide with umbrellas when it was raining during the day the hotel smells amazing and is very eco friendly the room had a couch built into the window with a curtain that covered it huge hit with my children it was like their own fort within the room my son was so excited to sleep near the window when it snowed during the night he was ecstatic that he was the first to see the snow the room was modern and had reclaimed wood throughout the beds were comfortable and the hotel products are all organic we had a great view of central park great restaurants in the area as well we ate at ninos steakhouse for dinner and rue 57 for breakfast the hotel is in walking distance to rockefeller center would definitely stay there again   we stayed 4 nights at this newish hotel we chose the 1 central park for his location but we really loved the organic concept beds were extremely comfortable room was spacious for nyc standards bathroom had all the amenities that you need i liked the fact that toiletries supplied were not the usual miniatures but big bottles therefore so practical and not wasteful products were of high quality too and loved their shampoo  conditioner clean friendly attentive service and amazing location we tried their jams restaurant for breakfast although the food was delicious but found it quite expensive its only breakfast after all i would strongly recommend this hotel for the location and luxurious ethical comfort   long story short it was 5 pm on a tuesday and i needed a room something happened to my reservation down the street at the front desk buba greeted me was sympathetic to my need and calmly explained my options and then gave me a an upgrade after i made my choice she was a friendly ambassador for the brand and the brand does a great job in every last detail in fulfilling its environmental mission wish i couldve stayed longer and experienced more of the amenities including the food and bar the bed was very comfortable and the bathroom was well one of a kind you are just a few blocks from many major sites including central park and trump tower in case you have a meeting to discuss a cabinet position others in the lobby and at the door were very friendly too check out 1 hotel   the hotel is very hip with modern and unique features great customer service and staff very attentive food at jam was very delicious and i highly recommend it there is no place like christmas in new york and this hotel is a few blocks from radio city rockefeller center on central park the get you in the christmas spirit close to corporate offices museums and mass transit and list goes on   ive stayed now twice in this hotel has to be the coolest hotel in new york city with a sort of loft  eco environmental reclaim feel thats a mouthful i know hope to plants galore reclaim wood throughout  the smell of the place is amazing yep it smells good they will sell you a candle that smells the same by the way awesome staff antigana was an awesome help at the front desk i got support from tickets to bags to cabs all right there extremely friendly service my only negative is the bed is a little firm for my bones but it wont stop me from going back location is perfect   what can i say  beyond making sure double check the room you have been allocated this stay was again perfect these guys really have hospitality down to a fine art  simple effective almost invisible but spot on and effortless during the entire stay my only problem was i was allocated a room that did not afford the option of hanging out clothing  as in adequate and effective wardrobe space this is sort of essential when you are there for a mix of business and pleasure its really my own fault though as i arrived a little early and agreed to a different room other than that the rooms are very well appointed the location is excellent the team are out of this world the leadership culture is phenomenal and almost tangible when you interact with team members and the food and beverage options and truly excellent and great value for moneywell done once again until next year   the 1 hotel is truly the best hotel experience i have ever had i was there in nov for the nyc marathon and this hotel went above and beyond first of all the staff is outstanding they care to every need no matter what is is with a smile on their face the night before the marathon i went down to the front desk and told them i needed to somehow put my name on my shirt for the run the guy stephen who worked the front desk went into the back room came out with the maintenance guy alexis and said \\u201cwe are going to figure it out come back here before you go to the marathon tomorrow\\u201d i came down to the lobby at 5am and out came alexis with a sign he hand made out of a duct tape and paint picture of alexis and i the marathon had 50000 runners and one million fans that is 1 million people cheering on complete strangers i have never felt more like a rockstar as i ran through the streets of nyc crowds of complete strangers yelling go jenny thanks to the sign i had on my shirti arrived back at the hotel and the second i walked in the whole lobby went up in a roaring cheer people were clapping and cheering on all the runners who walked in and before i knew it the front desk women buba had a hot tea and a green juice in my hand besides the marathon from check in to the restaurant to the crazy comfortable beds this hotel is amazing i felt welcomed attentive and they make you feel at home i loved every second of it and i cant wait to return thank you stephen alexis and buba for an outstanding experience and taking your jobs to the next level i promise every time i am in nyc this is the hotel where i will be staying  jenny schatzle   this is my second stay at 1 hotel central park and it was absolutely perfect in every way the service was impeccable especially from sunya and briana at concierge amazing location close to major attractions delicious breakfast at jams and a cozy comfortable room with a views to central park i cant wait to return and highly recommend it   my continuing comment about the lack of surface space for toiletries and drawers for clothing is the only recommendation i can make we try our best to use what is provided  it would make our stay much more convenient to have a small table or shelves in the closet at least thats it otherwise everything is great for us the staff is a standout apart from all others due to their caring and yes loving natures they are not only professional kind knowledgeable and caring but are like a member of the family greeting us whenever we pass enter or leave  amazing staff  cant say enough about everyone this was our second stay at the height of nyc holiday season and nothing threw them  even a water main break taking out water to the restaurant and the hotel  they handled the 3 day crisis with such grace and did everything they could to overcome the inconvenience to their guests this is a special property and we will be back often   one of a kind hotel in manhattan they have their own unmatched style staff is extremely attentive all of them nicole the manager was super sweet their concierge is the best in town they got me tickets and reservations to anything and everything i requested however late or difficult stay in a suite overlooking the park you wont regret it will definitely be back there in my next stay in february   amazing cedar smell comfortable bed and pillows great staff christopher is cute and dragged our bags all around the street helping us find our uber only con is the smart lights have a bunch of indicator lights by the bed that shine on your face as youre trying to sleep no way to cover up all the misc items which had bright little indicators light on at night even the back of the tv had an annoying glow so bring electrical tape or something to put over them if youre a sleeper who likes a dark room   wife  i enjoyed our stay and a hip cute clean trendy hotel have you stayed a luxury hotel and new it as soon as walked in loved the scent bought two candles we would definitely will be back and a great location   i loved everything about my stay at 1 hotel all the ecodetails were informative and entertaining my room was super comfortable and made me feel healthy simply entering it i liked all the storage nooks and crannies  very well organized breakfast at jams was great you cant beat the location   amazing and unique property and servicefirst i reserved a park view suite the room was fantastic excellent design unique and artistic decour and great amenitiesupon check in i was upgraded to the presidential suite this was one of the best suites ive ever stayed in unbelievable setting and layout i was very appreciativei also had a 2nd basic room for a relative this was a very nice room for excellent value the only drawback for the hotel was the limited and uninspiring room service foodbottom line amazing and unique property and worth trying for a differentiated experience   we stayed in this hotel for 4 nights in october the whole experience was great from arrival to checkout the ambiance decor room and location all exceeded our expectations all staff was helpful we liked the green theme of the hotel and the natural plants everywhere room had all the facilities we needed all room controls are next to bed embedded into an android mobile wirelessly charged by its stand very smart and convenient    dont be fooled by their green hotel presentation a hotel is a hotel the location is great for midtown but there are many hotels in this area that offer great location and have as good or better roomsservice   1 hotel exceeded our expectations in every area  service accommodations location decor friendliness of staff  i cant say enough good things about 1 hotel my daughter and i had to switch hotels at a very late hour and the reservations agent could not have been kinder and more welcoming he booked us up for a double right away from that point forward 1 hotel made our trip to ny one of the best yet   had the opportunity to spend the night at this lovely hotel love what they did with the interior they did their best to bring the outside in and did an amazing job the rooms were lovely and the staff was very attentive and friendly this hotel is steps away from some of the best shops central park very well situated   stayed here for my 30th birthday for four nights everyone on the staff was amazing but rinzin in housekeeping went above and beyond he worked the 10th floor on our stay and he did a great job with refreshing the room while we were out he had a great attention to detail 1 hotel central park is a clean unique and pretty hotel love the smell upon entry to the hotel the free macaroons from jams for my birthday were amazing the hotel was also able to get us reservations at a popular restaurant that was all booked up you definitely get what you pay for here cant wait to return thank you rinzin and 1 hotel staff for making our stay amazing   this property is superb in every way the staff the rooms the warm inviting feeling you will have when you walk through the door we usually stay at the peninsula and the carlyle but this hotel is where we will stay from now on it is extremely special   stayed at 1 hotel central park having read about the concept overall thought was the green and natural essence was overplayed and in reality a marketing drive to get envogue rather than a true mission rooms are tiny and whilst will appeal to some clearly dont match luxury rates the meeting rooms are again trying to be on trend with exposed concrete but it just smells of a corporate entity trying to sell an experience by getting on the wellbeing bandwagon restaurant and bar are small buzzy and ok but not destination overall its average but not worth luxury or 4 star pricing   christian and lloyd were extremely helpful when it was discovered that the car that i had parked in the garage had 2 flats they both went well above protocol to assist in getting the problem rectified great team   excellent service the location is great its almost at central park the breakfast its ok with very fresh products in my case the problem was that my room was very small and noisy at night also when i left my luggage for a couple of hour stored at the reception someone broke the handle bar of one of my bags an they didn\\xb4t care and i has no solution   i went to this hotel beginning of november in the frame of a group reservation for the new york marathongood location concept restaurantbad bad window phonic isolation against ventilation system for room a lower floors use of wax ear plugs mandatory if you want to sleep 45 minutes queue in the morning to get a seat for the breakfast at 730 on the monday no possibility to reserve a table for the dinner even when resident at the hotel in room dining plate remains in the corridor during more than 12 hours after use room not done at 4pm on the sunday when coming back from the marathon   first time visitor and looking forward to returning loved the look and feel and attitude of the hotel the free wifi is orders of magnitude better than nearly every other hotel ive stayed in loved the lighting controls in the room and the abundance of usb charging ports the shower got hot instantly and i liked the choices handheld or water raining down from above  which seemed perfect for this hotel room was quiet and the tablet in the room to control various functions a nice touch   great hotel supper friendly staff very helpful the rooms are really cool as is the whole vibe of the hotel the rooms are spacious and comfy and the amenities are great they are a bit on the pricy side but worth it for a short stay jams restaurant was great we had dinner and their brunch best bacon ever   this hotel was amazing such a beautifully appointed property great staff awesome viewsi already miss it their dedication to the earth and environment is wonderful and reflected throughout the hotel   what an extraordinary and wonderful hotel this is we loved everything about it we have stayed at lots of lovely hotels in nycthe mandarin crosby street peninsula etcand while they are all great 1 hotel cp was unique and superb and we would return there in a heartbeat the rooms are gorgeous its a block off the park and everything is done with reclaimed wood ecofriendly etc in an extremely highend luxurious way that is truly delightful and unique it really feels like an oasis in manhattan the bed was also the most comfortable i think i have ever slept on my husband said the same thing and everyone who worked there was extremely friendly and accommodating our 21 and 17yearold daughters loved it too   i cant recommend this hotel enough it has always been on my bucket list to see the macys thanksgiving day parade i booked this hotel because it was on the parade route i came with family which included a 10 year old with autism and a 14 year old we booked a corner city and park view combo wow great view and a location one block from central park made our stay perfect the window seats worked great for the boys to sleep in and they loved their window to the world the staff brought sleeping bags for them which made it an adventure in the city  so many extras such as water thats tripled filtered from the faucets nepresso maker in the room fresh fruit to take to your room and great robes room service was great as well as the restaurant jams right across from starbucks and the plaza food court makes this a home run dont miss this gem   we had a great stay with our 2 year old everyone was extremely helpful and nice even though we are new yorkers we would totally stay here again if we were staying in a hotel its a very green interesting hotel we enjoyed it a lot   we stayed for one evening while visiting friends in nyc and attending a broadway show the location of the hotel is perfect for broadway great restaurants and shopping the theme of the hotel sustainable and green was beautiful and very unique there is life all around you and the design is beautiful i wish more hotels made such a solid commitment to sustainability   stayed here for a family vacation and was impressed with the quality of their rooms while sticking to being a green hotel the rooms use recycled materials but in an elegant setting the hotel restaurant jams is very good and in keeping with the hotels environmental philosophy uses locally sourced and organic foodour room had a very pleasant vibe some of which can be attributed to the mild aroma of the plants growing on the window sills and bathroom i appreciated that it was natural and not an overwhelming effect all in all a very pleasant stay   new york has many fine and comfortable hotels but there always seems to be some issue too noisy too far from mid town unfriendly staff at last i have found 1 that is perfect1 hotel  perfect spot 1 block from central park superb staff great dinning and soooo quiet our bedroom was on the 4th floor above 6th avenue with no traffic noise   i went to new york to run the ny marathon this hotel is perfect really near from central park near from the 5th avenue shops and times square just 20 minuts walking i tottally recomend this amazing hotel   such a nice and cozy hotel reclaimed wood nice scents very nice staff soft light warm atmosphere excellent location plants everywhere cute socks fashionable bathrobes not sure how to better described the hotel it is just very nice i sad to leave but i will be back   great location just off central park south great style ambiance comfort staff uniformly knowledgeable and courteous  very service oriented room layout attractive thoughtful unique not the most spacious room ive been in but so well laid out it didnt feel cramped great shower best hotel bed ive ever slept in would return in a heartbeat   we just spent 4 days at the 1 hotel visiting family in the city and loved it we had a park room in the corner and we decided it is one of our favorite rooms everthe room design was so charming and warm with plants in one window and the coveted window seat in the other sitting in the window seat late at night watching the park and the city bundled up in one of the hoodie bathrobes was a highlight for both of us the room was typical city size but very comfortable from the ability to dim the lights to one of the best showers we have had in a while even the entryways to the rooms were attractive with various materials on the walls great lighting and plants the staff was young enthusiastic and very professional and the location was perfect for us and our family this hotel has a clear brandorganic healthy and naturaland because of that it might not be for everyone for example i am a diet coke drinker and non organic sodas werent available that didnt bother me but it might be an issue for someone looking for traditional amenities we have tried various hotels in recent years for our city visits and finally have found our go to hotel   excellent hotel for business travel always searching for the best business lobbys and by that i mean hotels with lobbies condusive for meetingsnot too noisey and not too crowded rooms are new york size unless you get a suite or larger room great location and simply a cool hotel to stay at   just a street back from the south end of central park 1 hotel offered us an excellent situation to base our new york trip we had a park view apartment with two ensuite bedrooms a media lounge drawing room a kitchen guest toilet and dining room for 8 guests it was in a fabulous corner position of the building giving views of both downtown and the south end of the park too could see all the way to the north and the upper west side and all the park in between the suite was decorated with a modern reclaimed theme with slates woods coppers leathers and all natural materials much of the menus were organic as were the cottons and bed linens too the in house restaurant was italian in style and implemented quite well the comms and media systems in the rooms took some getting used to but the younger amongst us had no issues its nice to be able to order room service with just a click and as new york goes coffee in the room was not bad value either we really liked the hotel and service we had and although it was expensive we thought it offered great value for money for us will return   my thenfianc\\xe9 and i chose 1 hotel when we decided to elope in central park and we could not have made a better choice this hotel is stunning we booked a junior suite alcove which was impeccably clean and beautifully decorated the hotels rustic refurbished repurposed recycled style is unlike any other it gave off a very romantic and delicate feel which was perfect for our special day and looked absolutely amazing in our elopement photosbut what we loved the most about this hotel is the brilliant and friendly staff two weeks before our elopement we stopped by 1 hotel and asked for a tour they were more than happy to oblige when we needed to change our booking dates they were reassuring and accommodating they welcomed us with good cheer and a nice bottle of prosecco upon checkin big big shout out to christopher and buba we are so thankful for your wonderful customer service even bigger shout out to joshua davis we couldnt be more grateful that you went above and beyond to make sure that our special day went off without a hitch   having booked the hotel for the first time the previous reviews had us excited about our visit the hotel is in a fantastic location close to central park but within a walk as far as brooklyn bridge we rarely take the subway the room was immaculate and benefitted from a turn down service which was unexpected coming home feet aching with a pillow and blanket ready for us to sit in the window seat was fantastic the shower was wonderful you could stay under it for days but with a handy hour glass you felt conscious enough to not waste water the tv was seldom on but what was available in the room was well thought out and usable we would highly recommend our stay at the hotel and will look to stay again in the coming year or two   my husband and i just got back from a very quick but well needed few days away hotel central park was perfect for us we got the rush of the perfect new york location the room has all the amenities you need and is spacious and inviting we were within walking distance to the crazy night life as well as the lincoln road shopping and restaurants the staff was very responsive and easy to work with i would definitely recommend this spot   we came to this hotel for 5 days at the end of oct 16 and it was delightful  from the moment you walk in you can sense that there is a really different kind of vibe in the hotel in contrast to whats going outside the room was great and big  the bed was comfortable although i believe there is a need for addition shelf for things the stuff are really great helpful and nice especially christophen  the location is perfect and close to everything    the rooms are absolutely stunning and the staff was amazing helpful and cool  my son was traveling with me on a work trip and they went out of their way to make his stay fun and enjoyable the reclaimed and other hyperquality woods make the hotel rooms aesthetically special the bed is phenomenal so good that we bought the same brand mattress for ourselves last week the restaurant is a perfect fit with the hotel style just a little bit expensive   a very unique hotel located near central park  just need to cross the street everything in the room is well designed with lots of thoughts the entrance is very welcoming although its ultra modern you can feel warmth everywherewater are purify even the hangers are recycled there is a toga mat  special drinks in the minibar a nice restaurant is located at the entrance i am so happy we chose to stay here  its a high scale hotelloved the fact i could lay down near the window and have an amazing view at the city    the hotel is located perfectly close to good breakfast restaurants and other good cafes the service is good and the free fruits for guest is a nice touch we stayed here in a room with two queen beds which can work for 4 one thing i didnt like was that the bathroom was pure glass walls meaning if you were on the toilet you actually could be looked at from the room  not nicei would stay here again in different roomthe bedst about the hotel is that it is not main stream with carpets and heavy furniture like you find in the typical upscale us hotels    the hotel is different from what you would expect in ny it was very green smelled excellent and the location was perfect the staff were great we had dinner at the restaurant and the food was awesome as well as the cocktails offered   this is a jewel one block from central park and one from fifth avenuevery pleasant and lively ambience great rooms very friendly staff the hotel has all the amenities you will need with a very interesting ecological twist   my 2 friends and i enjoyed a weekend at 1 hotel central park with connecting rooms 1 king and the other with 2 queens the location is within walking distance to central park obviously as well as times square carnegie hall and the plaza the decor was a step above your average hotel including all the plant life and sustainable touches we never used the yoga mat in the roomha we also needed help using the phone to turn down the lights etc the bathroom is a bit funky in that it is surrounded by glass and you have to pull a curtain around the glass for privacy we all liked the window seats comfortable and coolthe hotel served apples and granola in the lobby each morning which looked inviting until i saw a guest use his bare handnot the utensilto scoop out some granola yuck everyone who works there appears to be under 30 years old thats not a bad or good thing its just interesting we had helpful service the few times we needed it while we were there and overall a comfortable stay   what a great find in nyc incredibly unique green design including cardboard recyclable closet hangers rough hewn wood siding everywhere with wonderfully green plants and mosses on walls and surfaces luxurious hotel with trendy modern earthy feel   this new 1 hotel is a place to stay if you like to have a different experience than regular hotelsit is still new york but some an see its fresh different smells naturally  we like to come back as soon as possible   this was our second time in the last 90 days visiting this gem in the perfect location 1 block from central park our room was stunning again with fantastic views of the park and city the staff is unbeatable from all the doorman especially chris who always greeted you with a smile and always asked how your dayevening was going the rooms are really well designed and who can beat the bench seat in the window gazing at the park the perfect spot to walk to 5th avenue stores and all the restaurants in midtown this is the only hotel we will stay in nyc   weve just returned from an excellent stay at the 1 hotel the staff are incredibly friendly with nothing being too much trouble from organising restaurant reservations best advise on theatre ticket purchase and map explanations to standing outside in the pouring rain and gale force wind for 10mins to hail us a cab the staff are happy and very curteouswe ate in the restaurant jams one evening the food was very good and delivery quick its a popular after work place with a thriving bar and good atmposhere the west of the park boubon cocktail is heavenly note that being a busy place its pretty loud and the aircon veering on the fresh sidewe stayed in a city king room which was a good size by nyc standards there isnt a huge amount of wardrobe hanging space which if like us you come with empty suitcases isnt a problem the bathroom is well equipped big shower cubicle with strong water jet usual supplies of shower gel shampoo conditioner body lotion in very generous sized dispensers also cotton pads qtips and shower caps provided a cosy oversized hoody sweatshirt material cardigan is provided which is wonderful to snuggle up in after a long day in the city the complimentary house socks are also a lovely idea and make late nightearly morning jet lagged tv viewing a toasty affairfor me the bed was insanely comfortable it was a memory foamtempur style mattress which im not usually a huge fan of as they are too soft and hot however this was neither and i could have slept for hours if new york was beckoningi would certainly recommend this hotel to friends and family the location is perfect for central park 5th ave bloomingdales rockerfeller broadway etc etc etc and i hope to return sooner rather than later   apparently i owed my wife a trip to nyc for her 40th birthday having broken a promise to her for her 30th as she decided to have our son 2 days beforehand so i needed to find a special hotel and i hotel central park certainly did not let us downthe room was first rate with some lovely touches from the window seat to watch the world go by the chalk board communication system with the cleaners to the quirky keys from recycled wood the hotel staff could not have been friendlier full of suggestions as to alternative places to see a little off the tourist trailthe bar was well stocked and the food delicious  the sunday brunch a musti cant pretend it was cheap but it was worth every penny and well have no hesitation in returning the next time we visit   check in disasterwaited from 2530 to get into room it was especially disappointing considering we were only staying one night and it was a college reunion however i will say once we got in the rooms were beautiful   thank you thank you thank you for making our stay in your hotel such a delight on a scale of 1 thru 10 1 hotel central park is a 15 service was impeccable from the moment we arrived until the moment we sadly left our room on the 18th floor with park view made the perfect anniversary getaway thank you for the delicious champagne that awaited our arrival being from sausalito we described the hotel as big sur meets nyc beautiful natural fabrics wood stone and great mood lighting all said what makes 1 hotel so great is the wonderful staff thank you lorenzo brianna and richard the excellent concierge staff and chris shane and lloyd at the front door and all the front desk staff we highly recommend 1 hotel and look forward to our next stay congratulations hans general manager for doing such a wonderful job of making 1 hotel central park unique and exceptional   wow from the minute you stepped though the door filled with twigs you felt you stepped into another world the hotel smells of woodland and you are surrounded by plants candles and amazing wooden features creating a very calm ambiance the staff are all so kind and helpful making you feel totally welcome there is always someone warm and friendly to open the door to let you in from the cold new york air thank you so much to briana for all your advice about where to eat and what to do richard too for his amazing thoughtfulness over the butter cake at mastros it was amazing the rooms are excellent with great little alcoves to sit in and watch the busy streets from above service was superb and there are some really quirky touches to the rooms that will surprise you we have stayed in many different hotels around the world but this one takes the prize made extra special by the superb efforts of all the staff thank you sarah and simon x   we arrived to a real buzz in the bar and restaurant attached jams our room was fabulous with beautiful furnishings and attention to detail it was our anniversary and we were met with a complimentary bottle of fizz on ice with 2 glasses i cant recommend this hotel enough it has a real different vibe going on and very friendly   the room was very tiny even by manhattan standards and this was supposed to be one of their larger rooms the layout was odd also lacking sensible places to put things down and then random slabs of wood where you were more likely to knock into accidentally the hotel uses a single smartphone to control all the electronics and information in the room and to serve as the phone this ecofriendly touch seems great at first until you realize that the the smartphone is dead and you cant turn anything on or get any info about where things are in the room until the smartphone charges enough and its also frustrating to spend several minutes having to figure out the controls in the room when you just want to turn in for the night the service was also disappointing after waiting in line to check in with the one staff person who was available i had to listen to a long speech about how great the hotel was before getting to the actual business of checking inoverall the hotel seemed more gimmicky than anything else there are other eco conscious hotels that manage to deliver better service and more comfort for travelers especially at this price point   we decided to visit new york for our 25th wedding anniversary and 1hotel looked amazing on their website we chose an interconnecting double room with a twin both having their own showers in a glass case separating the bed area from the bathroom the shower was amazing instant hot water with complimentary shower gel shampoo and conditioner soft towels and luxury bathrobe and body lotion cleanliness was premium and being an eco hotel every care taken to provide environmentally friendly ways to recycle items and use products that care for the planet the tap water is triple filtered so safe to drink there is herbal tea coconut water plus more each morning on leaving the lift fresh fruit is provided free of charge and the red pears are to die for an umbrella is loaned to you if you experience rain and the staff always smile and are willing to help nothing is any trouble we enjoyed sightseeing shopping the theatre helicopter ride and boat meal and it was an amazing feeling to go back to the hotel knowing you were going to be very comfortable in fact i didnt want to come home this hotel is a must if you visit new york no other hotel would do for me   you must stay here when you visit new york if you want a truly unique and extraordinary hotel experience stepping off the busy new york streets and into 1 hotel central park transports you to another world from the fresh forest smell to the organic decor to the warm and welcoming staff this is a space not to be missed if you love nature recycled reclaimed and all natural this place is for you but dont be fooled into thinking that means a shortage of luxury as this place is pure natural decadence love love loved this place do yourself a favour   wonderful hotel in a great location very different from other hotels in the area i stayed there with my two teenage daughters and they just loved it very hip great design and amazing staff richard and lorenzo from the concierge team helped us so much the housekeeping was so attentive  thank you pasang we have stayed in few other hotels in nyc before but this is the one we will be coming back to   1 hotel central parks location is excellent the atmosphere of the lobby is unique to other hotels and the rooms are comfortable clean and well designed i would recommend this hotel and will be back   this place is awesome whoever created it picked the right balance between convenience and sustainability to make it feel like you are at home i have been in a few places in ny before but this is outstanding   outstanding experience thank you briana for all the help and exceptional response time to all my texts the entire staff was a joy to be around and visit with the room was great just didnt spend enough time in it showered and slept then right back out to tour the sight the shower alone was worth the money but thats why we are here thanks again   excellent hotel the organic recyclable ethos we totally support the room  fantastic 2 bedroom suite was fantastic stylish funky and with views of central park the staff  particularly the door team and concierge were friendly really genuine and very helpfulthe big let down was the food  the concept of local sustainable organic food we love  but this doesnt excuse poor execution lack of taste and expression or poor service   i come to ny 610 times a year for work usually just for a few days and i stay at 1 hotel every chance i get its wonderfully relaxing and pleasant while still being centrally located to midtown the staff is very professional and the hotel is beautiful and soothing beyond descriptionthere is nothing better than coming back here after a long day running around the city   nicole and richard were excellent concierges and made all three dinner night reservations for my wife and me each one delightful and varied hakkasan almond and jams richard even got us a complimentary wine and cocktail at the bar and they both gave us all kinds of directions etc the valets and front desk were also very helpful putting us in a temp room when we arrived early on a red eye flight and upgrading us when they could over the 4 night stay we truly enjoyed our second stay at the 1 hotel and love the location near central park recommend hightly the restaurant at the hotel jams  ive never ordered chicken before at a nice restaurant but our waiter bruce was extremely helpful on the wine and the food and recommended i try it so i did  best and tastiest chicken ever my wife kelly had the kale caesar and we decided to mix the chicken into the kale caesar and it was wonderful well be back   what a treat  i was graciously taken to nyc at the end of september with my aunt  uncle who had stayed at 1 hotel a few months prior they travel all over the world and stay in some of the best hotels and have said that this will be their only hotel in nyc for future trips i couldnt wait to see what they were talking about i work in the industry for a luxury hotel and know when a staff member is being genuine and let me tell you every single staff member i encountered whether it was in the lobby in the elevator or from housekeeping in the hallway genuinely asked how my stay was and if there was anything else i needed to make it more comfortable the size of the lobby helps your staff engage with your guests easier versus a massive lobbythat you typically see in large cities the rooms were incredible  id never seen anything like them you definitely thought of everything from the nexus on the bedside table to the body washshampoo dispensers in the shower to the healthy beverage choices in the minibar the boxed water is so great for a brand that prides itself on being ecofriendly you knocked it out of the park i also loved the quirky notes on the recyclable clothes hangers and bathroom amenitiesi think what impressed me the most during my stay was how after noticing the staff were able to wear a more casual attire jeans blundstones denim jackets and expecting their approach to customer service to be the same  casual and laid back it was in fact the complete opposite you felt like you were staying in a 5 star hotel professional luxurious and engaged from start to finishspecial shout out to marco from sales i checked out a few days earlier than my family and wanted to send them something to say thank you marco kindly helped arrange an amenity to be sent to their room that they very much appreciatedi would highly recommend this hotel to anyone looking forward to seeing the brooklyn property open in the new year   simply fabulous the luxury without the gold as we appreciateall the staff was really humanit was a real pleasure to be welcome by the bellman each moment of the daythe location is a must we fall in love with the spirit of the place   my stay began badly but the customer service at this hotel made up for the early difficulty to an extent that i am not accustomed in new york city where i stay for at least six weeks each year it was so good i dont want to lead with the problem i had but will lead with what was rightthe goodthis hotel is lovely and if you you are ecoconscious it is wonderful to walk into a property that shares those values it is definitely more boutique than highend but wellappointed and the decor and overall feel throughout is excellent the room i had eventually was wonderful a tad small as nyc hotel rooms are but felt more spacious because of the welldesigned window seat and spacious bathroom area excellent comfortable bed everything smells great really lovely i know that other reviews talk about the staff not being friendly but that is simply not the case the staff literally bent over backwards to ensure i had a great stay and to be honest i never would have found out what a great place it was if they hadnt and this would be a 1 star review great team  amazing management thank you  great job and keep it upthe less than goodfirst i had trouble with my online booking  didnt get a confirmation and needed to call twice to confirm that it had gone through it had gone through twice so glad that i checkedthen  the first room i was given was definitely not what i expected for two reasons first to say something has a central park view on the 3rd floor is somewhat misleading yes it does of the entrance but that is not what one thinks of when one thinks of a central park view the bigger problem however was the noise from the air conditioning which can only be described as similar to a lowlevel watch alarm  definitely noticeable and the more you try not to hear it the more you do i dont know what can be done about it but it needs fixing this led to my customer service experience however there was no room to move me to and when i was in the lobby searching for other hotels the team mobilized found me a room at a sister hotel for the night and sent me over in a taxi and retrieved my things the next day to bring them back i had been travelling for nearly a whole day and the care was very appreciated amazing team  thank you again as i said the eventual room was perfecti would definitely stay again and highly recommend it for location decor comfort and most of all the customer service   i stayed at 1 hotel as a staycation because i love to check out and review hotels in the city this could be my 1 favorite so far the ecofriendly mission behind the brand and how they communicate it through the details and amenities is absolutely amazing i actually feel like i helped the environment after my stay the staff is not only courteous but also genuine and thats a delicate balance some hotel staff struggle to maintain looking forward to seeing the brand expand and visiting the brooklyn property soon all best jo   very disappointed not the room as described loud doors slamming can here pets on floor above us not what we expected for the price have stayed at many hotels on nyc great location but pet friendly and loud   this was our second time in this hotel the first was last year shortly after the hotel opening and everything seemed fine now it was a major disappointmentwe were accomodated in a very small apartment with a completely open bathroom  no walls ou curtains only a transparent glass door this apartment was obviously designed to receive single guests not couples so we asked the room to be changed what happened only the day afterthe new apartment had a decent bathroom but plenty of problems apparently it is placed near the ac central so we could listen to a constant machine noise even with the window closed quite annoying the curtain was completely broken in order to open it one could only pull it from the top manually the problem was detected by the housekeeping staff only one day before we left and it wasnt repairedin the third day our toiled was clogged  it caused much disturbance because we were in a hurry changing clothes to go out and we couldnt use the bathroom it was repaired quickly but in the meantime we had to use the hotel gym restroombut a much greater annoyance happened in the last day we already had scheduled a very expensive transfer to the jfk airport at the front desk but when we made the checkout no one in the staff knew where the car was even if there was one in fact we lost about 15 minutes in this confusion until someone could find the car and carry our luggagethese 15 minutes proved crucial the traffic in nyc was very bad the driver was quite slow and we eventually lost our flight  and the day spent mostly in la guardia waiting for a replacement flight much laterall in all pretty much of the hotel didnt work for us small and noisy apartments equipments in bad shape and bad service which eventually led us to lose a flight and precious hours of our vacations unfortunately we dont plan to go back   just got back had a great time in new york city we loved the location of 1 hotel central park the service was outstanding weve probably never had better housekeeping the room was really small but we hear that is everywhere in new york city there was certainly no view of central park because there are 2 huge buildings between the hotel and the park but seeing the park later was no problem and the park was indeed awesome we didnt like the restaurant at this hotel because we dont care for the fancy what we call foo foo restaurants it would have been nice to have the option of regular food at a lower price but there isnt really room here for both we found places and the stay really was quite expensive for just a small room and nothing much else but thats new york we hear but the stay was still wonderful overall this is really quite a nice place in a great location   nice and thoughtful service and i will recommend it the staffs are very helpful and facilities are user friendly location is definitely great i really appreciate the organic fruit offer everyday and warm smiles on staffs faces its great experience to stay   the 1 hotel is beautiful and in a great location the best in nyc in my opinion the rooms are ok you get everything you need and it was perfect for 2 nights in a longer stay i would probably be annoyed with its size because standard rooms and bathrooms are very small we had two disappointments in our stay though and both of them show me some lack of experience first of them was with the shower they turned off the water heating system without warning guests in prior my husband was in the shower and suddenly water was freezing it wasnt a very cold day but it wasnt hot at all imagine you are taking a hot shower and suddenly water gets freezing not cool it took more than 15 minutes for water to start getting warm again i called the front desk and they told me that they turned off the heating system but had just turned it on again and to be careful because water could turn a little brown seriously not what you expect from a hotel in this price range after this happening in our first night my husband had a cold and was sneezing for the next 5 days  also shower soaked the bathroom floor everytime we used it we tried to avoid it but no matter what we did water seemed it was actually leaking from the shower stallbreakfast was also disappointing we payed extra money in our rates to have breakfast included however when we asked about breakfast they should have told us that they actually dont serve it and that it is served by the restaurant jams in the hotel but a totally separate business that needs reservations they didnt tell us any of that we get to the restaurant and are told we needed a reservation and had to wait about 20 minutes to be seated even though they had about five tables available i complained to the manager and so he had a table for us in about 5 minutes after that when the menu came we only could order two options of the menu that cointains about 10 options all of them cheaper than the fee charged by the hotel for us to get breakfast included very angry about itfood was great though after that we complained to the hotel staff about it front desk and they told us that we could order breakfast to room service in the next morning so we did that t and room service told us that we didnt have in room breakfast included so luckily jams had tables available on open table and we made a last minute reservation still had again the same options cheaper than the hotel charge for breakfast this seems like total unexperience to me when asked about including breakfast just say no we dont serve it but you are welcome to make a reservation at the jams restaurant and enjoy more than 10 options in their menu that would be great and honest dont pretend you have a service that you actually cant offer   im a bit late writing this review so to be fair it is possible that my issues have in the meantime been remedied the concept of this hotel is so wonderful i wanted to try it out even before it was opened the first impression did not disappoint the lobby and even the outside facade are a wonderful combination of environmentally conscious and still luxurious lovely and overall this is something that will work however we did encounter some issues that had to be addressed whilst staying there i hope it was just to be put down to growing pains but housekeeping was not up to standard our water glasses were still very dirty until i complained around the 3rd day the recycling basket wasnt emptied the first four days and on the odd occasion the room wasnt made up even after being out and about for several hours we did complain and things then ran smoothly otherwise everyone were very helpful some people complained about the size of the rooms and i agree they are small but youre in nyc and trying to do good so i think the size is acceptable nevertheless in this context i must say the closet in the room had no space for hanging long items winter coats long dresses all had to be hung outside this is not an option if you dont want your nice dress to spoil a long stay could then be quite a challenge depending on the time of year and your warderobe otherwise the decor in the room was lovely just my scene muted colours nice little plants warm woods this hotel has serious potential to be one of the top spots in the whole city its location is undoubtably splendid its concept is visionary but doable ill try brooklyn next which has just opened oh and on a last note the cedarwood scent in the lobby and on the floors is a bit overbearing after a while a little less would be a subtle gesture to welcoming your guests   excellent hotel cleancomfortablecozy friendly staffperfect location i will definetely stay in 1 hotel central park the next time i visit and i will also recommend it to anyone visitng ny it suits family couples and anyone coming for a business trip loved it   we spent just one night here overall an excellent experience from start to finish with just a few minor quibbles excellent front desk and we were able to get access to our room at 2pm lovely eco friendly decor with nice smells they advertise that they have thousands of plants in the hotel i wonder how many are alive many of those in our room were in a very sorry statedead spacious comfortable room  definitely big enough to be good for several days and everything seemed very new and sparklingly clean the sophisticated lighting system was a bit challenging to turn on and off when sleepy and the shower was positioned so as to flood the floor in the bathroom we had lunch in the restaurant  delicious and good service but quite pricey for what it was i think there was free fruit positioned next the concierge desk  slightly unclear and nobody told us it was that but what a nice idea if correct except it wasnt there when we left early the next morning so if you want you fruit first thing grab it the night before   great location and very nice hotel its only one central park the room perfect size jr suite on the corner no view on the 16th floor thi s was my 4th timing staying there for work only ding was room wasnt ready when i checkd in at 430   the hotel was in a prime location we will be visiting the brooklyn location next  the decor was on par the restaurant was amazinglittle pricey but you get what you pay for sub way is close central park is literally across the street look no further you have found the nicest hotel that i have ever stayed at in new york    couples weekend away from the kids fantastic location right off central park 5th ave easy subway access to downtown great service with superb response time and very clean would definitely stay here again   great location and very nice new hotel 1 block from central park the room was very nice on the 17th floor with a day bed offering a street view and glimpse of the park great staff who care about details special thanks to joshua daviswe have not visited the facilities as the gym so cannot comment on that though   staying for business for three days great location and extremely friendly staff i wanted to extend the stay but it was very nearly full byba and steven at the front desk fixed it in a thrice concierge very knowledgable and the gym is great my new base in new york   i hotel was a great place to stay as far as location to everything the decor was nicely done and very clean but the rooms are small the food at the hotel was very good and they are willing to accommodate you if you have special request on how the food is prepared   location is great appreciates you and that shows in friendliness service and every interactionthey have with you they remember you from previous stays greet you by name and make you feel like you are at home personalization is so important today and hotel 1 delivers onthat in every way   my husband and i loved 1 hotel central park we stayed five nights and enjoyed every one of them the hotel is welllocated for those wanting to visit museum mile central park or lincoln center all walkable or at least a short cab ride away the hotels decor as another reviewer observed is reminiscent of places in vancouver bc the hotel has an ecoconsciousness that we appreciated and decor of natural woods and plants soothed us each time we returned from city adventures our room was spacious by nyc standards with a cozy window seat ideal for peoplewatching the bed was sublimely comfortable the rain shower was a delight and to our surprise our room was remarkably quiet considering that we were seven floors above the street even better was the service every staffer treated us genially and responded promptly the concierge staff were particularly friendly and helpful one made sure to route us on the right train to visit the cloisters as the normal train was shut down the day we went the service staff both food service and inroom dining responded with unexpected alacrity we discovered when we first arrived in our room that the bathroom sink leaked i entered a service request on a bedside phone unit we then went for a job in central park when we returned there was a new sink remarkablealthough the hotel overall well warrants five stars we did have a few quibbles the rain shower in our room was located so that it was not possible to use it without water soaking the bath mat we had to get a new mat with each room refresh the smoke detector above our bed emitted a strobe flash continually a deflector for the light would be appropriate more problematic was the bedside phone unit 1 hotel central park uses it for hotel communications ordering delivery of digital newspapers and operation of room lights the phone unit was fiddly it drained power quickly when disconnected from the power cord but it would not operate correctly when connected the concept is great but the execution seemed to us a work in progress   this hotel not only looks beautiful it smells amazing cedar and sandalwood greet your nostrils as you enter reception youre surrounded by reclaimed timber fittings and atrium style planting and the rooms are fitted out with equal care about aesthetics it is one of the quietest rooms ive stayed in no noise from neighbouring rooms you dont hear others turning on their showers and you dont have the steady groan of the air con system creating white noise lovely and unusual considering you are located in busy nyc the service was generally good with the exception of some forgotten requests for champers glasses to be sent to our room and doormen who greeted us warmly and asked our names then gave blank looks 5 mins later when we returned not a big deal i would definitely stay here again   thank you to all the staff of 1 hotel for all the good moments everything was perfect the jams rest is a very good option just at the lobby as a compliment the hotel staff give us a prosseco bottle for our honeymoon   i stayed here for a week in august and was very very happy with my stay next time i am in new york i will definitely be returningfrom the big comfy bed the relaxing window seat the quiet room the warm welcome the wonderful housekeeping staff the restaurant and so much more this hotel is just\\u2026wonderfuli stayed in a city view king room on the 11th floor facing 6th avenue and not once was i bothered by noise well maybe once when i police siren went off right under my window but this is new yorkgreat location with the f train right on the corner it is close enough to everything that you needyes the control system in the room has it kinks and the room service does arrive in cardboard packaging but it is all in line with the hotel \\u201ceco\\u201d principlesi did have an issue with an room service overcharge after i had checked out but this was refunded after a quick phone callstay here you won\\u2019t regret it   this is my third visit to this new brand very cool somewhat bohemian like hotel in the middle of posh manhattan seems slightly odd but it works efficient and friendly staff good if slightly small bedrooms and great bathrooms jams is excellent with a buzzy vibe i would thoroughly recommend it   so as my title saywhere do i begin we go to nyc usually once a year and part of the fun for me is finding a new hotel to stay at well 1 hotel central park may have ruined this for me as i dont think we will ever stay anywhere elsefrom the moment our car pulled up it felt like we were going to visit a distant relative we had never met before the kind you like\\uf04a driving down 6th ave you see one drab brick building after another and then up pops this wall covered in ivy every person that worked there introduced themselves and warmly welcomed us when you walk in you are hit with a beautiful earthly scent that you soon realize follows where ever you go each space is meticulously appointed with touches of nature framed in reclaimed lumber you are given a super cool round wooden chip that is the \\u201ckey\\u201d for your room they attempt to be paperless so your room is controlled by an ipod type device which worked wonderfully the products in your room shampoo conditioner soap lotion are great so you don\\u2019t need to bring anything with you we had mentioned upon registration that is was our anniversary so when we returned to our room after a walk through central park there sat a bottle of prosecco and a signed card from the staff the rooms are incredibly spacious for a nyc hotel my experience has been boutique hotel  300 sq feet\\u2026but not here the inroom coffee is wonderful in fact we spent the first morning just sitting in the window seat wrapped in a blanket looking out at the city drinking coffee and talkingthe workout room is well stocked with great equipment and is also spacious jams the hotel restaurant has great food and knows how to make a wonderful old fashion the only tiny issue was the one day we ordered room service our food was just warm\\u2026not hot the concierge nicole was wonderful at setting up massages for us and giving us some good advice so as you can see we highly recommend this hotel and we can\\u2019t wait until we get back   we stayed for almost a week at the hotel it didnt feel like a hotel at all felt more like a cozy cabin in the woods especially in the city the design and idea behind recycling everything was great the staff were friendly helpful  as best as they could made our stay pleasant the room we booked was cute beds were comfortable however it was small for the luggage we had  didnt like how the bathroom was only a curtain away from the bed the location of the hotel was perfect close to central park and a walking distance from midtown its a great place to stay at but not with family   it one of the best hotel i have visited very comfortable wonderful with good city view i love the window view bed which give me the best of new york it has the best showers ever and the location is very perfect near central park i would like to visit again and again   wonderful intimate location with superb front desk and door service convenient to central park and relaxing atmosphere full work of art and the initial scent was welcoming would absolutely return for stay   we returned to 1 hotel central park a year after our first visit early october 2015 and 2016 staff member sunya was extremely helpful when i asked pretrip questions was the construction over yes which rooms have bathtubs etc she even took photos to send me many thanks to sunya for her helpwe stayed in a city king its so much bigger than the studio king bathtub no glass bathroom wall extra space to sit and leave your stuff and a big window seat a little nerve wracking with a little kid though im sure its safe we used the yoga mat as a picnic blanket for dinner one night there is a built in desk with one chair and the window seat for actual seating we enjoyed the nespresso machine for coffee and tea the shower is nice not huge but comfortable the only odd thing was the shallow sink with a huge faucet there was barely enough room for my hands there is often fruit and sometimes granola in the lobby though none  8 am sunday so we walked across the street to a little bodega we ordered take away from bengal tiger indian right across the street and ate at the broadway diner the concierge recommended this very packed but totally overpriced at 18 for three eggs and some toast we love madison kayser nearby try that for sure the gym looks nice though we didnt use it the hotel is in an awesome location super close to the park and an easy walk to both the east and west sides our stay was pretty costly luckily it was a business trip but i do think this hotel is now a fivestar its a modern fivestar hip staff uniforms very informal funky decor no newspapers a younger crowd but the place is very nice and quite responsive only snafu getting our suitcases took at least 15 minutes and our car came quickly from the valet so they parked it next door and no one volunteered to bring the bags to the car they bring ice to your room if you ask no water bottles for the environment plastic bathtub and a bit dark in the rooms  i suggest more lighting but i had a great time and would definitely return sunya was awesome and the free fruit setup friendly staff and amazing location are terrific    we really enjoyed our stay at this beautiful hotel the rooms are lovely and show attention to detail we loved loved loved the bed everyone working at the hotel was very friendly and helpful we felt most welcome i also loved the little treats that were out by the elevator every day we hope we can come back to stay at this hotel in the future   weve stayed at the plazathe pierre and the andaz now there is only 1 hotel for us in new york citythe 1 hotel central park thought the website a bit gimmicky children are seedlings and foraging for food in the lobby yet the minute we walked into the hotel we realised they are serious about their mission to transform the hospitality industrys focus towards environmental sustainability there are plants everywhere which makes the space feel intimate and calming the rooms are very comfortable the bed with hemp mattress define with lots of mirrors usb ports different lighting options and clever places to hang store clothes create privacy lovely daybedwindow seat that makes the room unique and difficult to leave no telephone nor tv remote control as everything is easily managed on a smart device recycled materials are used throughout the hotel and room however we never felt we were staying in anything other than 5 luxury the best feature of 1 hotel is its staff from reception to the doorman to housekeeping and the servers at jams restaurant everyone was helpful friendly and interested in ensuring we enjoyed our stay this is 1 special hotel   the location was perfect for my trip  sightseeing the staff members were so kind and helpful especially the concierge and christopher at the door the room was clean well furnished with green touches and surprisingly quiet i will definitely stay here again   loved the hotel our room and restaurant the overall theme and vibe of this hotel is reclaimed wood nature lots of hanging plants and succulents very welcoming and comfortable my friend and i had dinner at jams and had a delicious meal and drink with great service the next morning we had brunch at jams with our husbands the food was delicious we loved the restaurant because the huge windows let you know you are in the city and make for great people watching the front desk service was great hailing us taxis when needed we will be back   1 hotel strives to be eco friendly their ideas include recyclable door keys no paper in the room use a chalkboard instead carpet less floors and plenty of plantsin addition they are rather modernistic if you have been to a w before you will note a similaritythe rooms themselves are less private then conventional hotels the large shower is located between the bedroom and the sinktoilet a curtain provides some privacy when using the shower along with a retractable door the room is extremely quiet the bed is made of hemp lastly lights room controls billing etc are controlled by a small electronic devicestaff are very pleasant and really cater to your needs the breakfast was delicious and very reasonably priced given the locationive stayed at the pierre and the waldorf but given the overall picture i would stay at the 1 first   ive stayed at the park suite for a week the room is beautiful every detail is amazing and the view is breathtaking however if we will talk about services  the room service menu has nothing on it 3 options  the staff are not qualified to work at a 5 star hotel actually the hotel shouldnt be categorized as a 5 star hotel house keeping threw away my shoe box with a shoe in it and i didnt get any serious action about it i wont stay here again   this is an amazing hotel staff is nice and helpful hotel was spotless food is great and perfect location our whole group said they would be back the lobby offers fresh granola and fruit each day   this is a lovely comfortable and well located hideaway in manhattan the third time i stayed there and ill return again convenient location beautiful room warm  welcoming staff comfortable bed and fabulous shower also love the commitment to sustainability and all the eco friendly touches throughout best part is the little window bench where you can relax and look out over city below love this hotel   rooms are not fairly depicted in pictures  poor check in experience  kept me waiting 2 hours after check in time gave my prepaid room away while i was asked to wait put me in a dingy room that was not what i reserved said they would comp one days breakfast  but failed to do so till i reminded the front desk when i checked out all through this  the manager never came out to speak with me or even call to apologize even asked to speak with him and he just ignored my request i do travel a lot including 2 3 trips to nyc every year  by far the worst experience i have had   the first person i met at the front door of the hotel was christopher he could not have been nicer more helpful and honestly couldnt do enough for me he represents the quality of service at the hotel modern rustic luxury is the best way to describe the hotel with is full of stone plants and wood throughout perfect location as well and i was quite surprised at how quiet it was inside my room given that location a great hotel i will be back   we were greeted friendly at the information we got our room on the 18th floor our room had lots of light it was clean and cozy the staffs were very friendly and if you had a problem they attended to it right away deion was very attentive he always askedif you were ok and always had a big smile on his face the reception guys also really look out for you the hotel also has a very green and healthy atmosphere i would definitely go back there when i go to new york again   the hotel is really excellent the team is great and very helpful the design is inspiring and pleasant the food is great the hotel is situated in a perfect location and the value for money is great   we didnt stay in the hotel but ate lunch in the restaurant the design and the ambience are superb the food was excellent and very well presented nice size and great flavors prices are on the higher scale but without a doubt worth every pennythis hotelrestaurant should be one visit list   1st time in nyc and our stay was perfect the rooms were well appointed bearing in mind its ny and also the ecofriendly sustainability ethos the hotel promotes staff were always friendly and helpful and the ability to walk in to jams restaurant and enjoy a cocktail after a long day pounding the pavement was another plus also being so well located it made central park broadway shows great restaurants and 5th avenue shopping easily accessible while still only being a short walk from the hustle and bustle of times sq rockefeller centre and columbus circle   i was amazed with conception and design of the hotel recycle and organic principle all things in the room was great especially bath robes i fell in love with it location is great as well michael from front desk on night shift was very nice and helpful i want to move in this hotel and live there forever keep it up   unique we decided to go to nyc on a spurofthemoment trip for a concert in brooklyn and wanted to stay somewhere hip and differentbut not too loud like a nightclub my husband found 1 hotel central park on tripadvisor and we liked what others had to say and thought it looked unique we were not disappointed when we checked in  it was everything we were looking for it had an intimate feel to it but it was hip green and our room was just fantastic flawless we had he large king room and we were really pleased  especially loved the cool pad that controlled everything in the room including the tv forgot a razor and they promptly brought one up to me alsono little bottles of soap or shampoo here they refill larger ones in the room to keep waste down and you pump what you needthis makes senseeveryone was greatespecially the guys at the door including delon who were always willing to help us find a cab or the bicycle rentals in central park very welcoming also food at jams was great and convenient 5th avenue shopping is just steps away including the iconic apple store but better yet central park   worth every cent because of the excellent service from the time you get to the front door through check in and getting to your room european flavored hotel with out the snooty concierges and staff the concept of the hotel is environmentally conscious with attention to little details great staff who are passionate and really like what they do they go the extra mile to make your stay comfortable and warm every time i came down the elevator or back to the hotel after being out they asked if i needed anything food and service in the restaurant is outstanding great place for a long lunchthe hotel has a tesla for short rides in the city ask if it is available   the hotel is amazing the lobby is beautiful the mission of the hotel is completely aligned with the decor the room is clean cozy and quiet the service is very friendly but can improve efficiency   great location immediate acces to central park tesla car service available free of charge upon availabilty staff from arriving at the frontdoor to check out was superbrecommend everyone to go out and experience 1hotel central park   we where pleasantly surprised by this fantastic gem of a hotel small enough to have a personal touch the decor was trendy the rooms spacious and the service excellent the only problem we experienced was a dog barking in a neighbouring room but that was sorted out asap perfect location to walk to central park fifth avenue and just about anywhere we had a room with a view over central park which was absolutely fantastic highly recommended   i visited new york for the first time at the end of august expecting it to be sweltering hot and to have to spend nearly all my time in the hotel so i booked this cool alternative hotel although i ended up not spending much time here it was absolutely amazing the decor and service was superb although there was a slight problem with their smartphone service in the room which is used to order room service control tv lights etc but i was assured it was only because theyre a new addition i had a lovely view although it wasnt requested and was so near everything but just far away enough to really experience new york life ill definitely be returning   it will be hard to stay anywhere else after staying at this hotel the beauty the service the food were like none other ive experienced i took pictures of my hotel room and sent to my family ive never done that   the one and only place to stay in new york city from the first hello threw our stay it was an extraordinary experience the room with a view of a central park entrance the facility and the staff everything was great and the lady from the concierge desk was more than helpful we will be back around christmas for sure   first this is an excellent hotel and if my room has a street view i would probably rate this hotel as 55 however in reality i upgraded my room to suite room which was bigger in size but i was very unlucky that the view from my room was not a garden viewnot even a street view but an inward facing room with a big fan ac brick wall and noise 247 unfortunately by the time i got to my room other rooms were fully booked if i knew this i wont have picked suit room at the first place i would probably have chosen a normal room instead because i wanted something more ordinary and did not mind to pay slightly more but this let me down after all as i said somebody has to be unlucky and may be it happened to be me   i stayed at the 1 hotel central park in early august as part of a work trip this was my first time staying at the hotel and overall i had a terrific experience the hotel was very trendy and everything was clean and in great condition i was upgraded upon checkingin which i wasnt expecting as my travel agent booked the trip and was a great surprise the hotel is very close to 5th ave many mid town attractions and central park in addition i arrived at the hotel on a monday night after a later flight around 910pm and when i went down to the bar to grab a drink and dinner it was about 15min to closing time for the kitchen when i inquired about a dinner menu the bartender informed me that they had closed the kitchen due to a limited crowd i somewhat expected this so i wasnt upset but somewhat disappointed as id have to venture out to grab a bite within a few minutes a manager came up to me at the bar introduced herself and said that they would be happy to make me something to eat i opted for the kale ceaser to keep it easy but they said they would happily make me anything on the menu what a great surprise and an extremely appreciated touch of service after a long day this extra step left me with an extremely impressed view of the hotel and the level of service another nice feature of the hotel is that they have a house car and driver that they pointed me to when i was looking for a taxi to take me to a meeting that will drive you to locations in the area for free on top of that the car was a brand new tesla which was awesome the cardriver drove me to a meeting nearby during rush hour when there werent any taxis around  very helpful i highly recommend the hotel if you are looking for a trendy clean and high service hotel in midtown for travelers on a budget they sometimes run summer rate specials which i received as part of booking during august and thought was a good deal for a nicer hotel in manhattan i believe i paid 400 a night including taxes which i thought was a good deal for manhattan at a new and nicer hotel   the one is a different kind of hotel and you feel it i have seen bigger rooms and better views but is a different and new hotel atmosphere you feel at home service could be much more expedite location could not be better   we stayed there at the end of august for 2 nights great service from front of the house reception and doormen very clean  thanks go to housekeeping amazing design great bar  thank you to my bartender i loved the socks instead of the slippers cool robes the most comfortable pillows my turn down attendant was very nice i happened to walk in on her and she was performing the service and she was very polite amazing location of course great bathroom amenities there was a problem upon check out but it was fixed so i will not accent my attention on that this is a new hotel and need time for all the procedures to settle overall i highly recommend '"
      ]
     },
     "execution_count": 219,
     "metadata": {},
     "output_type": "execute_result"
    }
   ],
   "source": [
    "df_by_hotel.content[0]"
   ]
  },
  {
   "cell_type": "code",
   "execution_count": 220,
   "metadata": {
    "collapsed": true
   },
   "outputs": [],
   "source": [
    "from unicodedata import normalize"
   ]
  },
  {
   "cell_type": "code",
   "execution_count": 221,
   "metadata": {
    "collapsed": false
   },
   "outputs": [],
   "source": [
    "#remove Unicode characters and save content to new column\n",
    "df_by_hotel['content_utf8'] = df_by_hotel.content.str.normalize('NFKD').str.encode('ascii','ignore')"
   ]
  },
  {
   "cell_type": "code",
   "execution_count": 222,
   "metadata": {
    "collapsed": false
   },
   "outputs": [
    {
     "data": {
      "text/plain": [
       "' we have had numerous stays at hotel one in nyc the hotel is greatextremely comfortable clean and with a fantastic staff i am finally getting around to write this after four stays at the hotelall were wonderful also staff goes above and beyondin particular antigona  janessa great place to stayelizabeth   1 hotel is a beautiful breath of fresh air close to central park its the perfect location for the park the theater district shopping and museums the staff was very friendly and helpful and went out of their way for us many times we had a lovely window seat to watch the world go by on a rainy afternoon we cant wait to come back   this hotel is amazing  so different from any other hotel we have stayed in from the minute you walk in you feel at home it doesnt feel like a cold soulless hotel but like a warm and inviting living room the staff at the front desk are friendly and polite and quick  checking in was a breeze we had booked a city room which was more than adequate for what we needed for our five night stay loved the smartphone in the room for contacting the hotel and sorting out the lights the bathroom with its full glass wall its different to say the least but you can close this off if you want tooafter an extremely comfortable first night we decided to see if they had any park view rooms available so i messaged the hotel via the smart phone and within 30 mins we were in a different room we really cant recommend this hotel enough  the location is fab the venue is fab the staff are fab  its just fabulous we will definitely be back   this hotel is perfectly located right by the park and columbus circle and only a 20 min walk to lincoln center its beautifully and uniquely appointed with such great decor choices the all glass shower in the middle of the room is amazing but if you arent super close with your travel mate you may want to have separate roomshighly recommend catching weekend brunch downstairs at jams but dont forget to make a reservation in advance   i highly recommend 1 hotel central park the hotel is extremely beautiful earthy clean and nicely decorated the entire staff is extremely accommodating truly one of my most memorable stays in new york city   i stayed here for a few nights the hotel is beautifully decorated and is an excellent mix of old and new decorationthe rooms have super fast wifi good ac comfortable beds however i do feel that theyve gone a little too far with the sleekness for example they have only cardboard clothes hangers which cant be used for hanging suit trousers some rooms do not have full length cupboards for hanging clothes the small shower has a really large stand to how the shampoo bottleshopefully they read this feedback and fix at least the coat hanger issue   were having coffee in our cozy alcove room no there is no view but the room is truly cozy its small but doesnt feel small everything about the room is designed to be kind to the environment but that certainly doesnt take away from the pleasure it brings to the guest the bed is extremely comfortable and the room is peacefully quiet we were out of nespresso pods so i texted a request for more on the smart phone in the room from it you can order room service as well as control all the various lights in the room or turn on a privacy notice so you wont be disturbed we will definitely be back and we highly recommend it   me and my girlfriend visited the hotel as the first part of our 2 week trip travelling around the usa and it couldnt have started our trip any better if youre into something a little different and quirky then this will definitely be the place for you on arrival to the hotel we had just got ripped off by an uber taxi from jfk dont use these after explaining to the reception they then provided us a 100 credit to our room so that we could enjoy the food  drink in jams restaurant this was such a lovely gesture from the hotel which was a great surprise and something you dont forget the food in jams was beautiful photos attached and the waitresses were really helpful when looking into the menuthe rooms lighting is controlled completely by a mobile device which also allows you to send sms to reception for any questions or requests the room itself is beautifully designed extremely clean and provides a really comfortable area for sleeping in the bed is like the comfiest thing everrrr quoted by my girlfriendcannot recommend this hotel enough can honestly say there hasnt been one flaw for us to point out even go as far as saying its the best hotel weve ever stayed inwill definitely be returningryan  saffronx   i loved being here from the moment i walked in the door it has a very earthy smell that is very comforting while being in a hectic city i cant say enough good things about our room we stayed in a superior king room with an amazing shower that had a big piece of cypress wood in it this made the shower smell amazing i loved sitting on the window seat looking down at the city great place to recharge romantic for couples great location the staff is very accommodating   i really enjoyed my stay here i like the eco friendly concept and the decor was totally my style the room size was perfect and the bed was comfortable i enjoyed being greeted by the staff as i came and went i didnt dine in the restaurant although i did go down for coffee i think they could use a barista making coffee to go but then again starbucks is right across the street i loved being a block away from central park and equidistant from the west side and the east side i stayed for five nights and happily would have stayed longer highly recommend   excellent service and had comfortable stay richard at the concierge and christopher at the door were especially helpful and provided great service would highly recommend this if you have to stay in new york   i had amazing experience at jams having dinner with friends davi our waiter was the best i had the ocean perch and it was delicious also try the sweet potatoes and beet salad my favs nice ambience   this hotel all the attention is one of my favorite hotels around the world and i have to mention erica she is the girl who makes the rooms she is jut amazing always serving always making things happen making my stay magical and one of the greatest experiences in hotels everybody in the hotel the inspiration it creates just to walk around the decoration everything is recycled everything is amazing thank you guys for making my 6 night stay amazing will defenitly come back thank you   i have stayed her several times and have found the hotel to be perfect it is a wonderful hotel in a great location very close to central park the staff is truly terrific and accommodating the rooms are comfortable and nicely appointed will always return   the only complaint i have is the smoke detector is located directly above the bedor directly above your head even with my eyes closed i could see the flashing light all night long my colleagues complained of the same issueso just sleep on your sides or wear an eye mask   i stayed here for a couple of nights as a graduation gift from my father the location itself is conveniently located to central park but to reach everything else you need to either take the metro or take a taxiuber which can be a little pricey however it was definitely walkable distance to many other great places such as famous restaurants and whatnot or you can completely boycott public transportation and just walk if it is sunny outside the hotel smells great right when you walk in i believe you can buy their scents and the decor is very pinterestinstagramesque it is very modern but downtoearth the staff treated me very well the entire stay and made sure i had everything i needed i ordered room service for a meal as it was raining outside and i refused to get wet and the food was delicious i highly recommend it the view i got was a view of the street but still beautiful nonetheless the bed was comfortable shower was pretty cool it is an expensive hotel but it is worth the price due to location staff and food this is nyc after all i would love to stay at their chain in florida some day   nice romantic getaway location very interesting decor with lots of live plants really like our corner room with view of the park special thanks to alex and christopher for their attentive care and wealth of informationlooking forward to my next visit   1 hotel is my new favorite brand and its so exciting to watch them grow i stumbled curiously upon them though staying at another hotel while visiting miami for the first time a couple of years ago it definitely caught my interest as it was right up my alley i love conscious and ecofriendly it is what i strive for in my own life i just love the simplicity the tranquility the clean linesit all makes me happy the 1 hotel in miami had just opened when discovered it and although we didnt get to stay there the brand was now on our radarshorty after back in ny my husband somehow found out that they were opening a smaller boutique hotel in nyc the new location just so happened to be along the express bus route he took home so he wound up passing it every day that winter he surprised me with a nights stay i was in love the moment i walked in this was it my happy place my sanctuary from urban life and my life so all the way from queens it was our new staycation spot we had been to other hotels which were nice but this was perfectsince then we have surprised each other back and forth with 1 hotel central park staycations for a total of 3 stays in the last year our most recent one being this past january the rooms are tranquil and beautiful the staff is wonderful and accommodating always striving to personalize our stay and make it special and the location is better than any hotel i have experienced in nyc it is in midtown but away from all the crowds and just at the entrance of central park it really doesnt get any better it is an oasis in the middle of manhattani dance in nyc and had early morning rehearsals last spring i love 1 hotels so much that i would come into the city with my husband to grab breakfast at jams some mornings just to feel like i was on vacation and breathe in the airenvironment as i sipped my cappuccino the homemade granola is awesome by the way before we both to head off into the concrete jungle a note about the granola i had just mentioned that i enjoyed it to someone during our first stay there and guess what was in our room upon checkin 9 months later when we came back againan entire bag of my granola waiting for me in my roommy suggestions for a perfect romantic evening in nyc and our favorite thing to do just get 2 seats at the bar at marea a two michelin star restaurant just a block away from the hotel share a couple of their amazing pasta dishes over a few glasses of wine the deserts are amazing there as well then go for a romantic stroll through central park before heading back to the hotel for maybe a night cap at jams all within perfect walking distance 1 hotel is not in the middle of times square thanks goodness but close enough to walk or a very short cab ride if your wearing heels ladies incase your catching a showfyi if this helps in regards to general walking distance just to the north you have all of central park to the west is columbus circle and a whole foods market incase anyone other than me cares about that east of the hotel is the plaza plenty of horse and carriage rides lined up across from the former fao shwartz and upscale 5th avenue shopping etc and as mentioned just a bit south west is times square you are also near the subway and buses and can pretty much go anywhere from there take if from a new yorker we even hopped over to brooklyn for brunch one time while staying at 1 hotel central park it took us less than 20 minutes to get to williamsburg f to the l train and your there in no timewe have stayed at quite a few places living just outside of nyc and both working in it most of our lives and this hotel is definitely our favorite it is also very reasonably priced for such a nice hotel in nyc especially considering the location we are so excited to experience their new property that just opened in brooklyn i homeschool our 10 year old daughter its a lot of work so when i found out they were opening a biggerresort like hotel in brooklyn similar to miami i assume i announced that if i every go missing its probably because i kidnapped myself and that is where i will probably bebut please dont come and find mei really dont think nyc has anything like it and i am actually excited because as it turns out i dont have to kidnap myself after all we will be staying there one night at the new 1 hotel brooklyn bridge this weekend i will report back keep a lookout  ps all the rooms have a cushioned window nook where you can sip your coffee read people watch i think the neighbors across the way know me already it sounds creepy i know but this is what we do in nyc we watch each other because we dont have wildlife anyway i now know what it feels like to be a cat as i could just sit there and gaze out the window all day    i brought a former world leader to this property and could not have been more pleased emily t recommended the property and sent along lauren y and colleen to help execute the stay they had everything perfectly placed our group came with quite a few staffers and we had the entire floor to ourselves security was tremendous the rooms had great views and the principal who has stayed in many hotels loved the property the food was incredible and the staff went above and beyond to make our stay perfect michael b at the front desk even ran around the building to get us our taxi and rode to make sure it was at our pick up location i will absolutely be staying here again and recommend for the food view and awesome beds   a wonderful little hotel one block from central park great staff very service oriented and always available to help i had as all problem with my room and they upgraded me to a wonderful room on the18th floor a very neat theme very natural feel a lot of stone and wood incorporated into the construction definitely feels more comfortable that standard cut and paste hotel chains very neat recycled themes through the hotel i found it interesting my hangers in the closet contained love letters and hold mapsthe elevators can be a little slow during peak times during the day bar is great and the food is good breakfast can be a bit pricey overall i have really enjoyed my stay and would recommend it to friends looking for a slightly different atmosphere comfortable and very friendly   a wonderful location right at the bottom of central park the overall feel of the hotel was fresh crisp and professional yet comfortable and personable our room was unique and almost ethereal we loved the cozy window seat the clear shower with rain shower head and the dispensers of woodsy bathing supplies so much better than the little sample sizesthe service we were extended is what made the hotel stay for us the staff truly went above and beyond to make our stay a memorable experience we will definitely be coming back to 1 hotel central park   we had the pleasure of staying at 1 hotel central park this weekend and had an amazing time great location steps away from central park as well as restaurants shops subways etc the hotel has a beautiful ecofriendly design throughout which is very well maintained you can definitely tell that the team takes great pride in the upkeep we were in a park suite which had fabulous views of central park and so many small touches that show an extraordinary attention to detail everyone was extremely warm and friendly and couldnt have been more helpful greeted pleasantly when coming and going from the hotel and truly made to feel at home we also had the pleasure of enjoying the scrumptious brunch in jams a vast variety of deliciousness... best avocado toast the ive ever had  yumwell definitely be back   we stayed 4 nights and had a wonderful time at this beautiful hotel after a long trip from australia the staff could not have been more helpful or attentive highly recommend rooms with the window nook and park view  great for people watching spot and extra room to store your stuff lots of great touches beginning with the heavenly smell as you walk through the front doors fabulous shower and comfy beds and pillows friendly faces and smiles and great attention to detail my new favourite   loved everything about our stay staff was attentive  friendly room was nicely appointed with a modern flare and eco friendly friendly bar staff and great cocktails reasonably priced for nyc excellent location close to many nyc hot spots it was perfect for our weekend in town   so happy to be back at 1 hotel i love the feel of this placeit is very warm and inviting the staff is fantastic and really makes you feel like youre at home they are dog friendly and even had a dog bed in the room the hotel is one block off central park the food at their restaurant jams is great i will definitely stay here again   my wife and i stayed at this eco friendly hotel one block south of central park the location room size cleanliness and attentiveness of the staff were all very good and although we found the eco friendly bent very interesting  we wondered how serious they can be when the room didnt even have key activated lightshvac anyway beside the steel girder right out side the bathroom door which could be a jazzers for us middle of the night peeers this hotel particularly for the price is one of the better ones in the city   im coming back here great location near central park and has access to subway great service and i like the hipster vibe of the whole place i really recommend this hotel did not have time to try the food but i guess its good since the dining area is always full thank you 1 hotel had a great time here   we had an amazing stay at the 1 hotel central park the hotel has a really great vibe with beautiful ecoinspired designs throughout we stayed in the park suite which not only had great views of central park but also several inspiring touches of greenery bringing the feel of the park inside the suite also has two awesome window nooks where one can lay and watch the all the action below but without any of the noise  it is very quiet moreover though it is the staff that make this hotel so special they were universally attentive warm and friendly   the hotels staffs hard work for guestsso friendlynice and smilingill be back here to visit new yorkmy choice is perfectny   stayed one night at this hotel decor and lay out is lovely  bed is comfortable and the staff is exceptional  check in was quick and easy  door men remembered me by name and the restaurant is great   the lobby smelled great the staff was wonderful we experienced blizzard like conditions and were happy to have to stay in our room and order room service the window seat is a great feature all the little amenities contributed to a very pleasurable stay   my friend and i went on a girlsgetaway to new york and this was the perfect home base for the weekend fun vibe super friendly staff unique accommodations not your standard chain hotel brand and great location   we stayed at this hotel during the recent march snow storm the hotel has lots of interesting features centered around ecology and personal wellbeing with a modern touch to its decor the hotel smells very nicelike a spring morning in the forest we booked the city king room and for two people it is a bit small but normal for new york city boutique hotels the furnishings are attractive and the bed was very comfortable given the layout of the room please note that there is absolutley no privacy when one is in the bathroom if you are a couple you will hear everything best to play music or turn on the tv note that the hangars are made of durable cardboard see picture which i am not crazy about since they are absolutely the worst for suits in addition the bathroom could benefit from more hooks which would help with reusing the towels the room has bathrobes a safe and a very quiet hvac system the location is great if you need to be near central park the entrace to the f line subway is just around the corner and there are plenty of 4 or 5 stars restaurants within a 5 minute walk one final suggestion ot the owners of this hotel make the front door easier to open the front door runs from the floor to ceiling and requires a significant amount of strength to pull it open   the king studio was like a stay at a spa the room size was a decent size but next time i will book a suite the 1 hotel was very accommodating to our needs except when you stay on the side of the bed there is a remote which looks like a cell phone but it controls the entire room and the headboard attached to the bed controls the lighting and privacy settings for room service outside your door which i did not know so in the morning when i was leaving i had forgot about the privacy light being on and cleaning lady skipped my room because of that little setting so i would highly advise to pay attention to which buttons you press but other than that i enjoyed my stay at 1 hotel the food in the dinning area was amazing and very healthy my hotel room was so comfortable to the point that i did not leave the room for the first day haha   recently my wife and i booked an overnight stay at your hotel and were very pleased with your staff who was very warm and friendly went over and above to make sure we were fully satisfied the rooms were very clean and came equipped with all the latest and greatest technology which was very impressive every detail of the hotel we loved from the organic decor to the fresh clean scent throughout the hotel love that i want to mention that we also dined at your restaurant and were both very happy with the service and quality of the food btw the pork chop was amazing overall we loved our stay with you from start to finish and would highly recommend your hotel to anyone looking for a warm friendly and very accommodating hotel   i stayed at the property a little over a week ago and truly had an amazing experience so many great things to consider  beautiful property good location great food and awesome staff cant ask for any more    i was recently booked into the 1 hotel for a work event i stayed at the facility for three days and used their restaurant conference room and gym every detail about this hotel was well thought out and executed to the finest detail fresh plants and quirky art adorn the entire hotel many natural resources are used through out the hotel making the whole experience comforting austin and alex greeted me at the door took my luggage and valeted my vehicle through out my stay i would see both of them and they could not be more gracious and hospitable  true assets to the hotel the entire staff at the hotel was super friendly and you had the feeling that they were genuinely happy to see you jams restaurant had amazing food and supplied all the indining options which was perfect i recommend the kale salad with pecorino breadcrumbs and anchovy dressing the rooms were super clean had great views of the park and offered cool options like a window seat glass shower and a rain shower head the amenities had a earthy smell and were fantastic to use in abundance i would recommend this hotel and have asked to be booked back for future work needs bravo 1 hotel   if youre looking to step out of the box you wont be disappointed at the 1hotel in nyc designed with totally recycled and repurposed material the 1hotel is classy upscale friendly and inviting i perched on the window seat with a complimentary espresso and watched snowflakes cling to the central park trees the staff went out of their way to arrange show tickets for us and met our every need the 1hotel is located close to mass transit and 5th ave shopping no mistake booking a room here   i usually booked my own hotel but this reservation was made by my husband i was all tied up in a meeting and couldnt do it myself never stayed there before till earlier this year and i have to sayi was blown away by the beauty of it loved the theme had an amazing view of central park the rooms were clean well organized and the staff were extremely friendly had an amazing view of central park it was an excellent choice by my husband also thank you to the young lady at the front desk who looked a bit tired and was still able to give me every bit of her attention being a coowner of a company i know often times the workers dont get the praise that they deserved for their hard work hope she sees thisi think her name was evelyn or something hope i got it right thank you for your professionalism my dear   last month me and my wife visited this beautiful hotel located near central park we loved the fact that they were ecofriendly and everything was green people literally the staff were very helpful professional and understanding checkingin was fast and easy special thanks to nicole who greeted us upon arrival and was able to resolve our issue in a timely manner very professional this is a must see hotel and will definitely recommend it until next timeciao   everything was amazing from when we walked in with the bellman helping us with our luggage and being checked in by the front desk agents the rooms were beautifully designed and clean felt like we were in a cozy cabin my favorite was the complimentary socks and the yoga mats in the room absolutely love the vibe of the hotel i highly recommended to all   i love this hotel ive stayed there multiple times and have had great service from all of the staff christopher is amazing  always remembers me and is super helpful the rooms are lovely and very ecofriendly every little detail is done beautifully in line with their mission i love the king rooms with the window seat if you plan to spend any time in your room relaxing or working it is worth the upgrade   ive stayed there twice the staff is very nice and they try very hard to be friendly and accommodating the location is excellent some rooms are gorgeous others just ok i found the temperature to be a bit cold the restaurant downstairs serves a buffet breakfast for 45person which i thought was a bit of a rip off overall it is a clean comfortable hotel in a good location with a pretty friendly staff   horrible experience this hotel ruined a lovely night for my fiance and i after returning from a long night out and about we both suddenly began to feel very itchy the itching did not subside after taking showers and seemed to be getting worse alarmed at thinking bed bugs may be the cause we immediately called the hotel manager he denied the possibility of bed bugs but unfortunately the itching persisted he refused to provide an alternative room and said the most he could do was 20 off the room i also found a large amount of dust and a stain on the bed sheet gross my fiance and i left at 2am and ended up getting no sleep at all it was awful and unsafe to drive with that level of exhaustion never again   we had a splendid time during our 4 night stay at the one hotelthe hotel is designed and managed in an eco friendly fashionour room was spacious and overlooked both central park and the city splendid views stuff was externally helpful and professional we will definitely be back   had a great corner suite that was at the end of the hall so was very quite bed is amazing and the living room area was a great extra space to lounge gym is quit nice as well would definitely stay here and recommend it   i love this hotel it has a concept of being eco friendly organic food recyclable materials and more it is near the central park end of 6th avenue service is great beds are comfy food is good i love itgreat work   i have nothing negative to say about this hotel it was clean beautifully maintained everyday bed comfortable staff friendly christopher always there to open the door  obliging jams restaurant the food was deliciouswe walked everywhereim going back   very lovely hotel and great location what really makes the place is the staff they all were amazingly helpful and seemed to genuinely care about the comfort of the guests room service was great too shout out to christopher for helping me hail a cab in the middle of a ny snow storm in the middle of march   its a perfect modern and cozy hotel we had the best experience  very nice staff and the best housekeeper ever grace is the best  i am architect and i really loved the hotel design and details rooms are also very calm even located in the heart of the city we could sleep very well nice bed nice shower and amazing amenities you dont need to bring your own shampoo body wash or body lotion we will definitely refer this hotel    i adore this hotel fabulous service and prime location i cant wait to be back truly an oasis in the city  i found everyone i encountered to be informed  kind also the bar is fantastic if you are looking to relax and meet friends for a drink   i loved the nature growing on the exterior of the building the front desk welcomed me with great enthusiasm i enjoyed the hotel immensely front desk was great as well as other individuals in lobby area always a smile jams was great where we had lunch the steak with bearnaise sauce was fantastic great food and server was very efficient professional and quick on any items to refill or otherwise we enjoyed a meeting room on the 2nd floor where we had some great views through the glass windows of the surrounding streets and buildings the room was amazing with its marble wood and custom cabinets the theme of 1 hotels is always amazing with its natural custom touches and organic room themes custom touches that you come to expect with a world class hotel being just a block away from central park allowed me to explore nature and see the beauty of this historic natural area amongst the skyscrapers loved it   we had the best time at 1 hotel the hotel was in the perfect location just one block away from central park everyone was incredibly friendly and kind we highly recommend this hotel you cant go wrong here we will be back   this is a great hotel in a very good location the hotel is very well presented there is the breakfastdinner area in the ground floor we had breakfast a couple of times which was impressive i have to admit with good choice for every appetite the rooms are well decorated in a rustic fashion i have to admit that they are quite small but that was expected for a ny hotel the view from the room was very nice and we had the chance to watch the thanksgiving parade there was a little bit of noise coming from the street n the evening but again something that wasnt surprising most of the staff were friendly but we had an awkward encounter when we asked to reserve a breakfast table to watch the parade and we were offered with a hard no and no alternatives i would have expected as a resident of the hotel to either have priority or at least offered an alternative the issue was resolved the next morning by the floor manager and we managed to enjoy both breakfast and the parade until we went upstairs to our room to watch the rest pricewise it is a tad expensive but it is worth it would recommend   my wife and i had a comfortable and wonderful stay at 1 hotel central parkthanks to our erika for making our stay comfortable and making our rooms clean and tidy we love the scent of the hotel when you enter and the eco friendly environment it gives more power to 1 central hotel and continue making a difference in our environment and the people around   we have been here several times and have never been disappointed staff is fantastic amazingly friendly and accommodating the hotel is in a great spot surrounded by some of nys finest restaurants its great if you are going to the theater or just want to hang out in the park we highly recommend   my wife and i enjoyed a great weekend at 1 hotel central park the atmosphere is very comfortable yet elegant the entire property feels healthy and sustainable dont miss the brunch the staff were very helpful too lastly the location is excellent and very close to broadway shows and central park   after checking into the hudson hotel to find my my room completely unacceptable i booked in at 1 hotel central park 1hcp was like sleeping in a tree house cozy great mattress rooms perfectly appointed and well stocked the staff is very friendly and accommodating i will return to this hotel and loved being a guest here also the location is perfect subway stations practically out the door for anywhere you want to go easy easy easy   we loved our stay at 1hotel we chose it because it was central but the structure room and overall ambience exceeded expectations great service great room great restaurant and great location when we go back to new york we will stay here again we usually try elsewhere rather than go back to the same place but not this time   i stayed here for work for a week and really loved it great location a block from central park for me it was an east walk to work each morningthe rooms are very cool and earthy lots of wood and metal features very warm and cozy atmosphere shower and soaps are great this room is not to be shared by friends though as the shower is exposed so no privacy in that respect fridge in room has bunch of drinks for a cost can request iron ironing board and steamer stayed on 9th floor front side of building facing north and it was pretty quiet thermostat in room worked well restaurant is a nice scene and has a great drink selection   the hotel is amazing i loved everything about it the decor the sustainability culture the staff was wonderful and welcoming the restaurant called neighbors was very lively and food and service was spectacular the location is easy to get to with lots of restaurants shops and central park within walking distance train station is right at the corner   we visited for one night to see billy joel and have dinner the hotel is relaxed and hip very clean and in a great location most noteworthy is the service the entire staff cant do enough to help you this hotel is family friendly and seems like a good choice for families as well we will definitely return   lovely hotel with sustainable practices throughout the building  small boutique hotel super friendly staff  front desk and parking valet exceptional arrived early and when i asked about parking at the front desk they told us our room was ready and we could check in early bed comfortable and room well stocked rooms all have live plants stylish furnishings from reclaimedrecycled products very little plastic use with the exception of the refillable shampoo and soap dispensers  even the disposable spoons are wooden sustainability is a feature i seek when booking a hotel our room was very clean but a little small restaurant has interesting menu selection and food was very good great location just a block off central park and within easy walk of theaters the plants in the room were a bit dry and needed watering and i noticed some of the plants on the green wall outside were dying  the contractor caring for the plants needs to pay better attention since this is a major feature of this hotel overall a great place to stay   when an opportunity to for an actual girls trip no kids no husband with my best friend arose 1 hotel literally and figuratively caught my eye and i said this is it my girlfriend who has been to the city a few times glanced at my email and not being familiar with the name wrote back we can do better i stood my ground having studied the imposing and impersonal high end hotels and after deciding she could stay somewhere else if she didnt like it booked our stay at 1 hotel central park when we walked into the foyer after traveling since 4am california time she looked at me and said i was wrong we walked into the most gorgeous sophisticated and yet earthy hotel i have ever seen mossy wall art wood hangings gorgeous bellmen and cozy lobby seating made us feel like the best of napa met new york city and created this hotel our room with the double beds was the perfect size for the two of us even with all her stuff and had a peekaboo view of central park everything looked immaculate yet touched by a magical curator of organic landscape art the people here could not have treated us better especially the bellmen who raced out to 6th ave to hail us a cab or walk us to the subway steps the restaurant jams was our first drink in the city and as we looked around at all of the afterwork cocktail business crowd we felt right at home in the california inspired organic vibe i cant express how big our smiles were at finding this sanctuary to come home to after each adventure in the city we loved the hotel loved the staff the food the drinks the cleanliness and the organic sophistication after traveling throughout europe and asia and staying at five star hotels throughout this hotel is one of very few that has the power to make an experience for the traveler above and beyond the magnificence of a great city or place my husband and daughter were not only happy to see me come home glowing from a great trip but are excited to come back and stay here soon thank you 1 hotel   we loved 1 hotel amazing location gorgeous design helpful staff clean room and quiet halls the food at the hotel is delicious and the gym is big and spacious highly recommend it for business or leisure   issac was the best assistant was very nice attentive and accommodatinghe made our stay at the hotel even better highly recommendvery good service and willingness to help even at late hoursif you decided to book dont forget issac is your guy   amazing hotel green concept juan at the pool bar and axel beach server best employee ever they have a tesla car for you rooftop amazing view but expensive 1st at miami and i love it for sure i will come back   i almost dont want to give this place the wonderful review that it deserves because i want to keep it as a secret getaway for us this hotel is so much more than their photos online can show from the moment you are greeted  to the time you are saying goodbye all of the staff is friendly and warm and sincere this is hard to find in upscale nyc hotels the views of central park are breathtaking and worth the pricethe ambiance is calming and inviting with scent and lighting the decor is authentic and also calming also everything in their hotel is geared towards leaving a smaller footprint big bottles of shampoo that stay in the room vs tiny useless ones we all take home  lolthat leads me to the ultimate hotel 1 experience their shower has a block of cedar wood in it that serves as a bench for the products but once it gets heated and wet from the water it releases natural scent to take your 3 minute shower please use the timer provided to a 3 minute spa experience jams the restaurant downstairs is very healthy and still very deliciouswe will definitely be returning   it was a cool hotel earth friendly dog friendly central park right there shopping food anything u need is really right there we had a great time weather was great for februarystaff in hotel very nice   this hotel was great the rooms were awesome the food was great and the location was perfect christopher and the entire staff was very helpful would recommend to others who would enjoy this cool place   we throughly enjoyed our overnight stay at 1 hotel central park the hotel is unique and was very interesting and enjoyable it has a one of a kind feel and everything worked out great the location is ideal the staff was really good and the overall experience exceeded our expectations we frequently do over night stays in the city and will be back to 1 hotel central park   we loved staying at the stylish 1 hotel at central park the room was gorgeous and efficient the staff also took such wonderful care of our puppy  delivering her treats toys bowls and bed it was such a sweet and thoughtful touch we really appreciated it we also loved our room service it was hot delicious and rather reasonably priced i wish we stayed longer   my friend and i got adjoining rooms at a special winter offer which was more than i usually spend but really worth it for this level of quality and comfort i loved my room the view the window seat all the lighting options the bed was unusually comfortable and the towels were also extremely nice and it was so quiet the staff were superfriendly and helpful i assumed the water bottles were free since i saw no price list for the drinks but they were 5 each jams we had only a snack there so cannot recommend   i reserved a junior suite through bookingcom for a onenight stay over presidents day weekend i requested early checkin but there was no room available i did however get to stay an extra hour until 1pm the room was lovely i wish i lived there and me and my friend did not want to leave the king size bed was comfortable enough for three people i love the lighting system there were controls in the living room and bathroom to dim the lights there was also a phone on the night stand next to the bed at first i thought someone left their phone but it was for us we could control the lights from it as well as text or call room service concierge front desk etc we could even request free things like a toothbrush comb shaving cream etc the bed was super comfortable and the shower felt great in the morning the second floor has a gym and areas to workstudyprinthave a meeting i did not try the restaurant or room service central park is also maybe a 3 minute walk away the area was nice plenty of fancy stores to gawk at like ferrari cartier louis vuitton i would love to stay again id say my room would be more affordable for the middleaged crowd we saw at 538 a night but there are cheaper options than the junior suite and i wanted to splurge   aboslutely loved the stay at 1hotels i was in town for the fashion week and spacious rooms really made my life easier staff was incredibly friendly which is very important for me and real friendly not trying to fake it the rooms and whole hotel are really cosy and warm and make you feel like at home i will def come back soon and recommend the stay to everyone including loved the fat that everything is eco and healthy nowadays very important 3   1 hotel central park is wonderfully located if the uptown scene is where you want to be took advantage of the park and everything surroundingthe people at 1 were my favorite part everyone was kind and made us southerners feel right at home the rooms a feel of the whole hotel was comfortable but lovely at the same time the restaurant was very tasty but too pricey for what you get but hey  its nyc   waited 20 minutes for my luggage to come from the luggage room nearly missed out flight because of it the rooms were fine clean etc yet we had a jr suite it was very very small the breakfast was good however very expensive 55 usd per person   loved the decor  does not feel like a typical hotel the hotel staff was accommodating friendly and overall a pleasure to interact with a special shout out to antigona at the front desk who helped me with copies i needed of reports for work my room was the least expensive line on the small side but more than adequate i would definitely return   everything about my stay was great from start to finish reception and door men warm and welcoming jam the restaurant is worth dining in as i had a wonderful breakfast the rooms are beautifully done and i would return in a heartbeat a gem of a hotel   cool place to visit i wouldnt mind very convient on top of that its clean and around all the tourist attractions so you dont really have to go anywhere unless you wanna see stuff in another borough and if so trains are not far so you will be right where you need to be   hotel is clad in recycled wood products and has an eco vibe which creates a warm and inviting atmosphere research your room options as they have different sizes and offerings friendly and attentive staff comfortable bed and my room which was an interior was quiet if you want to be near central park area this is a good choice they have an app to communicate with staff which was intuitive and functioned to the extent i needed it to starbucks and merci market across the street   terrific hotel everything was as expected great service beautiful decor clean i would have no hesitation recommending this hotel to anyone close the central park very convenient for lincoln center great restaurant   a green haven in the middle of nyc as you walk in everyone is super nice inviting cordial and does everything possible to make you feel at home its pet friendly so our dog was welcomed with open arms and he loved every minute of extra attention our room was so relaxing industrial warehouse meets organic cotton with the coziest window nook that overlooks central park   i love the vibe and charm of this island of green and coziness in the heart of the city the rooms are very modern and neat comfy and all the amenities make the space very pleasant even if a bit small location is great and service is impeccable the restaurant is excellent and offers nice choice for all meals  from breakfast till dinner and late drinks would definitely come back again    love everything about the hotel beautiful space excellent service and perfect location the hotels mission related to environmental sustainability is evident throughout the property highly recommend   love this hotel stayed with a friend for a night small rooms but the hotel itself is great and has a really cool vibe the one in miami is a bit better with larger rooms etc however this hotel could be a great contender next time i visit   this was our first stay at 1 hotel central park we had read the reviews and found that the guests had represented the hotel very accurately it has a charming facade on the corner of 58th and 6th avenue the valetfront deskconcierge desk and restaurant jam staff were all efficient and very attentive the hotel aims to please and it shows i recommend it especially if you are visiting mid manhattan convenient to 5th avenue carnegie hall columbus circle central park my husband and i also chose the hotel because of their eco focus   discreet 1st class service and a great location made this an ideal venue for a short trip to nyc  we loved the window seat where we could watch people go by to and from the park we would recommend this to our friends   love this place great bar and restaurant downstairs everyone is so welcoming love the simple natural decor great shower and really comfy bed location is excellent we walked almost everywhere cant recommend it enough   we took my mother in law aunt and two 20something daughters to nyc for christmas and got one suite and an additional room at 1 hotel central park views were not great however the rooms were superb and the staff was fantastic we cant wait to go back   overnight stay at the 1hotel easy check in interesting room with lots of natural wood and eco friendly products not a huge room but a comfortable king size bed and great pillowsstaff was friendly and attentive were going back to ny city in the spring well most likely stay t the 1hotel again   super cool boutique style hotel in midtown i loved that when you walk into the lobby it smells like the forest they actually pump the aroma in thru the ventilation system the cedar shampoo  conditioner was amazing too great location and the staff if very helpful and friendly overall great atmosphere jams is great too just beware of the 45 brunch we had no idea of the cost and had 130 brunch for two we were a little surprised to say the least   i really wanted to love this hotel the eco philosophy and newness appealed to me however the rooms are too small to represent value for money if you are located by the air conditioning units you cannot even sleep let alone have a real view i was moved to a different room for this very reason  the restaurant was closed without any notice on one night which meant no room service when travelling solo i do tend to eat in and this was a major inconvenience for me at this price point i need more bang for my buck i left feeling shortchanged which is never a good thing more style over substance methinksthe staff were uniformly personable and lovely to interact with   this new kind of experience puts an end to the time of the chandeliers marble and pretentiousness recycled materials sustainability awareness and respect for the planet is the new luxurythe location cant be better just two steps in front of the metro station staff is friendly and rooms are just incredible   nothing will make you appreciate locations service and people more than when you have a baby let me start by saying this is my 4th time staying in this hotel and my 1st time with a new baby in tow the location of this hotel is fantastic you are just steps away from everything you would need as an adult and with kids its steps from the central park zoo the holiday windows rockefeller center and shopping the perfect location for a 3 nap a day baby this trip was especially amazingbefore arriving at the hotel we contacted lorenzo the hotel concierge as we noticed on the website they offered babysitting and i wanted to find out what it was all about being a new 1st time parent of a 5 year old i wanted to know if there was a chance this babysitter would stroll out of the hotel with my child this was also my first time leaving the baby alone and i was going to do it in a hotel room in a city that wasnt mine panic right well lorenzo was fantastic in quelling my fears and assured me that the babysitters guild that they contract with has been around for 74 years and is very highly regarded we bit the bullet and booked the sitterit was awesome our sitter was so lovely and also had a 6mo she was so good in fact that we booked 2 nights and had date nights when we arrived at the hotel and our room was not our preferred layout for the babes so we went down and talked to buba who was a complete rockstar with the line building behind me she acted with kindness understanding and complete patience and she helped us find a new room that accommodated our family she had the pack and play as well as our belongings moved to the new room and it was perfect we live in philadelphia and stay at many hotels while traveling lorenzo and buba are my baby heros and because of them and the location i will stay here forever  we are thinking we might try the new hotel 1 in miami this weekend stay tuned jamie  brigit   i frequently stay at the 1 when i come to manhattan for business excellent and timely laundry service beautifully appointed rooms the ambiance and design of the hotel make you feel like you are outside in a forest the location is close to major subways and central park love this brand i never look anywhere else when im in the big apple   on arrival the welcome was great and i was offered an upgradethe atmosphere in the hotel is fantasic created by the unusual decor the scent in the lobby and the buzz of the placethe owners have done a lot to create an original atmosphere whilst helping the environmentin the bedroom the design was most unusual a very comfy bed nice quality sheets and towels lovely shampoo shower gel etca mobile hone is in the room to control all ones needsalso a great location   family of 4 with boys age 5 and 7 in a twobedroom suite had a great time somehow we ended up with no kidding 18 pillows which the boys used for forts and pillow fightsstaff met our every needjams restaurant has excellent excellent food pricey sometimes breakfast staff a little slow overall i highly recommend this if you want a nyc vacation near central park and not far from show district   the 1hotel is a very nice  cute hotel it can be considered an ecohotel concierge service lorenzo  nicole was greatall the people working at the hotelwas very nice and very profesionalthe only thingis that the room could have been a little bigger    if youre looking for a real experience in your new york hotel have a little money to burn are under the age of 40 and like to see and be seen then 1 hotel central park is perfect for you a haven for the young beautiful and ecochic it is also a luxuriously appointed and thoughtfully designed hotel that dares to be warm natural and human in its decor although the recycled theme can get a bit thick at times this place backs up its holierthanthou attitude with interiors that seem to be lifted out of a rainforest and surprisingly cozy textures and surfaces that relax the mind and body after being subjected to a brusque new york concrete landscape so go on  take the waterfall shower in the glass box in the center of your room then curl up on the shearling chair thank goodness you have air plants decorating the wall instead of blah cheap hotel art and sip a chardonnay from a recycled wine glass bottle youll feel like a pampered queen or king in this highend place  not a dirty hippie   absolutely wonderful hotel great concept great culture genuine warm service good value beautiful design and fantastic restaurant jamswe loved everything about it and will make it our new regular haunt in the city   simple earthy clean and the subtle fresh smell was noticeable and relaxing very friendly staff room was spacious and comfy i liked that the toiletries were in fixed containers  but was sad that meant i didnt get to take some home loved the little touches   what a wonderful oasis in the hustle and bustle of manhattan what made my stay the best was the attentive and friendly staff everyone from the bellhop front desk concierge management restaurant and housekeeping were very warm friendly and inviting in a sincere way their first priority was ensuring we felt at home and welcome at the hotel i wish i had their names to thank each one personallywhen we arrived we had no idea where and how to park or even if there was valet i called the hotel and the manager was beyond friendly and mentioned that either herself or the bellhop would meet us outside to my surprise both of them were there and they welcomed us and put us to ease after the stress of driving through a city which at that time had many closed streets and filled parking lots due to the womens march at checkin the representative at the front desk was incredibly friendly and super accommodating since it was our first time there he gave us a quick orientation of the hotel its amenities and a background on the design concept getting up to our room a two bed city view on the 14th floor i was pleasantly surprised that we also had a view of central park the room was beautifully and ethically designeddecorated not one detail was overlooked it was a cozy room and i probably could of nested in it all weekend because of how cozy it was the bellhop walked through how to use everything in the room and again explained the whole idea of being a green hotel this included the triple filtered water tap the dehumidifier for when taking a shower and the boxes for recycling and donating any items i might have packed and didnt want to bring home after acclimating in the room for about a half hour we headed down to the barrestaurant for a cocktail when getting of the elevator we ran into the manager and she asked if everything was ok with our room and checkin she was genuinely interested in how we were doing we then headed to the restaurant which was busy due to the protests the restaurant looked like they were a bit caught off guard about all the protesters coming in for drink but the service never wavered the cocktails were fantastic fresh and original the only criticism i have about the restaurant is that the manager brunette with hair in a pony tail or head hostess was extremely stressed and i noticed this the next day as well she seemed to be moving around back and forth really quickly not looking up not smiling and not paying attention to customers as packed as the bar was she wouldnt let the guests of the hotel myself included or protesters sit at a table just for a drink and there were only 2 tables that had diners thankfully the bartenders and wait staff didnt seem to be too affected by her stress luckily we only had to wait about 15 minutes for some people at the bar to get up so we could siti absolutely love this hotel and will be back i loved the design and the attention to detail from room keys to room design to elevator to lounge etc but what brought this hotel to the forefront was its incredible service kudos and thank you to the staff for an enjoyable stay   this place made our trip to new york even more amazing the hotel has a great vibe ecofriendly the staff is soooooo friendly and extremely helpful the rooms are cozy i could stay in the room sitting on the window forever very clean i definitely recommend this place   this is a wonderful ecofriendly hotel with staff who work very hard for their guests the facilities are based around leaving a minimum carbon footprint and the rooms are spacious and comfortable the food for room service is also lovely   great location fantastic cool industrial design in a luxury wrapping nice fitness center spkurge for a high floor with a burw of central park and a window street hip restaurantbar really nice deli across 6th ave for inroom snacks   this was a great place to stay that is located near central park staff was excellent and extremely accommodating to anything needed very clean and modern hotel that is more like a spa experience for hippies very conscious of environmentally friendly products and environment   we visit our daughter who is going to college in nyc and usually book the marriot or sheraton she recommended this hotel and we decided to give it a try very clean very friendly eco and human great location   this hotel was absolutely amazing and lovely the location is wonderful on the corner of 6th and 68th its elegant the rooms are big and welldecorated i loved the bathroom with a huge porcelain sink and a rainlike shower that was to die for natural materials and live plants spread throughout staff here was super attentive and very kind all aroundtry the hotels restaurant jams small menu but wonderful dishesoptimal hotel experience in nyc  ill be back soon   we stayed at the 1 hotel the week before thanksgiving and it was just beautiful the service was excellent from start to finish janessa checked us in and she was very helpful her sweet smile gave us a welcoming feel for the hotel we ate at jams and the food was wonderful along with staff i can not say enough about how beautiful the decor was and even the wonderful smell throughout the hotel all of the staff were helpful friendly and relaxed the location of the hotel was great with a beautiful view of central park but the warm hospitality of the staff made our stay special i wish i could remember more of the great staff names but i do remember steven who checked us out and shane we will definitely stay here again   i loved my stay here my room was a decent size for the city but the space was used well i especially loved the window seat in my room everything had a feel of luxurious care to it comfortable bed excellent shower really loved relaxing in the soft gown and snuggly woollen socks that were provided really good noise insulation too  i was on the 4th floor but wasnt disturbed by road noise the ac was also unobtrusive   i have stayed at 1 hotel central park on four different occasions now each time i am reminded why i return the service is wonderful the people are great and the rooms are great jams the restaurant is also very good though it closes fairly early for ny   i really wantedto like this hotel and there is indeed much to like fantastic location funky decor buzzy bar etchowever i did not have a great stay a number of issues and observations the rooms are smallnew york hotel room small and mine in particular also quite gloomy and being a ny hotelstill very expensive in addition the heating and plumbing system sounded like it was having a fistfight with itself the whole time very noisyespecially at nightalso the water from the taps came out looking like milki took a photo as it weirded me outcertainly not drinkable for meno alchohol in the mini barwhere are we utahthe restaurant was also very very expensive i would add i have lived in ny and have travelled there dozens upon dozens of times so i am not getting first timers ny shock not only expensivebut very average the breakfast was sub par and the dinner mediocre i had dinner one evening with my ny lawyer and he felt his salad was laughable myself and my colleague both had the tuna poki appetizer on separate evenings and found it lamentablei also found the service subpari also had an unpleasant attitude incident with a staff memberwhose name i took but i will not share here out of respect to himand because we all have bad daysbuti had paid for 3 nightsasked for a credit for the 3rd night because i needed to return to london earlier than expectedand it was handled in my view ineptly passive aggressively unprofessionally and unsatisfactorily very disappointingi spend my life in 5 star hotelsand this is not one of themi would however add i also had some excellent experiences and interactions with a number of the other staff so am not infering this is a universal issueand as i saywe all have bad daysso many other great places to stay in nythis one regretably is style over substance   i had to change my reservation due to illness and the staff was incredibly understanding kind and easy to work with upon arriving our room was upgraded the hotel is modern lush and a true oasis i will absolutely be back   i love everything about this hotel location staff decor the best shower i ever had  comfy bed and robes love love love it they made me feel special with a hand written notes note and cookies  i love that its a green hotel   i have been here twice now on business and will go nowhere else because of the 1hotel difference it is streets ahead of any rival in the precinct their attention is impeccably focussed on the detail it has a boutique feel but is quite substantial the ethos behind this hotel group is also compelling the ambience and fit out is stylish alive and human friendly  a cosy home away from home service is a key driver  effortless charming and sincere from front of house to wait staff and the tireless housekeeping team and there are the special touches the fruit stall outside the lift the proliferation of plantlife inside and out brightening the bleakest ny winter day the quality toilietries bed linen and towels the grey flannel robes and thick cream socks that greet you in your room once you have come in from the cold could not be more welcoming the turndown service is excellent the full length window seat where you can lie and read and watch the passersby wrapped in a supplied rug is pretty special i like the small hanging blackboards by which we and the housekeeping staff keep in touch the nespresso machine and lovely glassware are comforting too food from their restaurant jams is of a high standard i have been staying at hotels in this precinct for over a decade and this establishment is a standout congratulations 1 hotel central park cant wait for your sister to open in brooklyn thank you   beautiful experience from start to finish the entire staff from housekeeping to doormen and from restaurant to concierge was attentive and friendly yeison at the reception desk was particularly helpful and resourceful hotel design is nicely executed with comfortable and well appointed rooms if you are a traveler who values your hotel as a central part of the travel experience and not just a place to sleep this is one to consider ill easily book 1 hotel central park again   the decor was elegant cool and modern without being sparse the lobby had a warm homely feel to it and the staff are as warm and welcoming as the interiorour room was a small suite great value for money as we got a discounted price for the last minute bookingloved the roomspotlessly cleanthe bathroom was lovely the robes were so fab i ended up buying one to take home all the staff were amazing and in particular joshua davis at reception made our checkout easy hes the best loved himi have nothing netivate to say except a bottle of water at night by the bedside would have been nice the small ones in the fridge were not enough but apart from that ten out of ten for me and ill definitely be back   i recently stayed at 1 hotel central park for 5 nights for my mothers 50th couldnt recommend a better hotel anyone wanting to stay uptown this is definitely the hotel to book all staff were extremely friendly from the minute we entered the door to the minute we left our room was roomy stayed in a kingsize bedroom with city view clean and had room service knock on everyday to see if we needed anything theres a gym inroom service restaurant downstairs fresh fruit from 7am every morning for any guests to take staff are more than happy to help you with restaurant recommendations to booking taxis for you if need be there are subway stations close by starbucks opposite and local mini stores to buy water and other foods and nearby pret its very close and walking distance to 5th ave rockafella radio city central park empire state saks broadway times sq  macys you can hop on a subway to get to places such as 911 memorial  museum statue of liberty bryant park etc you are also walking distance to the tkts booths for anyone wanting to buy broadway tickets whilst in nyoverall this hotel was incredible and will definitely be coming back to stay i miss it already   the hotel design and more importantly the staff makes you feel like at home even on a business trip with the right balance of friendly and respectful high level service a very rare quality a special mention to the concierge team and in particular richard who knows exactly what it means to go the extra mile and makes your wish come true a few last words to get a taste smiles wood recycling fruit healthy breakfast the park inroom tablet in one trip this has become my favorite new york hotel where i have been traveling to for work a couple of times a year for the last 10 years and i will be back thank you all   this hotel was fantastic from beginning to end great vibe most helpful and proactive staff shout out to yeison rooms are beautifully appointed in their country chic style will most definitely make this my home away from home when i return to nyc   my boyfriend and i stayed at 1 hotel miami so when we were heading to nyc for the weekend we naturally no pun looked at their nyc location it was his birthday so i had a bottle of champ delivered to the front desk and called to ask them to chill about half hour before we arrived not only did they take care of that they also wrote a nice little note and gifted him us a mini lemon cake per nyc space the rooms are small but so is every other hotel room in nyc unless youre dropping 1k a night another perk is the free fresh fruit in the lobby they do this in miami too its also located at the foot of central park so if youre a jogger this is a great location   my husband had stayed here for work previously and we got adjoining rooms for our family visit the hotel is funky and interesting  staff were friendly and attentive the rooms were pretty spacious for new york standards and the window seat  to relax and watch the world go by was highly sought after i loved the shower configuration my very private 13 year old son less so the hotel is so well located and offers all that you need to make a nyc stay fantastic   the hotel was excellent the location and helpful personnel made the experience enjoyable the unique decor and overall ambience made it feel as if we were staying in a west coast hotel not a hotel one block from central park the connected rooms made the accommodations very comfortable for the 6 of us the concierge was extremely helpful at organizing tours shuttle service and places to eatwe would definitely go back to 1 hotel   a home away from home the location is great right on 6th and a block from central park yet it feels tucked away the staff was very welcoming and not stuffy they accommodated me so graciously as our flight was delayed another day the housekeeping was careful and very clean and accommodating as well it was nice that they spoke perfect english   i already stayed three times in this hotel and i would go there any time again it is central and i like the modern interior with a touch of nature the staff is extremely friendly and always helpful i especially remember christopher almost cant wait to go there again   the hotel was funky and unique the staff were amazingly attentive and couldnt do enough for us the room was full of fun technology and was beautifully decorated as well as having views of central park it wasnt a huge room but it had all the space we needed for 2 nights away with all the mod cons to keep us entertained and on our toes   if you are environmentally friendly this is the place for you you walk into this hotel and you feel like your one with nature we stayed in the alcove queen room and i couldnt have been more pleased the decor is so cozy and warm with marble and wood elements it had an espresso machine organic bedsheets even a yoga mat it is the perfect place for complete relaxation in central park thank you all the staff for making my stay great   i thoroughly enjoyed my stay at this hotel i travel a lot for work and only sometimes for pleasure but regardless of where im going its the details that matter this was actually my birthday trip and i could not have asked for a better stay the hotel was immaculate when it came to cleanliness the hotel also smells fresh and amazing you probably get that compliment a lot the amenities in the room were also greati wish i could have taken home that soap thats how good it smelled importantly the staff immediately gave me a favorable impression of your hotel as soon as i entered they were professional warm and welcoming the entire stafffrom the front desk to the doormenwas genuinely friendly and helpful i will not stay at any other hotel in new york on my future visits i look forward to visiting again soon   beautiful atmosphere and the staff was outstanding they went out of their way to help us when we arrived and were all very friendly alex and christopher in particular were very helpful and went out of their ways to make sure we had a good stay   i visit new york regularly for work and have stayed at a number of properties 1 hotel central park provides me with the comforts of home and is located in the perfect location the decor is amazing and the inroom automation is super convenient and fun its also great to have a hotel that has free wifi that actually works well throughout the entire property also i highly recommend the jams breakfast it wont disappoint   this hotel has much to recommend 1 hotel central park is a boutique hotel in the best sense of the term meaning is has its own personality staff are young professional and exceedingly friendly the lobby and restaurant are elegant yet laid back rooms as others have noted are on the small side but my city king room was so well designed that i forgot about square footage and for instance rooms at the viceroy a block away are about the same size but are not laid out as efficiently the window seat was a favorite thoughtful touches are everywherequick and free wifi plugs just where you need them a desk a minibar and beautiful glassware excellent and infinitely adjustable lighting a large television blackout curtains extra blankets throw pillows and socks left on the bed at turndown it should also be said that the bed was even more comfortable than the ones i love at four seasons hotels the showers are a focal point of the room and deservedly so as they are a thing of beauty however there was black mold in the corners of the shower made all the more conspicuous against the white marble though housekeeping took care of this right away it was an unwelcome surprise in an otherwise impeccably clean room bath products were terrific as were the robes and there was an abundant supply of towels though the hotel is a terrific location close to the park some of the best shopping in the city the museum of modern art and with ample public transportation options nearby there is a problem at least for nowit is one block away from trump tower you can literally get around the hellish traffic problems caused by security and street closures with careful planning its a small quibble though i lived in new york until 4 years ago and go back oftenthis is my new home away from home in the city   the 1 hotel central park is a great hotel when staying in new york city its located one block away from central park in midtown manhattan between 6th and 5th avenue therefore you can easily walk through central park go shopping in 5th avenue or visit the zoo   a fairly new hotel very near central park that shows what the future of hotels can be even in nyc the sustainable concept is presented and executed in such a welcomed understated fashion the staff are truly at the top of their game the location makes it perfect for a variety of visitors central park is in view close to broadway for the tourists and for the rest the accommodations are really well done we visited for all to short of a stay but will be back very soon   1 hotel has become my home away from home during my frequent business travel to ny i love the sustainability focus the beauty of the hotel the modernhip feel the location and most of all the service from the staff i highly recommend a visit and have talked up the hotel to my colleagues  who now also enjoy staying there do go and give a hello to my favorite 1 hotel team members so far janessa michael evelyne and radaisy at the front desk as well as christopher and shane who will welcome you warmly at the front doors    this hotel is a gem in a sea of hotels in nyca very fresh approach to a hotel in a city that is dominated by concrete and glasswe arrived and were warmly greeted by the staff and check in quickly with no problemsthe room keys are really cool circles disk made of bamboo i believe nice touch compared to the usual plastic cardthe whole hotel is very eco friendly and they use many items that have been recovered from other places and are reused hereall features in the room are controlled by smart phoneyou even get a yoga matt that you can use in or outside the hotelthe beds were super comfortable as wellthe hotel restaurant jams serves delicious food at a reasonable nyc priceover all i think this is one of if not my favorite hotel in a city centerthank you one hotel for a great experience ps awesome shower   my husband and i stayed a 1 central park to celebrate our anniversary and to see hamilton we decided to stay somewhere different than the waldorf towers and we are so glad we did 1 central park was one block from the park and we could see the it from our window seat we sat in the window for morning coffee we made with the nespresso machine in our room just like home we capped off each evening with dessert and cocktails while we looked at the city lights the food and the hotel was extremely good as well as the specialty cocktails i suggest west of the park which is made with bourbon and maple syrup the beds were very comfortable and the room was extremely quiet i loved the lotions and washes which were naturally derived and smelled like the outdoors the staff was extremely accommodating and helpful at the end of the stay josh and josh at the desk held our bags after check out while we did a few more things before departing when we returned to leave and go to grand central for our train we were treated with a ride in the hotels tesla we couldnt have enjoyed our stay more and will definitely stay here again when we return to nyc   fantastic hotel close to all ny famous areas clean comfortable  nice restaurant  nice bar  rooms are really beautiful and modern  really a good price  best value in ny never saw better hotel in ny really good for everyone    my seven year old and i stayed in a king room with a city and park view there was a lovely window seat that was big enough for a large child or small adult to sleep on the bed and linens were very comfortable the itouch like device used to control the room and call for service worked well the soundproofing on the windows is pretty good the rain shower was one of the better ones we have experienced my son pointed out that it was more like real rain than the one we have at home we did experience some noise from pipes for about an hour on one night of our stay the service was outstanding very friendly and warm at each turn the location is outstanding if you are planning to do activities on the uws or ues and the proximity to the nrq came in handy when we wanted to go to bryant park   i highly reccomend this hotel to anyone visiting new yorkthe hotel is modern clean and every single member of staff from the doorman to the cleaners and bar staff greeted us with a smile and conversation every single day without fail it really made the differencei am terrible at remembering names but a big thanks to our cleaner on the 15th floor 3rd january  6th of january for being so helpful and friendly throughout our stay and christopher working the front door we really appreciated how friendly and helpful you were during our stay the hotel driver with the tesla was also extremely helpful and told us all about the city and landmarks as he drove us aroundhighly recommended   staff made this hotel and trip exceptional for my daughter and me great hotel location and staff this is our new favorite nyc hotel the hotels restaurant jams is also excellent with healthy and tasty options the pastery chef makes the best macarons the city   1 hotel central park is a great place to stay the staff is warm and friendly the rooms are comfortable and the lobby smells great it is nice to finally find a hotel that puts in the extra effort to have sustainable values and deliver on them   phenomenal service everyone is extremely friendly and down to earth an oasis in nyc gorgeous room simply beautiful bench in window was great you can open the windows and hear the hustle of the city while enjoying your organic fresh oasis of a room love the show being open words cant express the level of satisfaction this location gave us must visit   a great location and a beautiful hotel the bar is great and the drinks menu superb the only down point is the bar staff who are a tad arrogant and unwelcoming the liquor list is impressive and the cocktails are well made   stayed at the miami beach 1hotel and love it so decided to try central park first let me say the staff is really good across the board this hotel is simple and comfortable but not loaded with eccentric amenities it is fairly utilitarian yet comfortable my room was rather small perhaps too small but it was the entry level room what distinguishes this hotelroom are the materials and decor the natural woods and simplicity seem to help minimize the otherwise sparse furnishings that said most everything is offered my only real issue was that it was hard to navigate the room due to space constraints also the shower produced a relatively narrow band of water flow but despite physical size constraints the room furnishings were all minimally comfortable and adequate the gym was small but adequate with free weights and other modern typical equipment the 2nd floor conference and business rooms were really great and we held several callsmeetings in that area the bar and restaurant were comfortable the menu is a bit eclectic for me but the homemade breakfast granola is really outstanding the location is great being adjacent to the park and business area around 57th and upper west side options overall despite a few typical nyhoteltype limits we found this to be a really warm comfortable place to spend the week   i love this place love the decor love the staff from check in to check out  you are well taken care of here i love that they allow pets i have a little yorkie and they treat him so well providing a comfy dog bed for him austin and alex who helped us with our luggage and car valet are wonderful they will remember you by name from the time you meet them until the time you leave besides the hotel itself being comfortable and cozy the staff service is excellent i will continue to make this place my choice every time i am in nyc bravo to your hotel and staff   i stayed for 2 night the hotel located in the mid of nyc i really enjoyed my stay there with my wife very friendly employees breakfast was good will be there soon on our wedding anniversary and sure we will stay here   were do i start  the moment we walked through the doors the hotel staff were there to greet you they are the friendliest staff and most well mannered hotel staff i have ever come across each and every one of them the smell of the hotel as you open the doors is amazing it just screams luxury and cleanliness the room in which we stayed was 1112 it was amazing very stylish room very hip and very different but so amazing the shower is fab the layout and design of this hotel is just something else its fabulous the hotel provide you with everything in the room you could think of and more for example the robes omg they are like a massive hoddie i had to purchase one before we left they are fab the bed was so comfortable slept like a baby i can not recommend this hotel enough and it is so reasonably priced for a 5 hotel on our departure we were helped by alex and austin they were so so lovely i mean this hotel staff couldnt do any more for you this hotel is new as far as im aware and to be honest i would be back here in a heart beat can not sing there praises enough they are simply amazing can not thank them enough for being so friendly and helpful   my fiance and i stayed here from christmas day until the 2nd of january we picked the hotel due to the proximity to central park the hotel is a breathe of fresh air its clean modern and the staff went above and beyond our room was large for nyc loved the window seat and the plants in the room it felt very fresh a massive massive thank you to michelle from housekeeping shes a star our room was kept immaculate thanks to her she went above and beyond every time she serviced her room please pass this on we didnt eat at the restaurant but the food looked great thanks again for making our trip to nyc a memorable one we will definitely be back   we had an awesome time at the hotel excellent service very friendly staffour room was cleaned every day during our staythe shower was to die for in room dining was extra fast  we ordered breakfast and dinner both were great will definitely come back to stay here next time we are in ny cannot wait for the brooklyn location to be opened   very nice hotel perfect location subway is right the corner witch it will take you anywhere you need to go plenty of nice restaurants of walking distance if you need to bring your car they offer a stay and park offer very affordable    here is a perfect example where a hotel owner has been over advised and consulted on what is cool in the new millennium1 hotel is overpriced by 30 on average 2 the hotel does not overlook the park it is a block away3 the restaurant menu i feel is limited and needs a little more umpf for the price and the  farm to table scene needs to be updated like how about some tapas dishes like fruit and cheese plates more mediterranean selections more fish4 the room service menu needs to be structured to corporate transient guest for late night salt and sugar rushes and kids menu for weekends a little more expansivewait staff a little overworked too many tables per server5 the window seat in the rooms is a nice hong kong style touch for nyc6 the worst feature is the bathrooms no real privacy and awkwarddesign very poor7 the organic feel of wood and stone or brick with the chelsea feel is ok but could of been expanded even more8 for a hotel that has been open more than a year staff training should of been better and supervision feels like a passee old school top down management style that should be changed to a  everyone has a place at the table style  staff needs to be included more and feel that they are really partof something and not just to show upjimbo bateso   the rooms are small with little space for two pieces of luggage didnt quite understand its green credentials the reclaimed materials cardboard drawers triple filtered water from the basin tap or the little sand hour glass in the shower which suggests you have a 5 minute shower the weird glass wall between the bathroom and the bedrooma design faultthere was no alcohol or soft drinks that we would prefer in the mini bar no complimentary water other than from the tapon the plus side the window seat was interesting giving plenty of viewing to the opposite building and vice versathe worst part for us was how surly the staff were the girls at the restaurant front desk were so rude and miserable they need a lesson in customer service the concierge appeared to be flustered and aloof we had asked him for a speakeasy or something authentic suggesting zuma or nobureallythe lobbyrestaurant and bar are too small for the amount of guests which resulted in a feeling of crampness and clutter guests luggage on trolleys waiting at the bar for service and waiting for a table to eat special thanks though to sarah and carlos who were the only staff that were polite and useful with informationcarlos you should try for the position of concierge your knowledge of local eateries did not disappointall in all i wouldnt stay here again it lacks finesse and refinement that you would expect from a hotel of this price 400 per night and im not being fooled by the green sell just because i have moss wall by my door   wonderful hotel with perfect vibe of informal stylish good taste very comfortable and cosy in cold weather unbeatable location and sustainable ethos was very welcome my two teenagers and i dared a joined set of rooms with a magnificent view over central park loved the styling of the rooms   we stayed in an alcove 2bedroom suite for 2 nights very quiet and plenty of space for the entire family beds are extremely comfortable everything from the smell sound color palette room design indoor plants exudes serenity and calmness having young children we especially appreciate the wood floor early checkin and late checkout accommodated no problem complimentary fruits in the lobby and triplefiltered tap water a big plus staff always ready to greet you location is ideal for our trip which is to take the kids to some spots we enjoyed as exnew yorkers will be back for sure   we thoroughly enjoyed our stay a 1 hotel central park it was nice to stay at a hotel in the middle of nyc that is truly environmentally friendly the service was also a refreshing change from the typical nyc service employees treated you like you were part of the family and truly made you feel and treated you in a manner demonstrating that they cared about your stay great customer service from the ivy covered walls covering the outside of the hotel to the beautiful and cozy lobby to the immaculate and environmentally designed rooms 1 hotel central park is one of the best hotel stays in nyc great location   what you see written about this place doesnt give due credit what i saw written about this place was nothing but remarkablemy family and i arrived to 1 hotel cp a week prior to thanksgiving nothing is better than being in the city during this holiday time getting out of the taxi and walking to the front door of this building was my favorite part seeing this beautiful ivy covered hotel we stayed here for about three nights our room was great nice view that overlooks 6th ave where you could see a bit of central park in the corner yoga mat was in the room which allowed me to continue my practice i regretfully forgot my mat at home i loved the lighting controls in the room and the iphone that controlled everything was a really nice touchnormally i dont always check out hotel restaurants since they are always a tad bit expensive but i kept hearing great reviews about jams table for 4 early reservation i believe our waitress was named alexandria she was wonderful great recommendations and great drinks  nothing bad to say at allafter venturing off to central park times square and some local irish pubs getting back to our roots we were always greeted back with the best staff i have ever met alex at the front door made our stay he was always happy and truly seemed like he enjoyed where he worked  which always makes me wanna be somewhere where peopleemployees are treated right plus it was always nice checking out the plants near the door while chattingalex recommended going to chelsea piers and the high line off we went you could have spent all day there  so many laughs smiles and photos were taken that day memories that we will never forget i wanted to thank 1 hotel alexandria the front desk alex and everyone else at this fine establishment for giving our family a truly enchanting stay one for the booksmy apologizes for not writing sooner i did make a promise to alex i would take some time to give you all a review thanks again   if youre into quirk which my wife and i are this hotel is definitely worth a visit the staff are excellent and very attentive the hotel is made up of entirely recyclable and reclaimed products so its creative nature backed up by fantastic service ensures of a great stay ive stayed in many hotels in nyc over the years the spacious rooms and good bathroom size means its now at the top of my list and recommendations for friendsthanks 1 hotels for another great stay   this was a curious hotel which is apparently loved by the beautiful young green crowd in new yorkbeing a 53 year old conservative traveller who rather enjoys space good old fashioned service and who is not partial o moss and lichen this really is not the place for methe rooms were beautifully and quirkily decorated however space was limited and so it was difficult to fully relax and chilled which given a room was 400 a night seemed somewhat bad value for moneyit was not helped by an aloof concierge who clearly knew that he was above doing this role and certainly was not focused on giving great servicethe upside was that location is outstanding on all sides just a block away fro central park and all the other attractions is the areaso if you are funky green and have more money than sense this is the place for you but sadly not for me   me and my husband stayed for a romantic weekend getaway the hotel was a perfect choice beautifully and thoughtfully designed with excellent service and very conveniently located i absolutely loved the design solutions that brought in the lush of the jungle into the comfort of modern interiors we ate at hotel restaurant for breakfasts and one dinner it was delicious i will definitely stay again and hope they open more hotels around the world   this hotel has some nice features but it is too cute for its own good its obviously supposed to be an ecologically aware hotel but most of those features are meaningless while adding inconvenience it is clean the people are nice and the location is good the price is out of proportion with the quality of the hotel so if you stay there be prepared to feel like you are overpaying in order to participate in virtue signalling environmentalismone thing about this hotel that i found really annoying was that in my room at least the wall between the bathroom and the bedroom is glass the door to the bathroom cannot be locked  it is just a swinging glass door if you are staying in the room alone this is not a big deal but if you are a couple or you think you will have some friends or family stop by your room this arrangement is completely absurd since when do people like to share their bedroom activities with friends families or significant others or perhaps a maid that inadvertently enters your room while you are in the bathroom i think most people like to be able to use the bathroom with a degree of certainty about privacy this is a really stupid design feature far too cute and no hotel should copy it   this hotel is fantastic and just next to central park  people were really nice everything is good looking good taste and modern mix of wood and metal they also care about our planet and pay attention to environment on several points restaurant was good too my room 519 was great until i went to bed and realized it was not the ventilation which was making so much noise but the whole ventilation machinery or whatever behind the window such a shame because a good sleep is a basic for every hotel   excellent hotel quaint and friendly christopher was always there to greet us in our comings and goings he helped with luggage storage after checkout and was quick to lend a hand we are from the south and it felt like southern hospitality greeted us in new york   what a joy for a preholiday long weekend this new hotel has perfectly executed their desired concept of urban ecocon oasis reclaimed  organic cool yet welcoming atmosphere usability food and service were spot on our usual nyc haunts include the peninsula st regis  the edition last weekend 1 hotel made the definitely return list for us we chose the alcove jr suite and had a cutefunctional living room and a cozy king bed no view in this room no need for this trip totally efficient use of space bathroom privacy might be the only con if you are super modest glass wall  door are the barrier between bathroom and room there is a curtain on the bedroom side and just requires a little extra work   we stayed here for the macys day parade for a view of the parade you cant beat the rooms facing 6th avenue we watched the parade from our room with the window open so you could hear its a very modern hotel with a good location although a little far north if you want quick walking access to times square and theatre district the rooms were good but pricey the service was very friendly there are some quirky things about the hotel as it is very eco friendlyno writing pad in the room dont serve soft drinksoverall a good experience   the hotel is beautifully decorated clean and rooms were rustic with a modern eco friendly touch the staff was friendly and professional christopher was super helpful their green cocktail is delicious i love their menu options   such a beautiful hotel everything was perfect the rooms are spacious and cosy wood is everywhere and it makes this place stand out located next to central park shops and cafes nice restaurant on the ground floor   i am sure the other reviews will cover the excellent rooms and services offered as well as the excellent location walking distance to most places and a subway station just outside but i will point out to 3 things that make this place truly exceptional1 a genuine attempt at maintaining a sustainable environment everything is refillable including the excellent bathroom amenities and lots of little details have been paid attention to 2 the restaurant downstairs jams is absolutely fabulous3 large baskets of organic free fruit are available in the lobby we didnt get a room with a view and the hot water and heating in the rooms was not always consistent but the pleasure of staying at such a responsible hotel was worth these small discomforts   me and my wife spent a short holiday in new york and it was defiantly the right choice to stay in 1hotel central park since we arrived at the hotel entrance we have been approached immediately with warm welcome started by joshua and he took care about our luggage entering the hotel lobby we felt like home away from home reception was ready with our room key and we have been assisted by catherine with sincere smile on our way to the room christopher escorted us and did a detailed room orientation the room has so many advance gadgets and cool features specially the greenery touch concepts and design during our stay we met with brianna from concierge she was so helpful and knowledgeable about all outlets we may need around the area there is also an excellent restaurant and bar at the lobby area which they serve very good food and fantastic cocktails one more important fact noticed at the hotel all employees are happy to service guests at all time1hotel you exceeded our expectations   great location friendly and helpful staff thanks josh davis wifi was free and worked great over all cant say enough of how we enjoyed our stay we were just across the street from central park so we went for a walk run every morning we will definitely be back   came with my daughter to celebrate her 16th christopher warmly welcomed us back and had already placed a lovely note with some special treats in our room for her he is too muchbriana and lorenzo at the concierge desk had great suggestions to make the stay fun and took care of everything well be back   the whole package was amazing a little pricy of course but you get what you paied for and even morebecause the staff you can not weight in goldthank you for this amazing experienceperfect location and very quiet rooms   great vibe great social conscience great location and especially a great staff in particular id like to thank buba murotova at the front desk and shane and christopher at the front door nice touches the hot cider in the lobby the complimentary fruit and granola by the elevator the hotel takes green to a new level   from the moment joshua took our luggage from the side walk to the way christoper showed us all the cool features and gadgets in the room we almost didnt want to leave the hotel brianna on concierge made sure we well occupied and fed you visit this hotel as much for the people working there as you would the super cool decor honestly we didnt expect such service in new york the hotel was a cosy reprieve from the hustle and bustle on the streets we highly recommend  just remember to get out and about   excellent location excellent atmosphere excellent room and excellent restaurant the wifi is complementary and works really good we really enjoy our stay at 1 central park and for sure we ll come back in our next trip to new york   overall this hotel was amazing the decor was unique the service was great and the location was fantastic it was maybe a little over the top for me in terms of a green hotel  id personally prefer luxury and service over a recycling plan and repurposed wood room keys  but im not their target audience while it was a great visit i probably wouldnt stay there again   the hotel is one of a kind great location very nice rooms its a must stay hotel staff is beyond amazing and helpful the food at jams is very good i would highly recommend this hotel the city view is nice   we visited this hotel in march  april for our honeymoon and was our first visit to nyc this was an amazing hotel in which was a must for me the staff were fantastic and were able to provide champagne in our room on the first night i cant wait to go again and if an opportunity becomes available to rebook this beautiful hotel thank you for making our honeymoon amazing   great spot great location i was on the 11th floor on the avenue and it was very quiet for nyc tastefully done and my room was laid out in a smart way buba who checked me in was particularly nice and helpful during my stay as was brianna the concierge but really everyone was nice and responsive   it is a great place to stay the food and service is terrific the location is perfect and close to most everything would highly recommend the connected rooms if you are traveling with children we will definitely be back   we absolutely loved having the dog bed treats and toys waiting in the room our first stay with our dog did not include those items we were blown away when we opened the door this trip furthermore the front desk and other lobby personnel were respectful caring and personable everyone loved seeing our dog and expressed great gratitude for our dog staying at the hotel customer service is top notch thank you room was beautiful clean and just enough space the layout maximized the room size and we appreciate the reading nook we also appreciate the level of emphasis towards ecofriendly accommodations   we enjoyed our stay very much i want to thank all the staff for such a fantastic experience specially to christopher and steven who were amazing they were so friendly kind and polite they answered all our questions and made our stay very memorable  i loved the handwritten note in seed paper we had so much fun exploring the city the hotel location is very convenient i also enjoyed coming back to the hotel and relaxing plus the room was really comfortable  cant wait to come back   without a doubt the best hotel stay ive ever had in new york city this hotel is absolutely amazing the hotels decor is stunning with the reclaimed wood and hardware accents adding to its whimsy and charm the warm colors and variety of textures in the sleeping rooms made our stay uber comfy i did not want to leave you cannot get a better location 1 block to central park and close to tons of great shopping and restaurants the restaurant jams does a terrific sunday brunch as well it was a great way to end our trip every single person on the hotels team from door staff to restaurant staff was friendly welcoming willing to engage in conversation and helpful i will not stay anywhere else in nyc going forward i loved this hotel so much ive already booked my next stay i cannot say enough about how wonderful this property is   1 hotel central park is my new favorite nyc hotel my mother and i stayed here for 3 nights her first trip to nyc this past weekend and were absolutely blown away the hotels team from the door staff to the restaurant staff were friendly warm welcoming and always willing and ready to engage in conversation or offer assistance the rooms are gorgeously appointed and warm loved the natural color scheme and textural variety the glass shower and open bathroom was airy and open but still afforded plenty of privacy for 2 people sharing the room the hotel is in an excellent location 1 block walk to central park and close to great shopping and restaurants i loved the hotel so much ive already booked my next stay   your hotel is just lovely the plants the reclaimed wood  branches the level of recycled material used  especially darling were the hangars in the room fruit by the elevators  tea in the rooms well done  much appreciated in particular i would like to thank shane  christopher who were excellent at their jobs they took such good care of us greeting us warmly when we arrived  every time we headed to the door even holding the umbrella while tucking us into our cab when we left on a very snowy morning great stay  we will absolutely be back thank you    we stayed at this hotel with our 2 children ages 8 and 11 to enjoy christmas in new york christopher and shane provided us with excellent customer service while we were there christopher gave us a tour of our room and explained how everything worked shane made sure to provide with umbrellas when it was raining during the day the hotel smells amazing and is very eco friendly the room had a couch built into the window with a curtain that covered it huge hit with my children it was like their own fort within the room my son was so excited to sleep near the window when it snowed during the night he was ecstatic that he was the first to see the snow the room was modern and had reclaimed wood throughout the beds were comfortable and the hotel products are all organic we had a great view of central park great restaurants in the area as well we ate at ninos steakhouse for dinner and rue 57 for breakfast the hotel is in walking distance to rockefeller center would definitely stay there again   we stayed 4 nights at this newish hotel we chose the 1 central park for his location but we really loved the organic concept beds were extremely comfortable room was spacious for nyc standards bathroom had all the amenities that you need i liked the fact that toiletries supplied were not the usual miniatures but big bottles therefore so practical and not wasteful products were of high quality too and loved their shampoo  conditioner clean friendly attentive service and amazing location we tried their jams restaurant for breakfast although the food was delicious but found it quite expensive its only breakfast after all i would strongly recommend this hotel for the location and luxurious ethical comfort   long story short it was 5 pm on a tuesday and i needed a room something happened to my reservation down the street at the front desk buba greeted me was sympathetic to my need and calmly explained my options and then gave me a an upgrade after i made my choice she was a friendly ambassador for the brand and the brand does a great job in every last detail in fulfilling its environmental mission wish i couldve stayed longer and experienced more of the amenities including the food and bar the bed was very comfortable and the bathroom was well one of a kind you are just a few blocks from many major sites including central park and trump tower in case you have a meeting to discuss a cabinet position others in the lobby and at the door were very friendly too check out 1 hotel   the hotel is very hip with modern and unique features great customer service and staff very attentive food at jam was very delicious and i highly recommend it there is no place like christmas in new york and this hotel is a few blocks from radio city rockefeller center on central park the get you in the christmas spirit close to corporate offices museums and mass transit and list goes on   ive stayed now twice in this hotel has to be the coolest hotel in new york city with a sort of loft  eco environmental reclaim feel thats a mouthful i know hope to plants galore reclaim wood throughout  the smell of the place is amazing yep it smells good they will sell you a candle that smells the same by the way awesome staff antigana was an awesome help at the front desk i got support from tickets to bags to cabs all right there extremely friendly service my only negative is the bed is a little firm for my bones but it wont stop me from going back location is perfect   what can i say  beyond making sure double check the room you have been allocated this stay was again perfect these guys really have hospitality down to a fine art  simple effective almost invisible but spot on and effortless during the entire stay my only problem was i was allocated a room that did not afford the option of hanging out clothing  as in adequate and effective wardrobe space this is sort of essential when you are there for a mix of business and pleasure its really my own fault though as i arrived a little early and agreed to a different room other than that the rooms are very well appointed the location is excellent the team are out of this world the leadership culture is phenomenal and almost tangible when you interact with team members and the food and beverage options and truly excellent and great value for moneywell done once again until next year   the 1 hotel is truly the best hotel experience i have ever had i was there in nov for the nyc marathon and this hotel went above and beyond first of all the staff is outstanding they care to every need no matter what is is with a smile on their face the night before the marathon i went down to the front desk and told them i needed to somehow put my name on my shirt for the run the guy stephen who worked the front desk went into the back room came out with the maintenance guy alexis and said we are going to figure it out come back here before you go to the marathon tomorrow i came down to the lobby at 5am and out came alexis with a sign he hand made out of a duct tape and paint picture of alexis and i the marathon had 50000 runners and one million fans that is 1 million people cheering on complete strangers i have never felt more like a rockstar as i ran through the streets of nyc crowds of complete strangers yelling go jenny thanks to the sign i had on my shirti arrived back at the hotel and the second i walked in the whole lobby went up in a roaring cheer people were clapping and cheering on all the runners who walked in and before i knew it the front desk women buba had a hot tea and a green juice in my hand besides the marathon from check in to the restaurant to the crazy comfortable beds this hotel is amazing i felt welcomed attentive and they make you feel at home i loved every second of it and i cant wait to return thank you stephen alexis and buba for an outstanding experience and taking your jobs to the next level i promise every time i am in nyc this is the hotel where i will be staying  jenny schatzle   this is my second stay at 1 hotel central park and it was absolutely perfect in every way the service was impeccable especially from sunya and briana at concierge amazing location close to major attractions delicious breakfast at jams and a cozy comfortable room with a views to central park i cant wait to return and highly recommend it   my continuing comment about the lack of surface space for toiletries and drawers for clothing is the only recommendation i can make we try our best to use what is provided  it would make our stay much more convenient to have a small table or shelves in the closet at least thats it otherwise everything is great for us the staff is a standout apart from all others due to their caring and yes loving natures they are not only professional kind knowledgeable and caring but are like a member of the family greeting us whenever we pass enter or leave  amazing staff  cant say enough about everyone this was our second stay at the height of nyc holiday season and nothing threw them  even a water main break taking out water to the restaurant and the hotel  they handled the 3 day crisis with such grace and did everything they could to overcome the inconvenience to their guests this is a special property and we will be back often   one of a kind hotel in manhattan they have their own unmatched style staff is extremely attentive all of them nicole the manager was super sweet their concierge is the best in town they got me tickets and reservations to anything and everything i requested however late or difficult stay in a suite overlooking the park you wont regret it will definitely be back there in my next stay in february   amazing cedar smell comfortable bed and pillows great staff christopher is cute and dragged our bags all around the street helping us find our uber only con is the smart lights have a bunch of indicator lights by the bed that shine on your face as youre trying to sleep no way to cover up all the misc items which had bright little indicators light on at night even the back of the tv had an annoying glow so bring electrical tape or something to put over them if youre a sleeper who likes a dark room   wife  i enjoyed our stay and a hip cute clean trendy hotel have you stayed a luxury hotel and new it as soon as walked in loved the scent bought two candles we would definitely will be back and a great location   i loved everything about my stay at 1 hotel all the ecodetails were informative and entertaining my room was super comfortable and made me feel healthy simply entering it i liked all the storage nooks and crannies  very well organized breakfast at jams was great you cant beat the location   amazing and unique property and servicefirst i reserved a park view suite the room was fantastic excellent design unique and artistic decour and great amenitiesupon check in i was upgraded to the presidential suite this was one of the best suites ive ever stayed in unbelievable setting and layout i was very appreciativei also had a 2nd basic room for a relative this was a very nice room for excellent value the only drawback for the hotel was the limited and uninspiring room service foodbottom line amazing and unique property and worth trying for a differentiated experience   we stayed in this hotel for 4 nights in october the whole experience was great from arrival to checkout the ambiance decor room and location all exceeded our expectations all staff was helpful we liked the green theme of the hotel and the natural plants everywhere room had all the facilities we needed all room controls are next to bed embedded into an android mobile wirelessly charged by its stand very smart and convenient    dont be fooled by their green hotel presentation a hotel is a hotel the location is great for midtown but there are many hotels in this area that offer great location and have as good or better roomsservice   1 hotel exceeded our expectations in every area  service accommodations location decor friendliness of staff  i cant say enough good things about 1 hotel my daughter and i had to switch hotels at a very late hour and the reservations agent could not have been kinder and more welcoming he booked us up for a double right away from that point forward 1 hotel made our trip to ny one of the best yet   had the opportunity to spend the night at this lovely hotel love what they did with the interior they did their best to bring the outside in and did an amazing job the rooms were lovely and the staff was very attentive and friendly this hotel is steps away from some of the best shops central park very well situated   stayed here for my 30th birthday for four nights everyone on the staff was amazing but rinzin in housekeeping went above and beyond he worked the 10th floor on our stay and he did a great job with refreshing the room while we were out he had a great attention to detail 1 hotel central park is a clean unique and pretty hotel love the smell upon entry to the hotel the free macaroons from jams for my birthday were amazing the hotel was also able to get us reservations at a popular restaurant that was all booked up you definitely get what you pay for here cant wait to return thank you rinzin and 1 hotel staff for making our stay amazing   this property is superb in every way the staff the rooms the warm inviting feeling you will have when you walk through the door we usually stay at the peninsula and the carlyle but this hotel is where we will stay from now on it is extremely special   stayed at 1 hotel central park having read about the concept overall thought was the green and natural essence was overplayed and in reality a marketing drive to get envogue rather than a true mission rooms are tiny and whilst will appeal to some clearly dont match luxury rates the meeting rooms are again trying to be on trend with exposed concrete but it just smells of a corporate entity trying to sell an experience by getting on the wellbeing bandwagon restaurant and bar are small buzzy and ok but not destination overall its average but not worth luxury or 4 star pricing   christian and lloyd were extremely helpful when it was discovered that the car that i had parked in the garage had 2 flats they both went well above protocol to assist in getting the problem rectified great team   excellent service the location is great its almost at central park the breakfast its ok with very fresh products in my case the problem was that my room was very small and noisy at night also when i left my luggage for a couple of hour stored at the reception someone broke the handle bar of one of my bags an they didn t care and i has no solution   i went to this hotel beginning of november in the frame of a group reservation for the new york marathongood location concept restaurantbad bad window phonic isolation against ventilation system for room a lower floors use of wax ear plugs mandatory if you want to sleep 45 minutes queue in the morning to get a seat for the breakfast at 730 on the monday no possibility to reserve a table for the dinner even when resident at the hotel in room dining plate remains in the corridor during more than 12 hours after use room not done at 4pm on the sunday when coming back from the marathon   first time visitor and looking forward to returning loved the look and feel and attitude of the hotel the free wifi is orders of magnitude better than nearly every other hotel ive stayed in loved the lighting controls in the room and the abundance of usb charging ports the shower got hot instantly and i liked the choices handheld or water raining down from above  which seemed perfect for this hotel room was quiet and the tablet in the room to control various functions a nice touch   great hotel supper friendly staff very helpful the rooms are really cool as is the whole vibe of the hotel the rooms are spacious and comfy and the amenities are great they are a bit on the pricy side but worth it for a short stay jams restaurant was great we had dinner and their brunch best bacon ever   this hotel was amazing such a beautifully appointed property great staff awesome viewsi already miss it their dedication to the earth and environment is wonderful and reflected throughout the hotel   what an extraordinary and wonderful hotel this is we loved everything about it we have stayed at lots of lovely hotels in nycthe mandarin crosby street peninsula etcand while they are all great 1 hotel cp was unique and superb and we would return there in a heartbeat the rooms are gorgeous its a block off the park and everything is done with reclaimed wood ecofriendly etc in an extremely highend luxurious way that is truly delightful and unique it really feels like an oasis in manhattan the bed was also the most comfortable i think i have ever slept on my husband said the same thing and everyone who worked there was extremely friendly and accommodating our 21 and 17yearold daughters loved it too   i cant recommend this hotel enough it has always been on my bucket list to see the macys thanksgiving day parade i booked this hotel because it was on the parade route i came with family which included a 10 year old with autism and a 14 year old we booked a corner city and park view combo wow great view and a location one block from central park made our stay perfect the window seats worked great for the boys to sleep in and they loved their window to the world the staff brought sleeping bags for them which made it an adventure in the city  so many extras such as water thats tripled filtered from the faucets nepresso maker in the room fresh fruit to take to your room and great robes room service was great as well as the restaurant jams right across from starbucks and the plaza food court makes this a home run dont miss this gem   we had a great stay with our 2 year old everyone was extremely helpful and nice even though we are new yorkers we would totally stay here again if we were staying in a hotel its a very green interesting hotel we enjoyed it a lot   we stayed for one evening while visiting friends in nyc and attending a broadway show the location of the hotel is perfect for broadway great restaurants and shopping the theme of the hotel sustainable and green was beautiful and very unique there is life all around you and the design is beautiful i wish more hotels made such a solid commitment to sustainability   stayed here for a family vacation and was impressed with the quality of their rooms while sticking to being a green hotel the rooms use recycled materials but in an elegant setting the hotel restaurant jams is very good and in keeping with the hotels environmental philosophy uses locally sourced and organic foodour room had a very pleasant vibe some of which can be attributed to the mild aroma of the plants growing on the window sills and bathroom i appreciated that it was natural and not an overwhelming effect all in all a very pleasant stay   new york has many fine and comfortable hotels but there always seems to be some issue too noisy too far from mid town unfriendly staff at last i have found 1 that is perfect1 hotel  perfect spot 1 block from central park superb staff great dinning and soooo quiet our bedroom was on the 4th floor above 6th avenue with no traffic noise   i went to new york to run the ny marathon this hotel is perfect really near from central park near from the 5th avenue shops and times square just 20 minuts walking i tottally recomend this amazing hotel   such a nice and cozy hotel reclaimed wood nice scents very nice staff soft light warm atmosphere excellent location plants everywhere cute socks fashionable bathrobes not sure how to better described the hotel it is just very nice i sad to leave but i will be back   great location just off central park south great style ambiance comfort staff uniformly knowledgeable and courteous  very service oriented room layout attractive thoughtful unique not the most spacious room ive been in but so well laid out it didnt feel cramped great shower best hotel bed ive ever slept in would return in a heartbeat   we just spent 4 days at the 1 hotel visiting family in the city and loved it we had a park room in the corner and we decided it is one of our favorite rooms everthe room design was so charming and warm with plants in one window and the coveted window seat in the other sitting in the window seat late at night watching the park and the city bundled up in one of the hoodie bathrobes was a highlight for both of us the room was typical city size but very comfortable from the ability to dim the lights to one of the best showers we have had in a while even the entryways to the rooms were attractive with various materials on the walls great lighting and plants the staff was young enthusiastic and very professional and the location was perfect for us and our family this hotel has a clear brandorganic healthy and naturaland because of that it might not be for everyone for example i am a diet coke drinker and non organic sodas werent available that didnt bother me but it might be an issue for someone looking for traditional amenities we have tried various hotels in recent years for our city visits and finally have found our go to hotel   excellent hotel for business travel always searching for the best business lobbys and by that i mean hotels with lobbies condusive for meetingsnot too noisey and not too crowded rooms are new york size unless you get a suite or larger room great location and simply a cool hotel to stay at   just a street back from the south end of central park 1 hotel offered us an excellent situation to base our new york trip we had a park view apartment with two ensuite bedrooms a media lounge drawing room a kitchen guest toilet and dining room for 8 guests it was in a fabulous corner position of the building giving views of both downtown and the south end of the park too could see all the way to the north and the upper west side and all the park in between the suite was decorated with a modern reclaimed theme with slates woods coppers leathers and all natural materials much of the menus were organic as were the cottons and bed linens too the in house restaurant was italian in style and implemented quite well the comms and media systems in the rooms took some getting used to but the younger amongst us had no issues its nice to be able to order room service with just a click and as new york goes coffee in the room was not bad value either we really liked the hotel and service we had and although it was expensive we thought it offered great value for money for us will return   my thenfiance and i chose 1 hotel when we decided to elope in central park and we could not have made a better choice this hotel is stunning we booked a junior suite alcove which was impeccably clean and beautifully decorated the hotels rustic refurbished repurposed recycled style is unlike any other it gave off a very romantic and delicate feel which was perfect for our special day and looked absolutely amazing in our elopement photosbut what we loved the most about this hotel is the brilliant and friendly staff two weeks before our elopement we stopped by 1 hotel and asked for a tour they were more than happy to oblige when we needed to change our booking dates they were reassuring and accommodating they welcomed us with good cheer and a nice bottle of prosecco upon checkin big big shout out to christopher and buba we are so thankful for your wonderful customer service even bigger shout out to joshua davis we couldnt be more grateful that you went above and beyond to make sure that our special day went off without a hitch   having booked the hotel for the first time the previous reviews had us excited about our visit the hotel is in a fantastic location close to central park but within a walk as far as brooklyn bridge we rarely take the subway the room was immaculate and benefitted from a turn down service which was unexpected coming home feet aching with a pillow and blanket ready for us to sit in the window seat was fantastic the shower was wonderful you could stay under it for days but with a handy hour glass you felt conscious enough to not waste water the tv was seldom on but what was available in the room was well thought out and usable we would highly recommend our stay at the hotel and will look to stay again in the coming year or two   my husband and i just got back from a very quick but well needed few days away hotel central park was perfect for us we got the rush of the perfect new york location the room has all the amenities you need and is spacious and inviting we were within walking distance to the crazy night life as well as the lincoln road shopping and restaurants the staff was very responsive and easy to work with i would definitely recommend this spot   we came to this hotel for 5 days at the end of oct 16 and it was delightful  from the moment you walk in you can sense that there is a really different kind of vibe in the hotel in contrast to whats going outside the room was great and big  the bed was comfortable although i believe there is a need for addition shelf for things the stuff are really great helpful and nice especially christophen  the location is perfect and close to everything    the rooms are absolutely stunning and the staff was amazing helpful and cool  my son was traveling with me on a work trip and they went out of their way to make his stay fun and enjoyable the reclaimed and other hyperquality woods make the hotel rooms aesthetically special the bed is phenomenal so good that we bought the same brand mattress for ourselves last week the restaurant is a perfect fit with the hotel style just a little bit expensive   a very unique hotel located near central park  just need to cross the street everything in the room is well designed with lots of thoughts the entrance is very welcoming although its ultra modern you can feel warmth everywherewater are purify even the hangers are recycled there is a toga mat  special drinks in the minibar a nice restaurant is located at the entrance i am so happy we chose to stay here  its a high scale hotelloved the fact i could lay down near the window and have an amazing view at the city    the hotel is located perfectly close to good breakfast restaurants and other good cafes the service is good and the free fruits for guest is a nice touch we stayed here in a room with two queen beds which can work for 4 one thing i didnt like was that the bathroom was pure glass walls meaning if you were on the toilet you actually could be looked at from the room  not nicei would stay here again in different roomthe bedst about the hotel is that it is not main stream with carpets and heavy furniture like you find in the typical upscale us hotels    the hotel is different from what you would expect in ny it was very green smelled excellent and the location was perfect the staff were great we had dinner at the restaurant and the food was awesome as well as the cocktails offered   this is a jewel one block from central park and one from fifth avenuevery pleasant and lively ambience great rooms very friendly staff the hotel has all the amenities you will need with a very interesting ecological twist   my 2 friends and i enjoyed a weekend at 1 hotel central park with connecting rooms 1 king and the other with 2 queens the location is within walking distance to central park obviously as well as times square carnegie hall and the plaza the decor was a step above your average hotel including all the plant life and sustainable touches we never used the yoga mat in the roomha we also needed help using the phone to turn down the lights etc the bathroom is a bit funky in that it is surrounded by glass and you have to pull a curtain around the glass for privacy we all liked the window seats comfortable and coolthe hotel served apples and granola in the lobby each morning which looked inviting until i saw a guest use his bare handnot the utensilto scoop out some granola yuck everyone who works there appears to be under 30 years old thats not a bad or good thing its just interesting we had helpful service the few times we needed it while we were there and overall a comfortable stay   what a great find in nyc incredibly unique green design including cardboard recyclable closet hangers rough hewn wood siding everywhere with wonderfully green plants and mosses on walls and surfaces luxurious hotel with trendy modern earthy feel   this new 1 hotel is a place to stay if you like to have a different experience than regular hotelsit is still new york but some an see its fresh different smells naturally  we like to come back as soon as possible   this was our second time in the last 90 days visiting this gem in the perfect location 1 block from central park our room was stunning again with fantastic views of the park and city the staff is unbeatable from all the doorman especially chris who always greeted you with a smile and always asked how your dayevening was going the rooms are really well designed and who can beat the bench seat in the window gazing at the park the perfect spot to walk to 5th avenue stores and all the restaurants in midtown this is the only hotel we will stay in nyc   weve just returned from an excellent stay at the 1 hotel the staff are incredibly friendly with nothing being too much trouble from organising restaurant reservations best advise on theatre ticket purchase and map explanations to standing outside in the pouring rain and gale force wind for 10mins to hail us a cab the staff are happy and very curteouswe ate in the restaurant jams one evening the food was very good and delivery quick its a popular after work place with a thriving bar and good atmposhere the west of the park boubon cocktail is heavenly note that being a busy place its pretty loud and the aircon veering on the fresh sidewe stayed in a city king room which was a good size by nyc standards there isnt a huge amount of wardrobe hanging space which if like us you come with empty suitcases isnt a problem the bathroom is well equipped big shower cubicle with strong water jet usual supplies of shower gel shampoo conditioner body lotion in very generous sized dispensers also cotton pads qtips and shower caps provided a cosy oversized hoody sweatshirt material cardigan is provided which is wonderful to snuggle up in after a long day in the city the complimentary house socks are also a lovely idea and make late nightearly morning jet lagged tv viewing a toasty affairfor me the bed was insanely comfortable it was a memory foamtempur style mattress which im not usually a huge fan of as they are too soft and hot however this was neither and i could have slept for hours if new york was beckoningi would certainly recommend this hotel to friends and family the location is perfect for central park 5th ave bloomingdales rockerfeller broadway etc etc etc and i hope to return sooner rather than later   apparently i owed my wife a trip to nyc for her 40th birthday having broken a promise to her for her 30th as she decided to have our son 2 days beforehand so i needed to find a special hotel and i hotel central park certainly did not let us downthe room was first rate with some lovely touches from the window seat to watch the world go by the chalk board communication system with the cleaners to the quirky keys from recycled wood the hotel staff could not have been friendlier full of suggestions as to alternative places to see a little off the tourist trailthe bar was well stocked and the food delicious  the sunday brunch a musti cant pretend it was cheap but it was worth every penny and well have no hesitation in returning the next time we visit   check in disasterwaited from 2530 to get into room it was especially disappointing considering we were only staying one night and it was a college reunion however i will say once we got in the rooms were beautiful   thank you thank you thank you for making our stay in your hotel such a delight on a scale of 1 thru 10 1 hotel central park is a 15 service was impeccable from the moment we arrived until the moment we sadly left our room on the 18th floor with park view made the perfect anniversary getaway thank you for the delicious champagne that awaited our arrival being from sausalito we described the hotel as big sur meets nyc beautiful natural fabrics wood stone and great mood lighting all said what makes 1 hotel so great is the wonderful staff thank you lorenzo brianna and richard the excellent concierge staff and chris shane and lloyd at the front door and all the front desk staff we highly recommend 1 hotel and look forward to our next stay congratulations hans general manager for doing such a wonderful job of making 1 hotel central park unique and exceptional   wow from the minute you stepped though the door filled with twigs you felt you stepped into another world the hotel smells of woodland and you are surrounded by plants candles and amazing wooden features creating a very calm ambiance the staff are all so kind and helpful making you feel totally welcome there is always someone warm and friendly to open the door to let you in from the cold new york air thank you so much to briana for all your advice about where to eat and what to do richard too for his amazing thoughtfulness over the butter cake at mastros it was amazing the rooms are excellent with great little alcoves to sit in and watch the busy streets from above service was superb and there are some really quirky touches to the rooms that will surprise you we have stayed in many different hotels around the world but this one takes the prize made extra special by the superb efforts of all the staff thank you sarah and simon x   we arrived to a real buzz in the bar and restaurant attached jams our room was fabulous with beautiful furnishings and attention to detail it was our anniversary and we were met with a complimentary bottle of fizz on ice with 2 glasses i cant recommend this hotel enough it has a real different vibe going on and very friendly   the room was very tiny even by manhattan standards and this was supposed to be one of their larger rooms the layout was odd also lacking sensible places to put things down and then random slabs of wood where you were more likely to knock into accidentally the hotel uses a single smartphone to control all the electronics and information in the room and to serve as the phone this ecofriendly touch seems great at first until you realize that the the smartphone is dead and you cant turn anything on or get any info about where things are in the room until the smartphone charges enough and its also frustrating to spend several minutes having to figure out the controls in the room when you just want to turn in for the night the service was also disappointing after waiting in line to check in with the one staff person who was available i had to listen to a long speech about how great the hotel was before getting to the actual business of checking inoverall the hotel seemed more gimmicky than anything else there are other eco conscious hotels that manage to deliver better service and more comfort for travelers especially at this price point   we decided to visit new york for our 25th wedding anniversary and 1hotel looked amazing on their website we chose an interconnecting double room with a twin both having their own showers in a glass case separating the bed area from the bathroom the shower was amazing instant hot water with complimentary shower gel shampoo and conditioner soft towels and luxury bathrobe and body lotion cleanliness was premium and being an eco hotel every care taken to provide environmentally friendly ways to recycle items and use products that care for the planet the tap water is triple filtered so safe to drink there is herbal tea coconut water plus more each morning on leaving the lift fresh fruit is provided free of charge and the red pears are to die for an umbrella is loaned to you if you experience rain and the staff always smile and are willing to help nothing is any trouble we enjoyed sightseeing shopping the theatre helicopter ride and boat meal and it was an amazing feeling to go back to the hotel knowing you were going to be very comfortable in fact i didnt want to come home this hotel is a must if you visit new york no other hotel would do for me   you must stay here when you visit new york if you want a truly unique and extraordinary hotel experience stepping off the busy new york streets and into 1 hotel central park transports you to another world from the fresh forest smell to the organic decor to the warm and welcoming staff this is a space not to be missed if you love nature recycled reclaimed and all natural this place is for you but dont be fooled into thinking that means a shortage of luxury as this place is pure natural decadence love love loved this place do yourself a favour   wonderful hotel in a great location very different from other hotels in the area i stayed there with my two teenage daughters and they just loved it very hip great design and amazing staff richard and lorenzo from the concierge team helped us so much the housekeeping was so attentive  thank you pasang we have stayed in few other hotels in nyc before but this is the one we will be coming back to   1 hotel central parks location is excellent the atmosphere of the lobby is unique to other hotels and the rooms are comfortable clean and well designed i would recommend this hotel and will be back   this place is awesome whoever created it picked the right balance between convenience and sustainability to make it feel like you are at home i have been in a few places in ny before but this is outstanding   outstanding experience thank you briana for all the help and exceptional response time to all my texts the entire staff was a joy to be around and visit with the room was great just didnt spend enough time in it showered and slept then right back out to tour the sight the shower alone was worth the money but thats why we are here thanks again   excellent hotel the organic recyclable ethos we totally support the room  fantastic 2 bedroom suite was fantastic stylish funky and with views of central park the staff  particularly the door team and concierge were friendly really genuine and very helpfulthe big let down was the food  the concept of local sustainable organic food we love  but this doesnt excuse poor execution lack of taste and expression or poor service   i come to ny 610 times a year for work usually just for a few days and i stay at 1 hotel every chance i get its wonderfully relaxing and pleasant while still being centrally located to midtown the staff is very professional and the hotel is beautiful and soothing beyond descriptionthere is nothing better than coming back here after a long day running around the city   nicole and richard were excellent concierges and made all three dinner night reservations for my wife and me each one delightful and varied hakkasan almond and jams richard even got us a complimentary wine and cocktail at the bar and they both gave us all kinds of directions etc the valets and front desk were also very helpful putting us in a temp room when we arrived early on a red eye flight and upgrading us when they could over the 4 night stay we truly enjoyed our second stay at the 1 hotel and love the location near central park recommend hightly the restaurant at the hotel jams  ive never ordered chicken before at a nice restaurant but our waiter bruce was extremely helpful on the wine and the food and recommended i try it so i did  best and tastiest chicken ever my wife kelly had the kale caesar and we decided to mix the chicken into the kale caesar and it was wonderful well be back   what a treat  i was graciously taken to nyc at the end of september with my aunt  uncle who had stayed at 1 hotel a few months prior they travel all over the world and stay in some of the best hotels and have said that this will be their only hotel in nyc for future trips i couldnt wait to see what they were talking about i work in the industry for a luxury hotel and know when a staff member is being genuine and let me tell you every single staff member i encountered whether it was in the lobby in the elevator or from housekeeping in the hallway genuinely asked how my stay was and if there was anything else i needed to make it more comfortable the size of the lobby helps your staff engage with your guests easier versus a massive lobbythat you typically see in large cities the rooms were incredible  id never seen anything like them you definitely thought of everything from the nexus on the bedside table to the body washshampoo dispensers in the shower to the healthy beverage choices in the minibar the boxed water is so great for a brand that prides itself on being ecofriendly you knocked it out of the park i also loved the quirky notes on the recyclable clothes hangers and bathroom amenitiesi think what impressed me the most during my stay was how after noticing the staff were able to wear a more casual attire jeans blundstones denim jackets and expecting their approach to customer service to be the same  casual and laid back it was in fact the complete opposite you felt like you were staying in a 5 star hotel professional luxurious and engaged from start to finishspecial shout out to marco from sales i checked out a few days earlier than my family and wanted to send them something to say thank you marco kindly helped arrange an amenity to be sent to their room that they very much appreciatedi would highly recommend this hotel to anyone looking forward to seeing the brooklyn property open in the new year   simply fabulous the luxury without the gold as we appreciateall the staff was really humanit was a real pleasure to be welcome by the bellman each moment of the daythe location is a must we fall in love with the spirit of the place   my stay began badly but the customer service at this hotel made up for the early difficulty to an extent that i am not accustomed in new york city where i stay for at least six weeks each year it was so good i dont want to lead with the problem i had but will lead with what was rightthe goodthis hotel is lovely and if you you are ecoconscious it is wonderful to walk into a property that shares those values it is definitely more boutique than highend but wellappointed and the decor and overall feel throughout is excellent the room i had eventually was wonderful a tad small as nyc hotel rooms are but felt more spacious because of the welldesigned window seat and spacious bathroom area excellent comfortable bed everything smells great really lovely i know that other reviews talk about the staff not being friendly but that is simply not the case the staff literally bent over backwards to ensure i had a great stay and to be honest i never would have found out what a great place it was if they hadnt and this would be a 1 star review great team  amazing management thank you  great job and keep it upthe less than goodfirst i had trouble with my online booking  didnt get a confirmation and needed to call twice to confirm that it had gone through it had gone through twice so glad that i checkedthen  the first room i was given was definitely not what i expected for two reasons first to say something has a central park view on the 3rd floor is somewhat misleading yes it does of the entrance but that is not what one thinks of when one thinks of a central park view the bigger problem however was the noise from the air conditioning which can only be described as similar to a lowlevel watch alarm  definitely noticeable and the more you try not to hear it the more you do i dont know what can be done about it but it needs fixing this led to my customer service experience however there was no room to move me to and when i was in the lobby searching for other hotels the team mobilized found me a room at a sister hotel for the night and sent me over in a taxi and retrieved my things the next day to bring them back i had been travelling for nearly a whole day and the care was very appreciated amazing team  thank you again as i said the eventual room was perfecti would definitely stay again and highly recommend it for location decor comfort and most of all the customer service   i stayed at 1 hotel as a staycation because i love to check out and review hotels in the city this could be my 1 favorite so far the ecofriendly mission behind the brand and how they communicate it through the details and amenities is absolutely amazing i actually feel like i helped the environment after my stay the staff is not only courteous but also genuine and thats a delicate balance some hotel staff struggle to maintain looking forward to seeing the brand expand and visiting the brooklyn property soon all best jo   very disappointed not the room as described loud doors slamming can here pets on floor above us not what we expected for the price have stayed at many hotels on nyc great location but pet friendly and loud   this was our second time in this hotel the first was last year shortly after the hotel opening and everything seemed fine now it was a major disappointmentwe were accomodated in a very small apartment with a completely open bathroom  no walls ou curtains only a transparent glass door this apartment was obviously designed to receive single guests not couples so we asked the room to be changed what happened only the day afterthe new apartment had a decent bathroom but plenty of problems apparently it is placed near the ac central so we could listen to a constant machine noise even with the window closed quite annoying the curtain was completely broken in order to open it one could only pull it from the top manually the problem was detected by the housekeeping staff only one day before we left and it wasnt repairedin the third day our toiled was clogged  it caused much disturbance because we were in a hurry changing clothes to go out and we couldnt use the bathroom it was repaired quickly but in the meantime we had to use the hotel gym restroombut a much greater annoyance happened in the last day we already had scheduled a very expensive transfer to the jfk airport at the front desk but when we made the checkout no one in the staff knew where the car was even if there was one in fact we lost about 15 minutes in this confusion until someone could find the car and carry our luggagethese 15 minutes proved crucial the traffic in nyc was very bad the driver was quite slow and we eventually lost our flight  and the day spent mostly in la guardia waiting for a replacement flight much laterall in all pretty much of the hotel didnt work for us small and noisy apartments equipments in bad shape and bad service which eventually led us to lose a flight and precious hours of our vacations unfortunately we dont plan to go back   just got back had a great time in new york city we loved the location of 1 hotel central park the service was outstanding weve probably never had better housekeeping the room was really small but we hear that is everywhere in new york city there was certainly no view of central park because there are 2 huge buildings between the hotel and the park but seeing the park later was no problem and the park was indeed awesome we didnt like the restaurant at this hotel because we dont care for the fancy what we call foo foo restaurants it would have been nice to have the option of regular food at a lower price but there isnt really room here for both we found places and the stay really was quite expensive for just a small room and nothing much else but thats new york we hear but the stay was still wonderful overall this is really quite a nice place in a great location   nice and thoughtful service and i will recommend it the staffs are very helpful and facilities are user friendly location is definitely great i really appreciate the organic fruit offer everyday and warm smiles on staffs faces its great experience to stay   the 1 hotel is beautiful and in a great location the best in nyc in my opinion the rooms are ok you get everything you need and it was perfect for 2 nights in a longer stay i would probably be annoyed with its size because standard rooms and bathrooms are very small we had two disappointments in our stay though and both of them show me some lack of experience first of them was with the shower they turned off the water heating system without warning guests in prior my husband was in the shower and suddenly water was freezing it wasnt a very cold day but it wasnt hot at all imagine you are taking a hot shower and suddenly water gets freezing not cool it took more than 15 minutes for water to start getting warm again i called the front desk and they told me that they turned off the heating system but had just turned it on again and to be careful because water could turn a little brown seriously not what you expect from a hotel in this price range after this happening in our first night my husband had a cold and was sneezing for the next 5 days  also shower soaked the bathroom floor everytime we used it we tried to avoid it but no matter what we did water seemed it was actually leaking from the shower stallbreakfast was also disappointing we payed extra money in our rates to have breakfast included however when we asked about breakfast they should have told us that they actually dont serve it and that it is served by the restaurant jams in the hotel but a totally separate business that needs reservations they didnt tell us any of that we get to the restaurant and are told we needed a reservation and had to wait about 20 minutes to be seated even though they had about five tables available i complained to the manager and so he had a table for us in about 5 minutes after that when the menu came we only could order two options of the menu that cointains about 10 options all of them cheaper than the fee charged by the hotel for us to get breakfast included very angry about itfood was great though after that we complained to the hotel staff about it front desk and they told us that we could order breakfast to room service in the next morning so we did that t and room service told us that we didnt have in room breakfast included so luckily jams had tables available on open table and we made a last minute reservation still had again the same options cheaper than the hotel charge for breakfast this seems like total unexperience to me when asked about including breakfast just say no we dont serve it but you are welcome to make a reservation at the jams restaurant and enjoy more than 10 options in their menu that would be great and honest dont pretend you have a service that you actually cant offer   im a bit late writing this review so to be fair it is possible that my issues have in the meantime been remedied the concept of this hotel is so wonderful i wanted to try it out even before it was opened the first impression did not disappoint the lobby and even the outside facade are a wonderful combination of environmentally conscious and still luxurious lovely and overall this is something that will work however we did encounter some issues that had to be addressed whilst staying there i hope it was just to be put down to growing pains but housekeeping was not up to standard our water glasses were still very dirty until i complained around the 3rd day the recycling basket wasnt emptied the first four days and on the odd occasion the room wasnt made up even after being out and about for several hours we did complain and things then ran smoothly otherwise everyone were very helpful some people complained about the size of the rooms and i agree they are small but youre in nyc and trying to do good so i think the size is acceptable nevertheless in this context i must say the closet in the room had no space for hanging long items winter coats long dresses all had to be hung outside this is not an option if you dont want your nice dress to spoil a long stay could then be quite a challenge depending on the time of year and your warderobe otherwise the decor in the room was lovely just my scene muted colours nice little plants warm woods this hotel has serious potential to be one of the top spots in the whole city its location is undoubtably splendid its concept is visionary but doable ill try brooklyn next which has just opened oh and on a last note the cedarwood scent in the lobby and on the floors is a bit overbearing after a while a little less would be a subtle gesture to welcoming your guests   excellent hotel cleancomfortablecozy friendly staffperfect location i will definetely stay in 1 hotel central park the next time i visit and i will also recommend it to anyone visitng ny it suits family couples and anyone coming for a business trip loved it   we spent just one night here overall an excellent experience from start to finish with just a few minor quibbles excellent front desk and we were able to get access to our room at 2pm lovely eco friendly decor with nice smells they advertise that they have thousands of plants in the hotel i wonder how many are alive many of those in our room were in a very sorry statedead spacious comfortable room  definitely big enough to be good for several days and everything seemed very new and sparklingly clean the sophisticated lighting system was a bit challenging to turn on and off when sleepy and the shower was positioned so as to flood the floor in the bathroom we had lunch in the restaurant  delicious and good service but quite pricey for what it was i think there was free fruit positioned next the concierge desk  slightly unclear and nobody told us it was that but what a nice idea if correct except it wasnt there when we left early the next morning so if you want you fruit first thing grab it the night before   great location and very nice hotel its only one central park the room perfect size jr suite on the corner no view on the 16th floor thi s was my 4th timing staying there for work only ding was room wasnt ready when i checkd in at 430   the hotel was in a prime location we will be visiting the brooklyn location next  the decor was on par the restaurant was amazinglittle pricey but you get what you pay for sub way is close central park is literally across the street look no further you have found the nicest hotel that i have ever stayed at in new york    couples weekend away from the kids fantastic location right off central park 5th ave easy subway access to downtown great service with superb response time and very clean would definitely stay here again   great location and very nice new hotel 1 block from central park the room was very nice on the 17th floor with a day bed offering a street view and glimpse of the park great staff who care about details special thanks to joshua daviswe have not visited the facilities as the gym so cannot comment on that though   staying for business for three days great location and extremely friendly staff i wanted to extend the stay but it was very nearly full byba and steven at the front desk fixed it in a thrice concierge very knowledgable and the gym is great my new base in new york   i hotel was a great place to stay as far as location to everything the decor was nicely done and very clean but the rooms are small the food at the hotel was very good and they are willing to accommodate you if you have special request on how the food is prepared   location is great appreciates you and that shows in friendliness service and every interactionthey have with you they remember you from previous stays greet you by name and make you feel like you are at home personalization is so important today and hotel 1 delivers onthat in every way   my husband and i loved 1 hotel central park we stayed five nights and enjoyed every one of them the hotel is welllocated for those wanting to visit museum mile central park or lincoln center all walkable or at least a short cab ride away the hotels decor as another reviewer observed is reminiscent of places in vancouver bc the hotel has an ecoconsciousness that we appreciated and decor of natural woods and plants soothed us each time we returned from city adventures our room was spacious by nyc standards with a cozy window seat ideal for peoplewatching the bed was sublimely comfortable the rain shower was a delight and to our surprise our room was remarkably quiet considering that we were seven floors above the street even better was the service every staffer treated us genially and responded promptly the concierge staff were particularly friendly and helpful one made sure to route us on the right train to visit the cloisters as the normal train was shut down the day we went the service staff both food service and inroom dining responded with unexpected alacrity we discovered when we first arrived in our room that the bathroom sink leaked i entered a service request on a bedside phone unit we then went for a job in central park when we returned there was a new sink remarkablealthough the hotel overall well warrants five stars we did have a few quibbles the rain shower in our room was located so that it was not possible to use it without water soaking the bath mat we had to get a new mat with each room refresh the smoke detector above our bed emitted a strobe flash continually a deflector for the light would be appropriate more problematic was the bedside phone unit 1 hotel central park uses it for hotel communications ordering delivery of digital newspapers and operation of room lights the phone unit was fiddly it drained power quickly when disconnected from the power cord but it would not operate correctly when connected the concept is great but the execution seemed to us a work in progress   this hotel not only looks beautiful it smells amazing cedar and sandalwood greet your nostrils as you enter reception youre surrounded by reclaimed timber fittings and atrium style planting and the rooms are fitted out with equal care about aesthetics it is one of the quietest rooms ive stayed in no noise from neighbouring rooms you dont hear others turning on their showers and you dont have the steady groan of the air con system creating white noise lovely and unusual considering you are located in busy nyc the service was generally good with the exception of some forgotten requests for champers glasses to be sent to our room and doormen who greeted us warmly and asked our names then gave blank looks 5 mins later when we returned not a big deal i would definitely stay here again   thank you to all the staff of 1 hotel for all the good moments everything was perfect the jams rest is a very good option just at the lobby as a compliment the hotel staff give us a prosseco bottle for our honeymoon   i stayed here for a week in august and was very very happy with my stay next time i am in new york i will definitely be returningfrom the big comfy bed the relaxing window seat the quiet room the warm welcome the wonderful housekeeping staff the restaurant and so much more this hotel is just...wonderfuli stayed in a city view king room on the 11th floor facing 6th avenue and not once was i bothered by noise well maybe once when i police siren went off right under my window but this is new yorkgreat location with the f train right on the corner it is close enough to everything that you needyes the control system in the room has it kinks and the room service does arrive in cardboard packaging but it is all in line with the hotel eco principlesi did have an issue with an room service overcharge after i had checked out but this was refunded after a quick phone callstay here you wont regret it   this is my third visit to this new brand very cool somewhat bohemian like hotel in the middle of posh manhattan seems slightly odd but it works efficient and friendly staff good if slightly small bedrooms and great bathrooms jams is excellent with a buzzy vibe i would thoroughly recommend it   so as my title saywhere do i begin we go to nyc usually once a year and part of the fun for me is finding a new hotel to stay at well 1 hotel central park may have ruined this for me as i dont think we will ever stay anywhere elsefrom the moment our car pulled up it felt like we were going to visit a distant relative we had never met before the kind you like driving down 6th ave you see one drab brick building after another and then up pops this wall covered in ivy every person that worked there introduced themselves and warmly welcomed us when you walk in you are hit with a beautiful earthly scent that you soon realize follows where ever you go each space is meticulously appointed with touches of nature framed in reclaimed lumber you are given a super cool round wooden chip that is the key for your room they attempt to be paperless so your room is controlled by an ipod type device which worked wonderfully the products in your room shampoo conditioner soap lotion are great so you dont need to bring anything with you we had mentioned upon registration that is was our anniversary so when we returned to our room after a walk through central park there sat a bottle of prosecco and a signed card from the staff the rooms are incredibly spacious for a nyc hotel my experience has been boutique hotel  300 sq feet...but not here the inroom coffee is wonderful in fact we spent the first morning just sitting in the window seat wrapped in a blanket looking out at the city drinking coffee and talkingthe workout room is well stocked with great equipment and is also spacious jams the hotel restaurant has great food and knows how to make a wonderful old fashion the only tiny issue was the one day we ordered room service our food was just warm...not hot the concierge nicole was wonderful at setting up massages for us and giving us some good advice so as you can see we highly recommend this hotel and we cant wait until we get back   we stayed for almost a week at the hotel it didnt feel like a hotel at all felt more like a cozy cabin in the woods especially in the city the design and idea behind recycling everything was great the staff were friendly helpful  as best as they could made our stay pleasant the room we booked was cute beds were comfortable however it was small for the luggage we had  didnt like how the bathroom was only a curtain away from the bed the location of the hotel was perfect close to central park and a walking distance from midtown its a great place to stay at but not with family   it one of the best hotel i have visited very comfortable wonderful with good city view i love the window view bed which give me the best of new york it has the best showers ever and the location is very perfect near central park i would like to visit again and again   wonderful intimate location with superb front desk and door service convenient to central park and relaxing atmosphere full work of art and the initial scent was welcoming would absolutely return for stay   we returned to 1 hotel central park a year after our first visit early october 2015 and 2016 staff member sunya was extremely helpful when i asked pretrip questions was the construction over yes which rooms have bathtubs etc she even took photos to send me many thanks to sunya for her helpwe stayed in a city king its so much bigger than the studio king bathtub no glass bathroom wall extra space to sit and leave your stuff and a big window seat a little nerve wracking with a little kid though im sure its safe we used the yoga mat as a picnic blanket for dinner one night there is a built in desk with one chair and the window seat for actual seating we enjoyed the nespresso machine for coffee and tea the shower is nice not huge but comfortable the only odd thing was the shallow sink with a huge faucet there was barely enough room for my hands there is often fruit and sometimes granola in the lobby though none  8 am sunday so we walked across the street to a little bodega we ordered take away from bengal tiger indian right across the street and ate at the broadway diner the concierge recommended this very packed but totally overpriced at 18 for three eggs and some toast we love madison kayser nearby try that for sure the gym looks nice though we didnt use it the hotel is in an awesome location super close to the park and an easy walk to both the east and west sides our stay was pretty costly luckily it was a business trip but i do think this hotel is now a fivestar its a modern fivestar hip staff uniforms very informal funky decor no newspapers a younger crowd but the place is very nice and quite responsive only snafu getting our suitcases took at least 15 minutes and our car came quickly from the valet so they parked it next door and no one volunteered to bring the bags to the car they bring ice to your room if you ask no water bottles for the environment plastic bathtub and a bit dark in the rooms  i suggest more lighting but i had a great time and would definitely return sunya was awesome and the free fruit setup friendly staff and amazing location are terrific    we really enjoyed our stay at this beautiful hotel the rooms are lovely and show attention to detail we loved loved loved the bed everyone working at the hotel was very friendly and helpful we felt most welcome i also loved the little treats that were out by the elevator every day we hope we can come back to stay at this hotel in the future   weve stayed at the plazathe pierre and the andaz now there is only 1 hotel for us in new york citythe 1 hotel central park thought the website a bit gimmicky children are seedlings and foraging for food in the lobby yet the minute we walked into the hotel we realised they are serious about their mission to transform the hospitality industrys focus towards environmental sustainability there are plants everywhere which makes the space feel intimate and calming the rooms are very comfortable the bed with hemp mattress define with lots of mirrors usb ports different lighting options and clever places to hang store clothes create privacy lovely daybedwindow seat that makes the room unique and difficult to leave no telephone nor tv remote control as everything is easily managed on a smart device recycled materials are used throughout the hotel and room however we never felt we were staying in anything other than 5 luxury the best feature of 1 hotel is its staff from reception to the doorman to housekeeping and the servers at jams restaurant everyone was helpful friendly and interested in ensuring we enjoyed our stay this is 1 special hotel   the location was perfect for my trip  sightseeing the staff members were so kind and helpful especially the concierge and christopher at the door the room was clean well furnished with green touches and surprisingly quiet i will definitely stay here again   loved the hotel our room and restaurant the overall theme and vibe of this hotel is reclaimed wood nature lots of hanging plants and succulents very welcoming and comfortable my friend and i had dinner at jams and had a delicious meal and drink with great service the next morning we had brunch at jams with our husbands the food was delicious we loved the restaurant because the huge windows let you know you are in the city and make for great people watching the front desk service was great hailing us taxis when needed we will be back   1 hotel strives to be eco friendly their ideas include recyclable door keys no paper in the room use a chalkboard instead carpet less floors and plenty of plantsin addition they are rather modernistic if you have been to a w before you will note a similaritythe rooms themselves are less private then conventional hotels the large shower is located between the bedroom and the sinktoilet a curtain provides some privacy when using the shower along with a retractable door the room is extremely quiet the bed is made of hemp lastly lights room controls billing etc are controlled by a small electronic devicestaff are very pleasant and really cater to your needs the breakfast was delicious and very reasonably priced given the locationive stayed at the pierre and the waldorf but given the overall picture i would stay at the 1 first   ive stayed at the park suite for a week the room is beautiful every detail is amazing and the view is breathtaking however if we will talk about services  the room service menu has nothing on it 3 options  the staff are not qualified to work at a 5 star hotel actually the hotel shouldnt be categorized as a 5 star hotel house keeping threw away my shoe box with a shoe in it and i didnt get any serious action about it i wont stay here again   this is an amazing hotel staff is nice and helpful hotel was spotless food is great and perfect location our whole group said they would be back the lobby offers fresh granola and fruit each day   this is a lovely comfortable and well located hideaway in manhattan the third time i stayed there and ill return again convenient location beautiful room warm  welcoming staff comfortable bed and fabulous shower also love the commitment to sustainability and all the eco friendly touches throughout best part is the little window bench where you can relax and look out over city below love this hotel   rooms are not fairly depicted in pictures  poor check in experience  kept me waiting 2 hours after check in time gave my prepaid room away while i was asked to wait put me in a dingy room that was not what i reserved said they would comp one days breakfast  but failed to do so till i reminded the front desk when i checked out all through this  the manager never came out to speak with me or even call to apologize even asked to speak with him and he just ignored my request i do travel a lot including 2 3 trips to nyc every year  by far the worst experience i have had   the first person i met at the front door of the hotel was christopher he could not have been nicer more helpful and honestly couldnt do enough for me he represents the quality of service at the hotel modern rustic luxury is the best way to describe the hotel with is full of stone plants and wood throughout perfect location as well and i was quite surprised at how quiet it was inside my room given that location a great hotel i will be back   we were greeted friendly at the information we got our room on the 18th floor our room had lots of light it was clean and cozy the staffs were very friendly and if you had a problem they attended to it right away deion was very attentive he always askedif you were ok and always had a big smile on his face the reception guys also really look out for you the hotel also has a very green and healthy atmosphere i would definitely go back there when i go to new york again   the hotel is really excellent the team is great and very helpful the design is inspiring and pleasant the food is great the hotel is situated in a perfect location and the value for money is great   we didnt stay in the hotel but ate lunch in the restaurant the design and the ambience are superb the food was excellent and very well presented nice size and great flavors prices are on the higher scale but without a doubt worth every pennythis hotelrestaurant should be one visit list   1st time in nyc and our stay was perfect the rooms were well appointed bearing in mind its ny and also the ecofriendly sustainability ethos the hotel promotes staff were always friendly and helpful and the ability to walk in to jams restaurant and enjoy a cocktail after a long day pounding the pavement was another plus also being so well located it made central park broadway shows great restaurants and 5th avenue shopping easily accessible while still only being a short walk from the hustle and bustle of times sq rockefeller centre and columbus circle   i was amazed with conception and design of the hotel recycle and organic principle all things in the room was great especially bath robes i fell in love with it location is great as well michael from front desk on night shift was very nice and helpful i want to move in this hotel and live there forever keep it up   unique we decided to go to nyc on a spurofthemoment trip for a concert in brooklyn and wanted to stay somewhere hip and differentbut not too loud like a nightclub my husband found 1 hotel central park on tripadvisor and we liked what others had to say and thought it looked unique we were not disappointed when we checked in  it was everything we were looking for it had an intimate feel to it but it was hip green and our room was just fantastic flawless we had he large king room and we were really pleased  especially loved the cool pad that controlled everything in the room including the tv forgot a razor and they promptly brought one up to me alsono little bottles of soap or shampoo here they refill larger ones in the room to keep waste down and you pump what you needthis makes senseeveryone was greatespecially the guys at the door including delon who were always willing to help us find a cab or the bicycle rentals in central park very welcoming also food at jams was great and convenient 5th avenue shopping is just steps away including the iconic apple store but better yet central park   worth every cent because of the excellent service from the time you get to the front door through check in and getting to your room european flavored hotel with out the snooty concierges and staff the concept of the hotel is environmentally conscious with attention to little details great staff who are passionate and really like what they do they go the extra mile to make your stay comfortable and warm every time i came down the elevator or back to the hotel after being out they asked if i needed anything food and service in the restaurant is outstanding great place for a long lunchthe hotel has a tesla for short rides in the city ask if it is available   the hotel is amazing the lobby is beautiful the mission of the hotel is completely aligned with the decor the room is clean cozy and quiet the service is very friendly but can improve efficiency   great location immediate acces to central park tesla car service available free of charge upon availabilty staff from arriving at the frontdoor to check out was superbrecommend everyone to go out and experience 1hotel central park   we where pleasantly surprised by this fantastic gem of a hotel small enough to have a personal touch the decor was trendy the rooms spacious and the service excellent the only problem we experienced was a dog barking in a neighbouring room but that was sorted out asap perfect location to walk to central park fifth avenue and just about anywhere we had a room with a view over central park which was absolutely fantastic highly recommended   i visited new york for the first time at the end of august expecting it to be sweltering hot and to have to spend nearly all my time in the hotel so i booked this cool alternative hotel although i ended up not spending much time here it was absolutely amazing the decor and service was superb although there was a slight problem with their smartphone service in the room which is used to order room service control tv lights etc but i was assured it was only because theyre a new addition i had a lovely view although it wasnt requested and was so near everything but just far away enough to really experience new york life ill definitely be returning   it will be hard to stay anywhere else after staying at this hotel the beauty the service the food were like none other ive experienced i took pictures of my hotel room and sent to my family ive never done that   the one and only place to stay in new york city from the first hello threw our stay it was an extraordinary experience the room with a view of a central park entrance the facility and the staff everything was great and the lady from the concierge desk was more than helpful we will be back around christmas for sure   first this is an excellent hotel and if my room has a street view i would probably rate this hotel as 55 however in reality i upgraded my room to suite room which was bigger in size but i was very unlucky that the view from my room was not a garden viewnot even a street view but an inward facing room with a big fan ac brick wall and noise 247 unfortunately by the time i got to my room other rooms were fully booked if i knew this i wont have picked suit room at the first place i would probably have chosen a normal room instead because i wanted something more ordinary and did not mind to pay slightly more but this let me down after all as i said somebody has to be unlucky and may be it happened to be me   i stayed at the 1 hotel central park in early august as part of a work trip this was my first time staying at the hotel and overall i had a terrific experience the hotel was very trendy and everything was clean and in great condition i was upgraded upon checkingin which i wasnt expecting as my travel agent booked the trip and was a great surprise the hotel is very close to 5th ave many mid town attractions and central park in addition i arrived at the hotel on a monday night after a later flight around 910pm and when i went down to the bar to grab a drink and dinner it was about 15min to closing time for the kitchen when i inquired about a dinner menu the bartender informed me that they had closed the kitchen due to a limited crowd i somewhat expected this so i wasnt upset but somewhat disappointed as id have to venture out to grab a bite within a few minutes a manager came up to me at the bar introduced herself and said that they would be happy to make me something to eat i opted for the kale ceaser to keep it easy but they said they would happily make me anything on the menu what a great surprise and an extremely appreciated touch of service after a long day this extra step left me with an extremely impressed view of the hotel and the level of service another nice feature of the hotel is that they have a house car and driver that they pointed me to when i was looking for a taxi to take me to a meeting that will drive you to locations in the area for free on top of that the car was a brand new tesla which was awesome the cardriver drove me to a meeting nearby during rush hour when there werent any taxis around  very helpful i highly recommend the hotel if you are looking for a trendy clean and high service hotel in midtown for travelers on a budget they sometimes run summer rate specials which i received as part of booking during august and thought was a good deal for a nicer hotel in manhattan i believe i paid 400 a night including taxes which i thought was a good deal for manhattan at a new and nicer hotel   the one is a different kind of hotel and you feel it i have seen bigger rooms and better views but is a different and new hotel atmosphere you feel at home service could be much more expedite location could not be better   we stayed there at the end of august for 2 nights great service from front of the house reception and doormen very clean  thanks go to housekeeping amazing design great bar  thank you to my bartender i loved the socks instead of the slippers cool robes the most comfortable pillows my turn down attendant was very nice i happened to walk in on her and she was performing the service and she was very polite amazing location of course great bathroom amenities there was a problem upon check out but it was fixed so i will not accent my attention on that this is a new hotel and need time for all the procedures to settle overall i highly recommend '"
      ]
     },
     "execution_count": 222,
     "metadata": {},
     "output_type": "execute_result"
    }
   ],
   "source": [
    "df_by_hotel.content_utf8[0]"
   ]
  },
  {
   "cell_type": "code",
   "execution_count": 223,
   "metadata": {
    "collapsed": false
   },
   "outputs": [
    {
     "name": "stdout",
     "output_type": "stream",
     "text": [
      "['all', 'six', 'less', 'being', 'indeed', 'over', 'move', 'anyway', 'fifty', 'four', 'not', 'own', 'through', 'yourselves', 'go', 'where', 'mill', 'only', 'find', 'before', 'one', 'whose', 'system', 'how', 'somewhere', 'with', 'thick', 'show', 'had', 'enough', 'should', 'to', 'must', 'whom', 'seeming', 'under', 'ours', 'has', 'might', 'thereafter', 'latterly', 'do', 'them', 'his', 'around', 'than', 'get', 'very', 'de', 'none', 'cannot', 'every', 'whether', 'they', 'front', 'during', 'thus', 'now', 'him', 'nor', 'name', 'several', 'hereafter', 'always', 'who', 'cry', 'whither', 'this', 'someone', 'either', 'each', 'become', 'thereupon', 'sometime', 'side', 'two', 'therein', 'twelve', 'because', 'often', 'ten', 'our', 'eg', 'some', 'back', 'up', 'namely', 'towards', 'are', 'further', 'beyond', 'ourselves', 'yet', 'out', 'even', 'will', 'what', 'still', 'for', 'bottom', 'mine', 'since', 'please', 'forty', 'per', 'its', 'everything', 'behind', 'un', 'above', 'between', 'it', 'neither', 'seemed', 'ever', 'across', 'she', 'somehow', 'be', 'we', 'full', 'never', 'sixty', 'however', 'here', 'otherwise', 'were', 'whereupon', 'nowhere', 'although', 'found', 'alone', 're', 'along', 'fifteen', 'by', 'both', 'about', 'last', 'would', 'anything', 'via', 'many', 'could', 'thence', 'put', 'against', 'keep', 'etc', 'amount', 'became', 'ltd', 'hence', 'onto', 'or', 'con', 'among', 'already', 'co', 'afterwards', 'formerly', 'within', 'seems', 'into', 'others', 'while', 'whatever', 'except', 'down', 'hers', 'everyone', 'done', 'least', 'another', 'whoever', 'moreover', 'couldnt', 'throughout', 'anyhow', 'yourself', 'three', 'from', 'her', 'few', 'together', 'top', 'there', 'due', 'been', 'next', 'anyone', 'eleven', 'much', 'call', 'therefore', 'interest', 'then', 'thru', 'themselves', 'hundred', 'was', 'sincere', 'empty', 'more', 'himself', 'elsewhere', 'mostly', 'on', 'fire', 'am', 'becoming', 'hereby', 'amongst', 'else', 'part', 'everywhere', 'too', 'herself', 'former', 'those', 'he', 'me', 'myself', 'made', 'twenty', 'these', 'bill', 'cant', 'us', 'until', 'besides', 'nevertheless', 'below', 'anywhere', 'nine', 'can', 'of', 'your', 'toward', 'my', 'something', 'and', 'whereafter', 'whenever', 'give', 'almost', 'wherever', 'is', 'describe', 'beforehand', 'herein', 'an', 'as', 'itself', 'at', 'have', 'in', 'seem', 'whence', 'ie', 'any', 'fill', 'again', 'hasnt', 'inc', 'thereby', 'thin', 'no', 'perhaps', 'latter', 'meanwhile', 'when', 'detail', 'same', 'wherein', 'beside', 'also', 'that', 'other', 'take', 'which', 'becomes', 'you', 'if', 'nobody', 'see', 'though', 'may', 'after', 'upon', 'most', 'hereupon', 'eight', 'but', 'serious', 'nothing', 'such', 'why', 'a', 'off', 'whereby', 'third', 'i', 'whole', 'noone', 'sometimes', 'well', 'amoungst', 'yours', 'their', 'rather', 'without', 'so', 'five', 'the', 'first', 'whereas', 'once']\n"
     ]
    }
   ],
   "source": [
    "from sklearn.feature_extraction.text import ENGLISH_STOP_WORDS\n",
    "stop_words = list(ENGLISH_STOP_WORDS)\n",
    "print stop_words"
   ]
  },
  {
   "cell_type": "code",
   "execution_count": 224,
   "metadata": {
    "collapsed": true
   },
   "outputs": [],
   "source": [
    "stop_words2_str = 'i, me, my, myself, we, our, ours, ourselves, you, your, yours, yourself, yourselves, he, him, his, himself, she, her, hers, herself, it, its, itself, they, them, their, theirs, themselves, what, which, who, whom, this, that, these, those, am, is, are, was, were, be, been, being, have, has, had, having, do, does, did, doing, a, an, the, and, but, if, or, because, as, until, while, of, at, by, for, with, about, against, between, into, through, during, before, after, above, below, to, from, up, down, in, out, on, off, over, under, again, further, then, once, here, there, when, where, why, how, all, any, both, each, few, more, most, other, some, such, no, nor, not, only, own, same, so, than, too, very, s, t, can, will, just, don, should, now'"
   ]
  },
  {
   "cell_type": "code",
   "execution_count": 225,
   "metadata": {
    "collapsed": false
   },
   "outputs": [
    {
     "data": {
      "text/plain": [
       "['i',\n",
       " 'me',\n",
       " 'my',\n",
       " 'myself',\n",
       " 'we',\n",
       " 'our',\n",
       " 'ours',\n",
       " 'ourselves',\n",
       " 'you',\n",
       " 'your',\n",
       " 'yours',\n",
       " 'yourself',\n",
       " 'yourselves',\n",
       " 'he',\n",
       " 'him',\n",
       " 'his',\n",
       " 'himself',\n",
       " 'she',\n",
       " 'her',\n",
       " 'hers',\n",
       " 'herself',\n",
       " 'it',\n",
       " 'its',\n",
       " 'itself',\n",
       " 'they',\n",
       " 'them',\n",
       " 'their',\n",
       " 'theirs',\n",
       " 'themselves',\n",
       " 'what',\n",
       " 'which',\n",
       " 'who',\n",
       " 'whom',\n",
       " 'this',\n",
       " 'that',\n",
       " 'these',\n",
       " 'those',\n",
       " 'am',\n",
       " 'is',\n",
       " 'are',\n",
       " 'was',\n",
       " 'were',\n",
       " 'be',\n",
       " 'been',\n",
       " 'being',\n",
       " 'have',\n",
       " 'has',\n",
       " 'had',\n",
       " 'having',\n",
       " 'do',\n",
       " 'does',\n",
       " 'did',\n",
       " 'doing',\n",
       " 'a',\n",
       " 'an',\n",
       " 'the',\n",
       " 'and',\n",
       " 'but',\n",
       " 'if',\n",
       " 'or',\n",
       " 'because',\n",
       " 'as',\n",
       " 'until',\n",
       " 'while',\n",
       " 'of',\n",
       " 'at',\n",
       " 'by',\n",
       " 'for',\n",
       " 'with',\n",
       " 'about',\n",
       " 'against',\n",
       " 'between',\n",
       " 'into',\n",
       " 'through',\n",
       " 'during',\n",
       " 'before',\n",
       " 'after',\n",
       " 'above',\n",
       " 'below',\n",
       " 'to',\n",
       " 'from',\n",
       " 'up',\n",
       " 'down',\n",
       " 'in',\n",
       " 'out',\n",
       " 'on',\n",
       " 'off',\n",
       " 'over',\n",
       " 'under',\n",
       " 'again',\n",
       " 'further',\n",
       " 'then',\n",
       " 'once',\n",
       " 'here',\n",
       " 'there',\n",
       " 'when',\n",
       " 'where',\n",
       " 'why',\n",
       " 'how',\n",
       " 'all',\n",
       " 'any',\n",
       " 'both',\n",
       " 'each',\n",
       " 'few',\n",
       " 'more',\n",
       " 'most',\n",
       " 'other',\n",
       " 'some',\n",
       " 'such',\n",
       " 'no',\n",
       " 'nor',\n",
       " 'not',\n",
       " 'only',\n",
       " 'own',\n",
       " 'same',\n",
       " 'so',\n",
       " 'than',\n",
       " 'too',\n",
       " 'very',\n",
       " 's',\n",
       " 't',\n",
       " 'can',\n",
       " 'will',\n",
       " 'just',\n",
       " 'don',\n",
       " 'should',\n",
       " 'now']"
      ]
     },
     "execution_count": 225,
     "metadata": {},
     "output_type": "execute_result"
    }
   ],
   "source": [
    "stop_words2 = stop_words2_str.split(', ')\n",
    "stop_words2"
   ]
  },
  {
   "cell_type": "code",
   "execution_count": 226,
   "metadata": {
    "collapsed": true
   },
   "outputs": [],
   "source": [
    "stop_words_final = []\n",
    "for word in stop_words2:\n",
    "    if word in stop_words:\n",
    "        pass\n",
    "    else:\n",
    "        stop_words.append(word)"
   ]
  },
  {
   "cell_type": "code",
   "execution_count": 135,
   "metadata": {
    "collapsed": true
   },
   "outputs": [],
   "source": [
    "# vectorizer = CountVectorizer(stop_words=stop_words)\n",
    "# X = vectorizer.fit_transform(df_by_hotel['content'])"
   ]
  },
  {
   "cell_type": "code",
   "execution_count": 136,
   "metadata": {
    "collapsed": false
   },
   "outputs": [],
   "source": [
    "# X.shape"
   ]
  },
  {
   "cell_type": "code",
   "execution_count": 137,
   "metadata": {
    "collapsed": false
   },
   "outputs": [],
   "source": [
    "# type(X)"
   ]
  },
  {
   "cell_type": "code",
   "execution_count": 227,
   "metadata": {
    "collapsed": true
   },
   "outputs": [],
   "source": [
    "X_text_col = df_by_hotel['content_utf8']"
   ]
  },
  {
   "cell_type": "code",
   "execution_count": 228,
   "metadata": {
    "collapsed": true
   },
   "outputs": [],
   "source": [
    "# Preprocess text data to Tfidf\n",
    "vect = TfidfVectorizer(stop_words=stop_words,ngram_range=(1,2),min_df=0.1,max_df=0.8)\n",
    "X_text = vect.fit_transform(X_text_col)"
   ]
  },
  {
   "cell_type": "code",
   "execution_count": 229,
   "metadata": {
    "collapsed": false
   },
   "outputs": [
    {
     "data": {
      "image/png": "[encoded data removed]",
      "text/plain": [
       "<matplotlib.figure.Figure at 0x30edd9890>"
      ]
     },
     "metadata": {},
     "output_type": "display_data"
    }
   ],
   "source": [
    "X_text_df = pd.DataFrame(X_text.toarray(), columns=vect.vocabulary_)\n",
    "tf_df = pd.DataFrame(X_text_df.mean(), columns=[\"freq\"])\n",
    "title = \"Frequency - Top 20\"\n",
    "tf_df.sort_values(\"freq\").tail(20).plot(kind=\"barh\", title=title, figsize=(14,8))\n",
    "plt.show()"
   ]
  },
  {
   "cell_type": "code",
   "execution_count": 230,
   "metadata": {
    "collapsed": false
   },
   "outputs": [
    {
     "data": {
      "text/html": [
       "<div>\n",
       "<table border=\"1\" class=\"dataframe\">\n",
       "  <thead>\n",
       "    <tr style=\"text-align: right;\">\n",
       "      <th></th>\n",
       "      <th>fix</th>\n",
       "      <th>square hells</th>\n",
       "      <th>staff quite</th>\n",
       "      <th>honeymoon</th>\n",
       "      <th>ground</th>\n",
       "      <th>quieter room</th>\n",
       "      <th>avenue times</th>\n",
       "      <th>location away</th>\n",
       "      <th>quite lot</th>\n",
       "      <th>sorted</th>\n",
       "      <th>...</th>\n",
       "      <th>nyc staff</th>\n",
       "      <th>street blocks</th>\n",
       "      <th>city view</th>\n",
       "      <th>250 night</th>\n",
       "      <th>710</th>\n",
       "      <th>unhappy</th>\n",
       "      <th>times stayed</th>\n",
       "      <th>especially concierge</th>\n",
       "      <th>year ago</th>\n",
       "      <th>restaurants walking</th>\n",
       "    </tr>\n",
       "  </thead>\n",
       "  <tbody>\n",
       "    <tr>\n",
       "      <th>0</th>\n",
       "      <td>0.000000</td>\n",
       "      <td>0.0</td>\n",
       "      <td>0.0</td>\n",
       "      <td>0.0</td>\n",
       "      <td>0.000000</td>\n",
       "      <td>0.000000</td>\n",
       "      <td>0.000000</td>\n",
       "      <td>0.000000</td>\n",
       "      <td>0.0</td>\n",
       "      <td>0.000000</td>\n",
       "      <td>...</td>\n",
       "      <td>0.000000</td>\n",
       "      <td>0.0</td>\n",
       "      <td>0.000000</td>\n",
       "      <td>0.000000</td>\n",
       "      <td>0.000000</td>\n",
       "      <td>0.0</td>\n",
       "      <td>0.000000</td>\n",
       "      <td>0.000000</td>\n",
       "      <td>0.0</td>\n",
       "      <td>0.016459</td>\n",
       "    </tr>\n",
       "    <tr>\n",
       "      <th>1</th>\n",
       "      <td>0.006366</td>\n",
       "      <td>0.0</td>\n",
       "      <td>0.0</td>\n",
       "      <td>0.0</td>\n",
       "      <td>0.000000</td>\n",
       "      <td>0.000000</td>\n",
       "      <td>0.005940</td>\n",
       "      <td>0.005146</td>\n",
       "      <td>0.0</td>\n",
       "      <td>0.006366</td>\n",
       "      <td>...</td>\n",
       "      <td>0.000000</td>\n",
       "      <td>0.0</td>\n",
       "      <td>0.017526</td>\n",
       "      <td>0.006407</td>\n",
       "      <td>0.000000</td>\n",
       "      <td>0.0</td>\n",
       "      <td>0.004131</td>\n",
       "      <td>0.006439</td>\n",
       "      <td>0.0</td>\n",
       "      <td>0.000000</td>\n",
       "    </tr>\n",
       "    <tr>\n",
       "      <th>2</th>\n",
       "      <td>0.000000</td>\n",
       "      <td>0.0</td>\n",
       "      <td>0.0</td>\n",
       "      <td>0.0</td>\n",
       "      <td>0.000000</td>\n",
       "      <td>0.000000</td>\n",
       "      <td>0.000000</td>\n",
       "      <td>0.000000</td>\n",
       "      <td>0.0</td>\n",
       "      <td>0.000000</td>\n",
       "      <td>...</td>\n",
       "      <td>0.016631</td>\n",
       "      <td>0.0</td>\n",
       "      <td>0.018660</td>\n",
       "      <td>0.000000</td>\n",
       "      <td>0.000000</td>\n",
       "      <td>0.0</td>\n",
       "      <td>0.000000</td>\n",
       "      <td>0.000000</td>\n",
       "      <td>0.0</td>\n",
       "      <td>0.000000</td>\n",
       "    </tr>\n",
       "    <tr>\n",
       "      <th>3</th>\n",
       "      <td>0.000000</td>\n",
       "      <td>0.0</td>\n",
       "      <td>0.0</td>\n",
       "      <td>0.0</td>\n",
       "      <td>0.000000</td>\n",
       "      <td>0.007167</td>\n",
       "      <td>0.022444</td>\n",
       "      <td>0.034026</td>\n",
       "      <td>0.0</td>\n",
       "      <td>0.000000</td>\n",
       "      <td>...</td>\n",
       "      <td>0.000000</td>\n",
       "      <td>0.0</td>\n",
       "      <td>0.000000</td>\n",
       "      <td>0.000000</td>\n",
       "      <td>0.000000</td>\n",
       "      <td>0.0</td>\n",
       "      <td>0.007805</td>\n",
       "      <td>0.012165</td>\n",
       "      <td>0.0</td>\n",
       "      <td>0.000000</td>\n",
       "    </tr>\n",
       "    <tr>\n",
       "      <th>4</th>\n",
       "      <td>0.000000</td>\n",
       "      <td>0.0</td>\n",
       "      <td>0.0</td>\n",
       "      <td>0.0</td>\n",
       "      <td>0.003788</td>\n",
       "      <td>0.003744</td>\n",
       "      <td>0.011725</td>\n",
       "      <td>0.005079</td>\n",
       "      <td>0.0</td>\n",
       "      <td>0.000000</td>\n",
       "      <td>...</td>\n",
       "      <td>0.000000</td>\n",
       "      <td>0.0</td>\n",
       "      <td>0.000000</td>\n",
       "      <td>0.000000</td>\n",
       "      <td>0.005422</td>\n",
       "      <td>0.0</td>\n",
       "      <td>0.008154</td>\n",
       "      <td>0.000000</td>\n",
       "      <td>0.0</td>\n",
       "      <td>0.000000</td>\n",
       "    </tr>\n",
       "  </tbody>\n",
       "</table>\n",
       "<p>5 rows × 13522 columns</p>\n",
       "</div>"
      ],
      "text/plain": [
       "        fix  square hells  staff quite  honeymoon    ground  quieter room  \\\n",
       "0  0.000000           0.0          0.0        0.0  0.000000      0.000000   \n",
       "1  0.006366           0.0          0.0        0.0  0.000000      0.000000   \n",
       "2  0.000000           0.0          0.0        0.0  0.000000      0.000000   \n",
       "3  0.000000           0.0          0.0        0.0  0.000000      0.007167   \n",
       "4  0.000000           0.0          0.0        0.0  0.003788      0.003744   \n",
       "\n",
       "   avenue times  location away  quite lot    sorted         ...           \\\n",
       "0      0.000000       0.000000        0.0  0.000000         ...            \n",
       "1      0.005940       0.005146        0.0  0.006366         ...            \n",
       "2      0.000000       0.000000        0.0  0.000000         ...            \n",
       "3      0.022444       0.034026        0.0  0.000000         ...            \n",
       "4      0.011725       0.005079        0.0  0.000000         ...            \n",
       "\n",
       "   nyc staff  street blocks  city view  250 night       710  unhappy  \\\n",
       "0   0.000000            0.0   0.000000   0.000000  0.000000      0.0   \n",
       "1   0.000000            0.0   0.017526   0.006407  0.000000      0.0   \n",
       "2   0.016631            0.0   0.018660   0.000000  0.000000      0.0   \n",
       "3   0.000000            0.0   0.000000   0.000000  0.000000      0.0   \n",
       "4   0.000000            0.0   0.000000   0.000000  0.005422      0.0   \n",
       "\n",
       "   times stayed  especially concierge  year ago  restaurants walking  \n",
       "0      0.000000              0.000000       0.0             0.016459  \n",
       "1      0.004131              0.006439       0.0             0.000000  \n",
       "2      0.000000              0.000000       0.0             0.000000  \n",
       "3      0.007805              0.012165       0.0             0.000000  \n",
       "4      0.008154              0.000000       0.0             0.000000  \n",
       "\n",
       "[5 rows x 13522 columns]"
      ]
     },
     "execution_count": 230,
     "metadata": {},
     "output_type": "execute_result"
    }
   ],
   "source": [
    "X_text_df.head()"
   ]
  },
  {
   "cell_type": "code",
   "execution_count": 231,
   "metadata": {
    "collapsed": false
   },
   "outputs": [
    {
     "data": {
      "text/plain": [
       "(444, 13522)"
      ]
     },
     "execution_count": 231,
     "metadata": {},
     "output_type": "execute_result"
    }
   ],
   "source": [
    "X_text_df.shape"
   ]
  },
  {
   "cell_type": "code",
   "execution_count": 232,
   "metadata": {
    "collapsed": false
   },
   "outputs": [
    {
     "data": {
      "text/plain": [
       "(13522, 1)"
      ]
     },
     "execution_count": 232,
     "metadata": {},
     "output_type": "execute_result"
    }
   ],
   "source": [
    "tf_df.shape"
   ]
  },
  {
   "cell_type": "code",
   "execution_count": 233,
   "metadata": {
    "collapsed": false
   },
   "outputs": [
    {
     "data": {
      "text/html": [
       "<div>\n",
       "<table border=\"1\" class=\"dataframe\">\n",
       "  <thead>\n",
       "    <tr style=\"text-align: right;\">\n",
       "      <th></th>\n",
       "      <th>freq</th>\n",
       "    </tr>\n",
       "  </thead>\n",
       "  <tbody>\n",
       "    <tr>\n",
       "      <th>unhappy</th>\n",
       "      <td>0.001329</td>\n",
       "    </tr>\n",
       "    <tr>\n",
       "      <th>times stayed</th>\n",
       "      <td>0.002611</td>\n",
       "    </tr>\n",
       "    <tr>\n",
       "      <th>especially concierge</th>\n",
       "      <td>0.005441</td>\n",
       "    </tr>\n",
       "    <tr>\n",
       "      <th>year ago</th>\n",
       "      <td>0.001800</td>\n",
       "    </tr>\n",
       "    <tr>\n",
       "      <th>restaurants walking</th>\n",
       "      <td>0.001396</td>\n",
       "    </tr>\n",
       "  </tbody>\n",
       "</table>\n",
       "</div>"
      ],
      "text/plain": [
       "                          freq\n",
       "unhappy               0.001329\n",
       "times stayed          0.002611\n",
       "especially concierge  0.005441\n",
       "year ago              0.001800\n",
       "restaurants walking   0.001396"
      ]
     },
     "execution_count": 233,
     "metadata": {},
     "output_type": "execute_result"
    }
   ],
   "source": [
    "tf_df.tail()"
   ]
  },
  {
   "cell_type": "code",
   "execution_count": 234,
   "metadata": {
    "collapsed": false
   },
   "outputs": [
    {
     "data": {
      "text/plain": [
       "{u'fix': 4236,\n",
       " u'square hells': 11114,\n",
       " u'staff quite': 11270,\n",
       " u'honeymoon': 5403,\n",
       " u'ground': 5038,\n",
       " u'quieter room': 9033,\n",
       " u'avenue times': 863,\n",
       " u'location away': 6725,\n",
       " u'quite lot': 9053,\n",
       " u'sorted': 10934,\n",
       " u'quibble': 8986,\n",
       " u'inconsistent': 6075,\n",
       " u'welcomed': 13163,\n",
       " u'breakfast time': 1626,\n",
       " u'welcomes': 13164,\n",
       " u'staff food': 11209,\n",
       " u'hotel going': 5608,\n",
       " u'coffeemaker': 2399,\n",
       " u'girls trip': 4633,\n",
       " u'overall highly': 8219,\n",
       " u'shocking': 10510,\n",
       " u'swipe': 11957,\n",
       " u'fabulous view': 4001,\n",
       " u'quiet rooms': 9026,\n",
       " u'great selection': 4972,\n",
       " u'room long': 9854,\n",
       " u'family friendly': 4044,\n",
       " u'room relatively': 9930,\n",
       " u'staring': 11352,\n",
       " u'different hotel': 3218,\n",
       " u'room higher': 9816,\n",
       " u'service hotel': 10411,\n",
       " u'flawless': 4254,\n",
       " u'extremely slow': 3984,\n",
       " u'tv nice': 12550,\n",
       " u'runs': 10178,\n",
       " u'tiny rooms': 12292,\n",
       " u'worth stay': 13381,\n",
       " u'right subway': 9606,\n",
       " u'relatively new': 9339,\n",
       " u'broadway plays': 1660,\n",
       " u'bed linens': 1172,\n",
       " u'doormen desk': 3406,\n",
       " u'ride away': 9574,\n",
       " u'noise air': 7852,\n",
       " u'come visit': 2437,\n",
       " u'hotel totally': 5822,\n",
       " u'exciting': 3837,\n",
       " u'thanksgiving holiday': 12083,\n",
       " u'chair': 1938,\n",
       " u'awesome location': 910,\n",
       " u'went room': 13197,\n",
       " u'room wanted': 10011,\n",
       " u'wasnt cleaned': 13052,\n",
       " u'clean bathroom': 2174,\n",
       " u'clean modern': 2224,\n",
       " u'feel staff': 4155,\n",
       " u'isnt big': 6187,\n",
       " u'rooms actually': 10029,\n",
       " u'communal': 2533,\n",
       " u'long island': 6861,\n",
       " u'camera': 1815,\n",
       " u'floor beautiful': 4270,\n",
       " u'catered': 1876,\n",
       " u'say staff': 10260,\n",
       " u'distant': 3321,\n",
       " u'really make': 9174,\n",
       " u'future stays': 4561,\n",
       " u'serves breakfast': 10367,\n",
       " u'omg': 8126,\n",
       " u'hand towels': 5101,\n",
       " u'assigned': 765,\n",
       " u'building old': 1703,\n",
       " u'flat iron': 4246,\n",
       " u'hotel placed': 5727,\n",
       " u'arguing': 685,\n",
       " u'august': 830,\n",
       " u'consisted': 2650,\n",
       " u'small like': 10799,\n",
       " u'walk restaurants': 12930,\n",
       " u'tacky': 11970,\n",
       " u'sucks': 11823,\n",
       " u'decent location': 2978,\n",
       " u'location breakfast': 6735,\n",
       " u'noise outside': 7870,\n",
       " u'location broadway': 6737,\n",
       " u'stay wait': 11546,\n",
       " u'safes': 10199,\n",
       " u'small need': 10806,\n",
       " u'coke': 2402,\n",
       " u'want good': 12987,\n",
       " u'hotel said': 5775,\n",
       " u'ave subway': 856,\n",
       " u'comfortable breakfast': 2450,\n",
       " u'restaurants blocks': 9491,\n",
       " u'rooms bed': 10042,\n",
       " u'service expect': 10398,\n",
       " u'staff efficient': 11199,\n",
       " u'considering price': 2649,\n",
       " u'fault hotel': 4113,\n",
       " u'restaurants right': 9504,\n",
       " u'deliveries': 3065,\n",
       " u'space toiletries': 10977,\n",
       " u'learn': 6444,\n",
       " u'definitely place': 3036,\n",
       " u'problematic': 8872,\n",
       " u'today': 12306,\n",
       " u'clean bit': 2183,\n",
       " u'clean big': 2182,\n",
       " u'figure': 4192,\n",
       " u'hotel isnt': 5642,\n",
       " u'surfaces': 11926,\n",
       " u'office manager': 8095,\n",
       " u'direction': 3255,\n",
       " u'deserve': 3087,\n",
       " u'restaurant amazing': 9455,\n",
       " u'apartment': 580,\n",
       " u'noise nyc': 7869,\n",
       " u'family friends': 4045,\n",
       " u'standards comfortable': 11335,\n",
       " u'attention': 802,\n",
       " u'shirt': 10506,\n",
       " u'plaza': 8625,\n",
       " u'stayed deluxe': 11571,\n",
       " u'slightly larger': 10738,\n",
       " u'amazing food': 503,\n",
       " u'safe room': 10194,\n",
       " u'hotel quality': 5747,\n",
       " u'1500': 58,\n",
       " u'door desk': 3389,\n",
       " u'wifi free': 13242,\n",
       " u'daughter stayed': 2882,\n",
       " u'rooms time': 10141,\n",
       " u'yellow': 13426,\n",
       " u'thing hotel': 12121,\n",
       " u'ice water': 5983,\n",
       " u'defiantly': 3018,\n",
       " u'menu': 7261,\n",
       " u'perfect view': 8463,\n",
       " u'comfortable amenities': 2442,\n",
       " u'youre visiting': 13511,\n",
       " u'trade center': 12406,\n",
       " u'tasted': 11992,\n",
       " u'tastes': 11996,\n",
       " u'small boutique': 10760,\n",
       " u'moment left': 7409,\n",
       " u'room noticed': 9886,\n",
       " u'gone': 4686,\n",
       " u'upkeep': 12671,\n",
       " u'wifi nice': 13248,\n",
       " u'breakfast included': 1585,\n",
       " u'room recommend': 9928,\n",
       " u'poor quality': 8703,\n",
       " u'east river': 3534,\n",
       " u'garden': 4576,\n",
       " u'ladies': 6356,\n",
       " u'best possible': 1289,\n",
       " u'drug': 3486,\n",
       " u'theyve': 12119,\n",
       " u'seedy': 10319,\n",
       " u'staff checkin': 11181,\n",
       " u'quiet heard': 9013,\n",
       " u'citythe': 2156,\n",
       " u'doable': 3337,\n",
       " u'awful': 915,\n",
       " u'stayed lot': 11586,\n",
       " u'gentleman': 4606,\n",
       " u'make place': 7108,\n",
       " u'street easy': 11711,\n",
       " u'room safe': 9938,\n",
       " u'room close': 9726,\n",
       " u'called hotel': 1798,\n",
       " u'visit big': 12833,\n",
       " u'encountered friendly': 3644,\n",
       " u'dedicated': 3014,\n",
       " u'30 seconds': 153,\n",
       " u'clean air': 2169,\n",
       " u'prepare': 8757,\n",
       " u'hot breakfast': 5442,\n",
       " u'soon stayed': 10922,\n",
       " u'reception desk': 9239,\n",
       " u'fool': 4373,\n",
       " u'foot': 4375,\n",
       " u'hotel ny': 5703,\n",
       " u'accept': 327,\n",
       " u'trees': 12467,\n",
       " u'rolls': 9641,\n",
       " u'required': 9414,\n",
       " u'requires': 9417,\n",
       " u'cupcakes': 2843,\n",
       " u'blocks hotel': 1444,\n",
       " u'therethe': 12113,\n",
       " u'kitchen area': 6317,\n",
       " u'working room': 13357,\n",
       " u'outside door': 8200,\n",
       " u'addition': 387,\n",
       " u'reflection': 9303,\n",
       " u'lots room': 6940,\n",
       " u'comfortable bedding': 2446,\n",
       " u'public library': 8937,\n",
       " u'view nyc': 12804,\n",
       " u'nice people': 7697,\n",
       " u'place nyc': 8560,\n",
       " u'tad small': 11972,\n",
       " u'picking': 8510,\n",
       " u'legs': 6465,\n",
       " u'hotel reception': 5760,\n",
       " u'cloth': 2351,\n",
       " u'contemporary': 2669,\n",
       " u'week business': 13128,\n",
       " u'nyc offer': 8004,\n",
       " u'place really': 8564,\n",
       " u'wifes': 13232,\n",
       " u'park subway': 8326,\n",
       " u'available breakfast': 843,\n",
       " u'room right': 9936,\n",
       " u'stay desk': 11433,\n",
       " u'starting': 11358,\n",
       " u'nervous': 7603,\n",
       " u'business travel': 1751,\n",
       " u'individual': 6096,\n",
       " u'floor perfect': 4301,\n",
       " u'business meeting': 1744,\n",
       " u'family great': 4046,\n",
       " u'air condition': 450,\n",
       " u'housekeeper': 5930,\n",
       " u'ledge': 6455,\n",
       " u'look room': 6879,\n",
       " u'vacations': 12732,\n",
       " u'service nice': 10421,\n",
       " u'service elevator': 10394,\n",
       " u'asked stay': 753,\n",
       " u'narrow': 7489,\n",
       " u'going nyc': 4678,\n",
       " u'quiet hotel': 9014,\n",
       " u'king sized': 6308,\n",
       " u'greeted smile': 5022,\n",
       " u'bistro': 1384,\n",
       " u'screens': 10285,\n",
       " u'armoire': 688,\n",
       " u'booked night': 1485,\n",
       " u'comfortable perfect': 2478,\n",
       " u'fantastic rooms': 4076,\n",
       " u'weights': 13158,\n",
       " u'come hotel': 2428,\n",
       " u'stay wonderful': 11555,\n",
       " u'hotel high': 5622,\n",
       " u'coffee facilities': 2372,\n",
       " u'reviews tripadvisor': 9566,\n",
       " u'room adequate': 9673,\n",
       " u'good restaurant': 4768,\n",
       " u'dinner night': 3247,\n",
       " u'service free': 10404,\n",
       " u'square perfect': 11128,\n",
       " u'raining': 9075,\n",
       " u'midtown great': 7308,\n",
       " u'noise traffic': 7878,\n",
       " u'impossible sleep': 6040,\n",
       " u'area nyc': 661,\n",
       " u'room high': 9815,\n",
       " u'privilege': 8859,\n",
       " u'hotel feel': 5589,\n",
       " u'hotel unfortunately': 5832,\n",
       " u'hole': 5376,\n",
       " u'friends hotel': 4518,\n",
       " u'extensive': 3939,\n",
       " u'february 2017': 4137,\n",
       " u'great breakfast': 4883,\n",
       " u'moldy': 7403,\n",
       " u'window open': 13264,\n",
       " u'whim': 13215,\n",
       " u'park central': 8300,\n",
       " u'honestly say': 5401,\n",
       " u'easy city': 3543,\n",
       " u'needs room': 7583,\n",
       " u'prior arrival': 8850,\n",
       " u'building view': 1712,\n",
       " u'street parking': 11724,\n",
       " u'ask room': 733,\n",
       " u'perfect start': 8458,\n",
       " u'graciously': 4853,\n",
       " u'wife daughter': 13228,\n",
       " u'bathroom tiny': 1092,\n",
       " u'receptionist': 9248,\n",
       " u'stay clean': 11423,\n",
       " u'buttons': 1773,\n",
       " u'plus great': 8671,\n",
       " u'lga': 6497,\n",
       " u'comfortablethe': 2501,\n",
       " u'available rooms': 850,\n",
       " u'desirable': 3096,\n",
       " u'room needs': 9879,\n",
       " u'42nd st': 192,\n",
       " u'retreat': 9526,\n",
       " u'financial district': 4205,\n",
       " u'times night': 12271,\n",
       " u'better options': 1315,\n",
       " u'vicinity': 12785,\n",
       " u'airport shuttle': 462,\n",
       " u'cars': 1861,\n",
       " u'cart': 1862,\n",
       " u'hotelthe': 5913,\n",
       " u'free continental': 4410,\n",
       " u'ok great': 8099,\n",
       " u'read reviews': 9105,\n",
       " u'large double': 6383,\n",
       " u'40 minutes': 185,\n",
       " u'room probably': 9912,\n",
       " u'28th': 138,\n",
       " u'sure great': 11913,\n",
       " u'night came': 7755,\n",
       " u'specialty': 11027,\n",
       " u'brought room': 1673,\n",
       " u'apartment building': 581,\n",
       " u'minutes times': 7358,\n",
       " u'bakery': 953,\n",
       " u'room sizes': 9951,\n",
       " u'public spaces': 8938,\n",
       " u'quiet beds': 9002,\n",
       " u'bucks': 1683,\n",
       " u'washington': 13045,\n",
       " u'close 5th': 2294,\n",
       " u'hate': 5153,\n",
       " u'room refrigerator': 9929,\n",
       " u'comforter': 2503,\n",
       " u'hadnt': 5076,\n",
       " u'knew expect': 6320,\n",
       " u'center times': 1907,\n",
       " u'didnt problem': 3197,\n",
       " u'checkin desk': 2030,\n",
       " u'excellence': 3789,\n",
       " u'bed great': 1162,\n",
       " u'location staff': 6822,\n",
       " u'switching': 11962,\n",
       " u'locally': 6687,\n",
       " u'washed': 13043,\n",
       " u'night nice': 7781,\n",
       " u'youre nyc': 13505,\n",
       " u'unit room': 12622,\n",
       " u'lot people': 6920,\n",
       " u'great walking': 5004,\n",
       " u'busy street': 1767,\n",
       " u'obvious': 8056,\n",
       " u'chose hotel': 2087,\n",
       " u'bright lights': 1645,\n",
       " u'hear lot': 5168,\n",
       " u'problem staff': 8871,\n",
       " u'port authority': 8711,\n",
       " u'coffee served': 2392,\n",
       " u'staff worked': 11308,\n",
       " u'rooms fairly': 10074,\n",
       " u'socket': 10891,\n",
       " u'good free': 4727,\n",
       " u'fantastic time': 4080,\n",
       " u'gets busy': 4617,\n",
       " u'square hotel': 11115,\n",
       " u'potatoes': 8733,\n",
       " u'offered help': 8083,\n",
       " u'hearing': 5180,\n",
       " u'things right': 12137,\n",
       " u'advising': 422,\n",
       " u'reception nice': 9243,\n",
       " u'hung': 5962,\n",
       " u'brilliant location': 1649,\n",
       " u'environment': 3725,\n",
       " u'basic amenities': 1027,\n",
       " u'worth staying': 13382,\n",
       " u'day location': 2917,\n",
       " u'persons': 8491,\n",
       " u'apartment hotel': 582,\n",
       " u'substandard': 11778,\n",
       " u'hotel grand': 5611,\n",
       " u'youre paying': 13506,\n",
       " u'friendly went': 4514,\n",
       " u'extra mile': 3949,\n",
       " u'bed breakfast': 1149,\n",
       " u'remodeling': 9371,\n",
       " u'nyc really': 8011,\n",
       " u'nighti': 7804,\n",
       " u'couldve': 2752,\n",
       " u'id definitely': 5988,\n",
       " u'needed place': 7572,\n",
       " u'porridge': 8709,\n",
       " u'regular hotel': 9329,\n",
       " u'staff let': 11237,\n",
       " u'city dont': 2115,\n",
       " u'experience stay': 3904,\n",
       " u'nice looking': 7690,\n",
       " u'hotel means': 5679,\n",
       " u'batteries': 1107,\n",
       " u'bathroom excellent': 1062,\n",
       " u'centre times': 1924,\n",
       " u'inadequate': 6054,\n",
       " u'located manhattan': 6703,\n",
       " u'positive experience': 8721,\n",
       " u'self service': 10334,\n",
       " u'hotel come': 5524,\n",
       " u'easy subway': 3550,\n",
       " u'attentive helpful': 806,\n",
       " u'50th birthday': 215,\n",
       " u'smelt': 10863,\n",
       " u'smell': 10855,\n",
       " u'numerous restaurants': 7926,\n",
       " u'ridiculous': 9577,\n",
       " u'lots food': 6932,\n",
       " u'hotel second': 5777,\n",
       " u'ceiling windows': 1887,\n",
       " u'older building': 8121,\n",
       " u'ironing': 6180,\n",
       " u'serene': 10358,\n",
       " u'nyc work': 8041,\n",
       " u'days room': 2954,\n",
       " u'huge deal': 5950,\n",
       " u'compared hotels': 2545,\n",
       " u'easy navigate': 3545,\n",
       " u'custom': 2852,\n",
       " u'modern comfortable': 7386,\n",
       " u'lobby tiny': 6683,\n",
       " u'age': 439,\n",
       " u'24hrs': 121,\n",
       " u'beautiful decor': 1126,\n",
       " u'partner': 8348,\n",
       " u'new yorkthe': 7626,\n",
       " u'convenient walk': 2701,\n",
       " u'phones': 8501,\n",
       " u'7th': 258,\n",
       " u'phoned': 8500,\n",
       " u'room family': 9786,\n",
       " u'house keeping': 5928,\n",
       " u'able stay': 299,\n",
       " u'bar night': 994,\n",
       " u'modern great': 7391,\n",
       " u'noise problem': 7872,\n",
       " u'hotel needed': 5693,\n",
       " u'good central': 4705,\n",
       " u'measure': 7229,\n",
       " u'goto hotel': 4841,\n",
       " u'kind room': 6297,\n",
       " u'plan staying': 8607,\n",
       " u'updated bathroom': 12656,\n",
       " u'view quiet': 12805,\n",
       " u'drawers': 3452,\n",
       " u'room dirty': 9758,\n",
       " u'tries': 12476,\n",
       " u'restaurant bar': 9458,\n",
       " u'grocery': 5034,\n",
       " u'interaction staff': 6146,\n",
       " u'fast room': 4106,\n",
       " u'suspect': 11947,\n",
       " u'far hotel': 4089,\n",
       " u'place stayed': 8578,\n",
       " u'shops restaurants': 10532,\n",
       " u'provided great': 8926,\n",
       " u'easy staff': 3549,\n",
       " u'wasnt issue': 13058,\n",
       " u'blocks times': 1450,\n",
       " u'eclectic': 3570,\n",
       " u'right location': 9596,\n",
       " u'jams': 6225,\n",
       " u'rooms dated': 10060,\n",
       " u'york new': 13463,\n",
       " u'reasonable rates': 9212,\n",
       " u'ive hotel': 6211,\n",
       " u'weekend room': 13148,\n",
       " u'balance': 954,\n",
       " u'interior': 6150,\n",
       " u'location wanted': 6842,\n",
       " u'location walking': 6840,\n",
       " u'everybody': 3774,\n",
       " u'rooms booked': 10049,\n",
       " u'walked lobby': 12949,\n",
       " u'girl': 4628,\n",
       " u'living': 6645,\n",
       " u'busiest': 1737,\n",
       " u'stupid': 11768,\n",
       " u'rockefeller': 9628,\n",
       " u'10 min': 4,\n",
       " u'york definitely': 13448,\n",
       " u'desired': 3098,\n",
       " u'room beautiful': 9696,\n",
       " u'keys': 6286,\n",
       " u'city day': 2113,\n",
       " u'room extremely': 9779,\n",
       " u'month old': 7429,\n",
       " u'chicago': 2054,\n",
       " u'limo': 6578,\n",
       " u'old son': 8115,\n",
       " u'area manhattan': 657,\n",
       " u'great hotels': 4926,\n",
       " u'newark airport': 7628,\n",
       " u'distance staff': 3313,\n",
       " u'lobby nice': 6675,\n",
       " u'shower nice': 10577,\n",
       " u'toilet shower': 12312,\n",
       " u'communicate': 2534,\n",
       " u'friendly knowledgable': 4490,\n",
       " u'hotel employee': 5563,\n",
       " u'place room': 8570,\n",
       " u'away staff': 900,\n",
       " u'essentials': 3757,\n",
       " u'stands': 11341,\n",
       " u'hang clothes': 5116,\n",
       " u'nearby staff': 7523,\n",
       " u'moment checked': 7408,\n",
       " u'accommodating hotel': 351,\n",
       " u'ticked': 12178,\n",
       " u'ticket': 12179,\n",
       " u'attitudes': 815,\n",
       " u'fixture': 4240,\n",
       " u'make stay': 7114,\n",
       " u'passes': 8358,\n",
       " u'passed': 8357,\n",
       " u'hotel employees': 5564,\n",
       " u'fully equipped': 4541,\n",
       " u'care guests': 1840,\n",
       " u'stay nice': 11496,\n",
       " u'8am': 268,\n",
       " u'location friendly': 6763,\n",
       " u'deals': 2968,\n",
       " u'dealt': 2969,\n",
       " u'thats expected': 12086,\n",
       " u'women': 13295,\n",
       " u'staff person': 11262,\n",
       " u'clogged': 2293,\n",
       " u'travel nyc': 12438,\n",
       " u'subpar': 11776,\n",
       " u'comfortable lounge': 2473,\n",
       " u'bed free': 1160,\n",
       " u'funds': 4549,\n",
       " u'goodness': 4806,\n",
       " u'hotel 15': 5456,\n",
       " u'hotel 10': 5453,\n",
       " u'hotel 12': 5455,\n",
       " u'circumstances': 2104,\n",
       " u'board iron': 1460,\n",
       " u'delivered hotel': 3063,\n",
       " u'exceptionally helpful': 3831,\n",
       " u'birthday stayed': 1379,\n",
       " u'need close': 7539,\n",
       " u'view really': 12806,\n",
       " u'nice welcoming': 7734,\n",
       " u'conscious': 2639,\n",
       " u'extremely noisy': 3978,\n",
       " u'penthouse': 8400,\n",
       " u'ideally': 5998,\n",
       " u'location terrific': 6830,\n",
       " u'busier': 1736,\n",
       " u'bookings': 1500,\n",
       " u'city really': 2135,\n",
       " u'sunny': 11868,\n",
       " u'good new': 4745,\n",
       " u'hard sleep': 5143,\n",
       " u'rooms location': 10098,\n",
       " u'considerably': 2642,\n",
       " u'friend stayed': 4452,\n",
       " u'need location': 7548,\n",
       " u'clients': 2288,\n",
       " u'process': 8875,\n",
       " u'location clean': 6741,\n",
       " u'travellers': 12449,\n",
       " u'disgusted': 3284,\n",
       " u'union square': 12618,\n",
       " u'microwave coffee': 7287,\n",
       " u'entire experience': 3713,\n",
       " u'service wonderful': 10449,\n",
       " u'hotel issue': 5643,\n",
       " u'like coffee': 6525,\n",
       " u'stay hilton': 11467,\n",
       " u'hey new': 5320,\n",
       " u'hear noise': 5170,\n",
       " u'view room': 12807,\n",
       " u'powerful': 8740,\n",
       " u'york wanted': 13484,\n",
       " u'clean place': 2235,\n",
       " u'recent stay': 9227,\n",
       " u'smoking': 10870,\n",
       " u'lincoln': 6579,\n",
       " u'attractions walking': 828,\n",
       " u'60th birthday': 238,\n",
       " u'small kitchen': 10797,\n",
       " u'tells': 12037,\n",
       " u'area restaurants': 668,\n",
       " u'choice rooms': 2078,\n",
       " u'interior design': 6151,\n",
       " u'drive': 3475,\n",
       " u'filled': 4195,\n",
       " u'sake': 10211,\n",
       " u'saks': 10212,\n",
       " u'hotel clearly': 5522,\n",
       " u'city stayed': 2145,\n",
       " u'station walking': 11392,\n",
       " u'food options': 4363,\n",
       " u'commute': 2538,\n",
       " u'messed': 7268,\n",
       " u'booked minute': 1484,\n",
       " u'15 minute': 53,\n",
       " u'direct': 3253,\n",
       " u'second night': 10304,\n",
       " u'shape': 10481,\n",
       " u'booked stay': 1494,\n",
       " u'great short': 4976,\n",
       " u'location best': 6729,\n",
       " u'opening door': 8144,\n",
       " u'hotel trip': 5825,\n",
       " u'room super': 9975,\n",
       " u'mum': 7477,\n",
       " u'hotel especially': 5569,\n",
       " u'surprisingly quiet': 11939,\n",
       " u'underneath': 12595,\n",
       " u'beat price': 1118,\n",
       " u'station right': 11385,\n",
       " u'small perfectly': 10817,\n",
       " u'accommodating helpful': 350,\n",
       " u'competition': 2555,\n",
       " u'plenty bars': 8649,\n",
       " u'porter': 8713,\n",
       " u'hotel moment': 5686,\n",
       " u'minutes time': 7357,\n",
       " u'business hotel': 1741,\n",
       " u'impeccable service': 6033,\n",
       " u'lighting': 6514,\n",
       " u'hotel exceeded': 5571,\n",
       " u'spent little': 11050,\n",
       " u'come nyc': 2431,\n",
       " u'happier': 5126,\n",
       " u'square rooms': 11136,\n",
       " u'takeaway': 11974,\n",
       " u'central station': 1917,\n",
       " u'fantastic experience': 4068,\n",
       " u'bit like': 1396,\n",
       " u'amazing stay': 516,\n",
       " u'print tickets': 8844,\n",
       " u'duvet': 3503,\n",
       " u'avenue subway': 862,\n",
       " u'day touring': 2938,\n",
       " u'subway stops': 11813,\n",
       " u'city place': 2134,\n",
       " u'hotel pleased': 5730,\n",
       " u'street close': 11707,\n",
       " u'small didnt': 10775,\n",
       " u'care hotel': 1841,\n",
       " u'toothpaste': 12358,\n",
       " u'marriotts': 7201,\n",
       " u'check day': 1988,\n",
       " u'contrast': 2679,\n",
       " u'experience ive': 3893,\n",
       " u'skipped': 10702,\n",
       " u'preparing': 8760,\n",
       " u'nights july': 7822,\n",
       " u'shopping district': 10521,\n",
       " u'booked room': 1491,\n",
       " u'rooms didnt': 10065,\n",
       " u'brooklyn bridge': 1671,\n",
       " u'area staff': 674,\n",
       " u'sufficiently': 11829,\n",
       " u'look feel': 6875,\n",
       " u'surely': 11924,\n",
       " u'recommending hotel': 9285,\n",
       " u'room sure': 9976,\n",
       " u'sister': 10647,\n",
       " u'really wanted': 9196,\n",
       " u'feel place': 4148,\n",
       " u'got hotel': 4825,\n",
       " u'feet away': 4165,\n",
       " u'nice close': 7658,\n",
       " u'family stayed': 4054,\n",
       " u'room fine': 9793,\n",
       " u'face': 4003,\n",
       " u'interested': 6148,\n",
       " u'walk subway': 12938,\n",
       " u'researching': 9421,\n",
       " u'tv room': 12552,\n",
       " u'away main': 895,\n",
       " u'room better': 9702,\n",
       " u'day stayed': 2934,\n",
       " u'noisy hotel': 7883,\n",
       " u'cleaned day': 2267,\n",
       " u'lying': 7047,\n",
       " u'returning home': 9551,\n",
       " u'relocated': 9352,\n",
       " u'metro stations': 7280,\n",
       " u'block hotel': 1435,\n",
       " u'restaurant closed': 9462,\n",
       " u'really hotel': 9163,\n",
       " u'helpful efficient': 5251,\n",
       " u'quiet despite': 9008,\n",
       " u'grab drink': 4847,\n",
       " u'daughters': 2883,\n",
       " u'time dont': 12205,\n",
       " u'room keys': 9837,\n",
       " u'stay year': 11558,\n",
       " u'service menu': 10420,\n",
       " u'nearby restaurants': 7520,\n",
       " u'warm welcome': 13029,\n",
       " u'nyc new': 8000,\n",
       " u'block half': 1434,\n",
       " u'honesty': 5402,\n",
       " u'cancel': 1817,\n",
       " u'spacious hotel': 10989,\n",
       " u'band': 962,\n",
       " u'new hotel': 7612,\n",
       " u'city stay': 2144,\n",
       " u'right away': 9581,\n",
       " u'stood': 11672,\n",
       " u'good range': 4764,\n",
       " u'seeking': 10322,\n",
       " u'water free': 13081,\n",
       " u'hotel street': 5801,\n",
       " u'desks': 3155,\n",
       " u'days nyc': 2953,\n",
       " u'insulated': 6137,\n",
       " u'private': 8856,\n",
       " u'youre right': 13508,\n",
       " u'pay little': 8382,\n",
       " u'airports': 464,\n",
       " u'expensive city': 3876,\n",
       " u'quiet noise': 9021,\n",
       " u'room special': 9963,\n",
       " u'home new': 5388,\n",
       " u'common area': 2530,\n",
       " u'nice complimentary': 7663,\n",
       " u'bathroom ok': 1078,\n",
       " u'nicethe': 7744,\n",
       " u'told needed': 12322,\n",
       " u'park south': 8322,\n",
       " u'cord': 2726,\n",
       " u'stations nearby': 11394,\n",
       " u'smallish': 10853,\n",
       " u'loved staying': 6982,\n",
       " u'nights december': 7812,\n",
       " u'unbelievably': 12590,\n",
       " u'want know': 12990,\n",
       " u'tv wall': 12554,\n",
       " u'clean fresh': 2205,\n",
       " u'falls': 4039,\n",
       " u'square short': 11138,\n",
       " u'location comfort': 6743,\n",
       " u'hotel enjoy': 5566,\n",
       " u'duane reade': 3493,\n",
       " u'pluses': 8677,\n",
       " u'quite spacious': 9060,\n",
       " u'panoramic': 8280,\n",
       " u'morning breakfast': 7435,\n",
       " u'opposite direction': 8159,\n",
       " u'bathroom small': 1088,\n",
       " u'snowstorm': 10881,\n",
       " u'nights time': 7841,\n",
       " u'thing room': 12129,\n",
       " u'desk agent': 3101,\n",
       " u'weekend away': 13140,\n",
       " u'fed': 4138,\n",
       " u'fee': 4139,\n",
       " u'feb': 4135,\n",
       " u'authority bus': 835,\n",
       " u'continental': 2671,\n",
       " u'location walked': 6839,\n",
       " u'staff hotel': 11226,\n",
       " u'want use': 13006,\n",
       " u'really impressed': 9164,\n",
       " u'larger rooms': 6408,\n",
       " u'radius': 9068,\n",
       " u'smelled': 10858,\n",
       " u'desire': 3097,\n",
       " u'id say': 5992,\n",
       " u'area really': 667,\n",
       " u'thankful': 12073,\n",
       " u'help staff': 5225,\n",
       " u'smelled like': 10859,\n",
       " u'service clean': 10385,\n",
       " u'steps hotel': 11659,\n",
       " u'price definitely': 8798,\n",
       " u'owner': 8255,\n",
       " u'toiletry': 12314,\n",
       " u'expensive good': 3877,\n",
       " u'hotel traveling': 5824,\n",
       " u'extreme': 3961,\n",
       " u'breakfast better': 1560,\n",
       " u'expressed': 3931,\n",
       " u'staying staff': 11636,\n",
       " u'bar open': 995,\n",
       " u'said hotel': 10204,\n",
       " u'stay spent': 11525,\n",
       " u'platinum member': 8620,\n",
       " u'ultra': 12578,\n",
       " u'needs hotel': 7581,\n",
       " u'write': 13395,\n",
       " u'lounge area': 6951,\n",
       " u'exploring nyc': 3928,\n",
       " u'refill': 9299,\n",
       " u'room rate': 9920,\n",
       " u'juices': 6259,\n",
       " u'helpful service': 5287,\n",
       " u'17th floor': 69,\n",
       " u'delis': 3060,\n",
       " u'televisions': 12034,\n",
       " u'stones throw': 11671,\n",
       " u'said good': 10203,\n",
       " u'mandarin': 7154,\n",
       " u'good views': 4796,\n",
       " u'favorites': 4125,\n",
       " u'overbooked': 8234,\n",
       " u'lexington avenue': 6496,\n",
       " u'stay despite': 11434,\n",
       " u'occasions': 8061,\n",
       " u'location ok': 6794,\n",
       " u'good comfortable': 4710,\n",
       " u'late checkout': 6415,\n",
       " u'door step': 3402,\n",
       " u'dryer': 3491,\n",
       " u'terms location': 12051,\n",
       " u'restaurant area': 9456,\n",
       " u'breakfast didnt': 1573,\n",
       " u'quit': 9039,\n",
       " u'decades': 2972,\n",
       " u'able open': 296,\n",
       " u'tissues': 12299,\n",
       " u'come stay': 2434,\n",
       " u'great places': 4952,\n",
       " u'replacing': 9396,\n",
       " u'tea available': 12008,\n",
       " u'located block': 6690,\n",
       " u'work hard': 13334,\n",
       " u'great atmosphere': 4870,\n",
       " u'really pleasant': 9181,\n",
       " u'bleach': 1428,\n",
       " u'awkward': 917,\n",
       " u'bathrooms nice': 1102,\n",
       " u'staff brilliant': 11177,\n",
       " u'burned': 1726,\n",
       " u'close good': 2302,\n",
       " u'worked fine': 13344,\n",
       " u'goods': 4807,\n",
       " u'weekday': 13138,\n",
       " u'existent': 3849,\n",
       " u'close tourist': 2332,\n",
       " u'greater': 5012,\n",
       " u'controls': 2685,\n",
       " u'al': 468,\n",
       " u'sausages': 10239,\n",
       " u'functional': 4546,\n",
       " u'greatly appreciated': 5015,\n",
       " u'good like': 4739,\n",
       " u'badly': 937,\n",
       " u'jumping': 6264,\n",
       " u'coffee hot': 2376,\n",
       " u'morning went': 7452,\n",
       " u'breakfast hotel': 1584,\n",
       " u'voucher': 12865,\n",
       " u'close restaurants': 2320,\n",
       " u'really enjoy': 9148,\n",
       " u'hot shower': 5451,\n",
       " u'helpful beds': 5238,\n",
       " u'subsequent': 11777,\n",
       " u'generic': 4601,\n",
       " u'organised': 8181,\n",
       " u'dine': 3235,\n",
       " u'relationship': 9336,\n",
       " u'tables': 11967,\n",
       " u'tablet': 11969,\n",
       " u'asked help': 740,\n",
       " u'like thank': 6562,\n",
       " u'15 mins': 52,\n",
       " u'brian': 1638,\n",
       " u'slamming': 10708,\n",
       " u'billy': 1373,\n",
       " u'bills': 1372,\n",
       " u'july': 6260,\n",
       " u'given hotel': 4637,\n",
       " u'noise hallway': 7858,\n",
       " u'atmosphere staff': 790,\n",
       " u'great reception': 4961,\n",
       " u'stay absolutely': 11400,\n",
       " u'stayed family': 11574,\n",
       " u'midst': 7301,\n",
       " u'standard size': 11332,\n",
       " u'located nice': 6708,\n",
       " u'hotel choice': 5517,\n",
       " u'impressed room': 6043,\n",
       " u'pressure great': 8768,\n",
       " u'rushing': 10182,\n",
       " u'construction going': 2658,\n",
       " u'heart manhattan': 5183,\n",
       " u'lots places': 6938,\n",
       " u'web site': 13119,\n",
       " u'like coming': 6526,\n",
       " u'400 night': 187,\n",
       " u'rained': 9072,\n",
       " u'decorations': 3013,\n",
       " u'cool bar': 2714,\n",
       " u'floor elevators': 4281,\n",
       " u'select': 10326,\n",
       " u'business location': 1743,\n",
       " u'manger': 7156,\n",
       " u'load': 6650,\n",
       " u'luxury hotel': 7045,\n",
       " u'november 2016': 7919,\n",
       " u'best hotel': 1280,\n",
       " u'bed quiet': 1183,\n",
       " u'balls': 960,\n",
       " u'rooms bathroom': 10038,\n",
       " u'lucky': 7026,\n",
       " u'acknowledgement': 372,\n",
       " u'city nice': 2129,\n",
       " u'service experience': 10399,\n",
       " u'including bathroom': 6072,\n",
       " u'eventually': 3772,\n",
       " u'using hotel': 12720,\n",
       " u'machine room': 7049,\n",
       " u'nyc christmas': 7962,\n",
       " u'easy cab': 3539,\n",
       " u'worry': 13368,\n",
       " u'concierge friendly': 2595,\n",
       " u'check nice': 2002,\n",
       " u'teeth': 12031,\n",
       " u'desk help': 3126,\n",
       " u'oclock': 8066,\n",
       " u'best option': 1286,\n",
       " u'fantastic great': 4070,\n",
       " u'relations': 9335,\n",
       " u'thanks wonderful': 12080,\n",
       " u'bar fridge': 984,\n",
       " u'perfect business': 8433,\n",
       " u'variety': 12757,\n",
       " u'amenities expect': 528,\n",
       " u'offers great': 8092,\n",
       " u'breakfast perfect': 1604,\n",
       " u'placed room': 8584,\n",
       " u'complimentary upgrade': 2579,\n",
       " u'wanting stay': 13020,\n",
       " u'room toilet': 9992,\n",
       " u'secure': 10315,\n",
       " u'far walk': 4092,\n",
       " u'ignore': 6002,\n",
       " u'square footage': 11108,\n",
       " u'unpleasant': 12640,\n",
       " u'massage': 7206,\n",
       " u'ave shopping': 855,\n",
       " u'hotel thanks': 5809,\n",
       " u'obnoxious': 8052,\n",
       " u'everyday': 3775,\n",
       " u'running': 10177,\n",
       " u'trip location': 12485,\n",
       " u'fantastic view': 4081,\n",
       " u'make reservations': 7110,\n",
       " u'definitely going': 3030,\n",
       " u'roughly': 10157,\n",
       " u'giant': 4625,\n",
       " u'downtown location': 3434,\n",
       " u'walking night': 12960,\n",
       " u'doesnt matter': 3345,\n",
       " u'proximity subway': 8932,\n",
       " u'good bathroom': 4698,\n",
       " u'close lots': 2307,\n",
       " u'plain': 8602,\n",
       " u'right doorstep': 9590,\n",
       " u'isolated': 6191,\n",
       " u'close action': 2295,\n",
       " u'cracked': 2794,\n",
       " u'right opposite': 9599,\n",
       " u'room couple': 9741,\n",
       " u'expectations hotel': 3863,\n",
       " u'great cocktails': 4892,\n",
       " u'hotel work': 5866,\n",
       " u'relaxation': 9346,\n",
       " u'hotel wanted': 5849,\n",
       " u'cleaner': 2270,\n",
       " u'really recommend': 9188,\n",
       " u'rip': 9612,\n",
       " u'rid': 9572,\n",
       " u'lengthy': 6471,\n",
       " u'unlimited': 12632,\n",
       " u'expected ny': 3870,\n",
       " u'restaurants short': 9509,\n",
       " u'great overall': 4950,\n",
       " u'pants': 8281,\n",
       " u'fast wifi': 4107,\n",
       " u'definitely use': 3044,\n",
       " u'return hotel': 9533,\n",
       " u'excellent restaurant': 3809,\n",
       " u'use phone': 12704,\n",
       " u'quite bit': 9041,\n",
       " u'modest': 7401,\n",
       " u'shampoos': 10480,\n",
       " u'room wonderful': 10020,\n",
       " u'check desk': 1989,\n",
       " u'nice walk': 7731,\n",
       " u'smelling': 10860,\n",
       " u'entering': 3703,\n",
       " u'great wifi': 5009,\n",
       " u'830': 266,\n",
       " u'getting ready': 4622,\n",
       " u'bathroom cleaned': 1057,\n",
       " u'offered complimentary': 8079,\n",
       " u'surprised size': 11933,\n",
       " u'living area': 6646,\n",
       " u'insane': 6124,\n",
       " u'absolutely great': 310,\n",
       " u'staying city': 11622,\n",
       " u'easy catch': 3540,\n",
       " u'sleep noise': 10716,\n",
       " ...}"
      ]
     },
     "execution_count": 234,
     "metadata": {},
     "output_type": "execute_result"
    }
   ],
   "source": [
    "vect.vocabulary_"
   ]
  },
  {
   "cell_type": "code",
   "execution_count": 235,
   "metadata": {
    "collapsed": true
   },
   "outputs": [],
   "source": [
    "feature_names = vect.get_feature_names()"
   ]
  },
  {
   "cell_type": "code",
   "execution_count": 236,
   "metadata": {
    "collapsed": false
   },
   "outputs": [
    {
     "data": {
      "text/plain": [
       "13522"
      ]
     },
     "execution_count": 236,
     "metadata": {},
     "output_type": "execute_result"
    }
   ],
   "source": [
    "len(feature_names)"
   ]
  },
  {
   "cell_type": "code",
   "execution_count": 237,
   "metadata": {
    "collapsed": false
   },
   "outputs": [
    {
     "data": {
      "text/plain": [
       "<444x13522 sparse matrix of type '<type 'numpy.float64'>'\n",
       "\twith 1488239 stored elements in Compressed Sparse Row format>"
      ]
     },
     "execution_count": 237,
     "metadata": {},
     "output_type": "execute_result"
    }
   ],
   "source": [
    "X_text"
   ]
  },
  {
   "cell_type": "code",
   "execution_count": 238,
   "metadata": {
    "collapsed": false
   },
   "outputs": [
    {
     "data": {
      "text/plain": [
       "list"
      ]
     },
     "execution_count": 238,
     "metadata": {},
     "output_type": "execute_result"
    }
   ],
   "source": [
    "type(feature_names)"
   ]
  },
  {
   "cell_type": "code",
   "execution_count": 239,
   "metadata": {
    "collapsed": false
   },
   "outputs": [
    {
     "data": {
      "text/plain": [
       "[u'10 15',\n",
       " u'10 blocks',\n",
       " u'10 day',\n",
       " u'10 days',\n",
       " u'10 min',\n",
       " u'10 mins',\n",
       " u'10 minute',\n",
       " u'10 minutes',\n",
       " u'10 nights',\n",
       " u'10 pm',\n",
       " u'10 year',\n",
       " u'10 years',\n",
       " u'100 night',\n",
       " u'100 recommend',\n",
       " u'1000',\n",
       " u'1010',\n",
       " u'1015',\n",
       " u'1015 min',\n",
       " u'1015 minute',\n",
       " u'1015 minutes',\n",
       " u'1030',\n",
       " u'10am',\n",
       " u'10min',\n",
       " u'10pm',\n",
       " u'10th',\n",
       " u'10th floor',\n",
       " u'11',\n",
       " u'11 pm',\n",
       " u'110',\n",
       " u'1100',\n",
       " u'1130',\n",
       " u'11am',\n",
       " u'11pm',\n",
       " u'11th',\n",
       " u'11th floor',\n",
       " u'12 block',\n",
       " u'12 blocks',\n",
       " u'12 hours',\n",
       " u'120',\n",
       " u'1200',\n",
       " u'1230',\n",
       " u'125',\n",
       " u'12pm',\n",
       " u'12th',\n",
       " u'12th floor',\n",
       " u'13',\n",
       " u'130',\n",
       " u'13th',\n",
       " u'14',\n",
       " u'14th',\n",
       " u'14th floor',\n",
       " u'15 min',\n",
       " u'15 mins',\n",
       " u'15 minute',\n",
       " u'15 minutes',\n",
       " u'15 years',\n",
       " u'150',\n",
       " u'150 night',\n",
       " u'1500',\n",
       " u'1520',\n",
       " u'1520 minutes',\n",
       " u'15th',\n",
       " u'15th floor',\n",
       " u'16',\n",
       " u'160',\n",
       " u'16th',\n",
       " u'16th floor',\n",
       " u'17',\n",
       " u'17th',\n",
       " u'17th floor',\n",
       " u'18',\n",
       " u'180',\n",
       " u'18th',\n",
       " u'18th floor',\n",
       " u'19',\n",
       " u'19th',\n",
       " u'19th floor',\n",
       " u'1am',\n",
       " u'1pm',\n",
       " u'1st',\n",
       " u'1st floor',\n",
       " u'1st time',\n",
       " u'20 min',\n",
       " u'20 mins',\n",
       " u'20 minute',\n",
       " u'20 minutes',\n",
       " u'20 years',\n",
       " u'200',\n",
       " u'200 night',\n",
       " u'2000',\n",
       " u'200night',\n",
       " u'2011',\n",
       " u'2012',\n",
       " u'2013',\n",
       " u'2014',\n",
       " u'2015',\n",
       " u'2016',\n",
       " u'2016 hotel',\n",
       " u'2017',\n",
       " u'2030',\n",
       " u'20s',\n",
       " u'20th',\n",
       " u'20th floor',\n",
       " u'21',\n",
       " u'21st',\n",
       " u'21st birthday',\n",
       " u'21st floor',\n",
       " u'22',\n",
       " u'22nd',\n",
       " u'22nd floor',\n",
       " u'23',\n",
       " u'230',\n",
       " u'23rd',\n",
       " u'23rd floor',\n",
       " u'24 hour',\n",
       " u'24 hours',\n",
       " u'24 hr',\n",
       " u'24 hrs',\n",
       " u'247',\n",
       " u'24hour',\n",
       " u'24hr',\n",
       " u'24hrs',\n",
       " u'24th',\n",
       " u'24th floor',\n",
       " u'25',\n",
       " u'25 minutes',\n",
       " u'250',\n",
       " u'250 night',\n",
       " u'25th',\n",
       " u'25th floor',\n",
       " u'26',\n",
       " u'26th',\n",
       " u'26th floor',\n",
       " u'27',\n",
       " u'275',\n",
       " u'27th',\n",
       " u'27th floor',\n",
       " u'28',\n",
       " u'28th',\n",
       " u'29',\n",
       " u'29th',\n",
       " u'2am',\n",
       " u'2nd',\n",
       " u'2nd floor',\n",
       " u'2nd night',\n",
       " u'2nd stay',\n",
       " u'2nd time',\n",
       " u'2pm',\n",
       " u'2x',\n",
       " u'30 min',\n",
       " u'30 mins',\n",
       " u'30 minute',\n",
       " u'30 minutes',\n",
       " u'30 seconds',\n",
       " u'30 years',\n",
       " u'300',\n",
       " u'300 night',\n",
       " u'30s',\n",
       " u'30th',\n",
       " u'30th birthday',\n",
       " u'30th floor',\n",
       " u'31',\n",
       " u'31st',\n",
       " u'32',\n",
       " u'32nd',\n",
       " u'330',\n",
       " u'33rd',\n",
       " u'34',\n",
       " u'34th',\n",
       " u'34th street',\n",
       " u'35',\n",
       " u'350',\n",
       " u'35th',\n",
       " u'36',\n",
       " u'36th',\n",
       " u'37',\n",
       " u'38',\n",
       " u'39th',\n",
       " u'3am',\n",
       " u'3pm',\n",
       " u'3rd',\n",
       " u'3rd floor',\n",
       " u'3rd party',\n",
       " u'3rd time',\n",
       " u'40',\n",
       " u'40 minutes',\n",
       " u'400',\n",
       " u'400 night',\n",
       " u'40th',\n",
       " u'40th birthday',\n",
       " u'42',\n",
       " u'42nd',\n",
       " u'42nd st',\n",
       " u'42nd street',\n",
       " u'430',\n",
       " u'44th',\n",
       " u'45',\n",
       " u'45 minutes',\n",
       " u'45 star',\n",
       " u'450',\n",
       " u'456',\n",
       " u'45th',\n",
       " u'46',\n",
       " u'48',\n",
       " u'4am',\n",
       " u'4pm',\n",
       " u'4star',\n",
       " u'4th',\n",
       " u'4th floor',\n",
       " u'4th july',\n",
       " u'50',\n",
       " u'50 night',\n",
       " u'500',\n",
       " u'500 night',\n",
       " u'50th',\n",
       " u'50th birthday',\n",
       " u'510',\n",
       " u'510 minute',\n",
       " u'510 minutes',\n",
       " u'52',\n",
       " u'530',\n",
       " u'55',\n",
       " u'56',\n",
       " u'57',\n",
       " u'57th',\n",
       " u'5am',\n",
       " u'5min',\n",
       " u'5mins',\n",
       " u'5pm',\n",
       " u'5star',\n",
       " u'5th 6th',\n",
       " u'5th av',\n",
       " u'5th ave',\n",
       " u'5th avenue',\n",
       " u'5th floor',\n",
       " u'60',\n",
       " u'600',\n",
       " u'60th',\n",
       " u'60th birthday',\n",
       " u'630',\n",
       " u'65',\n",
       " u'68',\n",
       " u'6am',\n",
       " u'6pm',\n",
       " u'6th',\n",
       " u'6th ave',\n",
       " u'6th avenue',\n",
       " u'6th floor',\n",
       " u'70',\n",
       " u'700',\n",
       " u'70s',\n",
       " u'710',\n",
       " u'72',\n",
       " u'730',\n",
       " u'75',\n",
       " u'78',\n",
       " u'7am',\n",
       " u'7pm',\n",
       " u'7th',\n",
       " u'7th ave',\n",
       " u'7th avenue',\n",
       " u'7th floor',\n",
       " u'80',\n",
       " u'800',\n",
       " u'80s',\n",
       " u'810',\n",
       " u'830',\n",
       " u'85',\n",
       " u'8am',\n",
       " u'8pm',\n",
       " u'8th',\n",
       " u'8th ave',\n",
       " u'8th avenue',\n",
       " u'8th floor',\n",
       " u'90',\n",
       " u'900',\n",
       " u'90s',\n",
       " u'911',\n",
       " u'911 memorial',\n",
       " u'911 museum',\n",
       " u'930',\n",
       " u'95',\n",
       " u'99',\n",
       " u'9am',\n",
       " u'9pm',\n",
       " u'9th',\n",
       " u'9th floor',\n",
       " u'aaa',\n",
       " u'ability',\n",
       " u'able accommodate',\n",
       " u'able book',\n",
       " u'able check',\n",
       " u'able enjoy',\n",
       " u'able help',\n",
       " u'able leave',\n",
       " u'able make',\n",
       " u'able open',\n",
       " u'able room',\n",
       " u'able sleep',\n",
       " u'able stay',\n",
       " u'able store',\n",
       " u'able use',\n",
       " u'able walk',\n",
       " u'abrupt',\n",
       " u'absence',\n",
       " u'absolute',\n",
       " u'absolute best',\n",
       " u'absolutely amazing',\n",
       " u'absolutely beautiful',\n",
       " u'absolutely fantastic',\n",
       " u'absolutely great',\n",
       " u'absolutely love',\n",
       " u'absolutely loved',\n",
       " u'absolutely lovely',\n",
       " u'absolutely perfect',\n",
       " u'absolutely recommend',\n",
       " u'absolutely stay',\n",
       " u'absolutely stunning',\n",
       " u'absolutely wonderful',\n",
       " u'absurd',\n",
       " u'abundance',\n",
       " u'abundant',\n",
       " u'ac room',\n",
       " u'ac unit',\n",
       " u'ac worked',\n",
       " u'accent',\n",
       " u'accents',\n",
       " u'accept',\n",
       " u'acceptable',\n",
       " u'accepted',\n",
       " u'access city',\n",
       " u'access great',\n",
       " u'access hotel',\n",
       " u'access room',\n",
       " u'access subway',\n",
       " u'access subways',\n",
       " u'access times',\n",
       " u'accessed',\n",
       " u'accessibility',\n",
       " u'accessible',\n",
       " u'accessible room',\n",
       " u'accessible subway',\n",
       " u'accessing',\n",
       " u'accessories',\n",
       " u'accident',\n",
       " u'accidentally',\n",
       " u'accommodate',\n",
       " u'accommodated',\n",
       " u'accommodating friendly',\n",
       " u'accommodating great',\n",
       " u'accommodating helpful',\n",
       " u'accommodating hotel',\n",
       " u'accommodating location',\n",
       " u'accommodating needs',\n",
       " u'accommodating room',\n",
       " u'accommodating rooms',\n",
       " u'accommodating staff',\n",
       " u'accommodation',\n",
       " u'accommodations',\n",
       " u'accomodate',\n",
       " u'accomodating',\n",
       " u'accomodation',\n",
       " u'accomodations',\n",
       " u'accompanied',\n",
       " u'according',\n",
       " u'accordingly',\n",
       " u'account',\n",
       " u'accurate',\n",
       " u'accustomed',\n",
       " u'ace',\n",
       " u'acknowledge',\n",
       " u'acknowledged',\n",
       " u'acknowledgement',\n",
       " u'act',\n",
       " u'acted',\n",
       " u'acting',\n",
       " u'action',\n",
       " u'active',\n",
       " u'activities',\n",
       " u'activity',\n",
       " u'actual',\n",
       " u'actually quite',\n",
       " u'ad',\n",
       " u'add',\n",
       " u'added',\n",
       " u'added bonus',\n",
       " u'adding',\n",
       " u'addition',\n",
       " u'additional',\n",
       " u'additional charge',\n",
       " u'additionally',\n",
       " u'address',\n",
       " u'addressed',\n",
       " u'adds',\n",
       " u'adequate clean',\n",
       " u'adequate needs',\n",
       " u'adequate room',\n",
       " u'adequate size',\n",
       " u'adequately',\n",
       " u'adjacent',\n",
       " u'adjoining',\n",
       " u'adjoining room',\n",
       " u'adjoining rooms',\n",
       " u'adjust',\n",
       " u'adjustable',\n",
       " u'adjusted',\n",
       " u'admit',\n",
       " u'admittedly',\n",
       " u'adorable',\n",
       " u'adult',\n",
       " u'adults',\n",
       " u'adults kids',\n",
       " u'advance',\n",
       " u'advantage',\n",
       " u'adventure',\n",
       " u'adventures',\n",
       " u'advertise',\n",
       " u'advertised',\n",
       " u'advertising',\n",
       " u'advice',\n",
       " u'advise',\n",
       " u'advised',\n",
       " u'advising',\n",
       " u'advisor',\n",
       " u'advisor reviews',\n",
       " u'aesthetic',\n",
       " u'affair',\n",
       " u'affect',\n",
       " u'affected',\n",
       " u'affiliated',\n",
       " u'afford',\n",
       " u'affordable',\n",
       " u'affordable hotel',\n",
       " u'affordable price',\n",
       " u'afield',\n",
       " u'afraid',\n",
       " u'afternoon',\n",
       " u'afternoons',\n",
       " u'againthe',\n",
       " u'age',\n",
       " u'aged',\n",
       " u'agency',\n",
       " u'agent',\n",
       " u'agents',\n",
       " u'ages',\n",
       " u'aggressive',\n",
       " u'agree',\n",
       " u'agreed',\n",
       " u'ahead',\n",
       " u'ahead time',\n",
       " u'air condition',\n",
       " u'air conditioned',\n",
       " u'air conditioner',\n",
       " u'air conditioning',\n",
       " u'air room',\n",
       " u'air unit',\n",
       " u'airbnb',\n",
       " u'aircon',\n",
       " u'airconditioner',\n",
       " u'airconditioning',\n",
       " u'airline',\n",
       " u'airport hotel',\n",
       " u'airport shuttle',\n",
       " u'airport transfer',\n",
       " u'airports',\n",
       " u'airtrain',\n",
       " u'airy',\n",
       " u'aka',\n",
       " u'al',\n",
       " u'alarm',\n",
       " u'alarm clock',\n",
       " u'alas',\n",
       " u'albeit',\n",
       " u'albeit small',\n",
       " u'alcohol',\n",
       " u'alert',\n",
       " u'alex',\n",
       " u'alike',\n",
       " u'alive',\n",
       " u'allergic',\n",
       " u'allergies',\n",
       " u'alley',\n",
       " u'allocated',\n",
       " u'allocated room',\n",
       " u'allow',\n",
       " u'allowed check',\n",
       " u'allowing',\n",
       " u'allows',\n",
       " u'allthe',\n",
       " u'alongside',\n",
       " u'alot',\n",
       " u'alright',\n",
       " u'alternate',\n",
       " u'alternative',\n",
       " u'alternatives',\n",
       " u'altogether',\n",
       " u'amazed',\n",
       " u'amazing bed',\n",
       " u'amazing breakfast',\n",
       " u'amazing city',\n",
       " u'amazing clean',\n",
       " u'amazing especially',\n",
       " u'amazing experience',\n",
       " u'amazing food',\n",
       " u'amazing friendly',\n",
       " u'amazing great',\n",
       " u'amazing helpful',\n",
       " u'amazing hotel',\n",
       " u'amazing job',\n",
       " u'amazing location',\n",
       " u'amazing place',\n",
       " u'amazing restaurants',\n",
       " u'amazing room',\n",
       " u'amazing rooms',\n",
       " u'amazing service',\n",
       " u'amazing staff',\n",
       " u'amazing stay',\n",
       " u'amazing stayed',\n",
       " u'amazing time',\n",
       " u'amazing trip',\n",
       " u'amazing view',\n",
       " u'amazing views',\n",
       " u'amazingly',\n",
       " u'amazingly comfortable',\n",
       " u'ambassador',\n",
       " u'ambiance',\n",
       " u'ambience',\n",
       " u'amenities bathroom',\n",
       " u'amenities expect',\n",
       " u'amenities good',\n",
       " u'amenities great',\n",
       " u'amenities hotel',\n",
       " u'amenities including',\n",
       " u'amenities like',\n",
       " u'amenities location',\n",
       " u'amenities need',\n",
       " u'amenities needed',\n",
       " u'amenities nice',\n",
       " u'amenities room',\n",
       " u'amenities staff',\n",
       " u'amenity',\n",
       " u'america',\n",
       " u'american',\n",
       " u'american breakfast',\n",
       " u'americans',\n",
       " u'americas',\n",
       " u'amex',\n",
       " u'ammenities',\n",
       " u'amounts',\n",
       " u'ample',\n",
       " u'ample space',\n",
       " u'amtrak',\n",
       " u'ancient',\n",
       " u'andor',\n",
       " u'angel',\n",
       " u'angle',\n",
       " u'angry',\n",
       " u'anniversary',\n",
       " u'anniversary hotel',\n",
       " u'anniversary trip',\n",
       " u'annoyance',\n",
       " u'annoyed',\n",
       " u'annoying',\n",
       " u'annual',\n",
       " u'answer',\n",
       " u'answer questions',\n",
       " u'answered',\n",
       " u'answered questions',\n",
       " u'answering',\n",
       " u'answering questions',\n",
       " u'answers',\n",
       " u'anthony',\n",
       " u'anticipated',\n",
       " u'antique',\n",
       " u'anxious',\n",
       " u'anybody',\n",
       " u'anymore',\n",
       " u'anytime',\n",
       " u'anyways',\n",
       " u'apart',\n",
       " u'apartment',\n",
       " u'apartment building',\n",
       " u'apartment hotel',\n",
       " u'apartments',\n",
       " u'apologetic',\n",
       " u'apologies',\n",
       " u'apologised',\n",
       " u'apologize',\n",
       " u'apologized',\n",
       " u'apology',\n",
       " u'app',\n",
       " u'appalling',\n",
       " u'apparent',\n",
       " u'apparently',\n",
       " u'appeal',\n",
       " u'appealing',\n",
       " u'appear',\n",
       " u'appearance',\n",
       " u'appeared',\n",
       " u'appears',\n",
       " u'appetizers',\n",
       " u'apple',\n",
       " u'apples',\n",
       " u'appliances',\n",
       " u'apply',\n",
       " u'appointed bathroom',\n",
       " u'appointed clean',\n",
       " u'appointed comfortable',\n",
       " u'appointed great',\n",
       " u'appointed hotel',\n",
       " u'appointed room',\n",
       " u'appointed rooms',\n",
       " u'appointed staff',\n",
       " u'appointment',\n",
       " u'appointments',\n",
       " u'appreciate',\n",
       " u'appreciated room',\n",
       " u'appreciation',\n",
       " u'appreciative',\n",
       " u'apprehensive',\n",
       " u'approach',\n",
       " u'approachable',\n",
       " u'approached',\n",
       " u'appropriate',\n",
       " u'appropriately',\n",
       " u'approx',\n",
       " u'approximately',\n",
       " u'april',\n",
       " u'apt',\n",
       " u'architectural',\n",
       " u'architecture',\n",
       " u'area bar',\n",
       " u'area bathroom',\n",
       " u'area beautiful',\n",
       " u'area bit',\n",
       " u'area breakfast',\n",
       " u'area busy',\n",
       " u'area city',\n",
       " u'area clean',\n",
       " u'area close',\n",
       " u'area comfortable',\n",
       " u'area definitely',\n",
       " u'area desk',\n",
       " u'area didnt',\n",
       " u'area easy',\n",
       " u'area felt',\n",
       " u'area free',\n",
       " u'area good',\n",
       " u'area great',\n",
       " u'area hotel',\n",
       " u'area large',\n",
       " u'area like',\n",
       " u'area little',\n",
       " u'area lobby',\n",
       " u'area location',\n",
       " u'area lots',\n",
       " u'area lovely',\n",
       " u'area manhattan',\n",
       " u'area near',\n",
       " u'area new',\n",
       " u'area nice',\n",
       " u'area nyc',\n",
       " u'area perfect',\n",
       " u'area plenty',\n",
       " u'area pretty',\n",
       " u'area quiet',\n",
       " u'area quite',\n",
       " u'area really',\n",
       " u'area restaurants',\n",
       " u'area right',\n",
       " u'area room',\n",
       " u'area rooms',\n",
       " u'area safe',\n",
       " u'area small',\n",
       " u'area staff',\n",
       " u'area stay',\n",
       " u'area stayed',\n",
       " u'area walk',\n",
       " u'area walking',\n",
       " u'areas city',\n",
       " u'areas hotel',\n",
       " u'areas room',\n",
       " u'areathe',\n",
       " u'arent',\n",
       " u'argue',\n",
       " u'arguing',\n",
       " u'argument',\n",
       " u'arm',\n",
       " u'armoire',\n",
       " u'arms',\n",
       " u'arrange',\n",
       " u'arranged',\n",
       " u'arranged car',\n",
       " u'arrangement',\n",
       " u'arrangements',\n",
       " u'arranging',\n",
       " u'array',\n",
       " u'arrival departure',\n",
       " u'arrival greeted',\n",
       " u'arrival hotel',\n",
       " u'arrival room',\n",
       " u'arrival staff',\n",
       " u'arrival told',\n",
       " u'arrive',\n",
       " u'arrive hotel',\n",
       " u'arrived check',\n",
       " u'arrived day',\n",
       " u'arrived earlier',\n",
       " u'arrived early',\n",
       " u'arrived greeted',\n",
       " u'arrived hotel',\n",
       " u'arrived hours',\n",
       " u'arrived late',\n",
       " u'arrived nyc',\n",
       " u'arrived room',\n",
       " u'arrived staff',\n",
       " u'arrived told',\n",
       " u'arriving',\n",
       " u'arriving hotel',\n",
       " u'arrogant',\n",
       " u'art',\n",
       " u'art deco',\n",
       " u'arts',\n",
       " u'artwork',\n",
       " u'asap',\n",
       " u'asia',\n",
       " u'asian',\n",
       " u'aside',\n",
       " u'ask better',\n",
       " u'ask desk',\n",
       " u'ask higher',\n",
       " u'ask hotel',\n",
       " u'ask reception',\n",
       " u'ask room',\n",
       " u'ask staff',\n",
       " u'asked better',\n",
       " u'asked change',\n",
       " u'asked concierge',\n",
       " u'asked desk',\n",
       " u'asked extra',\n",
       " u'asked help',\n",
       " u'asked hotel',\n",
       " u'asked late',\n",
       " u'asked leave',\n",
       " u'asked manager',\n",
       " u'asked moved',\n",
       " u'asked needed',\n",
       " u'asked quiet',\n",
       " u'asked reception',\n",
       " u'asked room',\n",
       " u'asked rooms',\n",
       " u'asked speak',\n",
       " u'asked staff',\n",
       " u'asked stay',\n",
       " u'asked told',\n",
       " u'asked wanted',\n",
       " u'asking',\n",
       " u'asking room',\n",
       " u'asks',\n",
       " u'asleep',\n",
       " u'aspect',\n",
       " u'aspect hotel',\n",
       " u'aspects',\n",
       " u'asset',\n",
       " u'asset hotel',\n",
       " u'assigned',\n",
       " u'assigned room',\n",
       " u'assist',\n",
       " u'assistance',\n",
       " u'assistant',\n",
       " u'assisted',\n",
       " u'assisting',\n",
       " u'associate',\n",
       " u'associated',\n",
       " u'associates',\n",
       " u'assorted',\n",
       " u'assortment',\n",
       " u'assume',\n",
       " u'assumed',\n",
       " u'assuming',\n",
       " u'assure',\n",
       " u'assured',\n",
       " u'astoria',\n",
       " u'ate',\n",
       " u'ate breakfast',\n",
       " u'ate hotel',\n",
       " u'ate restaurant',\n",
       " u'atmosphere',\n",
       " u'atmosphere great',\n",
       " u'atmosphere hotel',\n",
       " u'atmosphere staff',\n",
       " u'attached',\n",
       " u'attached hotel',\n",
       " u'attached restaurant',\n",
       " u'attempt',\n",
       " u'attempted',\n",
       " u'attempts',\n",
       " u'attend',\n",
       " u'attendant',\n",
       " u'attendants',\n",
       " u'attended',\n",
       " u'attending',\n",
       " u'attention',\n",
       " u'attention details',\n",
       " u'attention staff',\n",
       " u'attentive friendly',\n",
       " u'attentive helpful',\n",
       " u'attentive needs',\n",
       " u'attentive room',\n",
       " u'attentive rooms',\n",
       " u'attentive service',\n",
       " u'attentive staff',\n",
       " u'attentiveness',\n",
       " u'attitude',\n",
       " u'attitude staff',\n",
       " u'attitudes',\n",
       " u'attraction',\n",
       " u'attractions close',\n",
       " u'attractions great',\n",
       " u'attractions hotel',\n",
       " u'attractions including',\n",
       " u'attractions like',\n",
       " u'attractions restaurants',\n",
       " u'attractions room',\n",
       " u'attractions rooms',\n",
       " u'attractions staff',\n",
       " u'attractions subway',\n",
       " u'attractions times',\n",
       " u'attractions walking',\n",
       " u'attractive',\n",
       " u'august',\n",
       " u'august 2016',\n",
       " u'australia',\n",
       " u'authentic',\n",
       " u'authority',\n",
       " u'authority bus',\n",
       " u'automatic',\n",
       " u'automatically',\n",
       " u'av',\n",
       " u'avail',\n",
       " u'availability',\n",
       " u'available 24',\n",
       " u'available 247',\n",
       " u'available breakfast',\n",
       " u'available day',\n",
       " u'available free',\n",
       " u'available guests',\n",
       " u'available hotel',\n",
       " u'available lobby',\n",
       " u'available room',\n",
       " u'available rooms',\n",
       " u'available time',\n",
       " u'available use',\n",
       " u'ave',\n",
       " u'ave central',\n",
       " u'ave shopping',\n",
       " u'ave subway',\n",
       " u'avenue central',\n",
       " u'avenue close',\n",
       " u'avenue great',\n",
       " u'avenue hotel',\n",
       " u'avenue shopping',\n",
       " u'avenue subway',\n",
       " u'avenue times',\n",
       " u'avenues',\n",
       " u'average hotel',\n",
       " u'average nyc',\n",
       " u'average room',\n",
       " u'average size',\n",
       " u'avoid',\n",
       " u'avoid hotel',\n",
       " u'avoided',\n",
       " u'avoiding',\n",
       " u'awaiting',\n",
       " u'awake',\n",
       " u'awake night',\n",
       " u'awakened',\n",
       " u'aware',\n",
       " u'away 5th',\n",
       " u'away bed',\n",
       " u'away breakfast',\n",
       " u'away broadway',\n",
       " u'away busy',\n",
       " u'away central',\n",
       " u'away crowds',\n",
       " u'away definitely',\n",
       " u'away easy',\n",
       " u'away elevator',\n",
       " u'away empire',\n",
       " u'away good',\n",
       " u'away great',\n",
       " u'away home',\n",
       " u'away hotel',\n",
       " u'away hustle',\n",
       " u'away location',\n",
       " u'away main',\n",
       " u'away nice',\n",
       " u'away noise',\n",
       " u'away room',\n",
       " u'away rooms',\n",
       " u'away staff',\n",
       " u'away stayed',\n",
       " u'away street',\n",
       " u'away subway',\n",
       " u'away time',\n",
       " u'away times',\n",
       " u'away tourist',\n",
       " u'awaythe',\n",
       " u'awesome great',\n",
       " u'awesome hotel',\n",
       " u'awesome location',\n",
       " u'awesome room',\n",
       " u'awesome staff',\n",
       " u'awesome stay',\n",
       " u'awesome view',\n",
       " u'awful',\n",
       " u'awhile',\n",
       " u'awkward',\n",
       " u'awoken',\n",
       " u'babies',\n",
       " u'baby',\n",
       " u'backed',\n",
       " u'background',\n",
       " u'backs',\n",
       " u'backside',\n",
       " u'backwards',\n",
       " u'bacon',\n",
       " u'bad experience',\n",
       " u'bad hotel',\n",
       " u'bad location',\n",
       " u'bad place',\n",
       " u'bad reviews',\n",
       " u'bad room',\n",
       " u'bad say',\n",
       " u'bad service',\n",
       " u'bad stay',\n",
       " u'bad thing',\n",
       " u'badly',\n",
       " u'bag',\n",
       " u'bagel',\n",
       " u'bagels',\n",
       " u'bagels muffins',\n",
       " u'bagels toast',\n",
       " u'baggage',\n",
       " u'bags check',\n",
       " u'bags checked',\n",
       " u'bags day',\n",
       " u'bags hotel',\n",
       " u'bags room',\n",
       " u'bags went',\n",
       " u'baked',\n",
       " u'baked goods',\n",
       " u'bakeries',\n",
       " u'bakery',\n",
       " u'balance',\n",
       " u'balconies',\n",
       " u'balcony',\n",
       " u'balcony room',\n",
       " u'ball',\n",
       " u'balloons',\n",
       " u'balls',\n",
       " u'bananas',\n",
       " u'band',\n",
       " u'bang',\n",
       " u'bang buck',\n",
       " u'banged',\n",
       " u'banging',\n",
       " u'bank',\n",
       " u'banks',\n",
       " u'bar amazing',\n",
       " u'bar area',\n",
       " u'bar attached',\n",
       " u'bar breakfast',\n",
       " u'bar closed',\n",
       " u'bar didnt',\n",
       " u'bar door',\n",
       " u'bar downstairs',\n",
       " u'bar drinks',\n",
       " u'bar evening',\n",
       " u'bar excellent',\n",
       " u'bar expensive',\n",
       " u'bar fantastic',\n",
       " u'bar floor',\n",
       " u'bar food',\n",
       " u'bar fridge',\n",
       " u'bar friendly',\n",
       " u'bar fun',\n",
       " u'bar good',\n",
       " u'bar great',\n",
       " u'bar hotel',\n",
       " u'bar lobby',\n",
       " u'bar lounge',\n",
       " u'bar lovely',\n",
       " u'bar nice',\n",
       " u'bar night',\n",
       " u'bar open',\n",
       " u'bar quite',\n",
       " u'bar really',\n",
       " u'bar restaurant',\n",
       " u'bar room',\n",
       " ...]"
      ]
     },
     "execution_count": 239,
     "metadata": {},
     "output_type": "execute_result"
    }
   ],
   "source": [
    "feature_names"
   ]
  },
  {
   "cell_type": "markdown",
   "metadata": {},
   "source": [
    "#### PREPARE DATASETS FOR MODELING"
   ]
  },
  {
   "cell_type": "code",
   "execution_count": 323,
   "metadata": {
    "collapsed": true
   },
   "outputs": [],
   "source": [
    "df_hotel = pd.read_pickle('df_446.pickle')"
   ]
  },
  {
   "cell_type": "code",
   "execution_count": 324,
   "metadata": {
    "collapsed": false
   },
   "outputs": [
    {
     "data": {
      "text/plain": [
       "(446, 98)"
      ]
     },
     "execution_count": 324,
     "metadata": {},
     "output_type": "execute_result"
    }
   ],
   "source": [
    "df_hotel.shape"
   ]
  },
  {
   "cell_type": "code",
   "execution_count": 325,
   "metadata": {
    "collapsed": false
   },
   "outputs": [
    {
     "data": {
      "text/plain": [
       "Index([               u'name',             u'st_addr',                u'city',\n",
       "                     u'state',              u'zip_cd',        u'excellent_ct',\n",
       "               u'verygood_ct',          u'average_ct',             u'poor_ct',\n",
       "               u'terrible_ct',            u'families',             u'couples',\n",
       "                      u'solo',            u'business',             u'friends',\n",
       "                    u'spring',              u'summer',                u'fall',\n",
       "                    u'winter',         u'description',           u'full_addr',\n",
       "                     u'top30', u'pct_english_reviews',           u'rating_ct',\n",
       "             u'excellent_pct',        u'verygood_pct',         u'average_pct',\n",
       "                  u'poor_pct',        u'terrible_pct',           u'travel_ct',\n",
       "              u'families_pct',         u'couples_pct',            u'solo_pct',\n",
       "              u'business_pct',         u'friends_pct',           u'season_ct',\n",
       "                u'spring_pct',          u'summer_pct',            u'fall_pct',\n",
       "                u'winter_pct', u'travel_type_pct_unk',           u'n_reviews',\n",
       "                  u'rank_num',           u'rooms_num',          u'prange_low',\n",
       "               u'prange_high',        u'prange_range',           u'amen_wifi',\n",
       "         u'amen_room_service',     u'amen_restaurant',     u'amen_bar_lounge',\n",
       "                  u'amen_gym',            u'amen_spa',      u'amen_breakfast',\n",
       "                 u'amen_pool',       u'amen_internet',        u'amen_parking',\n",
       "         u'n_english_reviews',      u'hclass_num_1.0',      u'hclass_num_1.5',\n",
       "            u'hclass_num_2.0',      u'hclass_num_2.5',      u'hclass_num_3.0',\n",
       "            u'hclass_num_3.5',      u'hclass_num_4.0',      u'hclass_num_4.5',\n",
       "            u'hclass_num_5.0',         u'zip_5_10001',         u'zip_5_10002',\n",
       "               u'zip_5_10003',         u'zip_5_10004',         u'zip_5_10005',\n",
       "               u'zip_5_10006',         u'zip_5_10007',         u'zip_5_10010',\n",
       "               u'zip_5_10011',         u'zip_5_10012',         u'zip_5_10013',\n",
       "               u'zip_5_10014',         u'zip_5_10016',         u'zip_5_10017',\n",
       "               u'zip_5_10018',         u'zip_5_10019',         u'zip_5_10021',\n",
       "               u'zip_5_10022',         u'zip_5_10023',         u'zip_5_10024',\n",
       "               u'zip_5_10025',         u'zip_5_10027',         u'zip_5_10028',\n",
       "               u'zip_5_10032',         u'zip_5_10033',         u'zip_5_10036',\n",
       "               u'zip_5_10038',         u'zip_5_10065',         u'zip_5_10078',\n",
       "               u'zip_5_10128',         u'zip_5_10282'],\n",
       "      dtype='object')"
      ]
     },
     "execution_count": 325,
     "metadata": {},
     "output_type": "execute_result"
    }
   ],
   "source": [
    "df_hotel.columns"
   ]
  },
  {
   "cell_type": "code",
   "execution_count": 243,
   "metadata": {
    "collapsed": false
   },
   "outputs": [
    {
     "data": {
      "text/plain": [
       "Index([u'name', u'content', u'content_utf8'], dtype='object')"
      ]
     },
     "execution_count": 243,
     "metadata": {},
     "output_type": "execute_result"
    }
   ],
   "source": [
    "df_by_hotel.columns"
   ]
  },
  {
   "cell_type": "code",
   "execution_count": 244,
   "metadata": {
    "collapsed": false
   },
   "outputs": [
    {
     "data": {
      "text/plain": [
       "444"
      ]
     },
     "execution_count": 244,
     "metadata": {},
     "output_type": "execute_result"
    }
   ],
   "source": [
    "df_by_hotel.name.unique().size"
   ]
  },
  {
   "cell_type": "code",
   "execution_count": 245,
   "metadata": {
    "collapsed": false
   },
   "outputs": [],
   "source": [
    "#replace inconsistent hotel names in the reviews dataset to allow for merge with hotel-level data\n",
    "df_by_hotel.loc[df_by_hotel['name'] == 'A Hospitality Company, Inc.','name'] = 'A Hospitality Company Inc.'\n",
    "df_by_hotel.loc[df_by_hotel['name'] == 'Arlo SoHo','name'] = 'Arlo Hudson Square'\n",
    "df_by_hotel.loc[df_by_hotel['name'] == 'Carlton Hotel, Autograph Collection','name'] = 'Carlton Hotel Autograph Collection'\n",
    "df_by_hotel.loc[df_by_hotel['name'] == 'Club Quarters Hotel, Grand Central','name'] = 'Club Quarters Hotel Grand Central'\n",
    "df_by_hotel.loc[df_by_hotel['name'] == 'Club Quarters Hotel, Midtown','name'] = 'Club Quarters Hotel Midtown'\n",
    "df_by_hotel.loc[df_by_hotel['name'] == 'Club Quarters Hotel, Wall Street','name'] = 'Club Quarters Hotel Wall Street'\n",
    "df_by_hotel.loc[df_by_hotel['name'] == 'Club Quarters Hotel, World Trade Center','name'] = 'Club Quarters Hotel World Trade Center'\n",
    "df_by_hotel.loc[df_by_hotel['name'] == 'Club Quarters Hotel, opposite Rockefeller Center','name'] = 'Club Quarters Hotel opposite Rockefeller Center'\n",
    "df_by_hotel.loc[df_by_hotel['name'] == 'Comfort Inn Sunset Park / Park Slope','name'] = 'Comfort Inn Sunset Park / Park Slope'\n",
    "df_by_hotel.loc[df_by_hotel['name'] == 'Distrikt Hotel Times Square','name'] = 'Distrikt Hotel'\n",
    "df_by_hotel.loc[df_by_hotel['name'].str.contains('Dumont'),'name'] = 'Dumont NYC-an Affinia hotel'\n",
    "df_by_hotel.loc[df_by_hotel['name'].str.contains('Fifty NYC'),'name'] = 'Fifty NYC-an Affinia hotel'\n",
    "#df_by_hotel.loc[df_by_hotel['name'] == 'Flushing Motel','name'] = ''\n",
    "df_by_hotel.loc[df_by_hotel['name'].str.contains('Gardens'),'name'] = 'Gardens NYC-an Affinia hotel'\n",
    "df_by_hotel.loc[df_by_hotel['name'] == 'Gild Hall, a Thompson Hotel','name'] = 'Gild Hall a Thompson Hotel'\n",
    "df_by_hotel.loc[df_by_hotel['name'] == 'Homewood Suites by Hilton New York/Midtown Manhattan Times Square-South, NY','name'] = 'Homewood Suites by Hilton New York/Midtown Manhattan Times Square-South NY'\n",
    "#df_by_hotel.loc[df_by_hotel['name'] == 'Hudson River Hotel','name'] = ''\n",
    "df_by_hotel.loc[df_by_hotel['name'] == 'Innside New York NoMad','name'] = 'Innside New York Nomad'\n",
    "#df_by_hotel.loc[df_by_hotel['name'] == 'LUMA Hotel Times Square','name'] = ''\n",
    "df_by_hotel.loc[df_by_hotel['name'] == 'Langham Place, New York, Fifth Avenue','name'] = 'Langham Place New York Fifth Avenue'\n",
    "df_by_hotel.loc[df_by_hotel['name'] == 'Mandarin Oriental, New York','name'] = 'Mandarin Oriental New York'\n",
    "df_by_hotel.loc[df_by_hotel['name'] == 'Marriott Vacation Club Pulse, New York City','name'] = 'Marriott Vacation Club Pulse New York City'\n",
    "df_by_hotel.loc[df_by_hotel['name'].str.contains('Shelburne'),'name'] = 'Shelburne NYC-an Affinia hotel'\n",
    "df_by_hotel.loc[df_by_hotel['name'] == 'Smyth, a Thompson Hotel','name'] = 'Smyth a Thompson Hotel'\n",
    "df_by_hotel.loc[df_by_hotel['name'] == 'The Algonquin Hotel Times Square, Autograph Collection','name'] = 'The Algonquin Hotel Times Square Autograph Collection'\n",
    "df_by_hotel.loc[df_by_hotel['name'] == 'The Beekman, A Thompson Hotel','name'] = 'The Beekman A Thompson Hotel'\n",
    "df_by_hotel.loc[df_by_hotel['name'] == 'The Carlyle, A Rosewood Hotel','name'] = 'The Carlyle A Rosewood Hotel'\n",
    "df_by_hotel.loc[df_by_hotel['name'] == 'The Chatwal, A Luxury Collection Hotel, New York','name'] = 'The Chatwal A Luxury Collection Hotel New York'\n",
    "df_by_hotel.loc[df_by_hotel['name'].str.contains('St Giles Hotel'),'name'] = 'The Court - A St Giles Hotel'\n",
    "df_by_hotel.loc[df_by_hotel['name'] == 'The Lexington New York City, Autograph Collection','name'] = 'The Lexington New York City Autograph Collection'\n",
    "df_by_hotel.loc[df_by_hotel['name'] == 'The Pierre, A Taj Hotel, New York','name'] = 'The Pierre A Taj Hotel New York'\n",
    "df_by_hotel.loc[df_by_hotel['name'] == 'The Renwick Hotel New York City, Curio Collection by Hilton','name'] = 'The Renwick Hotel New York City Curio Collection by Hilton'\n",
    "df_by_hotel.loc[df_by_hotel['name'] == 'The Ritz-Carlton New York, Battery Park','name'] = 'The Ritz-Carlton New York Battery Park'\n",
    "df_by_hotel.loc[df_by_hotel['name'] == 'The Ritz-Carlton New York, Central Park','name'] = 'The Ritz-Carlton New York Central Park'\n",
    "df_by_hotel.loc[df_by_hotel['name'] == 'The Standard, East Village','name'] = 'The Standard East Village'\n",
    "df_by_hotel.loc[df_by_hotel['name'] == 'The Standard, High Line','name'] = 'The Standard High Line'\n",
    "df_by_hotel.loc[df_by_hotel['name'] == 'nyma, the New York Manhattan Hotel','name'] = 'nyma the New York Manhattan Hotel'"
   ]
  },
  {
   "cell_type": "code",
   "execution_count": 246,
   "metadata": {
    "collapsed": true
   },
   "outputs": [],
   "source": [
    "df_by_hotel.drop('content',axis=1,inplace=True)"
   ]
  },
  {
   "cell_type": "code",
   "execution_count": 247,
   "metadata": {
    "collapsed": false
   },
   "outputs": [],
   "source": [
    "df_by_hotel.rename(columns={'name':'hotel_name'},inplace=True)"
   ]
  },
  {
   "cell_type": "code",
   "execution_count": 248,
   "metadata": {
    "collapsed": false
   },
   "outputs": [
    {
     "data": {
      "text/plain": [
       "(444, 2)"
      ]
     },
     "execution_count": 248,
     "metadata": {},
     "output_type": "execute_result"
    }
   ],
   "source": [
    "df_by_hotel.shape"
   ]
  },
  {
   "cell_type": "code",
   "execution_count": 249,
   "metadata": {
    "collapsed": true
   },
   "outputs": [],
   "source": [
    "df_combd = pd.concat([df_by_hotel,X_text_df],axis=1)"
   ]
  },
  {
   "cell_type": "code",
   "execution_count": 250,
   "metadata": {
    "collapsed": false
   },
   "outputs": [
    {
     "data": {
      "text/plain": [
       "(444, 13524)"
      ]
     },
     "execution_count": 250,
     "metadata": {},
     "output_type": "execute_result"
    }
   ],
   "source": [
    "df_combd.shape"
   ]
  },
  {
   "cell_type": "code",
   "execution_count": 326,
   "metadata": {
    "collapsed": false
   },
   "outputs": [],
   "source": [
    "df_hotel.rename(columns={'name':'hotel_name'},inplace=True)"
   ]
  },
  {
   "cell_type": "code",
   "execution_count": 327,
   "metadata": {
    "collapsed": false
   },
   "outputs": [
    {
     "data": {
      "text/plain": [
       "(446, 98)"
      ]
     },
     "execution_count": 327,
     "metadata": {},
     "output_type": "execute_result"
    }
   ],
   "source": [
    "df_hotel.shape"
   ]
  },
  {
   "cell_type": "code",
   "execution_count": 328,
   "metadata": {
    "collapsed": false
   },
   "outputs": [
    {
     "data": {
      "text/plain": [
       "Index([         u'hotel_name',             u'st_addr',                u'city',\n",
       "                     u'state',              u'zip_cd',        u'excellent_ct',\n",
       "               u'verygood_ct',          u'average_ct',             u'poor_ct',\n",
       "               u'terrible_ct',            u'families',             u'couples',\n",
       "                      u'solo',            u'business',             u'friends',\n",
       "                    u'spring',              u'summer',                u'fall',\n",
       "                    u'winter',         u'description',           u'full_addr',\n",
       "                     u'top30', u'pct_english_reviews',           u'rating_ct',\n",
       "             u'excellent_pct',        u'verygood_pct',         u'average_pct',\n",
       "                  u'poor_pct',        u'terrible_pct',           u'travel_ct',\n",
       "              u'families_pct',         u'couples_pct',            u'solo_pct',\n",
       "              u'business_pct',         u'friends_pct',           u'season_ct',\n",
       "                u'spring_pct',          u'summer_pct',            u'fall_pct',\n",
       "                u'winter_pct', u'travel_type_pct_unk',           u'n_reviews',\n",
       "                  u'rank_num',           u'rooms_num',          u'prange_low',\n",
       "               u'prange_high',        u'prange_range',           u'amen_wifi',\n",
       "         u'amen_room_service',     u'amen_restaurant',     u'amen_bar_lounge',\n",
       "                  u'amen_gym',            u'amen_spa',      u'amen_breakfast',\n",
       "                 u'amen_pool',       u'amen_internet',        u'amen_parking',\n",
       "         u'n_english_reviews',      u'hclass_num_1.0',      u'hclass_num_1.5',\n",
       "            u'hclass_num_2.0',      u'hclass_num_2.5',      u'hclass_num_3.0',\n",
       "            u'hclass_num_3.5',      u'hclass_num_4.0',      u'hclass_num_4.5',\n",
       "            u'hclass_num_5.0',         u'zip_5_10001',         u'zip_5_10002',\n",
       "               u'zip_5_10003',         u'zip_5_10004',         u'zip_5_10005',\n",
       "               u'zip_5_10006',         u'zip_5_10007',         u'zip_5_10010',\n",
       "               u'zip_5_10011',         u'zip_5_10012',         u'zip_5_10013',\n",
       "               u'zip_5_10014',         u'zip_5_10016',         u'zip_5_10017',\n",
       "               u'zip_5_10018',         u'zip_5_10019',         u'zip_5_10021',\n",
       "               u'zip_5_10022',         u'zip_5_10023',         u'zip_5_10024',\n",
       "               u'zip_5_10025',         u'zip_5_10027',         u'zip_5_10028',\n",
       "               u'zip_5_10032',         u'zip_5_10033',         u'zip_5_10036',\n",
       "               u'zip_5_10038',         u'zip_5_10065',         u'zip_5_10078',\n",
       "               u'zip_5_10128',         u'zip_5_10282'],\n",
       "      dtype='object')"
      ]
     },
     "execution_count": 328,
     "metadata": {},
     "output_type": "execute_result"
    }
   ],
   "source": [
    "df_hotel.columns"
   ]
  },
  {
   "cell_type": "code",
   "execution_count": 329,
   "metadata": {
    "collapsed": false
   },
   "outputs": [
    {
     "data": {
      "text/plain": [
       "[u'st_addr', u'city', u'state', u'zip_cd']"
      ]
     },
     "execution_count": 329,
     "metadata": {},
     "output_type": "execute_result"
    }
   ],
   "source": [
    "df_hotel.columns.tolist()[1:5]"
   ]
  },
  {
   "cell_type": "code",
   "execution_count": 330,
   "metadata": {
    "collapsed": false
   },
   "outputs": [
    {
     "data": {
      "text/plain": [
       "[u'st_addr', u'city', u'state', u'zip_cd', u'description', 'full_addr']"
      ]
     },
     "execution_count": 330,
     "metadata": {},
     "output_type": "execute_result"
    }
   ],
   "source": [
    "drop_list = df_hotel.columns.tolist()[1:5] + df_hotel.columns.tolist()[19:21]\n",
    "drop_list"
   ]
  },
  {
   "cell_type": "code",
   "execution_count": 331,
   "metadata": {
    "collapsed": true
   },
   "outputs": [],
   "source": [
    "df_hotel_small = df_hotel.drop(drop_list,axis=1)"
   ]
  },
  {
   "cell_type": "code",
   "execution_count": 332,
   "metadata": {
    "collapsed": false
   },
   "outputs": [
    {
     "data": {
      "text/plain": [
       "(446, 92)"
      ]
     },
     "execution_count": 332,
     "metadata": {},
     "output_type": "execute_result"
    }
   ],
   "source": [
    "df_hotel_small.shape"
   ]
  },
  {
   "cell_type": "code",
   "execution_count": 333,
   "metadata": {
    "collapsed": false
   },
   "outputs": [],
   "source": [
    "df_combd_all = df_combd.merge(df_hotel_small,how='inner',on='hotel_name')"
   ]
  },
  {
   "cell_type": "code",
   "execution_count": 334,
   "metadata": {
    "collapsed": false
   },
   "outputs": [
    {
     "data": {
      "text/plain": [
       "(440, 13615)"
      ]
     },
     "execution_count": 334,
     "metadata": {},
     "output_type": "execute_result"
    }
   ],
   "source": [
    "df_combd_all.shape"
   ]
  },
  {
   "cell_type": "code",
   "execution_count": 335,
   "metadata": {
    "collapsed": false
   },
   "outputs": [
    {
     "data": {
      "text/html": [
       "<div>\n",
       "<table border=\"1\" class=\"dataframe\">\n",
       "  <thead>\n",
       "    <tr style=\"text-align: right;\">\n",
       "      <th></th>\n",
       "      <th>hotel_name</th>\n",
       "      <th>st_addr</th>\n",
       "      <th>city</th>\n",
       "      <th>state</th>\n",
       "      <th>zip_cd</th>\n",
       "      <th>excellent_ct</th>\n",
       "      <th>verygood_ct</th>\n",
       "      <th>average_ct</th>\n",
       "      <th>poor_ct</th>\n",
       "      <th>terrible_ct</th>\n",
       "      <th>...</th>\n",
       "      <th>zip_5_10027</th>\n",
       "      <th>zip_5_10028</th>\n",
       "      <th>zip_5_10032</th>\n",
       "      <th>zip_5_10033</th>\n",
       "      <th>zip_5_10036</th>\n",
       "      <th>zip_5_10038</th>\n",
       "      <th>zip_5_10065</th>\n",
       "      <th>zip_5_10078</th>\n",
       "      <th>zip_5_10128</th>\n",
       "      <th>zip_5_10282</th>\n",
       "    </tr>\n",
       "  </thead>\n",
       "  <tbody>\n",
       "    <tr>\n",
       "      <th>1</th>\n",
       "      <td>The Towers of the Waldorf Astoria - TEMPORARIL...</td>\n",
       "      <td>100 E 50th St</td>\n",
       "      <td>New York City</td>\n",
       "      <td>NY</td>\n",
       "      <td>10022-6844</td>\n",
       "      <td>1381.0</td>\n",
       "      <td>245.0</td>\n",
       "      <td>107.0</td>\n",
       "      <td>69.0</td>\n",
       "      <td>28.0</td>\n",
       "      <td>...</td>\n",
       "      <td>0</td>\n",
       "      <td>0</td>\n",
       "      <td>0</td>\n",
       "      <td>0</td>\n",
       "      <td>0</td>\n",
       "      <td>0</td>\n",
       "      <td>0</td>\n",
       "      <td>0</td>\n",
       "      <td>0</td>\n",
       "      <td>0</td>\n",
       "    </tr>\n",
       "    <tr>\n",
       "      <th>85</th>\n",
       "      <td>Oxbridge Apts Gramecy Park</td>\n",
       "      <td>266 3rd Ave</td>\n",
       "      <td>New York City</td>\n",
       "      <td>NY</td>\n",
       "      <td>10010-7445</td>\n",
       "      <td>0.0</td>\n",
       "      <td>0.0</td>\n",
       "      <td>1.0</td>\n",
       "      <td>0.0</td>\n",
       "      <td>0.0</td>\n",
       "      <td>...</td>\n",
       "      <td>0</td>\n",
       "      <td>0</td>\n",
       "      <td>0</td>\n",
       "      <td>0</td>\n",
       "      <td>0</td>\n",
       "      <td>0</td>\n",
       "      <td>0</td>\n",
       "      <td>0</td>\n",
       "      <td>0</td>\n",
       "      <td>0</td>\n",
       "    </tr>\n",
       "    <tr>\n",
       "      <th>92</th>\n",
       "      <td>East Bridge</td>\n",
       "      <td>367 33rd St</td>\n",
       "      <td>New York City</td>\n",
       "      <td>NY</td>\n",
       "      <td>10003</td>\n",
       "      <td>0.0</td>\n",
       "      <td>1.0</td>\n",
       "      <td>0.0</td>\n",
       "      <td>0.0</td>\n",
       "      <td>0.0</td>\n",
       "      <td>...</td>\n",
       "      <td>0</td>\n",
       "      <td>0</td>\n",
       "      <td>0</td>\n",
       "      <td>0</td>\n",
       "      <td>0</td>\n",
       "      <td>0</td>\n",
       "      <td>0</td>\n",
       "      <td>0</td>\n",
       "      <td>0</td>\n",
       "      <td>0</td>\n",
       "    </tr>\n",
       "    <tr>\n",
       "      <th>102</th>\n",
       "      <td>Hotel Delmonico</td>\n",
       "      <td>502 Park Ave</td>\n",
       "      <td>New York City</td>\n",
       "      <td>NY</td>\n",
       "      <td>10022-1108</td>\n",
       "      <td>1.0</td>\n",
       "      <td>0.0</td>\n",
       "      <td>0.0</td>\n",
       "      <td>0.0</td>\n",
       "      <td>0.0</td>\n",
       "      <td>...</td>\n",
       "      <td>0</td>\n",
       "      <td>0</td>\n",
       "      <td>0</td>\n",
       "      <td>0</td>\n",
       "      <td>0</td>\n",
       "      <td>0</td>\n",
       "      <td>0</td>\n",
       "      <td>0</td>\n",
       "      <td>0</td>\n",
       "      <td>0</td>\n",
       "    </tr>\n",
       "    <tr>\n",
       "      <th>109</th>\n",
       "      <td>The Helmsley Windsor</td>\n",
       "      <td>100 West 58th Street</td>\n",
       "      <td>New York City</td>\n",
       "      <td>NY</td>\n",
       "      <td>10019</td>\n",
       "      <td>7.0</td>\n",
       "      <td>6.0</td>\n",
       "      <td>1.0</td>\n",
       "      <td>0.0</td>\n",
       "      <td>0.0</td>\n",
       "      <td>...</td>\n",
       "      <td>0</td>\n",
       "      <td>0</td>\n",
       "      <td>0</td>\n",
       "      <td>0</td>\n",
       "      <td>0</td>\n",
       "      <td>0</td>\n",
       "      <td>0</td>\n",
       "      <td>0</td>\n",
       "      <td>0</td>\n",
       "      <td>0</td>\n",
       "    </tr>\n",
       "    <tr>\n",
       "      <th>236</th>\n",
       "      <td>Fairfield Inn &amp; Suites New York Manhattan/Time...</td>\n",
       "      <td>330 West 40th Street</td>\n",
       "      <td>New York City</td>\n",
       "      <td>NY</td>\n",
       "      <td>10018</td>\n",
       "      <td>446.0</td>\n",
       "      <td>482.0</td>\n",
       "      <td>159.0</td>\n",
       "      <td>40.0</td>\n",
       "      <td>30.0</td>\n",
       "      <td>...</td>\n",
       "      <td>0</td>\n",
       "      <td>0</td>\n",
       "      <td>0</td>\n",
       "      <td>0</td>\n",
       "      <td>0</td>\n",
       "      <td>0</td>\n",
       "      <td>0</td>\n",
       "      <td>0</td>\n",
       "      <td>0</td>\n",
       "      <td>0</td>\n",
       "    </tr>\n",
       "  </tbody>\n",
       "</table>\n",
       "<p>6 rows × 98 columns</p>\n",
       "</div>"
      ],
      "text/plain": [
       "                                            hotel_name               st_addr  \\\n",
       "1    The Towers of the Waldorf Astoria - TEMPORARIL...         100 E 50th St   \n",
       "85                          Oxbridge Apts Gramecy Park           266 3rd Ave   \n",
       "92                                         East Bridge           367 33rd St   \n",
       "102                                    Hotel Delmonico          502 Park Ave   \n",
       "109                               The Helmsley Windsor  100 West 58th Street   \n",
       "236  Fairfield Inn & Suites New York Manhattan/Time...  330 West 40th Street   \n",
       "\n",
       "              city state      zip_cd  excellent_ct  verygood_ct  average_ct  \\\n",
       "1    New York City    NY  10022-6844        1381.0        245.0       107.0   \n",
       "85   New York City    NY  10010-7445           0.0          0.0         1.0   \n",
       "92   New York City    NY       10003           0.0          1.0         0.0   \n",
       "102  New York City    NY  10022-1108           1.0          0.0         0.0   \n",
       "109  New York City    NY       10019           7.0          6.0         1.0   \n",
       "236  New York City    NY       10018         446.0        482.0       159.0   \n",
       "\n",
       "     poor_ct  terrible_ct     ...      zip_5_10027  zip_5_10028  zip_5_10032  \\\n",
       "1       69.0         28.0     ...                0            0            0   \n",
       "85       0.0          0.0     ...                0            0            0   \n",
       "92       0.0          0.0     ...                0            0            0   \n",
       "102      0.0          0.0     ...                0            0            0   \n",
       "109      0.0          0.0     ...                0            0            0   \n",
       "236     40.0         30.0     ...                0            0            0   \n",
       "\n",
       "     zip_5_10033  zip_5_10036  zip_5_10038  zip_5_10065  zip_5_10078  \\\n",
       "1              0            0            0            0            0   \n",
       "85             0            0            0            0            0   \n",
       "92             0            0            0            0            0   \n",
       "102            0            0            0            0            0   \n",
       "109            0            0            0            0            0   \n",
       "236            0            0            0            0            0   \n",
       "\n",
       "     zip_5_10128 zip_5_10282  \n",
       "1              0           0  \n",
       "85             0           0  \n",
       "92             0           0  \n",
       "102            0           0  \n",
       "109            0           0  \n",
       "236            0           0  \n",
       "\n",
       "[6 rows x 98 columns]"
      ]
     },
     "execution_count": 335,
     "metadata": {},
     "output_type": "execute_result"
    }
   ],
   "source": [
    "#hotels in the hotel-level dataset that were not found in the review dataset\n",
    "df_hotel[(~df_hotel.hotel_name.isin(df_combd_all.hotel_name))]"
   ]
  },
  {
   "cell_type": "code",
   "execution_count": 336,
   "metadata": {
    "collapsed": false
   },
   "outputs": [
    {
     "data": {
      "text/html": [
       "<div>\n",
       "<table border=\"1\" class=\"dataframe\">\n",
       "  <thead>\n",
       "    <tr style=\"text-align: right;\">\n",
       "      <th></th>\n",
       "      <th>hotel_name</th>\n",
       "      <th>content_utf8</th>\n",
       "    </tr>\n",
       "  </thead>\n",
       "  <tbody>\n",
       "    <tr>\n",
       "      <th>60</th>\n",
       "      <td>Comfort Inn Sunset Park / Park Slope</td>\n",
       "      <td>comfortable hotel for a short stay friendly s...</td>\n",
       "    </tr>\n",
       "    <tr>\n",
       "      <th>114</th>\n",
       "      <td>Flushing Motel</td>\n",
       "      <td>booked 2 nights 1st tried to sleep on a thin ...</td>\n",
       "    </tr>\n",
       "    <tr>\n",
       "      <th>202</th>\n",
       "      <td>Hudson River Hotel</td>\n",
       "      <td>it is a great budget hotel with great accessi...</td>\n",
       "    </tr>\n",
       "    <tr>\n",
       "      <th>218</th>\n",
       "      <td>LUMA Hotel Times Square</td>\n",
       "      <td>we really enjoyed our stay at this hotel and ...</td>\n",
       "    </tr>\n",
       "  </tbody>\n",
       "</table>\n",
       "</div>"
      ],
      "text/plain": [
       "                               hotel_name  \\\n",
       "60   Comfort Inn Sunset Park / Park Slope   \n",
       "114                        Flushing Motel   \n",
       "202                    Hudson River Hotel   \n",
       "218               LUMA Hotel Times Square   \n",
       "\n",
       "                                          content_utf8  \n",
       "60    comfortable hotel for a short stay friendly s...  \n",
       "114   booked 2 nights 1st tried to sleep on a thin ...  \n",
       "202   it is a great budget hotel with great accessi...  \n",
       "218   we really enjoyed our stay at this hotel and ...  "
      ]
     },
     "execution_count": 336,
     "metadata": {},
     "output_type": "execute_result"
    }
   ],
   "source": [
    "#hotels in the reviews dataset that were not found in the hotel-level dataset (2 of these were removed in Capstone based on zip code)\n",
    "df_by_hotel[~df_by_hotel.hotel_name.isin(df_combd_all.hotel_name)]"
   ]
  },
  {
   "cell_type": "code",
   "execution_count": 337,
   "metadata": {
    "collapsed": false
   },
   "outputs": [
    {
     "data": {
      "text/plain": [
       "1       26.0\n",
       "85     419.0\n",
       "92     411.0\n",
       "102    400.0\n",
       "109    393.0\n",
       "236    241.0\n",
       "Name: rank_num, dtype: float64"
      ]
     },
     "execution_count": 337,
     "metadata": {},
     "output_type": "execute_result"
    }
   ],
   "source": [
    "#ranks of hotels that were omitted from merge because they had no reviews\n",
    "df_hotel[(~df_hotel.hotel_name.isin(df_combd_all.hotel_name))]['rank_num']"
   ]
  },
  {
   "cell_type": "code",
   "execution_count": 338,
   "metadata": {
    "collapsed": true
   },
   "outputs": [],
   "source": [
    "#Ranks missing: 419, 411, 400, 393, 241, 26 (shift values so there are no gaps)\n",
    "def shift_values(orig_val):\n",
    "    if orig_val <= 26:\n",
    "        new_val = orig_val\n",
    "    elif (orig_val > 26) & (orig_val <= 240):\n",
    "        new_val = orig_val - 1\n",
    "    elif (orig_val > 241) & (orig_val <= 392):\n",
    "        new_val = orig_val - 2\n",
    "    elif (orig_val > 393) & (orig_val <= 399):\n",
    "        new_val = orig_val - 3\n",
    "    elif (orig_val > 400) & (orig_val <= 410):\n",
    "        new_val = orig_val - 4\n",
    "    elif (orig_val > 411) & (orig_val <= 418):\n",
    "        new_val = orig_val - 5\n",
    "    elif orig_val > 419:\n",
    "        new_val = orig_val - 6\n",
    "    return new_val"
   ]
  },
  {
   "cell_type": "code",
   "execution_count": 339,
   "metadata": {
    "collapsed": true
   },
   "outputs": [],
   "source": [
    "df_combd_all['rank_num'] = df_combd_all.rank_num.apply(lambda x: shift_values(x))"
   ]
  },
  {
   "cell_type": "code",
   "execution_count": 340,
   "metadata": {
    "collapsed": false
   },
   "outputs": [
    {
     "data": {
      "text/plain": [
       "440"
      ]
     },
     "execution_count": 340,
     "metadata": {},
     "output_type": "execute_result"
    }
   ],
   "source": [
    "len(df_combd_all.rank_num.unique())"
   ]
  },
  {
   "cell_type": "code",
   "execution_count": 341,
   "metadata": {
    "collapsed": false
   },
   "outputs": [
    {
     "data": {
      "text/plain": [
       "count    440.000000\n",
       "mean     220.500000\n",
       "std      127.161315\n",
       "min        1.000000\n",
       "25%      110.750000\n",
       "50%      220.500000\n",
       "75%      330.250000\n",
       "max      440.000000\n",
       "Name: rank_num, dtype: float64"
      ]
     },
     "execution_count": 341,
     "metadata": {},
     "output_type": "execute_result"
    }
   ],
   "source": [
    "df_combd_all.rank_num.describe()"
   ]
  },
  {
   "cell_type": "code",
   "execution_count": 342,
   "metadata": {
    "collapsed": true
   },
   "outputs": [],
   "source": [
    "#reconstruct top30 column to account for adjusted ranks\n",
    "df_combd_all['top30'] = df_combd_all.rank_num.apply(lambda x: 1 if x <= 30 else 0)"
   ]
  },
  {
   "cell_type": "code",
   "execution_count": 343,
   "metadata": {
    "collapsed": false
   },
   "outputs": [
    {
     "data": {
      "text/plain": [
       "0    410\n",
       "1     30\n",
       "Name: top30, dtype: int64"
      ]
     },
     "execution_count": 343,
     "metadata": {},
     "output_type": "execute_result"
    }
   ],
   "source": [
    "df_combd_all.top30.value_counts()"
   ]
  },
  {
   "cell_type": "code",
   "execution_count": null,
   "metadata": {
    "collapsed": true
   },
   "outputs": [],
   "source": []
  },
  {
   "cell_type": "code",
   "execution_count": 344,
   "metadata": {
    "collapsed": false
   },
   "outputs": [
    {
     "data": {
      "text/plain": [
       "['hclass_num_1.0',\n",
       " 'hclass_num_1.5',\n",
       " 'hclass_num_2.0',\n",
       " 'hclass_num_2.5',\n",
       " 'hclass_num_3.0',\n",
       " 'hclass_num_3.5',\n",
       " 'hclass_num_4.0',\n",
       " 'hclass_num_4.5',\n",
       " 'hclass_num_5.0']"
      ]
     },
     "execution_count": 344,
     "metadata": {},
     "output_type": "execute_result"
    }
   ],
   "source": [
    "class_cols = [col for col in list(df_hotel) if col.startswith('hclass_num_')]\n",
    "class_cols"
   ]
  },
  {
   "cell_type": "code",
   "execution_count": 345,
   "metadata": {
    "collapsed": false
   },
   "outputs": [
    {
     "data": {
      "text/plain": [
       "[u'zip_5_10001',\n",
       " u'zip_5_10002',\n",
       " u'zip_5_10003',\n",
       " u'zip_5_10004',\n",
       " u'zip_5_10005',\n",
       " u'zip_5_10006',\n",
       " u'zip_5_10007',\n",
       " u'zip_5_10010',\n",
       " u'zip_5_10011',\n",
       " u'zip_5_10012',\n",
       " u'zip_5_10013',\n",
       " u'zip_5_10014',\n",
       " u'zip_5_10016',\n",
       " u'zip_5_10017',\n",
       " u'zip_5_10018',\n",
       " u'zip_5_10019',\n",
       " u'zip_5_10021',\n",
       " u'zip_5_10022',\n",
       " u'zip_5_10023',\n",
       " u'zip_5_10024',\n",
       " u'zip_5_10025',\n",
       " u'zip_5_10027',\n",
       " u'zip_5_10028',\n",
       " u'zip_5_10032',\n",
       " u'zip_5_10033',\n",
       " u'zip_5_10036',\n",
       " u'zip_5_10038',\n",
       " u'zip_5_10065',\n",
       " u'zip_5_10078',\n",
       " u'zip_5_10128',\n",
       " u'zip_5_10282']"
      ]
     },
     "execution_count": 345,
     "metadata": {},
     "output_type": "execute_result"
    }
   ],
   "source": [
    "zip_cols = [col for col in list(df_hotel) if col.startswith('zip_5')]\n",
    "zip_cols"
   ]
  },
  {
   "cell_type": "code",
   "execution_count": 346,
   "metadata": {
    "collapsed": true
   },
   "outputs": [],
   "source": [
    "hotel_cols = ['hotel_name','top30','rank_num','rooms_num','prange_low','prange_high',\n",
    "         'amen_wifi','amen_room_service','amen_restaurant','amen_bar_lounge','amen_gym',\n",
    "         'amen_spa','amen_breakfast','amen_pool','amen_internet','amen_parking'] + zip_cols + class_cols"
   ]
  },
  {
   "cell_type": "code",
   "execution_count": 347,
   "metadata": {
    "collapsed": false
   },
   "outputs": [],
   "source": [
    "#create dataframe with target variables and hotel-level predictors\n",
    "XY_df = df_combd_all[hotel_cols]"
   ]
  },
  {
   "cell_type": "code",
   "execution_count": 348,
   "metadata": {
    "collapsed": false
   },
   "outputs": [
    {
     "data": {
      "text/plain": [
       "(440, 56)"
      ]
     },
     "execution_count": 348,
     "metadata": {},
     "output_type": "execute_result"
    }
   ],
   "source": [
    "XY_df.shape"
   ]
  },
  {
   "cell_type": "code",
   "execution_count": 349,
   "metadata": {
    "collapsed": false
   },
   "outputs": [
    {
     "data": {
      "text/plain": [
       "Index([       u'hotel_name',             u'top30',          u'rank_num',\n",
       "               u'rooms_num',        u'prange_low',       u'prange_high',\n",
       "               u'amen_wifi', u'amen_room_service',   u'amen_restaurant',\n",
       "         u'amen_bar_lounge',          u'amen_gym',          u'amen_spa',\n",
       "          u'amen_breakfast',         u'amen_pool',     u'amen_internet',\n",
       "            u'amen_parking',       u'zip_5_10001',       u'zip_5_10002',\n",
       "             u'zip_5_10003',       u'zip_5_10004',       u'zip_5_10005',\n",
       "             u'zip_5_10006',       u'zip_5_10007',       u'zip_5_10010',\n",
       "             u'zip_5_10011',       u'zip_5_10012',       u'zip_5_10013',\n",
       "             u'zip_5_10014',       u'zip_5_10016',       u'zip_5_10017',\n",
       "             u'zip_5_10018',       u'zip_5_10019',       u'zip_5_10021',\n",
       "             u'zip_5_10022',       u'zip_5_10023',       u'zip_5_10024',\n",
       "             u'zip_5_10025',       u'zip_5_10027',       u'zip_5_10028',\n",
       "             u'zip_5_10032',       u'zip_5_10033',       u'zip_5_10036',\n",
       "             u'zip_5_10038',       u'zip_5_10065',       u'zip_5_10078',\n",
       "             u'zip_5_10128',       u'zip_5_10282',    u'hclass_num_1.0',\n",
       "          u'hclass_num_1.5',    u'hclass_num_2.0',    u'hclass_num_2.5',\n",
       "          u'hclass_num_3.0',    u'hclass_num_3.5',    u'hclass_num_4.0',\n",
       "          u'hclass_num_4.5',    u'hclass_num_5.0'],\n",
       "      dtype='object')"
      ]
     },
     "execution_count": 349,
     "metadata": {},
     "output_type": "execute_result"
    }
   ],
   "source": [
    "XY_df.columns"
   ]
  },
  {
   "cell_type": "code",
   "execution_count": 350,
   "metadata": {
    "collapsed": true
   },
   "outputs": [],
   "source": [
    "#leave just the full set of predictors in the full combined dataframe\n",
    "df_combd_all.drop(['hotel_name','top30','rank_num'],axis=1,inplace=True)"
   ]
  },
  {
   "cell_type": "code",
   "execution_count": 351,
   "metadata": {
    "collapsed": false
   },
   "outputs": [
    {
     "data": {
      "text/plain": [
       "(440, 13612)"
      ]
     },
     "execution_count": 351,
     "metadata": {},
     "output_type": "execute_result"
    }
   ],
   "source": [
    "df_combd_all.shape"
   ]
  },
  {
   "cell_type": "code",
   "execution_count": null,
   "metadata": {
    "collapsed": true
   },
   "outputs": [],
   "source": []
  },
  {
   "cell_type": "code",
   "execution_count": 352,
   "metadata": {
    "collapsed": true
   },
   "outputs": [],
   "source": [
    "#Identify target column\n",
    "y = XY_df.top30"
   ]
  },
  {
   "cell_type": "code",
   "execution_count": 353,
   "metadata": {
    "collapsed": false
   },
   "outputs": [
    {
     "data": {
      "text/plain": [
       "(440,)"
      ]
     },
     "execution_count": 353,
     "metadata": {},
     "output_type": "execute_result"
    }
   ],
   "source": [
    "y.shape"
   ]
  },
  {
   "cell_type": "code",
   "execution_count": 354,
   "metadata": {
    "collapsed": false
   },
   "outputs": [
    {
     "data": {
      "text/plain": [
       "0    410\n",
       "1     30\n",
       "Name: top30, dtype: int64"
      ]
     },
     "execution_count": 354,
     "metadata": {},
     "output_type": "execute_result"
    }
   ],
   "source": [
    "y.value_counts()"
   ]
  },
  {
   "cell_type": "code",
   "execution_count": 355,
   "metadata": {
    "collapsed": true
   },
   "outputs": [],
   "source": [
    "#identify hotel-level predictors\n",
    "X = XY_df.drop(['hotel_name','top30','rank_num'],axis=1)"
   ]
  },
  {
   "cell_type": "code",
   "execution_count": 356,
   "metadata": {
    "collapsed": false
   },
   "outputs": [
    {
     "data": {
      "text/plain": [
       "(440, 53)"
      ]
     },
     "execution_count": 356,
     "metadata": {},
     "output_type": "execute_result"
    }
   ],
   "source": [
    "X.shape"
   ]
  },
  {
   "cell_type": "code",
   "execution_count": null,
   "metadata": {
    "collapsed": true
   },
   "outputs": [],
   "source": []
  },
  {
   "cell_type": "code",
   "execution_count": null,
   "metadata": {
    "collapsed": true
   },
   "outputs": [],
   "source": []
  },
  {
   "cell_type": "code",
   "execution_count": 357,
   "metadata": {
    "collapsed": true
   },
   "outputs": [],
   "source": [
    "#Identify columns that needs to be scaled\n",
    "X_cols_for_scaling = ['rooms_num','prange_low','prange_high']"
   ]
  },
  {
   "cell_type": "code",
   "execution_count": 358,
   "metadata": {
    "collapsed": true
   },
   "outputs": [],
   "source": [
    "X_for_scaling = X[X_cols_for_scaling]"
   ]
  },
  {
   "cell_type": "code",
   "execution_count": 359,
   "metadata": {
    "collapsed": false
   },
   "outputs": [
    {
     "data": {
      "text/plain": [
       "(440, 3)"
      ]
     },
     "execution_count": 359,
     "metadata": {},
     "output_type": "execute_result"
    }
   ],
   "source": [
    "X_for_scaling.shape"
   ]
  },
  {
   "cell_type": "code",
   "execution_count": 360,
   "metadata": {
    "collapsed": true
   },
   "outputs": [],
   "source": [
    "from sklearn.preprocessing import MinMaxScaler"
   ]
  },
  {
   "cell_type": "code",
   "execution_count": 361,
   "metadata": {
    "collapsed": false
   },
   "outputs": [],
   "source": [
    "mm = MinMaxScaler()\n",
    "Xn = mm.fit_transform(X_for_scaling)"
   ]
  },
  {
   "cell_type": "code",
   "execution_count": 362,
   "metadata": {
    "collapsed": true
   },
   "outputs": [],
   "source": [
    "Xn_df = pd.DataFrame(Xn, columns=X_cols_for_scaling)"
   ]
  },
  {
   "cell_type": "code",
   "execution_count": 363,
   "metadata": {
    "collapsed": false
   },
   "outputs": [
    {
     "data": {
      "text/html": [
       "<div>\n",
       "<table border=\"1\" class=\"dataframe\">\n",
       "  <thead>\n",
       "    <tr style=\"text-align: right;\">\n",
       "      <th></th>\n",
       "      <th>rooms_num</th>\n",
       "      <th>prange_low</th>\n",
       "      <th>prange_high</th>\n",
       "    </tr>\n",
       "  </thead>\n",
       "  <tbody>\n",
       "    <tr>\n",
       "      <th>0</th>\n",
       "      <td>0.115207</td>\n",
       "      <td>0.400740</td>\n",
       "      <td>0.210181</td>\n",
       "    </tr>\n",
       "    <tr>\n",
       "      <th>1</th>\n",
       "      <td>0.111111</td>\n",
       "      <td>0.300863</td>\n",
       "      <td>0.565517</td>\n",
       "    </tr>\n",
       "    <tr>\n",
       "      <th>2</th>\n",
       "      <td>0.011777</td>\n",
       "      <td>0.167694</td>\n",
       "      <td>0.074548</td>\n",
       "    </tr>\n",
       "    <tr>\n",
       "      <th>3</th>\n",
       "      <td>0.017409</td>\n",
       "      <td>0.152898</td>\n",
       "      <td>0.076847</td>\n",
       "    </tr>\n",
       "    <tr>\n",
       "      <th>4</th>\n",
       "      <td>0.009217</td>\n",
       "      <td>0.316893</td>\n",
       "      <td>0.108046</td>\n",
       "    </tr>\n",
       "  </tbody>\n",
       "</table>\n",
       "</div>"
      ],
      "text/plain": [
       "   rooms_num  prange_low  prange_high\n",
       "0   0.115207    0.400740     0.210181\n",
       "1   0.111111    0.300863     0.565517\n",
       "2   0.011777    0.167694     0.074548\n",
       "3   0.017409    0.152898     0.076847\n",
       "4   0.009217    0.316893     0.108046"
      ]
     },
     "execution_count": 363,
     "metadata": {},
     "output_type": "execute_result"
    }
   ],
   "source": [
    "Xn_df.head()"
   ]
  },
  {
   "cell_type": "code",
   "execution_count": 364,
   "metadata": {
    "collapsed": true
   },
   "outputs": [],
   "source": [
    "#Identify remaining predictor columns (all binary)\n",
    "X_cols_remaining = ['amen_wifi','amen_room_service','amen_restaurant','amen_bar_lounge','amen_gym',\n",
    "         'amen_spa','amen_breakfast','amen_pool','amen_internet','amen_parking'] + zip_cols + class_cols"
   ]
  },
  {
   "cell_type": "code",
   "execution_count": 365,
   "metadata": {
    "collapsed": true
   },
   "outputs": [],
   "source": [
    "X_remaining = X[X_cols_remaining]"
   ]
  },
  {
   "cell_type": "code",
   "execution_count": 366,
   "metadata": {
    "collapsed": false
   },
   "outputs": [
    {
     "data": {
      "text/plain": [
       "(440, 50)"
      ]
     },
     "execution_count": 366,
     "metadata": {},
     "output_type": "execute_result"
    }
   ],
   "source": [
    "X_remaining.shape"
   ]
  },
  {
   "cell_type": "code",
   "execution_count": 367,
   "metadata": {
    "collapsed": true
   },
   "outputs": [],
   "source": [
    "Xn_df = pd.concat([Xn_df,X_remaining],axis=1)"
   ]
  },
  {
   "cell_type": "code",
   "execution_count": 368,
   "metadata": {
    "collapsed": false
   },
   "outputs": [
    {
     "data": {
      "text/plain": [
       "(440, 53)"
      ]
     },
     "execution_count": 368,
     "metadata": {},
     "output_type": "execute_result"
    }
   ],
   "source": [
    "Xn_df.shape"
   ]
  },
  {
   "cell_type": "code",
   "execution_count": 369,
   "metadata": {
    "collapsed": false
   },
   "outputs": [
    {
     "data": {
      "text/plain": [
       "Index([        u'rooms_num',        u'prange_low',       u'prange_high',\n",
       "               u'amen_wifi', u'amen_room_service',   u'amen_restaurant',\n",
       "         u'amen_bar_lounge',          u'amen_gym',          u'amen_spa',\n",
       "          u'amen_breakfast',         u'amen_pool',     u'amen_internet',\n",
       "            u'amen_parking',       u'zip_5_10001',       u'zip_5_10002',\n",
       "             u'zip_5_10003',       u'zip_5_10004',       u'zip_5_10005',\n",
       "             u'zip_5_10006',       u'zip_5_10007',       u'zip_5_10010',\n",
       "             u'zip_5_10011',       u'zip_5_10012',       u'zip_5_10013',\n",
       "             u'zip_5_10014',       u'zip_5_10016',       u'zip_5_10017',\n",
       "             u'zip_5_10018',       u'zip_5_10019',       u'zip_5_10021',\n",
       "             u'zip_5_10022',       u'zip_5_10023',       u'zip_5_10024',\n",
       "             u'zip_5_10025',       u'zip_5_10027',       u'zip_5_10028',\n",
       "             u'zip_5_10032',       u'zip_5_10033',       u'zip_5_10036',\n",
       "             u'zip_5_10038',       u'zip_5_10065',       u'zip_5_10078',\n",
       "             u'zip_5_10128',       u'zip_5_10282',    u'hclass_num_1.0',\n",
       "          u'hclass_num_1.5',    u'hclass_num_2.0',    u'hclass_num_2.5',\n",
       "          u'hclass_num_3.0',    u'hclass_num_3.5',    u'hclass_num_4.0',\n",
       "          u'hclass_num_4.5',    u'hclass_num_5.0'],\n",
       "      dtype='object')"
      ]
     },
     "execution_count": 369,
     "metadata": {},
     "output_type": "execute_result"
    }
   ],
   "source": [
    "Xn_df.columns"
   ]
  },
  {
   "cell_type": "code",
   "execution_count": 370,
   "metadata": {
    "collapsed": true
   },
   "outputs": [],
   "source": [
    "XY_df.to_pickle('XY_df.pickle')"
   ]
  },
  {
   "cell_type": "code",
   "execution_count": 371,
   "metadata": {
    "collapsed": true
   },
   "outputs": [],
   "source": [
    "Xn_df.to_pickle('Xn_df.pickle')"
   ]
  },
  {
   "cell_type": "code",
   "execution_count": 372,
   "metadata": {
    "collapsed": true
   },
   "outputs": [],
   "source": [
    "df_combd_all.to_pickle('df_combd_all.pickle')"
   ]
  },
  {
   "cell_type": "code",
   "execution_count": 373,
   "metadata": {
    "collapsed": false
   },
   "outputs": [
    {
     "data": {
      "text/plain": [
       "Index([       u'hotel_name',             u'top30',          u'rank_num',\n",
       "               u'rooms_num',        u'prange_low',       u'prange_high',\n",
       "               u'amen_wifi', u'amen_room_service',   u'amen_restaurant',\n",
       "         u'amen_bar_lounge',          u'amen_gym',          u'amen_spa',\n",
       "          u'amen_breakfast',         u'amen_pool',     u'amen_internet',\n",
       "            u'amen_parking',       u'zip_5_10001',       u'zip_5_10002',\n",
       "             u'zip_5_10003',       u'zip_5_10004',       u'zip_5_10005',\n",
       "             u'zip_5_10006',       u'zip_5_10007',       u'zip_5_10010',\n",
       "             u'zip_5_10011',       u'zip_5_10012',       u'zip_5_10013',\n",
       "             u'zip_5_10014',       u'zip_5_10016',       u'zip_5_10017',\n",
       "             u'zip_5_10018',       u'zip_5_10019',       u'zip_5_10021',\n",
       "             u'zip_5_10022',       u'zip_5_10023',       u'zip_5_10024',\n",
       "             u'zip_5_10025',       u'zip_5_10027',       u'zip_5_10028',\n",
       "             u'zip_5_10032',       u'zip_5_10033',       u'zip_5_10036',\n",
       "             u'zip_5_10038',       u'zip_5_10065',       u'zip_5_10078',\n",
       "             u'zip_5_10128',       u'zip_5_10282',    u'hclass_num_1.0',\n",
       "          u'hclass_num_1.5',    u'hclass_num_2.0',    u'hclass_num_2.5',\n",
       "          u'hclass_num_3.0',    u'hclass_num_3.5',    u'hclass_num_4.0',\n",
       "          u'hclass_num_4.5',    u'hclass_num_5.0'],\n",
       "      dtype='object')"
      ]
     },
     "execution_count": 373,
     "metadata": {},
     "output_type": "execute_result"
    }
   ],
   "source": [
    "XY_df.columns"
   ]
  },
  {
   "cell_type": "code",
   "execution_count": 374,
   "metadata": {
    "collapsed": false
   },
   "outputs": [
    {
     "name": "stdout",
     "output_type": "stream",
     "text": [
      "(440, 13612) (440, 56) (440, 53)\n"
     ]
    }
   ],
   "source": [
    "print df_combd_all.shape, XY_df.shape, Xn_df.shape"
   ]
  }
 ],
 "metadata": {
  "anaconda-cloud": {},
  "kernelspec": {
   "display_name": "Python [conda env:dsi]",
   "language": "python",
   "name": "conda-env-dsi-py"
  },
  "language_info": {
   "codemirror_mode": {
    "name": "ipython",
    "version": 2
   },
   "file_extension": ".py",
   "mimetype": "text/x-python",
   "name": "python",
   "nbconvert_exporter": "python",
   "pygments_lexer": "ipython2",
   "version": "2.7.12"
  }
 },
 "nbformat": 4,
 "nbformat_minor": 1
}
