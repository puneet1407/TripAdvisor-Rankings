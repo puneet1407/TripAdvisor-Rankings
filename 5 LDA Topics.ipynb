{
 "cells": [
  {
   "cell_type": "code",
   "execution_count": 1,
   "metadata": {
    "collapsed": true
   },
   "outputs": [],
   "source": [
    "import pandas as pd\n",
    "import numpy as np\n",
    "import seaborn as sns\n",
    "import matplotlib.pyplot as plt\n",
    "%matplotlib inline\n",
    "import pickle"
   ]
  },
  {
   "cell_type": "code",
   "execution_count": 2,
   "metadata": {
    "collapsed": true
   },
   "outputs": [],
   "source": [
    "from gensim import corpora, models, matutils\n",
    "from sklearn.feature_extraction.text import CountVectorizer, TfidfVectorizer"
   ]
  },
  {
   "cell_type": "code",
   "execution_count": 3,
   "metadata": {
    "collapsed": true
   },
   "outputs": [],
   "source": [
    "text_df = pd.read_pickle('df_combd_all.pickle')"
   ]
  },
  {
   "cell_type": "code",
   "execution_count": 4,
   "metadata": {
    "collapsed": true
   },
   "outputs": [],
   "source": [
    "XY_df = pd.read_pickle('XY_df.pickle')"
   ]
  },
  {
   "cell_type": "code",
   "execution_count": 5,
   "metadata": {
    "collapsed": false
   },
   "outputs": [
    {
     "data": {
      "text/plain": [
       "Index([u'hotel_name', u'top30', u'rank_num'], dtype='object')"
      ]
     },
     "execution_count": 5,
     "metadata": {},
     "output_type": "execute_result"
    }
   ],
   "source": [
    "XY_df = XY_df[['hotel_name','top30','rank_num']]\n",
    "XY_df.columns"
   ]
  },
  {
   "cell_type": "code",
   "execution_count": 6,
   "metadata": {
    "collapsed": false
   },
   "outputs": [
    {
     "name": "stdout",
     "output_type": "stream",
     "text": [
      "(440, 13612) (440, 3)\n"
     ]
    }
   ],
   "source": [
    "print text_df.shape, XY_df.shape"
   ]
  },
  {
   "cell_type": "code",
   "execution_count": 7,
   "metadata": {
    "collapsed": false
   },
   "outputs": [
    {
     "data": {
      "text/plain": [
       "(440, 13615)"
      ]
     },
     "execution_count": 7,
     "metadata": {},
     "output_type": "execute_result"
    }
   ],
   "source": [
    "full_df = pd.concat([text_df,XY_df],axis=1)\n",
    "full_df.shape"
   ]
  },
  {
   "cell_type": "code",
   "execution_count": 8,
   "metadata": {
    "collapsed": false
   },
   "outputs": [],
   "source": [
    "hotels_001_100 = full_df[full_df.rank_num <= 100]['content_utf8']"
   ]
  },
  {
   "cell_type": "code",
   "execution_count": 9,
   "metadata": {
    "collapsed": false
   },
   "outputs": [
    {
     "data": {
      "text/plain": [
       "(100,)"
      ]
     },
     "execution_count": 9,
     "metadata": {},
     "output_type": "execute_result"
    }
   ],
   "source": [
    "hotels_001_100.shape"
   ]
  },
  {
   "cell_type": "code",
   "execution_count": 10,
   "metadata": {
    "collapsed": false
   },
   "outputs": [
    {
     "data": {
      "text/plain": [
       "0      we have had numerous stays at hotel one in ny...\n",
       "1      i stayed 5nights in this hotel and highly rec...\n",
       "4      we stayed at the 414 for the second time and ...\n",
       "16     stayed one night they upgraded our room to a ...\n",
       "18     we stayed for 6 nights during the snow  the r...\n",
       "Name: content_utf8, dtype: object"
      ]
     },
     "execution_count": 10,
     "metadata": {},
     "output_type": "execute_result"
    }
   ],
   "source": [
    "hotels_001_100.head()"
   ]
  },
  {
   "cell_type": "code",
   "execution_count": 11,
   "metadata": {
    "collapsed": false
   },
   "outputs": [],
   "source": [
    "hotels_101_200 = full_df[(full_df.rank_num > 100) & (full_df.rank_num <= 200)]['content_utf8']"
   ]
  },
  {
   "cell_type": "code",
   "execution_count": 12,
   "metadata": {
    "collapsed": true
   },
   "outputs": [],
   "source": [
    "hotels_201_300 = full_df[(full_df.rank_num > 200) & (full_df.rank_num <= 300)]['content_utf8']"
   ]
  },
  {
   "cell_type": "code",
   "execution_count": 13,
   "metadata": {
    "collapsed": true
   },
   "outputs": [],
   "source": [
    "hotels_301_400 = full_df[(full_df.rank_num > 300) & (full_df.rank_num <= 400)]['content_utf8']"
   ]
  },
  {
   "cell_type": "code",
   "execution_count": null,
   "metadata": {
    "collapsed": true
   },
   "outputs": [],
   "source": []
  },
  {
   "cell_type": "code",
   "execution_count": null,
   "metadata": {
    "collapsed": true
   },
   "outputs": [],
   "source": []
  },
  {
   "cell_type": "code",
   "execution_count": 148,
   "metadata": {
    "collapsed": false
   },
   "outputs": [
    {
     "name": "stdout",
     "output_type": "stream",
     "text": [
      "['all', 'six', 'less', 'being', 'indeed', 'over', 'move', 'anyway', 'fifty', 'four', 'not', 'own', 'through', 'yourselves', 'go', 'where', 'mill', 'only', 'find', 'before', 'one', 'whose', 'system', 'how', 'somewhere', 'with', 'thick', 'show', 'had', 'enough', 'should', 'to', 'must', 'whom', 'seeming', 'under', 'ours', 'has', 'might', 'thereafter', 'latterly', 'do', 'them', 'his', 'around', 'than', 'get', 'very', 'de', 'none', 'cannot', 'every', 'whether', 'they', 'front', 'during', 'thus', 'now', 'him', 'nor', 'name', 'several', 'hereafter', 'always', 'who', 'cry', 'whither', 'this', 'someone', 'either', 'each', 'become', 'thereupon', 'sometime', 'side', 'two', 'therein', 'twelve', 'because', 'often', 'ten', 'our', 'eg', 'some', 'back', 'up', 'namely', 'towards', 'are', 'further', 'beyond', 'ourselves', 'yet', 'out', 'even', 'will', 'what', 'still', 'for', 'bottom', 'mine', 'since', 'please', 'forty', 'per', 'its', 'everything', 'behind', 'un', 'above', 'between', 'it', 'neither', 'seemed', 'ever', 'across', 'she', 'somehow', 'be', 'we', 'full', 'never', 'sixty', 'however', 'here', 'otherwise', 'were', 'whereupon', 'nowhere', 'although', 'found', 'alone', 're', 'along', 'fifteen', 'by', 'both', 'about', 'last', 'would', 'anything', 'via', 'many', 'could', 'thence', 'put', 'against', 'keep', 'etc', 'amount', 'became', 'ltd', 'hence', 'onto', 'or', 'con', 'among', 'already', 'co', 'afterwards', 'formerly', 'within', 'seems', 'into', 'others', 'while', 'whatever', 'except', 'down', 'hers', 'everyone', 'done', 'least', 'another', 'whoever', 'moreover', 'couldnt', 'throughout', 'anyhow', 'yourself', 'three', 'from', 'her', 'few', 'together', 'top', 'there', 'due', 'been', 'next', 'anyone', 'eleven', 'much', 'call', 'therefore', 'interest', 'then', 'thru', 'themselves', 'hundred', 'was', 'sincere', 'empty', 'more', 'himself', 'elsewhere', 'mostly', 'on', 'fire', 'am', 'becoming', 'hereby', 'amongst', 'else', 'part', 'everywhere', 'too', 'herself', 'former', 'those', 'he', 'me', 'myself', 'made', 'twenty', 'these', 'bill', 'cant', 'us', 'until', 'besides', 'nevertheless', 'below', 'anywhere', 'nine', 'can', 'of', 'your', 'toward', 'my', 'something', 'and', 'whereafter', 'whenever', 'give', 'almost', 'wherever', 'is', 'describe', 'beforehand', 'herein', 'an', 'as', 'itself', 'at', 'have', 'in', 'seem', 'whence', 'ie', 'any', 'fill', 'again', 'hasnt', 'inc', 'thereby', 'thin', 'no', 'perhaps', 'latter', 'meanwhile', 'when', 'detail', 'same', 'wherein', 'beside', 'also', 'that', 'other', 'take', 'which', 'becomes', 'you', 'if', 'nobody', 'see', 'though', 'may', 'after', 'upon', 'most', 'hereupon', 'eight', 'but', 'serious', 'nothing', 'such', 'why', 'a', 'off', 'whereby', 'third', 'i', 'whole', 'noone', 'sometimes', 'well', 'amoungst', 'yours', 'their', 'rather', 'without', 'so', 'five', 'the', 'first', 'whereas', 'once']\n"
     ]
    }
   ],
   "source": [
    "from sklearn.feature_extraction.text import ENGLISH_STOP_WORDS\n",
    "stop_words = list(ENGLISH_STOP_WORDS)\n",
    "print stop_words"
   ]
  },
  {
   "cell_type": "code",
   "execution_count": 149,
   "metadata": {
    "collapsed": true
   },
   "outputs": [],
   "source": [
    "from collections import defaultdict"
   ]
  },
  {
   "cell_type": "code",
   "execution_count": 150,
   "metadata": {
    "collapsed": true
   },
   "outputs": [],
   "source": [
    "# remove words that appear freqently\n",
    "frequency = defaultdict(int)\n",
    "documents = full_df.content_utf8\n",
    "for text in documents:\n",
    "    for token in text.split():\n",
    "        if token not in frequency:\n",
    "            frequency[token] = 1\n",
    "        else:\n",
    "            frequency[token] += 1"
   ]
  },
  {
   "cell_type": "code",
   "execution_count": 151,
   "metadata": {
    "collapsed": false
   },
   "outputs": [
    {
     "data": {
      "text/plain": [
       "93.68193050255613"
      ]
     },
     "execution_count": 151,
     "metadata": {},
     "output_type": "execute_result"
    }
   ],
   "source": [
    "sum(frequency.values()) / float(len(frequency.values()))"
   ]
  },
  {
   "cell_type": "code",
   "execution_count": 152,
   "metadata": {
    "collapsed": false
   },
   "outputs": [
    {
     "data": {
      "text/plain": [
       "697455"
      ]
     },
     "execution_count": 152,
     "metadata": {},
     "output_type": "execute_result"
    }
   ],
   "source": [
    "np.array(frequency.values()).max()"
   ]
  },
  {
   "cell_type": "code",
   "execution_count": 153,
   "metadata": {
    "collapsed": false
   },
   "outputs": [
    {
     "name": "stdout",
     "output_type": "stream",
     "text": [
      "142102 64723 121419 33355 63374 1524 5514\n"
     ]
    }
   ],
   "source": [
    "print frequency['hotel'], frequency['staff'], frequency['room'], frequency['nice'], frequency['great'], frequency['comfort'], frequency['love']"
   ]
  },
  {
   "cell_type": "code",
   "execution_count": 154,
   "metadata": {
    "collapsed": true
   },
   "outputs": [],
   "source": [
    "from nltk.stem.porter import PorterStemmer\n",
    "\n",
    "porter = PorterStemmer()\n",
    "\n",
    "def tokenizer_porter(text):\n",
    "    token = [word for word in text.split() if frequency[word] < 2500 and word not in stop_words]\n",
    "    #token = [porter.stem(word) for word in text.split() if frequency[word] < 2500 and word not in stop_words]\n",
    "    return token"
   ]
  },
  {
   "cell_type": "code",
   "execution_count": 35,
   "metadata": {
    "collapsed": false
   },
   "outputs": [
    {
     "data": {
      "text/plain": [
       "[u'Is', u'go', u'rain', u'tomorrow?']"
      ]
     },
     "execution_count": 35,
     "metadata": {},
     "output_type": "execute_result"
    }
   ],
   "source": [
    "tokenizer_porter(\"Is it going to rain tomorrow?\")"
   ]
  },
  {
   "cell_type": "code",
   "execution_count": 112,
   "metadata": {
    "collapsed": false
   },
   "outputs": [],
   "source": [
    "from nltk import pos_tag"
   ]
  },
  {
   "cell_type": "code",
   "execution_count": 107,
   "metadata": {
    "collapsed": true
   },
   "outputs": [],
   "source": [
    "import nltk"
   ]
  },
  {
   "cell_type": "code",
   "execution_count": 113,
   "metadata": {
    "collapsed": false
   },
   "outputs": [
    {
     "data": {
      "text/plain": [
       "[('M', 'NNP'),\n",
       " ('y', 'PRP'),\n",
       " (' ', 'NNP'),\n",
       " ('n', 'VBD'),\n",
       " ('a', 'DT'),\n",
       " ('m', 'NN'),\n",
       " ('e', 'NN'),\n",
       " (' ', 'NN'),\n",
       " ('i', 'NN'),\n",
       " ('s', 'VBP'),\n",
       " (' ', 'NNP'),\n",
       " ('S', 'NNP'),\n",
       " ('a', 'DT'),\n",
       " ('s', 'NN'),\n",
       " ('h', 'NN'),\n",
       " ('a', 'DT')]"
      ]
     },
     "execution_count": 113,
     "metadata": {},
     "output_type": "execute_result"
    }
   ],
   "source": [
    "pos_tag(\"My name is Sasha\")"
   ]
  },
  {
   "cell_type": "code",
   "execution_count": null,
   "metadata": {
    "collapsed": true
   },
   "outputs": [],
   "source": []
  },
  {
   "cell_type": "code",
   "execution_count": null,
   "metadata": {
    "collapsed": true
   },
   "outputs": [],
   "source": []
  },
  {
   "cell_type": "code",
   "execution_count": null,
   "metadata": {
    "collapsed": true
   },
   "outputs": [],
   "source": []
  },
  {
   "cell_type": "code",
   "execution_count": 155,
   "metadata": {
    "collapsed": false
   },
   "outputs": [],
   "source": [
    "# texts_001_100 = [[token for token in text.split() if token not in stop_words]\n",
    "#           for text in hotels_001_100]\n",
    "texts_001_100 = [tokenizer_porter(text) for text in hotels_001_100]\n",
    "\n",
    "# Create gensim dictionary object\n",
    "dictionary = corpora.Dictionary(texts_001_100)\n",
    "\n",
    "# Create corpus matrix\n",
    "corpus_001_100 = [dictionary.doc2bow(text) for text in texts_001_100]"
   ]
  },
  {
   "cell_type": "code",
   "execution_count": 120,
   "metadata": {
    "collapsed": false
   },
   "outputs": [],
   "source": [
    "# tokens_001_100 = nltk.word_tokenize(texts_001_100)\n",
    "# #text_001_100 = [word for word in tokens_001_100]\n",
    "# tagged_001_100 = nltk.pos_tag(tokens_001_100)"
   ]
  },
  {
   "cell_type": "code",
   "execution_count": 156,
   "metadata": {
    "collapsed": false
   },
   "outputs": [],
   "source": [
    "lda = models.ldamodel.LdaModel(\n",
    "    corpus = corpus_001_100,\n",
    "    id2word=dictionary,\n",
    "    num_topics = 3,\n",
    "    passes = 2)"
   ]
  },
  {
   "cell_type": "code",
   "execution_count": 157,
   "metadata": {
    "collapsed": false,
    "scrolled": false
   },
   "outputs": [
    {
     "data": {
      "text/plain": [
       "[(0,\n",
       "  u'0.002*\"upgrade\" + 0.002*\"cheese\" + 0.002*\"greeted\" + 0.002*\"chelsea\" + 0.002*\"library\" + 0.002*\"delicious\" + 0.001*\"pool\" + 0.001*\"ritz\" + 0.001*\"luxury\" + 0.001*\"fabulous\"'),\n",
       " (1,\n",
       "  u'0.002*\"pool\" + 0.002*\"delicious\" + 0.002*\"luxury\" + 0.002*\"roof\" + 0.001*\"bottle\" + 0.001*\"certainly\" + 0.001*\"greeted\" + 0.001*\"touch\" + 0.001*\"bryant\" + 0.001*\"glass\"'),\n",
       " (2,\n",
       "  u'0.002*\"fabulous\" + 0.002*\"fun\" + 0.002*\"continental\" + 0.001*\"touch\" + 0.001*\"team\" + 0.001*\"recommended\" + 0.001*\"pool\" + 0.001*\"truly\" + 0.001*\"decorated\" + 0.001*\"greeted\"')]"
      ]
     },
     "execution_count": 157,
     "metadata": {},
     "output_type": "execute_result"
    }
   ],
   "source": [
    "lda.print_topics()"
   ]
  },
  {
   "cell_type": "code",
   "execution_count": 160,
   "metadata": {
    "collapsed": false
   },
   "outputs": [
    {
     "data": {
      "text/html": [
       "\n",
       "<link rel=\"stylesheet\" type=\"text/css\" href=\"https://cdn.rawgit.com/bmabey/pyLDAvis/files/ldavis.v1.0.0.css\">\n",
       "\n",
       "\n",
       "<div id=\"ldavis_el2166646137270568611830820\"></div>\n",
       "<script type=\"text/javascript\">\n",
       "\n",
       "var ldavis_el2166646137270568611830820_data = {\"plot.opts\": {\"xlab\": \"PC1\", \"ylab\": \"PC2\"}, \"topic.order\": [1, 3, 2], \"token.table\": {\"Topic\": [1, 2, 3, 1, 2, 3, 1, 2, 3, 1, 2, 3, 1, 2, 3, 1, 2, 3, 1, 2, 3, 1, 2, 3, 1, 2, 3, 1, 2, 3, 1, 2, 3, 1, 2, 3, 1, 2, 3, 1, 2, 3, 1, 2, 3, 1, 2, 3, 1, 2, 3, 1, 2, 3, 1, 2, 3, 1, 2, 3, 1, 2, 3, 1, 2, 3, 1, 2, 3, 1, 2, 3, 1, 2, 3, 1, 2, 3, 1, 2, 3, 1, 2, 3, 1, 2, 3, 1, 2, 3, 1, 2, 3, 1, 2, 3, 1, 2, 3, 1, 2, 3, 1, 2, 3, 1, 2, 3, 1, 2, 3, 1, 2, 3, 1, 2, 3, 1, 2, 3, 1, 2, 3, 1, 2, 3, 1, 2, 3, 1, 2, 3, 1, 2, 3, 1, 2, 3, 1, 2, 3, 1, 2, 3, 1, 2, 3, 1, 2, 3, 1, 2, 3, 1, 2, 3, 1, 2, 3, 1, 2, 3, 1, 2, 3, 1, 2, 3, 1, 2, 3, 1, 2, 3, 1, 2, 3, 1, 2, 3, 1, 2, 3, 1, 2, 3, 1, 2, 3, 1, 2, 3, 1, 2, 3, 1, 2, 3, 1, 2, 3, 1, 2, 3, 1, 2, 3, 1, 2, 3, 1, 2, 3, 1, 2, 3, 1, 2, 3, 1, 2, 3, 1, 2, 3, 1, 2, 3, 1, 2, 3, 1, 2, 3, 1, 2, 3, 1, 2, 3, 1, 2, 3, 1, 2, 3, 1, 2, 3, 1, 2, 3, 1, 2, 3, 1, 2, 3, 1, 2, 3, 1, 2, 3, 1, 2, 3, 1, 2, 3, 1, 2, 3, 1, 2, 3, 1, 2, 3, 1, 2, 3, 1, 2, 3, 1, 2, 3, 1, 2, 3, 1, 2, 3, 1, 2, 3, 1, 2, 3, 1, 2, 3, 1, 2, 3, 1, 2, 3, 1, 2, 3, 1, 2, 3, 1, 2, 3, 1, 2, 3, 1, 2, 3, 1, 2, 3, 1, 2, 3, 1, 2, 1, 2, 3, 1, 2, 3, 2, 3, 1, 2, 3, 1, 2, 3, 1, 2, 3, 1, 2, 3, 1, 2, 3, 1, 2, 3, 1, 2, 3, 1, 2, 3, 1, 2, 3, 1, 2, 3, 2, 3, 1, 2, 3, 1, 2, 3, 1, 2, 3, 1, 2, 3, 1, 2, 3, 1, 2, 3, 1, 2, 3, 1, 2, 3, 1, 2, 3, 1, 2, 3, 1, 2, 3, 1, 2, 3, 1, 2, 3, 1, 2, 3, 1, 2, 3, 1, 2, 3, 1, 2, 3, 1, 2, 3, 1, 2, 3, 1, 2, 3, 1, 2, 3, 1, 2, 3, 1, 2, 3, 1, 2, 3, 1, 2, 3, 1, 2, 3, 1, 2, 3, 1, 2, 3, 1, 2, 3, 1, 2, 3, 1, 2, 3, 1, 2, 3, 1, 2, 3, 1, 2, 3, 1, 2, 3, 1, 2, 3, 1, 2, 3, 1, 2, 3, 1, 2, 3, 1, 2, 3, 1, 2, 3, 1, 2, 3, 1, 2, 3, 1, 2, 3, 1, 2, 3, 1, 2, 3, 1, 2, 3, 1, 2, 3, 1, 2, 3, 1, 2, 3, 1, 2, 3, 1, 2, 3, 1, 2, 3, 1, 2, 3, 1, 2, 1, 2, 3, 1, 2, 3, 1, 2, 3, 1, 2, 3, 1, 2, 3, 1, 2, 3, 1, 2, 3, 1, 2, 3, 1, 2, 3, 1, 2, 3, 1, 2, 3, 1, 2, 3, 1, 2, 3, 2, 3, 1, 2, 3, 1, 2, 3, 1, 2, 3, 1, 2, 3, 1, 2, 3, 1, 2, 3, 1, 2, 3, 1, 2, 3, 1, 2, 3, 1, 2, 3, 1, 2, 3, 1, 2, 3, 1, 2, 3, 1, 2, 3, 1, 2, 3, 1, 2, 3, 1, 2, 3], \"Freq\": [0.2314188523213523, 0.5769620701710426, 0.19337739714523958, 0.23047048976410633, 0.691411469292319, 0.11523524488205317, 0.06174039382903671, 0.8712255573652958, 0.06517041570842765, 0.130383841969153, 0.7823030518149181, 0.130383841969153, 0.20998044407682276, 0.6299413322304682, 0.20998044407682276, 0.7137982675208261, 0.1241388291340567, 0.17069089005932797, 0.2534216090002198, 0.37860577730153316, 0.36944596010875413, 0.7314166853138848, 0.1625370411808633, 0.08126852059043164, 0.2498275806493139, 0.5110109604190511, 0.23847178152889054, 0.23169280484707933, 0.11584640242353966, 0.5792320121176983, 0.43527882466082823, 0.27894628904320684, 0.2866096486323059, 0.7477685614925117, 0.11136978575420386, 0.14318972454111925, 0.4399064769836761, 0.10997661924591902, 0.446780015686546, 0.4612327524352867, 0.3411046079103407, 0.19873051069558978, 0.22580860713337808, 0.6774258214001343, 0.08781445832964703, 0.27177551783128695, 0.13588775891564348, 0.6114949151203956, 0.08474211067356476, 0.8050500513988652, 0.11122402025905374, 0.4156618894096091, 0.32407537140410203, 0.2606693204772125, 0.4137984628391408, 0.09641905930232407, 0.49013021812014734, 0.11648810158129629, 0.23297620316259257, 0.6989286094877778, 0.2632670196288578, 0.518041554753559, 0.2208045971080743, 0.4207035068074291, 0.35832790800632763, 0.22163244680391375, 0.21638753427480495, 0.6767865433701347, 0.10589177209192584, 0.25670103474645317, 0.25670103474645317, 0.48320194775802955, 0.3692633111025154, 0.4164033082645387, 0.2137013204678387, 0.2783448389470221, 0.09278161298234071, 0.6262758876307998, 0.7601566803404767, 0.16080237468740854, 0.0730919884942766, 0.17474679883863878, 0.6989871953545551, 0.17474679883863878, 0.7656473760367868, 0.13200816828220463, 0.07920490096932277, 0.3995091695039196, 0.3083028960801952, 0.29288775127618544, 0.7706153177787582, 0.12040864340293098, 0.12040864340293098, 0.18190288944445002, 0.22834618036643725, 0.5882816850118383, 0.37438489122969565, 0.24054681417173682, 0.385236627207368, 0.2879098583282758, 0.2879098583282758, 0.5758197166565516, 0.25428341659797515, 0.5743297857643922, 0.1709836766779488, 0.22950363136096172, 0.15061175808063113, 0.6239629977626147, 0.26569135984321757, 0.32556546910366096, 0.41163450116554834, 0.6283823673286338, 0.23201810485980326, 0.14017760501946447, 0.7674658650531101, 0.09508426646675701, 0.13583466638108144, 0.29027114192696224, 0.4069351415531098, 0.3041597133110274, 0.6371756497189562, 0.21239188323965208, 0.21239188323965208, 0.07680895118302276, 0.7536878334834108, 0.1680195807128623, 0.3860104671799981, 0.28994451380941033, 0.3231309340647043, 0.5087294880415941, 0.3491516061794903, 0.14158037638893423, 0.6747083525630818, 0.13627114509894755, 0.18778828531928138, 0.46669945749250985, 0.34215082926598117, 0.19183351933741202, 0.15255910654135485, 0.800935309342113, 0.03813977663533871, 0.1880805926696932, 0.19434994575868297, 0.6143966027209978, 0.34305123581759567, 0.4726209471875509, 0.18509958767136456, 0.4016268149535061, 0.3339534322140875, 0.2648088889803337, 0.20097279730449666, 0.32802456571538535, 0.4712465591967508, 0.7821119406532828, 0.126828963349181, 0.08455264223278733, 0.4006341385572203, 0.35554669531123084, 0.24347219352834287, 0.7343265505208078, 0.08159183894675641, 0.08159183894675641, 0.4013006248502463, 0.39404820391921774, 0.20548525971247553, 0.3875653731671315, 0.32468907592459156, 0.2875817529617811, 0.4009234097487062, 0.39054351564517986, 0.2088953688334683, 0.7346127479248237, 0.16324727731662747, 0.08162363865831374, 0.36356181340807137, 0.35107304882535134, 0.28446630438417797, 0.706993248678669, 0.17674831216966724, 0.17674831216966724, 0.24925064141808087, 0.14955038485084854, 0.5982015394033942, 0.09092682452748296, 0.7728780084836052, 0.13639023679122445, 0.3427444776689792, 0.41618972288376044, 0.2415532509286139, 0.17463678205758656, 0.6985471282303463, 0.17463678205758656, 0.17628058070787672, 0.33182226956776795, 0.4873639584276591, 0.11171097878032556, 0.7819768514622789, 0.11171097878032556, 0.754341627264309, 0.13715302313896527, 0.10667457355252855, 0.2637838280609761, 0.6398160935947079, 0.09541117185184242, 0.2882478059036086, 0.1441239029518043, 0.5764956118072172, 0.7583990331385143, 0.18057119836631294, 0.07222847934652518, 0.20225163076986793, 0.35547256317128306, 0.4474051226121321, 0.0990648591972271, 0.8420513031764303, 0.0990648591972271, 0.3894113672048986, 0.3826034761698479, 0.22738356057069253, 0.23950675086523812, 0.5540827818524166, 0.20733420224154941, 0.2298221466310127, 0.1723666099732595, 0.5745553665775317, 0.44310576891763115, 0.31951844561407416, 0.23813167173124394, 0.08747455061362763, 0.7872709555226487, 0.17494910122725527, 0.36646056288230106, 0.44883498335728517, 0.1848144049118233, 0.29442397377635005, 0.4172169107067709, 0.2888424766431491, 0.7834532169071331, 0.0891353959355421, 0.13135742558921992, 0.712088673309864, 0.138461686476918, 0.158241927402192, 0.37107729214562873, 0.4045680224836819, 0.22371807865819496, 0.4569965540195501, 0.3664732749485849, 0.17666639947720628, 0.27188378855458256, 0.4779302471452752, 0.2499380118999526, 0.25577943411874643, 0.12788971705937321, 0.5115588682374929, 0.17158903412019672, 0.7308421823638008, 0.09532724117788706, 0.29834337448085, 0.39294005419429023, 0.3085307092192205, 0.2769616522624386, 0.6398769207442546, 0.08117841531830096, 0.20297919039067186, 0.24426309352097803, 0.553892366998274, 0.43836751702470883, 0.3327367900308031, 0.22921867757677544, 0.3321058889343479, 0.16605294446717395, 0.6642117778686958, 0.2892108638077475, 0.2892108638077475, 0.578421727615495, 0.6672508234969623, 0.13965714910401536, 0.19138201914253958, 0.21561542906052092, 0.12936925743631256, 0.6468462871815628, 0.14929158717700008, 0.7215760046888338, 0.09952772478466673, 0.2601149368308928, 0.1486371067605102, 0.5573891503519132, 0.23098842035084594, 0.22806451629577193, 0.5379983461336159, 0.6760428982120368, 0.170590264034813, 0.15479486921677477, 0.11618180414715461, 0.8132726290300822, 0.11618180414715461, 0.17696692797783287, 0.2949448799630548, 0.5309007839334986, 0.1307482187521365, 0.25215727902197754, 0.6163844598315006, 0.595826378202635, 0.2032276018675654, 0.2032276018675654, 0.18211407363130622, 0.6336052145089196, 0.18590811683195843, 0.07476104494494354, 0.7476104494494353, 0.14952208988988708, 0.756410987937929, 0.11818921686530141, 0.13000813855183155, 0.12922783872840937, 0.4696328773300731, 0.40029111020751196, 0.6646379480955341, 0.09879753282501183, 0.24250303511593813, 0.19324093685498078, 0.19324093685498078, 0.5797228105649423, 0.6954870843696325, 0.19491357778511992, 0.11074635101427269, 0.23001829775972807, 0.23001829775972807, 0.46003659551945614, 0.6348460874904778, 0.21161536249682592, 0.5719317201297712, 0.20025195505869975, 0.22755903983943152, 0.12994066803013551, 0.7796440081808131, 0.12994066803013551, 0.3839793631543041, 0.7679587263086082, 0.11196834794135971, 0.25192878286805936, 0.6298219571701483, 0.16686554248099658, 0.2502983137214949, 0.6674621699239863, 0.19068687032243745, 0.7548021950263148, 0.055617003844044256, 0.23114339802535372, 0.23114339802535372, 0.5778584950633843, 0.29119503968782307, 0.6011768561296992, 0.10802396633580533, 0.18828536152938094, 0.7531414461175238, 0.047071340382345235, 0.669515281212167, 0.17642632410320616, 0.15380756460279513, 0.39370199407369216, 0.39519895983062636, 0.2110721717277209, 0.3848894758122761, 0.32092192912798234, 0.293817036465146, 0.3026745201060308, 0.21187216407422158, 0.49941295817495085, 0.3833280813182488, 0.3833280813182488, 0.3336950682328135, 0.28030385731556334, 0.3837493284677355, 0.32995500982018994, 0.16497750491009497, 0.6599100196403799, 0.3400957224473305, 0.41918775092345384, 0.24202160713693752, 0.2701238693358696, 0.33466674077010394, 0.39442865876476535, 0.16373382907964218, 0.7122421564964434, 0.12280037180973162, 0.4050320896793299, 0.36755150824631727, 0.22730159062601202, 0.11988614493815988, 0.7008728473307808, 0.18444022298178442, 0.30435429706478445, 0.46369272317517163, 0.23274152128483516, 0.7075794291355333, 0.11792990485592222, 0.11792990485592222, 0.2785626256014839, 0.18570841706765598, 0.5571252512029679, 0.28190961667898295, 0.19221110228112473, 0.5253770129017409, 0.12843317851672276, 0.2568663570334455, 0.5779493033252525, 0.16578959032036855, 0.7314246631780965, 0.10727561726612082, 0.5892329522916732, 0.14634543913126524, 0.26188131212963256, 0.5244749812926405, 0.2548056589275986, 0.22083157107058546, 0.7900077690036293, 0.1422013984206533, 0.06320062152029035, 0.7405832851729895, 0.08228703168588773, 0.16457406337177546, 0.3777337702382555, 0.36379057737711185, 0.25858284942484605, 0.758115071455776, 0.15162301429115518, 0.15162301429115518, 0.6979799797258414, 0.1903581762888658, 0.10575454238270324, 0.6077347079634222, 0.24623733857138658, 0.14145549237079655, 0.6536472707266495, 0.17384235923581104, 0.17036551205109482, 0.3575574380403263, 0.33189542095609237, 0.3113658072887052, 0.4603965982141975, 0.3241743837613076, 0.21554147856469918, 0.16096277681046028, 0.7243324956470713, 0.08048138840523014, 0.8054300813020556, 0.10684276588700739, 0.09040541728900625, 0.6546044917842195, 0.22738892872504468, 0.11713975116138665, 0.7934031718555802, 0.08815590798395335, 0.08815590798395335, 0.1398590925918774, 0.7342602361073562, 0.1398590925918774, 0.3519690626510179, 0.3248199338514904, 0.32288071036580984, 0.1885846415993647, 0.7307654861975381, 0.07071924059976176, 0.20419342991554698, 0.6125802897466409, 0.18325051402677292, 0.07939545683710653, 0.6412709975304758, 0.28093777034668466, 0.7376509819948971, 0.16035890912932543, 0.09621534547759526, 0.34393401031278853, 0.4047947611088787, 0.25193520096986155, 0.3421638507060604, 0.4187492613334097, 0.23963822035009286, 0.1908944761459729, 0.25907107476953467, 0.5522304488508503, 0.17778059984658706, 0.7703825993352107, 0.059260199948862356, 0.298063179155177, 0.5411438301166805, 0.15915995003431782, 0.7434324817776528, 0.1858581204444132, 0.061952706814804394, 0.42078613861698827, 0.3417937949054959, 0.23849611466739046, 0.34411406888288965, 0.336982171082208, 0.31915242658050386, 0.76955813099137, 0.10399434202586083, 0.10399434202586083, 0.6977865785520431, 0.1874939006081667, 0.1140426818132148, 0.2965756079511984, 0.23225800622684215, 0.4680892125494818, 0.16282432911561703, 0.7055720928343405, 0.12664114486770214, 0.3440952262838119, 0.34751905938116323, 0.30814497876162256, 0.3174141318985194, 0.34853316443758997, 0.3335960288188361, 0.11651838795052938, 0.6991103277031763, 0.11651838795052938, 0.0712912595379994, 0.8396526123364374, 0.08713376165755482, 0.09456689908584473, 0.7565351926867578, 0.09456689908584473, 0.171886467990447, 0.7047345187608327, 0.1203205275933129, 0.14876903843819128, 0.7438451921909565, 0.07438451921909564, 0.0996819028740107, 0.5532345609507594, 0.34888666005903746, 0.7976675584681504, 0.2658891861560502, 0.46299757304615435, 0.29447355220560006, 0.24125544036121452, 0.19372652132019558, 0.19372652132019558, 0.5811795639605867, 0.40217978100933477, 0.29249438618860707, 0.30711910549803745, 0.21267324477650823, 0.14887127134355577, 0.632702903210112, 0.4888922824234701, 0.3411906865251408, 0.16985683528307874, 0.3791545169561694, 0.3095848808174227, 0.3113241217208914, 0.15864462410130437, 0.6544090744178804, 0.1784752021139674, 0.3270002054227629, 0.3762967188030789, 0.2974222973945733, 0.09059094781884487, 0.724727582550759, 0.18118189563768974, 0.42311320587860096, 0.3387462222290914, 0.23776149937589056, 0.4062851703820648, 0.42427565763145514, 0.17090962886920807, 0.8229753403867203, 0.11121288383604329, 0.06672773030162597, 0.08919050920119205, 0.7833253416800345, 0.1279689914625799, 0.7873748162744222, 0.26245827209147404, 0.3426231017970252, 0.43510101865374445, 0.22285661931045447, 0.7629458132049057, 0.15258916264098116, 0.15258916264098116, 0.3443214355016565, 0.4573019065256375, 0.19906082989939516, 0.35803827683974326, 0.43068372431447377, 0.2110177283789791, 0.3705597719374536, 0.38520195137571167, 0.24328544297413368, 0.12933521309196, 0.25867042618392, 0.6466760654597999, 0.7356039362663452, 0.1789306871999218, 0.07952474986663191, 0.38439093675823693, 0.3903046434775944, 0.22472085533558467, 0.2627253215042827, 0.6568133037607067, 0.08757510716809423, 0.5197482353066399, 0.31782305883118667, 0.16369082353335554, 0.14283795025991125, 0.19477902308169717, 0.6622486784777704, 0.1682477065481722, 0.7402899088119577, 0.10094862392890332, 0.11666310745028823, 0.7388663471851588, 0.13610695869200293, 0.782045930305942, 0.11172084718656315, 0.11172084718656315, 0.1740037567490597, 0.6960150269962389, 0.1740037567490597, 0.16414169128861206, 0.16414169128861206, 0.4924250738658361, 0.11977314785985392, 0.7086577915041358, 0.16967862613479306], \"Term\": [\"11\", \"11\", \"11\", \"168th\", \"168th\", \"168th\", \"414\", \"414\", \"414\", \"414hotel\", \"414hotel\", \"414hotel\", \"414s\", \"414s\", \"414s\", \"48lex\", \"48lex\", \"48lex\", \"6th\", \"6th\", \"6th\", \"76th\", \"76th\", \"76th\", \"911\", \"911\", \"911\", \"accor\", \"accor\", \"accor\", \"afternoon\", \"afternoon\", \"afternoon\", \"allan\", \"allan\", \"allan\", \"andaz\", \"andaz\", \"andaz\", \"anniversary\", \"anniversary\", \"anniversary\", \"anthony\", \"anthony\", \"anthony\", \"anya\", \"anya\", \"anya\", \"archer\", \"archer\", \"archer\", \"areas\", \"areas\", \"areas\", \"arlo\", \"arlo\", \"arlo\", \"arlos\", \"arlos\", \"arlos\", \"art\", \"art\", \"art\", \"atmosphere\", \"atmosphere\", \"atmosphere\", \"baccarat\", \"baccarat\", \"baccarat\", \"basket\", \"basket\", \"basket\", \"beautifully\", \"beautifully\", \"beautifully\", \"benjamin\", \"benjamin\", \"benjamin\", \"berkshire\", \"berkshire\", \"berkshire\", \"blair\", \"blair\", \"blair\", \"bobs\", \"bobs\", \"bobs\", \"bottle\", \"bottle\", \"bottle\", \"boulud\", \"boulud\", \"boulud\", \"broome\", \"broome\", \"broome\", \"bryant\", \"bryant\", \"bryant\", \"bunkbeds\", \"bunkbeds\", \"bunkbeds\", \"butler\", \"butler\", \"butler\", \"cambria\", \"cambria\", \"cambria\", \"carlos\", \"carlos\", \"carlos\", \"carlton\", \"carlton\", \"carlton\", \"casablanca\", \"casablanca\", \"casablanca\", \"certainly\", \"certainly\", \"certainly\", \"chaplin\", \"chaplin\", \"chaplin\", \"chatwal\", \"chatwal\", \"chatwal\", \"checking\", \"checking\", \"checking\", \"cheese\", \"cheese\", \"cheese\", \"chelsea\", \"chelsea\", \"chelsea\", \"christmas\", \"christmas\", \"christmas\", \"columbia\", \"columbia\", \"columbia\", \"conrad\", \"conrad\", \"conrad\", \"continental\", \"continental\", \"continental\", \"courteous\", \"courteous\", \"courteous\", \"courtyard\", \"courtyard\", \"courtyard\", \"cpi\", \"cpi\", \"cpi\", \"daughter\", \"daughter\", \"daughter\", \"decimal\", \"decimal\", \"decimal\", \"decorated\", \"decorated\", \"decorated\", \"delicious\", \"delicious\", \"delicious\", \"design\", \"design\", \"design\", \"dewey\", \"dewey\", \"dewey\", \"dining\", \"dining\", \"dining\", \"diptyque\", \"diptyque\", \"diptyque\", \"distrikt\", \"distrikt\", \"distrikt\", \"django\", \"django\", \"django\", \"doorman\", \"doorman\", \"doorman\", \"dorina\", \"dorina\", \"dorina\", \"drawing\", \"drawing\", \"drawing\", \"drew\", \"drew\", \"drew\", \"dumont\", \"dumont\", \"dumont\", \"edge\", \"edge\", \"edge\", \"elias\", \"elias\", \"elias\", \"eloise\", \"eloise\", \"eloise\", \"elysee\", \"elysee\", \"elysee\", \"emmy\", \"emmy\", \"emmy\", \"entire\", \"entire\", \"entire\", \"equipment\", \"equipment\", \"equipment\", \"erik\", \"erik\", \"erik\", \"exceptional\", \"exceptional\", \"exceptional\", \"fabrick\", \"fabrick\", \"fabrick\", \"fabulous\", \"fabulous\", \"fabulous\", \"favorite\", \"favorite\", \"favorite\", \"fitzpatrick\", \"fitzpatrick\", \"fitzpatrick\", \"fitzpatricks\", \"fitzpatricks\", \"fitzpatricks\", \"forward\", \"forward\", \"forward\", \"fruit\", \"fruit\", \"fruit\", \"fun\", \"fun\", \"fun\", \"geoffrey\", \"geoffrey\", \"geoffrey\", \"giraffe\", \"giraffe\", \"giraffe\", \"glass\", \"glass\", \"glass\", \"gramercy\", \"gramercy\", \"gramercy\", \"greenwich\", \"greenwich\", \"greenwich\", \"greeted\", \"greeted\", \"greeted\", \"gunita\", \"gunita\", \"gunita\", \"gwen\", \"gwen\", \"gwen\", \"hampton\", \"hampton\", \"hampton\", \"harolds\", \"harolds\", \"harolds\", \"heights\", \"heights\", \"heights\", \"holland\", \"holland\", \"holland\", \"hudson\", \"hudson\", \"hudson\", \"hyatt\", \"hyatt\", \"hyatt\", \"ike\", \"ike\", \"ike\", \"ink\", \"ink\", \"ink\", \"ink48\", \"ink48\", \"ink48\", \"irish\", \"irish\", \"irish\", \"italy\", \"italy\", \"italy\", \"jacqui\", \"jacqui\", \"jacqui\", \"jay\", \"jay\", \"jay\", \"kimpton\", \"kimpton\", \"kimpton\", \"knickerbocker\", \"knickerbocker\", \"knickerbocker\", \"laconda\", \"laconda\", \"laconda\", \"langham\", \"langham\", \"langham\", \"lanvin\", \"lanvin\", \"lanvin\", \"lesiger\", \"lesiger\", \"library\", \"library\", \"library\", \"lilly\", \"lilly\", \"lilly\", \"limonade\", \"limonade\", \"locanda\", \"locanda\", \"locanda\", \"locande\", \"locande\", \"locande\", \"loews\", \"loews\", \"loews\", \"loopy\", \"loopy\", \"loopy\", \"lotte\", \"lotte\", \"lotte\", \"lowes\", \"lowes\", \"lowes\", \"ludlow\", \"ludlow\", \"ludlow\", \"luxurious\", \"luxurious\", \"luxurious\", \"luxury\", \"luxury\", \"luxury\", \"mall\", \"mall\", \"mall\", \"mallorca\", \"mallorca\", \"marriott\", \"marriott\", \"marriott\", \"merril\", \"merril\", \"merril\", \"met\", \"met\", \"met\", \"microwave\", \"microwave\", \"microwave\", \"moderne\", \"moderne\", \"moderne\", \"moment\", \"moment\", \"moment\", \"muse\", \"muse\", \"muse\", \"music\", \"music\", \"music\", \"napoli\", \"napoli\", \"napoli\", \"natasha\", \"natasha\", \"natasha\", \"national\", \"national\", \"national\", \"niro\", \"niro\", \"niro\", \"nobleden\", \"nobleden\", \"nobleden\", \"nomad\", \"nomad\", \"nomad\", \"number\", \"number\", \"number\", \"omni\", \"omni\", \"omni\", \"osullivan\", \"osullivan\", \"osullivan\", \"outstanding\", \"outstanding\", \"outstanding\", \"pablo\", \"pablo\", \"pablo\", \"palm\", \"palm\", \"palm\", \"pearl\", \"pearl\", \"pearl\", \"peninsula\", \"peninsula\", \"peninsula\", \"perfectly\", \"perfectly\", \"perfectly\", \"personal\", \"personal\", \"personal\", \"pianist\", \"pianist\", \"pianist\", \"pines\", \"pines\", \"pines\", \"plaza\", \"plaza\", \"plaza\", \"pleiades\", \"pleiades\", \"pleiades\", \"pong\", \"pong\", \"pong\", \"pool\", \"pool\", \"pool\", \"presbyterian\", \"presbyterian\", \"presbyterian\", \"quarters\", \"quarters\", \"quarters\", \"quin\", \"quin\", \"quin\", \"rc\", \"rc\", \"rc\", \"recently\", \"recently\", \"recently\", \"recommended\", \"recommended\", \"recommended\", \"refinery\", \"refinery\", \"refinery\", \"regency\", \"regency\", \"regency\", \"regis\", \"regis\", \"regis\", \"relais\", \"relais\", \"relais\", \"returned\", \"returned\", \"returned\", \"review\", \"review\", \"review\", \"ricks\", \"ricks\", \"ricks\", \"ritz\", \"ritz\", \"ritz\", \"river\", \"river\", \"river\", \"robbie\", \"robbie\", \"robbie\", \"rockefeller\", \"rockefeller\", \"rockefeller\", \"roof\", \"roof\", \"roof\", \"routines\", \"routines\", \"routines\", \"roxy\", \"roxy\", \"roxy\", \"ruddy\", \"ruddy\", \"ruddy\", \"sal\", \"sal\", \"sal\", \"sami\", \"sami\", \"sami\", \"san\", \"san\", \"san\", \"seans\", \"seans\", \"separate\", \"separate\", \"separate\", \"shibui\", \"shibui\", \"shibui\", \"snacks\", \"snacks\", \"snacks\", \"sofitel\", \"sofitel\", \"sofitel\", \"soon\", \"soon\", \"soon\", \"spa\", \"spa\", \"spa\", \"spg\", \"spg\", \"spg\", \"spot\", \"spot\", \"spot\", \"spyglass\", \"spyglass\", \"spyglass\", \"style\", \"style\", \"style\", \"superb\", \"superb\", \"superb\", \"surrey\", \"surrey\", \"surrey\", \"susan\", \"susan\", \"susan\", \"susans\", \"susans\", \"table\", \"table\", \"table\", \"tapper\", \"tapper\", \"tapper\", \"team\", \"team\", \"team\", \"terrace\", \"terrace\", \"terrace\", \"touch\", \"touch\", \"touch\", \"travis\", \"travis\", \"travis\", \"troy\", \"troy\", \"troy\", \"truly\", \"truly\", \"truly\", \"tuscany\", \"tuscany\", \"tuscany\", \"upgrade\", \"upgrade\", \"upgrade\", \"verde\", \"verde\", \"verde\", \"videos\", \"videos\", \"videos\", \"wellness\", \"wellness\", \"wellness\", \"wheeltapper\", \"wheeltapper\", \"wheeltapper\", \"yates\", \"yates\", \"yates\", \"yeilly\", \"yeilly\", \"yeilly\", \"yoga\", \"yoga\", \"yoga\"]}, \"mdsDat\": {\"y\": [-0.004859152755843998, -0.004396320524133695, 0.009255473279977697], \"cluster\": [1, 1, 1], \"Freq\": [37.77547913571645, 37.26684986186212, 24.957671002421428], \"topics\": [1, 2, 3], \"x\": [0.009639778845094857, -0.009966593066001516, 0.00032681422090665764]}, \"R\": 30, \"lambda.step\": 0.01, \"tinfo\": {\"Category\": [\"Default\", \"Default\", \"Default\", \"Default\", \"Default\", \"Default\", \"Default\", \"Default\", \"Default\", \"Default\", \"Default\", \"Default\", \"Default\", \"Default\", \"Default\", \"Default\", \"Default\", \"Default\", \"Default\", \"Default\", \"Default\", \"Default\", \"Default\", \"Default\", \"Default\", \"Default\", \"Default\", \"Default\", \"Default\", \"Default\", \"Topic1\", \"Topic1\", \"Topic1\", \"Topic1\", \"Topic1\", \"Topic1\", \"Topic1\", \"Topic1\", \"Topic1\", \"Topic1\", \"Topic1\", \"Topic1\", \"Topic1\", \"Topic1\", \"Topic1\", \"Topic1\", \"Topic1\", \"Topic1\", \"Topic1\", \"Topic1\", \"Topic1\", \"Topic1\", \"Topic1\", \"Topic1\", \"Topic1\", \"Topic1\", \"Topic1\", \"Topic1\", \"Topic1\", \"Topic1\", \"Topic1\", \"Topic1\", \"Topic1\", \"Topic1\", \"Topic1\", \"Topic1\", \"Topic1\", \"Topic1\", \"Topic1\", \"Topic1\", \"Topic1\", \"Topic1\", \"Topic1\", \"Topic1\", \"Topic1\", \"Topic1\", \"Topic1\", \"Topic1\", \"Topic1\", \"Topic1\", \"Topic1\", \"Topic1\", \"Topic1\", \"Topic1\", \"Topic1\", \"Topic1\", \"Topic1\", \"Topic1\", \"Topic1\", \"Topic1\", \"Topic1\", \"Topic1\", \"Topic1\", \"Topic1\", \"Topic1\", \"Topic1\", \"Topic1\", \"Topic1\", \"Topic1\", \"Topic1\", \"Topic1\", \"Topic1\", \"Topic1\", \"Topic1\", \"Topic1\", \"Topic1\", \"Topic1\", \"Topic2\", \"Topic2\", \"Topic2\", \"Topic2\", \"Topic2\", \"Topic2\", \"Topic2\", \"Topic2\", \"Topic2\", \"Topic2\", \"Topic2\", \"Topic2\", \"Topic2\", \"Topic2\", \"Topic2\", \"Topic2\", \"Topic2\", \"Topic2\", \"Topic2\", \"Topic2\", \"Topic2\", \"Topic2\", \"Topic2\", \"Topic2\", \"Topic2\", \"Topic2\", \"Topic2\", \"Topic2\", \"Topic2\", \"Topic2\", \"Topic2\", \"Topic2\", \"Topic2\", \"Topic2\", \"Topic2\", \"Topic2\", \"Topic2\", \"Topic2\", \"Topic2\", \"Topic2\", \"Topic2\", \"Topic2\", \"Topic2\", \"Topic2\", \"Topic2\", \"Topic2\", \"Topic2\", \"Topic2\", \"Topic2\", \"Topic2\", \"Topic2\", \"Topic2\", \"Topic2\", \"Topic2\", \"Topic2\", \"Topic2\", \"Topic2\", \"Topic2\", \"Topic2\", \"Topic2\", \"Topic2\", \"Topic2\", \"Topic2\", \"Topic2\", \"Topic2\", \"Topic2\", \"Topic2\", \"Topic2\", \"Topic2\", \"Topic2\", \"Topic2\", \"Topic2\", \"Topic2\", \"Topic2\", \"Topic2\", \"Topic2\", \"Topic2\", \"Topic2\", \"Topic2\", \"Topic2\", \"Topic2\", \"Topic2\", \"Topic2\", \"Topic2\", \"Topic2\", \"Topic2\", \"Topic2\", \"Topic2\", \"Topic2\", \"Topic2\", \"Topic2\", \"Topic3\", \"Topic3\", \"Topic3\", \"Topic3\", \"Topic3\", \"Topic3\", \"Topic3\", \"Topic3\", \"Topic3\", \"Topic3\", \"Topic3\", \"Topic3\", \"Topic3\", \"Topic3\", \"Topic3\", \"Topic3\", \"Topic3\", \"Topic3\", \"Topic3\", \"Topic3\", \"Topic3\", \"Topic3\", \"Topic3\", \"Topic3\", \"Topic3\", \"Topic3\", \"Topic3\", \"Topic3\", \"Topic3\", \"Topic3\", \"Topic3\", \"Topic3\", \"Topic3\", \"Topic3\", \"Topic3\", \"Topic3\", \"Topic3\", \"Topic3\", \"Topic3\", \"Topic3\", \"Topic3\", \"Topic3\", \"Topic3\", \"Topic3\", \"Topic3\", \"Topic3\", \"Topic3\", \"Topic3\", \"Topic3\", \"Topic3\", \"Topic3\", \"Topic3\", \"Topic3\", \"Topic3\", \"Topic3\", \"Topic3\", \"Topic3\", \"Topic3\", \"Topic3\", \"Topic3\", \"Topic3\", \"Topic3\", \"Topic3\", \"Topic3\", \"Topic3\", \"Topic3\", \"Topic3\", \"Topic3\", \"Topic3\", \"Topic3\", \"Topic3\", \"Topic3\", \"Topic3\", \"Topic3\", \"Topic3\", \"Topic3\", \"Topic3\", \"Topic3\", \"Topic3\"], \"Term\": [\"414\", \"hudson\", \"benjamin\", \"courtyard\", \"broome\", \"roxy\", \"greenwich\", \"chelsea\", \"sofitel\", \"arlo\", \"ritz\", \"susan\", \"pines\", \"bryant\", \"kimpton\", \"conrad\", \"pool\", \"archer\", \"cambria\", \"river\", \"surrey\", \"fitzpatrick\", \"roof\", \"chatwal\", \"microwave\", \"library\", \"refinery\", \"plaza\", \"ink48\", \"san\", \"surrey\", \"pines\", \"cpi\", \"omni\", \"fitzpatrick\", \"pleiades\", \"ricks\", \"bobs\", \"casablanca\", \"decimal\", \"boulud\", \"relais\", \"wheeltapper\", \"76th\", \"dumont\", \"berkshire\", \"eloise\", \"jay\", \"pablo\", \"allan\", \"dewey\", \"troy\", \"diptyque\", \"lesiger\", \"chaplin\", \"rc\", \"napoli\", \"seans\", \"osullivan\", \"tapper\", \"ritz\", \"fitzpatricks\", \"langham\", \"48lex\", \"chelsea\", \"hyatt\", \"ludlow\", \"plaza\", \"hampton\", \"peninsula\", \"knickerbocker\", \"carlton\", \"library\", \"palm\", \"nomad\", \"upgrade\", \"pearl\", \"cheese\", \"irish\", \"number\", \"soon\", \"christmas\", \"greeted\", \"anniversary\", \"fruit\", \"personal\", \"separate\", \"exceptional\", \"style\", \"atmosphere\", \"delicious\", \"moment\", \"decorated\", \"luxury\", \"afternoon\", \"areas\", \"daughter\", \"fabulous\", \"pool\", \"truly\", \"design\", \"bottle\", \"touch\", \"outstanding\", \"returned\", \"entire\", \"continental\", \"414\", \"roxy\", \"emmy\", \"archer\", \"columbia\", \"susan\", \"ruddy\", \"django\", \"yates\", \"ike\", \"regency\", \"414hotel\", \"drew\", \"jacqui\", \"lowes\", \"fabrick\", \"loews\", \"chatwal\", \"lilly\", \"dorina\", \"wellness\", \"168th\", \"videos\", \"blair\", \"presbyterian\", \"sami\", \"routines\", \"susans\", \"414s\", \"pianist\", \"giraffe\", \"nobleden\", \"spyglass\", \"pong\", \"heights\", \"moderne\", \"yoga\", \"muse\", \"baccarat\", \"robbie\", \"sal\", \"anthony\", \"gramercy\", \"italy\", \"edge\", \"quin\", \"tuscany\", \"quarters\", \"spg\", \"11\", \"lotte\", \"regis\", \"fun\", \"art\", \"butler\", \"continental\", \"equipment\", \"fabulous\", \"team\", \"music\", \"recommended\", \"table\", \"911\", \"favorite\", \"superb\", \"touch\", \"decorated\", \"truly\", \"forward\", \"certainly\", \"recently\", \"met\", \"design\", \"beautifully\", \"terrace\", \"moment\", \"entire\", \"doorman\", \"pool\", \"glass\", \"greeted\", \"delicious\", \"outstanding\", \"cheese\", \"luxury\", \"roof\", \"daughter\", \"atmosphere\", \"luxurious\", \"style\", \"upgrade\", \"verde\", \"locande\", \"travis\", \"arlos\", \"sofitel\", \"locanda\", \"harolds\", \"shibui\", \"benjamin\", \"cambria\", \"gunita\", \"laconda\", \"conrad\", \"ink48\", \"accor\", \"gwen\", \"niro\", \"loopy\", \"distrikt\", \"broome\", \"anya\", \"merril\", \"limonade\", \"elias\", \"bunkbeds\", \"mallorca\", \"holland\", \"geoffrey\", \"yeilly\", \"lanvin\", \"greenwich\", \"refinery\", \"erik\", \"hudson\", \"natasha\", \"ink\", \"national\", \"arlo\", \"courtyard\", \"river\", \"drawing\", \"mall\", \"elysee\", \"basket\", \"bryant\", \"microwave\", \"carlos\", \"andaz\", \"kimpton\", \"pool\", \"roof\", \"marriott\", \"6th\", \"checking\", \"luxury\", \"delicious\", \"glass\", \"certainly\", \"review\", \"bottle\", \"perfectly\", \"spa\", \"favorite\", \"dining\", \"rockefeller\", \"spot\", \"afternoon\", \"snacks\", \"outstanding\", \"touch\", \"fun\", \"greeted\", \"areas\", \"recommended\", \"daughter\", \"truly\", \"style\", \"moment\", \"courteous\"], \"loglift\": [30.0, 29.0, 28.0, 27.0, 26.0, 25.0, 24.0, 23.0, 22.0, 21.0, 20.0, 19.0, 18.0, 17.0, 16.0, 15.0, 14.0, 13.0, 12.0, 11.0, 10.0, 9.0, 8.0, 7.0, 6.0, 5.0, 4.0, 3.0, 2.0, 1.0, 0.7774, 0.7574, 0.7362, 0.7344, 0.7275, 0.7208, 0.7174, 0.7171, 0.7077, 0.7053, 0.7037, 0.7016, 0.6994, 0.6968, 0.6956, 0.6922, 0.6874, 0.6869, 0.6829, 0.6816, 0.6808, 0.6791, 0.6692, 0.6685, 0.6664, 0.6586, 0.6538, 0.653, 0.6482, 0.643, 0.6149, 0.6364, 0.6086, 0.6309, 0.5804, 0.5802, 0.5729, 0.5513, 0.5705, 0.5499, 0.5622, 0.5084, 0.4147, 0.6191, 0.4471, 0.318, 0.4774, 0.2972, 0.4546, 0.329, 0.2586, 0.2115, 0.1483, 0.1982, 0.1903, 0.1987, 0.2047, 0.159, 0.1131, 0.1068, 0.0253, 0.0695, 0.061, 0.0188, 0.1402, 0.096, 0.0597, -0.0299, -0.0711, 0.0172, 0.06, 0.0548, -0.0184, -0.0008, 0.1075, 0.0292, -0.098, 0.85, 0.8123, 0.787, 0.769, 0.7611, 0.7409, 0.7375, 0.7336, 0.7276, 0.7262, 0.7245, 0.7213, 0.72, 0.7181, 0.7111, 0.7063, 0.7048, 0.7021, 0.6998, 0.694, 0.6931, 0.6907, 0.6879, 0.6876, 0.6869, 0.6854, 0.6803, 0.6787, 0.678, 0.678, 0.6715, 0.6702, 0.6767, 0.6775, 0.6694, 0.6474, 0.6431, 0.6287, 0.5954, 0.6366, 0.63, 0.6059, 0.5443, 0.529, 0.5386, 0.5384, 0.5603, 0.4953, 0.5646, 0.435, 0.4752, 0.3756, 0.2497, 0.3273, 0.4296, 0.2373, 0.3939, 0.1863, 0.2034, 0.2179, 0.1164, 0.1532, 0.3161, 0.1114, 0.128, 0.0336, 0.0546, 0.0468, 0.0823, 0.0869, 0.082, 0.1158, 0.0457, 0.112, 0.1466, -0.0129, 0.0279, 0.1121, -0.1369, 0.0534, -0.1128, -0.138, -0.0249, -0.0644, -0.1482, -0.0652, -0.0467, -0.039, 0.0593, -0.0945, -0.1611, 0.9749, 0.9722, 0.9455, 0.9435, 0.9326, 0.932, 0.9303, 0.9231, 0.9217, 0.9124, 0.9115, 0.9062, 0.9054, 0.9029, 0.8884, 0.8853, 0.8848, 0.8727, 0.869, 0.8584, 0.8576, 0.8533, 0.8483, 0.8413, 0.8332, 0.8326, 0.8323, 0.8282, 0.8234, 0.8199, 0.7948, 0.7957, 0.8158, 0.7695, 0.7781, 0.7574, 0.7355, 0.6761, 0.6362, 0.6307, 0.6689, 0.6847, 0.581, 0.6699, 0.4355, 0.4568, 0.4981, 0.5771, 0.4728, 0.2584, 0.2908, 0.4344, 0.3892, 0.2608, 0.1629, 0.143, 0.2121, 0.1962, 0.2466, 0.1594, 0.2188, 0.2226, 0.1458, 0.1332, 0.2094, 0.1743, 0.1358, 0.2046, 0.0372, -0.0237, 0.0004, -0.0864, 0.041, -0.043, -0.0253, -0.1028, -0.0476, -0.094, 0.06], \"Freq\": [291.0, 342.0, 215.0, 432.0, 258.0, 252.0, 290.0, 601.0, 188.0, 248.0, 517.0, 257.0, 243.0, 552.0, 317.0, 159.0, 1031.0, 188.0, 139.0, 279.0, 179.0, 213.0, 803.0, 208.0, 418.0, 659.0, 146.0, 435.0, 107.0, 200.0, 147.81680248194638, 196.0435789293217, 37.31375677258215, 99.65707568177763, 166.6643696248998, 8.810527414452537, 37.21473806037551, 29.310806193943627, 112.87147942414546, 9.372992463687833, 31.706343699847267, 12.299063761966579, 13.609583177016498, 9.330509109193603, 99.39323587228509, 51.63120574510102, 20.80061638517746, 63.52518505823075, 4.931874764109017, 46.943440559086866, 9.142334992939501, 37.46991086805443, 4.173388467880828, 3.483204754547665, 3.463419059633407, 22.75739298302797, 6.159387698585363, 2.7296858205615027, 8.777896508458404, 4.708969630321283, 361.43444352494305, 36.08809810766929, 156.72535126675922, 45.751822316451616, 406.13222717183027, 213.61589969918606, 148.08727800491675, 285.42183986910493, 129.20772807169146, 188.29425248273185, 73.79143129655233, 129.93556884538677, 376.9665148138682, 33.17120056364616, 153.39185589164833, 434.5112032168442, 116.21881216320719, 423.80895865022705, 128.8586843404364, 247.21028369428495, 331.2293060750827, 326.0176725053942, 414.7984218373134, 310.54786388828427, 312.95568809152536, 267.2359682144324, 261.31429538670847, 293.82274460019084, 330.8963736199477, 316.72589534367273, 375.858743423288, 334.92581201563655, 332.186062316478, 355.01918929312836, 283.55033179415284, 295.10159560781415, 311.28745581342207, 347.16823869296604, 362.8668212509059, 324.92203930521066, 309.13386014745186, 310.6273356230181, 329.26896276684784, 297.78351574923556, 276.89862936280286, 285.6678786653347, 277.55927990542193, 254.19731662921555, 211.99128346259417, 16.527996049822697, 151.8198015060507, 41.832823993134966, 201.61403160474669, 8.238683504977578, 17.070847364274382, 4.43375775918806, 6.63106468313553, 90.84263042634538, 5.879777317957494, 20.56104165104317, 10.221856322547627, 16.121444378256964, 8.633531889685415, 94.90654972637657, 156.65734115688622, 5.774116642812113, 4.2713965256432305, 38.331032143850315, 6.452040473732253, 22.033934121545126, 4.241660149315538, 31.42060304077936, 9.94294408489559, 6.314984721640502, 2.799200646095513, 3.4963400249284518, 9.122038107836723, 114.77116770237501, 74.68947071402687, 24.278792328445704, 20.986108046494774, 29.253006646685126, 86.97162043572216, 71.02909064997995, 75.77455975051409, 146.80949483616135, 38.93401679709587, 40.70663341464367, 54.44780136365847, 134.49941678839605, 166.70732774514687, 113.78273892113899, 104.54311749284324, 74.51828138329446, 116.79671640186535, 66.10186290318455, 181.61321047358334, 127.61971779576174, 187.48066809320915, 392.35155242345957, 243.50443231091884, 130.6249512500056, 382.89416185719864, 154.57984820322648, 425.12346313349735, 339.58994667233355, 258.83764037579306, 338.9379752448752, 286.52252165314553, 180.0726341101187, 298.54406883057896, 282.5321700864313, 342.18660921258817, 325.6031479045153, 330.17879192008235, 302.04780666189095, 292.69356730005114, 285.81253605802283, 264.50444320689303, 300.6477648344247, 265.28723250942176, 249.48325925207902, 304.26663192358154, 281.4473977766125, 255.42243205986844, 335.1662085104338, 270.1259020268761, 315.1833192526679, 314.93755204060176, 286.76746809751563, 291.2300824717191, 296.3973007782322, 280.49064467359125, 276.0922400310996, 270.0652261472373, 264.1559722647827, 265.2354658024677, 265.50146897077144, 50.95143686337432, 7.908570211221581, 4.967436806478392, 5.5041918754035875, 119.28541243918713, 45.287049266353996, 14.673191808805772, 3.242735720224827, 135.22006734296383, 86.65499567240094, 3.73952701138401, 3.1964200816346824, 98.44194787467973, 65.92131201280975, 5.237798384458238, 2.091652197606901, 9.41478131655041, 5.168414159718644, 59.693226574317485, 152.14891698039628, 8.659876181816452, 3.551194345992408, 1.5181964613263104, 4.016413502167246, 1.9943147906866328, 1.4970413033741496, 15.438671449685181, 4.467507407720015, 3.464045592101375, 2.4633446021128558, 160.608124818436, 81.12088990569957, 9.821299665817797, 184.25439434498392, 17.556158713896235, 27.06999910698222, 40.637831965848655, 122.15098969993815, 204.10972499069513, 131.24098911584363, 46.98162956358586, 32.70690031246782, 72.80564503880017, 32.29710172795336, 213.30020262850167, 164.85390478857184, 109.74876932937109, 64.66157336675296, 127.05157862100113, 333.3076149700395, 268.1640888307234, 115.4852529175133, 120.63011572878494, 185.46559242648306, 270.92621428760646, 279.36261457334905, 212.01972252876413, 218.65980985870098, 179.1246089182875, 227.85505314845955, 181.55586723571477, 179.27801279058224, 206.93352575704745, 205.48073892436616, 179.75445423566669, 180.80376644011642, 186.53206455740175, 167.523616408068, 204.36444675410965, 216.39039759205752, 204.78427368714227, 216.71249122150698, 184.53305967323197, 193.53697134618116, 188.88964835062276, 190.3925686474753, 186.16470769828604, 187.90251603105148, 180.1342216039665], \"Total\": [291.0, 342.0, 215.0, 432.0, 258.0, 252.0, 290.0, 601.0, 188.0, 248.0, 517.0, 257.0, 243.0, 552.0, 317.0, 159.0, 1031.0, 188.0, 139.0, 279.0, 179.0, 213.0, 803.0, 208.0, 418.0, 659.0, 146.0, 435.0, 107.0, 200.0, 179.83527906249785, 243.34824902882573, 47.30780605279421, 126.58103366011403, 213.15886691903825, 11.343539223508715, 48.079538776798294, 37.87644404936437, 147.2378188340405, 12.256127731752194, 41.52525814337254, 16.141344767861494, 17.90176184987383, 12.304887461157223, 131.24027154517884, 68.40694996814213, 27.689908718758282, 84.61008766473898, 6.5953048399350696, 62.85367213913107, 12.251352873229763, 50.2988064308062, 5.657762655408347, 4.725554837801529, 4.708277852933068, 31.180057454541707, 8.479613387475585, 3.760965289551493, 12.152583214050976, 6.5535453677850395, 517.350162780575, 50.55550151172629, 225.74107201760597, 64.44397821217447, 601.7414760876865, 316.54795955401073, 221.05544735594964, 435.3773974620784, 193.33059691695874, 287.6168973994236, 111.33881267544378, 206.88040715186412, 659.1695944307106, 47.27929304356556, 259.6596123908974, 836.943678593463, 190.8727582611288, 833.4488366936052, 216.5060237667563, 470.9471544118933, 677.0407549884239, 698.5223461615702, 946.6942323114883, 674.2799559613557, 684.9066962255694, 579.9347802213331, 563.7178577045845, 663.4984706205701, 782.2965471207015, 753.4997804168581, 970.1589100372387, 827.0949599702695, 827.3099502994612, 922.342704358967, 652.4553548436326, 709.7114446046694, 776.2693441951444, 946.8958877068817, 1031.3406447313791, 845.4933998727682, 770.7207723132888, 778.4552239093194, 887.8459695714935, 788.9154306008609, 658.2916464654113, 734.4418373116312, 810.3745766647401, 291.54332979869235, 252.4853694078123, 20.18879364698054, 188.80813650764057, 52.4386920018531, 257.87497129450855, 10.574524592291356, 21.995709301334863, 5.747002356059211, 8.60719978778614, 118.12312489732633, 7.669662014075225, 26.855014903229524, 13.375950011619453, 21.244349361571697, 11.431896397124335, 125.8607892584202, 208.30905452509958, 7.695820062800373, 5.726170559362743, 51.430140437127335, 8.677900593898428, 29.718087114420275, 5.722565487013013, 42.42127000456092, 13.443657504252373, 8.582336381314969, 3.8101294808931456, 4.762348248173736, 12.425232961500628, 157.35271276768609, 102.53961040104831, 33.11589151268307, 28.600214157490598, 40.189806495167076, 122.14946729348003, 100.18940150125428, 108.43621676804862, 217.20290014632528, 55.274294995616714, 58.177936383891335, 79.71352477883167, 209.415272931147, 263.57106314131994, 178.17619960058929, 163.73732853092264, 114.18769926031271, 190.99537147757465, 100.85434719668166, 315.4453462530828, 212.91571472669102, 345.56432059787016, 820.2033713945809, 471.0046863249704, 228.09194864523403, 810.3745766647401, 279.7415929110846, 946.8958877068817, 743.4913241083082, 558.5595525987071, 809.5536668423804, 659.6169342191222, 352.2429339918506, 716.6535975099621, 667.0191770601803, 887.8459695714935, 827.3099502994612, 845.4933998727682, 746.4752111301161, 720.0164598263384, 706.5308829999256, 632.1749607812146, 770.7207723132888, 636.4022445077381, 578.1504754941398, 827.0949599702695, 734.4418373116312, 612.7013378252498, 1031.3406447313791, 687.1277110032102, 946.6942323114883, 970.1589100372387, 788.9154306008609, 833.4488366936052, 922.342704358967, 803.3668774442788, 776.2693441951444, 753.4997804168581, 668.0179525602614, 782.2965471207015, 836.943678593463, 77.01034619990097, 11.985698007290924, 7.7318463865597025, 8.58456774919717, 188.08195662804115, 71.44876339686441, 23.189435105762094, 5.16191584500285, 215.55995155857698, 139.43134498674064, 6.022175657340929, 5.174886937908286, 159.50609031037, 107.07602851967138, 8.632119591801867, 3.4576847730891207, 15.572300110439048, 8.652637354498975, 100.30064459519772, 258.3796230150208, 14.718029173191104, 6.061432439198018, 2.6043066267552115, 6.938474323266174, 3.473309339966388, 2.6087313941651313, 26.91118043924895, 7.819236940963336, 6.092297405670626, 4.347480221093443, 290.670190803517, 146.6778953760244, 17.404763024958324, 342.00848631289705, 32.30871327611458, 50.85696012719028, 78.03919660198011, 248.91344277429087, 432.89440743657013, 279.86118134724575, 96.43716813125062, 66.07758060702876, 163.16308488780027, 66.22489861324911, 552.9069277344306, 418.3266005992858, 267.22735749441216, 145.48546872696966, 317.269099316652, 1031.3406447313791, 803.3668774442788, 299.6747915082511, 327.51745333574934, 572.5233349616576, 922.342704358967, 970.1589100372387, 687.1277110032102, 720.0164598263384, 560.8605327487571, 778.4552239093194, 584.5214719779607, 574.9634786104922, 716.6535975099621, 720.6477422476829, 584.1406234279285, 608.5623088301196, 652.4553548436326, 547.0190456811993, 788.9154306008609, 887.8459695714935, 820.2033713945809, 946.6942323114883, 709.7114446046694, 809.5536668423804, 776.2693441951444, 845.4933998727682, 782.2965471207015, 827.0949599702695, 679.7354903496758], \"logprob\": [30.0, 29.0, 28.0, 27.0, 26.0, 25.0, 24.0, 23.0, 22.0, 21.0, 20.0, 19.0, 18.0, 17.0, 16.0, 15.0, 14.0, 13.0, 12.0, 11.0, 10.0, 9.0, 8.0, 7.0, 6.0, 5.0, 4.0, 3.0, 2.0, 1.0, -7.4314, -7.149, -8.808, -7.8256, -7.3114, -10.2514, -8.8106, -9.0494, -7.7011, -10.1895, -8.9708, -9.9178, -9.8166, -10.194, -7.8283, -8.4832, -9.3924, -8.2759, -10.8316, -8.5784, -10.2144, -8.8038, -10.9986, -11.1794, -11.1851, -9.3024, -10.6094, -11.4232, -10.2551, -10.8779, -6.5373, -8.8414, -7.3728, -8.6041, -6.4207, -7.0632, -7.4295, -6.7734, -7.5659, -7.1893, -8.1261, -7.5603, -6.4952, -8.9257, -7.3943, -6.3531, -7.6719, -6.3781, -7.5686, -6.9171, -6.6245, -6.6404, -6.3995, -6.689, -6.6813, -6.8392, -6.8616, -6.7444, -6.6255, -6.6693, -6.4981, -6.6134, -6.6216, -6.5552, -6.7799, -6.74, -6.6866, -6.5775, -6.5333, -6.6438, -6.6936, -6.6887, -6.6305, -6.731, -6.8037, -6.7725, -6.8013, -6.8757, -7.0572, -9.6087, -7.3911, -8.6801, -7.1074, -10.3049, -9.5764, -10.9245, -10.522, -7.9047, -10.6423, -9.3904, -10.0893, -9.6336, -10.2581, -7.8609, -7.3597, -10.6604, -10.9618, -8.7675, -10.5494, -9.3212, -10.9688, -8.9663, -10.1169, -10.5709, -11.3844, -11.1621, -10.2031, -7.6708, -8.1004, -9.2242, -9.3699, -9.0378, -7.9482, -8.1507, -8.086, -7.4246, -8.7519, -8.7074, -8.4165, -7.5122, -7.2975, -7.6795, -7.7642, -8.1027, -7.6533, -8.2226, -7.2119, -7.5647, -7.1801, -6.4416, -6.9186, -7.5415, -6.466, -7.3731, -6.3614, -6.586, -6.8576, -6.588, -6.756, -7.2204, -6.7149, -6.77, -6.5784, -6.6281, -6.6141, -6.7032, -6.7347, -6.7584, -6.8359, -6.7078, -6.833, -6.8944, -6.6959, -6.7738, -6.8709, -6.5992, -6.8149, -6.6606, -6.6614, -6.7551, -6.7397, -6.7221, -6.7772, -6.793, -6.8151, -6.8372, -6.8332, -6.8322, -8.082, -9.9449, -10.41, -10.3073, -7.2313, -8.1998, -9.3268, -10.8364, -7.106, -7.5509, -10.6939, -10.8508, -7.4234, -7.8244, -10.357, -11.2749, -9.7706, -10.3703, -7.9236, -6.988, -9.8542, -10.7456, -11.5953, -10.6225, -11.3226, -11.6094, -9.276, -10.516, -10.7704, -11.1113, -6.9339, -7.6169, -9.7283, -6.7965, -9.1475, -8.7144, -8.3082, -7.2076, -6.6942, -7.1358, -8.1631, -8.5253, -7.7251, -8.5379, -6.6502, -6.9078, -7.3147, -7.8437, -7.1683, -6.2038, -6.4213, -7.2637, -7.2201, -6.79, -6.411, -6.3803, -6.6562, -6.6253, -6.8248, -6.5841, -6.8113, -6.8239, -6.6805, -6.6875, -6.8213, -6.8154, -6.7843, -6.8917, -6.693, -6.6358, -6.6909, -6.6343, -6.795, -6.7474, -6.7717, -6.7638, -6.7862, -6.7769, -6.8192]}};\n",
       "\n",
       "function LDAvis_load_lib(url, callback){\n",
       "  var s = document.createElement('script');\n",
       "  s.src = url;\n",
       "  s.async = true;\n",
       "  s.onreadystatechange = s.onload = callback;\n",
       "  s.onerror = function(){console.warn(\"failed to load library \" + url);};\n",
       "  document.getElementsByTagName(\"head\")[0].appendChild(s);\n",
       "}\n",
       "\n",
       "if(typeof(LDAvis) !== \"undefined\"){\n",
       "   // already loaded: just create the visualization\n",
       "   !function(LDAvis){\n",
       "       new LDAvis(\"#\" + \"ldavis_el2166646137270568611830820\", ldavis_el2166646137270568611830820_data);\n",
       "   }(LDAvis);\n",
       "}else if(typeof define === \"function\" && define.amd){\n",
       "   // require.js is available: use it to load d3/LDAvis\n",
       "   require.config({paths: {d3: \"https://cdnjs.cloudflare.com/ajax/libs/d3/3.5.5/d3.min\"}});\n",
       "   require([\"d3\"], function(d3){\n",
       "      window.d3 = d3;\n",
       "      LDAvis_load_lib(\"https://cdn.rawgit.com/bmabey/pyLDAvis/files/ldavis.v1.0.0.js\", function(){\n",
       "        new LDAvis(\"#\" + \"ldavis_el2166646137270568611830820\", ldavis_el2166646137270568611830820_data);\n",
       "      });\n",
       "    });\n",
       "}else{\n",
       "    // require.js not available: dynamically load d3 & LDAvis\n",
       "    LDAvis_load_lib(\"https://cdnjs.cloudflare.com/ajax/libs/d3/3.5.5/d3.min.js\", function(){\n",
       "         LDAvis_load_lib(\"https://cdn.rawgit.com/bmabey/pyLDAvis/files/ldavis.v1.0.0.js\", function(){\n",
       "                 new LDAvis(\"#\" + \"ldavis_el2166646137270568611830820\", ldavis_el2166646137270568611830820_data);\n",
       "            })\n",
       "         });\n",
       "}\n",
       "</script>"
      ],
      "text/plain": [
       "PreparedData(topic_coordinates=            Freq  cluster  topics         x         y\n",
       "topic                                                \n",
       "0      37.775479        1       1  0.009640 -0.004859\n",
       "2      37.266850        1       2 -0.009967 -0.004396\n",
       "1      24.957671        1       3  0.000327  0.009255, topic_info=      Category         Freq         Term        Total  loglift  logprob\n",
       "term                                                                   \n",
       "44212  Default   291.000000          414   291.000000  30.0000  30.0000\n",
       "32893  Default   342.000000       hudson   342.000000  29.0000  29.0000\n",
       "25416  Default   215.000000     benjamin   215.000000  28.0000  28.0000\n",
       "43433  Default   432.000000    courtyard   432.000000  27.0000  27.0000\n",
       "22595  Default   258.000000       broome   258.000000  26.0000  26.0000\n",
       "30531  Default   252.000000         roxy   252.000000  25.0000  25.0000\n",
       "37616  Default   290.000000    greenwich   290.000000  24.0000  24.0000\n",
       "32712  Default   601.000000      chelsea   601.000000  23.0000  23.0000\n",
       "13595  Default   188.000000      sofitel   188.000000  22.0000  22.0000\n",
       "27202  Default   248.000000         arlo   248.000000  21.0000  21.0000\n",
       "42575  Default   517.000000         ritz   517.000000  20.0000  20.0000\n",
       "11736  Default   257.000000        susan   257.000000  19.0000  19.0000\n",
       "48747  Default   243.000000        pines   243.000000  18.0000  18.0000\n",
       "53847  Default   552.000000       bryant   552.000000  17.0000  17.0000\n",
       "25140  Default   317.000000      kimpton   317.000000  16.0000  16.0000\n",
       "36829  Default   159.000000       conrad   159.000000  15.0000  15.0000\n",
       "4857   Default  1031.000000         pool  1031.000000  14.0000  14.0000\n",
       "19329  Default   188.000000       archer   188.000000  13.0000  13.0000\n",
       "51319  Default   139.000000      cambria   139.000000  12.0000  12.0000\n",
       "42554  Default   279.000000        river   279.000000  11.0000  11.0000\n",
       "45794  Default   179.000000       surrey   179.000000  10.0000  10.0000\n",
       "53392  Default   213.000000  fitzpatrick   213.000000   9.0000   9.0000\n",
       "6637   Default   803.000000         roof   803.000000   8.0000   8.0000\n",
       "5139   Default   208.000000      chatwal   208.000000   7.0000   7.0000\n",
       "44585  Default   418.000000    microwave   418.000000   6.0000   6.0000\n",
       "6332   Default   659.000000      library   659.000000   5.0000   5.0000\n",
       "15103  Default   146.000000     refinery   146.000000   4.0000   4.0000\n",
       "12260  Default   435.000000        plaza   435.000000   3.0000   3.0000\n",
       "5323   Default   107.000000        ink48   107.000000   2.0000   2.0000\n",
       "41618  Default   200.000000          san   200.000000   1.0000   1.0000\n",
       "...        ...          ...          ...          ...      ...      ...\n",
       "4857    Topic3   333.307615         pool  1031.340645   0.2584  -6.2038\n",
       "6637    Topic3   268.164089         roof   803.366877   0.2908  -6.4213\n",
       "21669   Topic3   115.485253     marriott   299.674792   0.4344  -7.2637\n",
       "48109   Topic3   120.630116          6th   327.517453   0.3892  -7.2201\n",
       "30069   Topic3   185.465592     checking   572.523335   0.2608  -6.7900\n",
       "30653   Topic3   270.926214       luxury   922.342704   0.1629  -6.4110\n",
       "30586   Topic3   279.362615    delicious   970.158910   0.1430  -6.3803\n",
       "40563   Topic3   212.019723        glass   687.127711   0.2121  -6.6562\n",
       "31120   Topic3   218.659810    certainly   720.016460   0.1962  -6.6253\n",
       "51837   Topic3   179.124609       review   560.860533   0.2466  -6.8248\n",
       "48548   Topic3   227.855053       bottle   778.455224   0.1594  -6.5841\n",
       "33116   Topic3   181.555867    perfectly   584.521472   0.2188  -6.8113\n",
       "17637   Topic3   179.278013          spa   574.963479   0.2226  -6.8239\n",
       "41969   Topic3   206.933526     favorite   716.653598   0.1458  -6.6805\n",
       "24666   Topic3   205.480739       dining   720.647742   0.1332  -6.6875\n",
       "5246    Topic3   179.754454  rockefeller   584.140623   0.2094  -6.8213\n",
       "14282   Topic3   180.803766         spot   608.562309   0.1743  -6.8154\n",
       "7216    Topic3   186.532065    afternoon   652.455355   0.1358  -6.7843\n",
       "36340   Topic3   167.523616       snacks   547.019046   0.2046  -6.8917\n",
       "25496   Topic3   204.364447  outstanding   788.915431   0.0372  -6.6930\n",
       "18102   Topic3   216.390398        touch   887.845970  -0.0237  -6.6358\n",
       "22324   Topic3   204.784274          fun   820.203371   0.0004  -6.6909\n",
       "10462   Topic3   216.712491      greeted   946.694232  -0.0864  -6.6343\n",
       "31327   Topic3   184.533060        areas   709.711445   0.0410  -6.7950\n",
       "27172   Topic3   193.536971  recommended   809.553667  -0.0430  -6.7474\n",
       "30360   Topic3   188.889648     daughter   776.269344  -0.0253  -6.7717\n",
       "31546   Topic3   190.392569        truly   845.493400  -0.1028  -6.7638\n",
       "38931   Topic3   186.164708        style   782.296547  -0.0476  -6.7862\n",
       "22368   Topic3   187.902516       moment   827.094960  -0.0940  -6.7769\n",
       "32407   Topic3   180.134222    courteous   679.735490   0.0600  -6.8192\n",
       "\n",
       "[277 rows x 6 columns], token_table=       Topic      Freq         Term\n",
       "term                               \n",
       "34837      1  0.231419           11\n",
       "34837      2  0.576962           11\n",
       "34837      3  0.193377           11\n",
       "48035      1  0.230470        168th\n",
       "48035      2  0.691411        168th\n",
       "48035      3  0.115235        168th\n",
       "44212      1  0.061740          414\n",
       "44212      2  0.871226          414\n",
       "44212      3  0.065170          414\n",
       "53764      1  0.130384     414hotel\n",
       "53764      2  0.782303     414hotel\n",
       "53764      3  0.130384     414hotel\n",
       "18355      1  0.209980         414s\n",
       "18355      2  0.629941         414s\n",
       "18355      3  0.209980         414s\n",
       "31885      1  0.713798        48lex\n",
       "31885      2  0.124139        48lex\n",
       "31885      3  0.170691        48lex\n",
       "48109      1  0.253422          6th\n",
       "48109      2  0.378606          6th\n",
       "48109      3  0.369446          6th\n",
       "14988      1  0.731417         76th\n",
       "14988      2  0.162537         76th\n",
       "14988      3  0.081269         76th\n",
       "1483       1  0.249828          911\n",
       "1483       2  0.511011          911\n",
       "1483       3  0.238472          911\n",
       "28379      1  0.231693        accor\n",
       "28379      2  0.115846        accor\n",
       "28379      3  0.579232        accor\n",
       "...      ...       ...          ...\n",
       "31546      1  0.384391        truly\n",
       "31546      2  0.390305        truly\n",
       "31546      3  0.224721        truly\n",
       "24016      1  0.262725      tuscany\n",
       "24016      2  0.656813      tuscany\n",
       "24016      3  0.087575      tuscany\n",
       "31527      1  0.519748      upgrade\n",
       "31527      2  0.317823      upgrade\n",
       "31527      3  0.163691      upgrade\n",
       "724        1  0.142838        verde\n",
       "724        2  0.194779        verde\n",
       "724        3  0.662249        verde\n",
       "21721      1  0.168248       videos\n",
       "21721      2  0.740290       videos\n",
       "21721      3  0.100949       videos\n",
       "46664      1  0.116663     wellness\n",
       "46664      2  0.738866     wellness\n",
       "46664      3  0.136107     wellness\n",
       "11100      1  0.782046  wheeltapper\n",
       "11100      2  0.111721  wheeltapper\n",
       "11100      3  0.111721  wheeltapper\n",
       "50259      1  0.174004        yates\n",
       "50259      2  0.696015        yates\n",
       "50259      3  0.174004        yates\n",
       "36370      1  0.164142       yeilly\n",
       "36370      2  0.164142       yeilly\n",
       "36370      3  0.492425       yeilly\n",
       "1585       1  0.119773         yoga\n",
       "1585       2  0.708658         yoga\n",
       "1585       3  0.169679         yoga\n",
       "\n",
       "[628 rows x 3 columns], R=30, lambda_step=0.01, plot_opts={'xlab': 'PC1', 'ylab': 'PC2'}, topic_order=[1, 3, 2])"
      ]
     },
     "execution_count": 160,
     "metadata": {},
     "output_type": "execute_result"
    }
   ],
   "source": [
    "import pyLDAvis.gensim\n",
    "pyLDAvis.enable_notebook()\n",
    "pyLDAvis.gensim.prepare(lda, corpus_001_100, dictionary)"
   ]
  },
  {
   "cell_type": "code",
   "execution_count": null,
   "metadata": {
    "collapsed": true
   },
   "outputs": [],
   "source": []
  },
  {
   "cell_type": "code",
   "execution_count": null,
   "metadata": {
    "collapsed": true
   },
   "outputs": [],
   "source": []
  },
  {
   "cell_type": "code",
   "execution_count": 132,
   "metadata": {
    "collapsed": false
   },
   "outputs": [],
   "source": [
    "texts_101_200 = [tokenizer_porter(text) for text in hotels_101_200]\n",
    "\n",
    "# Create gensim dictionary object\n",
    "dictionary = corpora.Dictionary(texts_101_200)\n",
    "\n",
    "# Create corpus matrix\n",
    "corpus_101_200 = [dictionary.doc2bow(text) for text in texts_101_200]"
   ]
  },
  {
   "cell_type": "code",
   "execution_count": 133,
   "metadata": {
    "collapsed": true
   },
   "outputs": [],
   "source": [
    "lda = models.ldamodel.LdaModel(\n",
    "    corpus = corpus_101_200,\n",
    "    id2word=dictionary,\n",
    "    num_topics = 3,\n",
    "    passes = 2)"
   ]
  },
  {
   "cell_type": "code",
   "execution_count": 134,
   "metadata": {
    "collapsed": false,
    "scrolled": true
   },
   "outputs": [
    {
     "data": {
      "text/plain": [
       "[(0,\n",
       "  u'0.003*\"request\" + 0.003*\"marriott\" + 0.003*\"travel\" + 0.002*\"hampton\" + 0.002*\"garden\" + 0.002*\"return\" + 0.002*\"point\" + 0.002*\"surpris\" + 0.002*\"reserv\" + 0.002*\"stop\"'),\n",
       " (1,\n",
       "  u'0.002*\"travel\" + 0.002*\"price\" + 0.002*\"reserv\" + 0.002*\"surpris\" + 0.002*\"apart\" + 0.002*\"point\" + 0.002*\"recommend\" + 0.002*\"member\" + 0.002*\"marriott\" + 0.002*\"live\"'),\n",
       " (2,\n",
       "  u'0.003*\"travel\" + 0.002*\"recommend\" + 0.002*\"live\" + 0.002*\"request\" + 0.002*\"point\" + 0.002*\"stop\" + 0.002*\"price\" + 0.002*\"bottl\" + 0.002*\"store\" + 0.002*\"serv\"')]"
      ]
     },
     "execution_count": 134,
     "metadata": {},
     "output_type": "execute_result"
    }
   ],
   "source": [
    "lda.print_topics()"
   ]
  },
  {
   "cell_type": "code",
   "execution_count": null,
   "metadata": {
    "collapsed": true
   },
   "outputs": [],
   "source": []
  },
  {
   "cell_type": "code",
   "execution_count": null,
   "metadata": {
    "collapsed": true
   },
   "outputs": [],
   "source": []
  },
  {
   "cell_type": "code",
   "execution_count": null,
   "metadata": {
    "collapsed": true
   },
   "outputs": [],
   "source": []
  },
  {
   "cell_type": "code",
   "execution_count": 55,
   "metadata": {
    "collapsed": false
   },
   "outputs": [],
   "source": [
    "texts_201_300 = [tokenizer_porter(text) for text in hotels_201_300]\n",
    "\n",
    "# Create gensim dictionary object\n",
    "dictionary = corpora.Dictionary(texts_201_300)\n",
    "\n",
    "# Create corpus matrix\n",
    "corpus_201_300 = [dictionary.doc2bow(text) for text in texts_201_300]"
   ]
  },
  {
   "cell_type": "code",
   "execution_count": 56,
   "metadata": {
    "collapsed": true
   },
   "outputs": [],
   "source": [
    "lda = models.ldamodel.LdaModel(\n",
    "    corpus = corpus_201_300,\n",
    "    id2word=dictionary,\n",
    "    num_topics = 1,\n",
    "    passes = 2)"
   ]
  },
  {
   "cell_type": "code",
   "execution_count": 57,
   "metadata": {
    "collapsed": false,
    "scrolled": false
   },
   "outputs": [
    {
     "data": {
      "text/plain": [
       "[(0,\n",
       "  u'0.031*\"room\" + 0.028*\"hotel\" + 0.017*\"stay\" + 0.012*\"locat\" + 0.011*\"staff\" + 0.011*\"great\" + 0.010*\"time\" + 0.008*\"clean\" + 0.008*\"good\" + 0.006*\"walk\"')]"
      ]
     },
     "execution_count": 57,
     "metadata": {},
     "output_type": "execute_result"
    }
   ],
   "source": [
    "lda.print_topics()"
   ]
  },
  {
   "cell_type": "code",
   "execution_count": null,
   "metadata": {
    "collapsed": true
   },
   "outputs": [],
   "source": []
  },
  {
   "cell_type": "code",
   "execution_count": null,
   "metadata": {
    "collapsed": true
   },
   "outputs": [],
   "source": []
  },
  {
   "cell_type": "code",
   "execution_count": null,
   "metadata": {
    "collapsed": true
   },
   "outputs": [],
   "source": []
  },
  {
   "cell_type": "code",
   "execution_count": 161,
   "metadata": {
    "collapsed": false
   },
   "outputs": [],
   "source": [
    "texts_301_400 = [tokenizer_porter(text) for text in hotels_301_400]\n",
    "\n",
    "# Create gensim dictionary object\n",
    "dictionary = corpora.Dictionary(texts_301_400)\n",
    "\n",
    "# Create corpus matrix\n",
    "corpus_301_400 = [dictionary.doc2bow(text) for text in texts_301_400]"
   ]
  },
  {
   "cell_type": "code",
   "execution_count": 162,
   "metadata": {
    "collapsed": true
   },
   "outputs": [],
   "source": [
    "lda = models.ldamodel.LdaModel(\n",
    "    corpus = corpus_301_400,\n",
    "    id2word=dictionary,\n",
    "    num_topics = 3,\n",
    "    passes = 2)"
   ]
  },
  {
   "cell_type": "code",
   "execution_count": 163,
   "metadata": {
    "collapsed": false,
    "scrolled": false
   },
   "outputs": [
    {
     "data": {
      "text/plain": [
       "[(0,\n",
       "  u'0.002*\"house\" + 0.002*\"chelsea\" + 0.002*\"shared\" + 0.001*\"budget\" + 0.001*\"yes\" + 0.001*\"sink\" + 0.001*\"dirty\" + 0.001*\"ac\" + 0.001*\"pool\" + 0.001*\"maybe\"'),\n",
       " (1,\n",
       "  u'0.002*\"chinatown\" + 0.002*\"bridge\" + 0.002*\"dirty\" + 0.002*\"italy\" + 0.002*\"ac\" + 0.001*\"toilet\" + 0.001*\"train\" + 0.001*\"yes\" + 0.001*\"budget\" + 0.001*\"cheap\"'),\n",
       " (2,\n",
       "  u'0.002*\"toilet\" + 0.002*\"holiday\" + 0.002*\"dark\" + 0.002*\"cheap\" + 0.002*\"single\" + 0.002*\"dirty\" + 0.001*\"sink\" + 0.001*\"ac\" + 0.001*\"issues\" + 0.001*\"shared\"')]"
      ]
     },
     "execution_count": 163,
     "metadata": {},
     "output_type": "execute_result"
    }
   ],
   "source": [
    "lda.print_topics()"
   ]
  },
  {
   "cell_type": "code",
   "execution_count": 164,
   "metadata": {
    "collapsed": false
   },
   "outputs": [
    {
     "data": {
      "text/html": [
       "\n",
       "<link rel=\"stylesheet\" type=\"text/css\" href=\"https://cdn.rawgit.com/bmabey/pyLDAvis/files/ldavis.v1.0.0.css\">\n",
       "\n",
       "\n",
       "<div id=\"ldavis_el2166646148656167527786380\"></div>\n",
       "<script type=\"text/javascript\">\n",
       "\n",
       "var ldavis_el2166646148656167527786380_data = {\"plot.opts\": {\"xlab\": \"PC1\", \"ylab\": \"PC2\"}, \"topic.order\": [1, 2, 3], \"token.table\": {\"Topic\": [1, 2, 3, 1, 2, 3, 1, 2, 1, 1, 2, 3, 1, 2, 3, 1, 2, 3, 1, 2, 3, 1, 2, 3, 1, 2, 3, 1, 2, 3, 1, 2, 3, 1, 2, 3, 1, 2, 3, 1, 2, 3, 1, 2, 3, 1, 1, 2, 3, 1, 2, 3, 1, 2, 3, 1, 2, 3, 1, 2, 3, 1, 2, 3, 1, 2, 3, 1, 2, 3, 1, 2, 3, 1, 2, 3, 1, 2, 3, 1, 2, 3, 1, 2, 3, 1, 2, 3, 1, 2, 3, 1, 2, 3, 1, 2, 3, 1, 2, 3, 1, 2, 3, 1, 2, 3, 1, 2, 3, 1, 2, 3, 1, 2, 3, 1, 2, 3, 1, 2, 3, 1, 2, 3, 1, 2, 3, 1, 2, 3, 1, 2, 3, 1, 2, 3, 1, 2, 3, 1, 2, 3, 1, 2, 3, 1, 2, 3, 1, 2, 3, 1, 2, 3, 1, 2, 3, 1, 2, 3, 1, 2, 1, 2, 3, 1, 2, 3, 1, 2, 3, 1, 2, 3, 1, 2, 3, 1, 2, 3, 1, 2, 3, 1, 2, 3, 1, 2, 3, 1, 2, 3, 1, 2, 3, 1, 2, 3, 1, 2, 3, 1, 2, 3, 1, 2, 3, 1, 2, 3, 1, 2, 3, 1, 2, 3, 1, 2, 3, 1, 2, 3, 1, 2, 3, 1, 2, 3, 1, 2, 3, 1, 2, 3, 1, 2, 3, 1, 2, 3, 1, 2, 3, 1, 2, 3, 1, 2, 3, 1, 2, 3, 1, 2, 3, 1, 2, 3, 1, 2, 3, 1, 2, 3, 1, 2, 3, 1, 2, 3, 1, 2, 3, 1, 2, 3, 1, 2, 3, 1, 2, 3, 1, 2, 3, 1, 2, 3, 1, 2, 3, 1, 2, 3, 1, 2, 3, 1, 2, 3, 1, 2, 3, 1, 2, 3, 1, 2, 3, 1, 2, 3, 1, 2, 3, 1, 2, 3, 1, 2, 3, 1, 2, 3, 1, 2, 3, 1, 2, 3, 1, 2, 3, 1, 2, 3, 1, 2, 3, 1, 2, 3, 1, 2, 3, 1, 2, 3, 1, 2, 3, 1, 2, 3, 1, 2, 3, 1, 2, 3, 1, 2, 3, 1, 2, 3, 1, 2, 3, 1, 2, 3, 1, 2, 3, 1, 2, 3, 1, 2, 3, 1, 2, 1, 2, 3, 1, 2, 3, 2, 3, 1, 2, 3, 1, 2, 3, 1, 2, 3, 1, 2, 3, 1, 2, 3, 1, 2, 3, 1, 2, 3, 1, 2, 3, 1, 2, 3, 1, 2, 3, 1, 2, 3, 1, 2, 3, 1, 2, 3, 1, 2, 3, 1, 2, 3, 1, 2, 3, 1, 2, 3, 1, 2, 3, 1, 2, 3, 2, 1, 2, 3, 1, 2, 3, 1, 2, 3, 1, 2, 3, 1, 2, 3, 1, 2, 3, 1, 2, 3, 1, 2, 3, 1, 2, 3, 1, 2, 3, 1, 2, 3, 1, 2, 3, 1, 2, 3, 1, 2, 3, 1, 2, 3, 1, 2, 3, 1, 2, 3, 1, 2, 3, 1, 2, 3, 1, 2, 3, 1, 2, 3, 1, 2, 3, 1, 2, 3, 1, 2, 3, 1, 2, 3, 1, 2, 3, 1, 2, 3, 1, 2, 3, 1, 2, 3, 1, 2, 3, 1, 2, 3, 1, 2, 3, 1, 2, 3, 1, 2, 3, 1, 2, 3, 1, 2, 3, 2, 1, 2, 3, 1, 2, 3, 1, 2, 3, 1, 2, 3, 1, 2, 3, 1, 2, 3, 1, 2, 3, 1, 2, 3, 1, 2, 3, 1, 2, 3, 1, 2, 3, 1, 2, 3, 1, 2, 3, 1, 2, 3, 1, 2, 3, 1, 2, 3, 1, 2, 3, 1, 2, 3, 1, 2, 3, 1, 2, 3, 1, 2, 3, 1, 2, 3, 1, 2, 3], \"Freq\": [0.22079274248501773, 0.22079274248501773, 0.6623782274550531, 0.33945857613052316, 0.31117036145297955, 0.3488879810230377, 0.8106173960932027, 0.27020579869773426, 0.7220424550114957, 0.4110525990482573, 0.27403506603217154, 0.3153988495841974, 0.22603842549782455, 0.6781152764934736, 0.22603842549782455, 0.32449225638710133, 0.20042168776850378, 0.4771944946869137, 0.19530278579961538, 0.6727095955320085, 0.1519021667330342, 0.33334510807842993, 0.3512668880826466, 0.31542332807421325, 0.3846200282631633, 0.35322247493555814, 0.26164627773004306, 0.7198735991906411, 0.17996839979766027, 0.08998419989883014, 0.25292911257337874, 0.12646455628668937, 0.5901679293378838, 0.6864380005882359, 0.09806257151260513, 0.22064078590336156, 0.7568120883267898, 0.136474311009749, 0.09925404437072653, 0.7723069906962634, 0.1544613981392527, 0.1544613981392527, 0.24946381662463427, 0.31454133400497364, 0.4338501158689292, 0.7224600226487717, 0.26684419310805835, 0.2960302767292522, 0.4336218138005948, 0.7193498056657269, 0.11989163427762116, 0.11989163427762116, 0.6983152324505, 0.1269664059000909, 0.19044960885013634, 0.7213808292740289, 0.18034520731850723, 0.18034520731850723, 0.3040924557448749, 0.5354671503333668, 0.15865693343210865, 0.21547874437883296, 0.6493481080605371, 0.13394624650576104, 0.10007436153531904, 0.10007436153531904, 0.8005948922825523, 0.33797949051839493, 0.44675449896109676, 0.21366519515530716, 0.4110674537038852, 0.34097761136727806, 0.24815592827285238, 0.18392595815830487, 0.22071114978996584, 0.5885630661065756, 0.18604848196464865, 0.200359903654237, 0.6010797109627111, 0.2817240537638376, 0.5634481075276752, 0.2817240537638376, 0.17750606246963274, 0.17750606246963274, 0.6390218248906779, 0.20049050033370575, 0.20049050033370575, 0.7017167511679702, 0.26798590123000643, 0.1875901308610045, 0.5359718024600129, 0.16127385973816807, 0.6450954389526723, 0.16127385973816807, 0.3754675415746811, 0.2953372735556943, 0.32967881699240287, 0.2741637721403504, 0.09138792404678348, 0.6397154683274844, 0.32673912816687656, 0.3230884116510455, 0.3486434272618627, 0.4288024002548443, 0.3228063013154446, 0.2457182293595175, 0.5483730650482598, 0.16755843654252384, 0.2828908668899753, 0.258217317492554, 0.5399089365753402, 0.20344394711534558, 0.2742143843261168, 0.593787538991892, 0.13195278644264266, 0.22641912823377405, 0.5709699755460389, 0.20673050838735893, 0.18793145508068326, 0.5637943652420497, 0.18793145508068326, 0.15128802043633974, 0.45386406130901924, 0.39502983113933154, 0.33592749953606343, 0.32363746906523183, 0.3420725147714792, 0.32955024553301493, 0.32509686383662284, 0.34513708147038724, 0.6513594699317992, 0.2171198233105997, 0.10855991165529985, 0.43394472942617346, 0.3503901541950469, 0.215624710273875, 0.4578413623204997, 0.35995803658301356, 0.18313654492819986, 0.42680433389470523, 0.33381344550423875, 0.24082255711377223, 0.6933402796987392, 0.13866805593974785, 0.16640166712769744, 0.2653923822461321, 0.4053795728814545, 0.32663677814908565, 0.22028570051429983, 0.22028570051429983, 0.6608571015428996, 0.7723549982522263, 0.15447099965044525, 0.15447099965044525, 0.11308509333959475, 0.6623555467033407, 0.2261701866791895, 0.2750461401580693, 0.439441534275536, 0.2845304898186924, 0.8623335419687135, 0.21558338549217837, 0.34885907118803644, 0.26983574567030444, 0.3816248403051448, 0.42364015580706316, 0.2833093541959735, 0.29390035809115006, 0.4310197242035238, 0.28829796122222456, 0.2797346554433466, 0.508073322424444, 0.27546143986867444, 0.2142477865645246, 0.2559372288076062, 0.4017242578752301, 0.34340944624818054, 0.32870111295172183, 0.35706618361253034, 0.315352844405459, 0.3092899315415634, 0.1546449657707817, 0.541257380197736, 0.7641859148075796, 0.11048471057458982, 0.12889882900368813, 0.22576059441517407, 0.6772817832455222, 0.22576059441517407, 0.09286695499779793, 0.766152378731833, 0.1393004324966969, 0.29468788994995754, 0.28274108360063493, 0.42212049100939864, 0.4291843742184826, 0.2731173290481253, 0.2954126212153192, 0.21980742243677293, 0.21980742243677293, 0.6594222673103188, 0.26548151927700675, 0.13274075963850338, 0.6305186082828911, 0.2826604992100044, 0.5407418245756607, 0.18434380383261156, 0.36658943345902145, 0.2650342525683466, 0.3690663890905013, 0.22027736539572534, 0.22027736539572534, 0.5727211500288859, 0.13782226825880828, 0.13782226825880828, 0.6891113412940414, 0.2568378339719727, 0.29811534300318254, 0.44029342966623886, 0.34464580661735683, 0.5046599311182725, 0.1538597350970343, 0.3278962688021187, 0.2853911969203626, 0.3855817234987877, 0.21995254832892588, 0.21995254832892588, 0.6598576449867776, 0.37686543782962595, 0.42808986627248774, 0.19757993827960973, 0.1878401657794146, 0.5635204973382437, 0.1878401657794146, 0.3696788344036191, 0.3786226771714486, 0.25042759749922583, 0.12009448121226994, 0.2161700661820859, 0.6725290947887117, 0.5415876822552772, 0.2707938411276386, 0.2707938411276386, 0.12607750171241278, 0.7564650102744765, 0.12607750171241278, 0.15688214321080077, 0.15688214321080077, 0.6275285728432031, 0.8120441197857503, 0.27068137326191677, 0.27068137326191677, 0.4209897462234887, 0.32831904736926165, 0.2515347540329021, 0.35489302312839344, 0.21619919799775691, 0.4283191658446127, 0.22556648183095956, 0.6766994454928786, 0.22556648183095956, 0.5296552400965426, 0.22322634640084174, 0.24757831146275172, 0.3015302260592559, 0.6030604521185118, 0.10365101520786921, 0.3289311564606352, 0.21283780712158748, 0.4546989515779369, 0.2867292081152841, 0.12072808762748802, 0.5960949326607221, 0.6501867999516259, 0.2167289333172086, 0.2167289333172086, 0.7837888570182433, 0.09797360712728041, 0.09797360712728041, 0.16175995457307868, 0.6470398182923147, 0.16175995457307868, 0.6501729192072335, 0.2167243064024112, 0.2167243064024112, 0.4244573844086749, 0.32541732804665074, 0.25231633406515674, 0.4169249051171829, 0.3078457148248967, 0.2763339487404584, 0.32253360282938126, 0.29546784594859404, 0.38117607607108694, 0.29661351188978613, 0.5235873296837094, 0.18054735506334807, 0.17385812416675536, 0.6664561426392289, 0.1448817701389628, 0.19136694225511386, 0.1708633412992088, 0.6356116296330567, 0.5378179978054725, 0.30442528177668254, 0.15221264088834127, 0.43911316285906626, 0.24640882520149043, 0.31274966275573785, 0.34453819468842767, 0.4279527049814154, 0.23210994168483548, 0.6693807448515673, 0.1287270663176091, 0.20596330610817457, 0.15700717943872985, 0.15700717943872985, 0.6280287177549194, 0.32383157926935646, 0.32383157926935646, 0.3538556992016147, 0.7542774162938458, 0.10775391661340655, 0.10775391661340655, 0.3168246915175543, 0.5591023967956841, 0.11182047935913682, 0.22842291864731576, 0.5049348727993296, 0.2644896952758393, 0.3974788003859435, 0.24618041830355214, 0.35901311002601355, 0.8114414280994472, 0.27048047603314906, 0.27048047603314906, 0.21969537204343775, 0.21969537204343775, 0.6590861161303132, 0.21919145522128047, 0.10959572761064024, 0.6575743656638414, 0.32217773963407664, 0.3169813244786883, 0.36115085329948915, 0.24120479567347988, 0.643212788462613, 0.08040159855782662, 0.14066692362304864, 0.3125931636067748, 0.5470380363118559, 0.18796389069765262, 0.639077228372019, 0.1503711125581221, 0.14086316574905722, 0.5986684544334931, 0.2582491372066049, 0.4195698512977018, 0.2558915027145324, 0.3250513683130547, 0.17142159058699874, 0.1959103892422843, 0.6244643657097811, 0.6174872152802724, 0.14969387037097512, 0.2245408055564627, 0.38282476755088957, 0.112140588474503, 0.5026991897132893, 0.2960840047216525, 0.3831675355221386, 0.3222090639617984, 0.2748603941771652, 0.2748603941771652, 0.5497207883543304, 0.2653596163387598, 0.6123683453971381, 0.12247366907942762, 0.8079024398188975, 0.10772032530918633, 0.10772032530918633, 0.8115167149247159, 0.27050557164157196, 0.5845051933860597, 0.266839327415375, 0.13977298102710123, 0.6584025793449515, 0.1410862670024896, 0.2351437783374827, 0.2206004605670029, 0.6618013817010087, 0.17339640228354364, 0.6357868083729933, 0.18784610247383893, 0.14581486168587782, 0.24302476947646304, 0.6197131621649807, 0.2116075515189187, 0.634822654556756, 0.14107170101261246, 0.31760720079539057, 0.32655388250793677, 0.35563059807371195, 0.6480438733997969, 0.21601462446659894, 0.21601462446659894, 0.7015729723405014, 0.14616103590427112, 0.14616103590427112, 0.7211903423462973, 0.18029758558657433, 0.18029758558657433, 0.30534841957541736, 0.36351002330406823, 0.32958242112902186, 0.6138813422001433, 0.1434614006228596, 0.2435507498946221, 0.3337028240672315, 0.27972148487988524, 0.3852304660187893, 0.4000391074006111, 0.3941561793506021, 0.20590248175031453, 0.2058754190095329, 0.7205639665333652, 0.10293770950476645, 0.33172142246209885, 0.2908941704667636, 0.37510037770714255, 0.15950421790369262, 0.7177689805666169, 0.11165295253258484, 0.13751376558555475, 0.13751376558555475, 0.7563257107205511, 0.37017209301417936, 0.28897305325623035, 0.3391254013420224, 0.39831712419381055, 0.2855858626295245, 0.3156475323800008, 0.3160170057037145, 0.3922969725977145, 0.29149844491635735, 0.43928071333031843, 0.30836924247028974, 0.25309551032938876, 0.7517949778375178, 0.6178424569334028, 0.1398888581736006, 0.23314809695600103, 0.4880479206223671, 0.24761254796281862, 0.26196689856935884, 0.3739485039074783, 0.36436008073036347, 0.26128453157637904, 0.6827148035129582, 0.11378580058549304, 0.17067870087823955, 0.1884049587692322, 0.6594173556923126, 0.0942024793846161, 0.3216694858524163, 0.316217460668477, 0.3625596747319607, 0.1194856175319719, 0.7368279747804933, 0.1393998871206339, 0.1829255916718559, 0.1829255916718559, 0.6402395708514956, 0.14185505871721937, 0.7565603131585033, 0.14185505871721937, 0.7038773498329022, 0.16243323457682357, 0.16243323457682357, 0.2196620434957796, 0.2196620434957796, 0.6589861304873389, 0.42033963602466085, 0.320000497102645, 0.2576275188538244, 0.17915288893195025, 0.07962350619197789, 0.7564233088237899, 0.1825655179528008, 0.1825655179528008, 0.7302620718112032, 0.33938509727446436, 0.2480121864698009, 0.41444141686400937, 0.4522315835375424, 0.2726690430152829, 0.2726690430152829, 0.4701101868654381, 0.19896779693060035, 0.32966233020854374, 0.1878399351501228, 0.6574397730254298, 0.0939199675750614, 0.6203858356312811, 0.2343679823495951, 0.14475669498063226, 0.32975163938498414, 0.2556501473883585, 0.41496835518110364, 0.6598243558645285, 0.16495608896613212, 0.18852124453272243, 0.2737707788530397, 0.13688538942651984, 0.6844269471325992, 0.3728142874642252, 0.22665414067427325, 0.4003517064246509, 0.4058866879374944, 0.22663723691941312, 0.3667402561059594, 0.4940066381563784, 0.27114650064222273, 0.2377174800150994, 0.3810700279460401, 0.35596960694360635, 0.26241349229817135, 0.2749150849409477, 0.2749150849409477, 0.5498301698818954, 0.3121371723338309, 0.49687141718446554, 0.19110439122479445, 0.6587241742451341, 0.17228170711026583, 0.17228170711026583, 0.35929896096108105, 0.4017161994078753, 0.23703750896737985, 0.6888035071026606, 0.19052011898584228, 0.11724315014513371, 0.39824519377141, 0.3709681257048751, 0.2318550785655469, 0.13780556094965035, 0.13780556094965035, 0.6890278047482518, 0.34384017362029745, 0.26131853195142607, 0.39610388001058267, 0.22526215146762943, 0.6507573264620405, 0.10011651176339086, 0.14096626150369732, 0.6343481767666379, 0.21144939225554596, 0.7520435685336877, 0.21033326788469306, 0.6460236085029858, 0.13521424364015983, 0.2904486898531073, 0.36575020203724623, 0.3469248239912115, 0.29756442490522206, 0.3292576772619913, 0.37327608331305967, 0.48726796288177315, 0.2587263519726229, 0.2544142461064125, 0.35840109018492283, 0.3925345273453917, 0.24960075923592842, 0.27178762582006044, 0.5133766265490031, 0.21743010065604834, 0.11012234296542626, 0.11012234296542626, 0.6607340577925576, 0.2739559003490274, 0.09131863344967579, 0.6392304341477306, 0.32849317373456965, 0.2942156251709624, 0.3799094965799806, 0.32536403868427455, 0.14024312012253212, 0.5329238564656221, 0.2992426539957187, 0.42268024876895266, 0.2767994549460398, 0.2472839081390207, 0.4233800245410506, 0.3297118775186943, 0.1376177640134957, 0.7568977020742265, 0.1376177640134957, 0.4027245022833809, 0.32167303012571935, 0.27354871853210777, 0.09796417696354767, 0.7445277449229623, 0.15674268314167628, 0.5436438920364174, 0.27539855057107987, 0.17883022764355835, 0.34680249771544414, 0.2806188149453212, 0.3706286235126884, 0.4087444492820854, 0.3059874648256952, 0.28543606793441717, 0.3567002749295583, 0.3614247818822677, 0.2811081636862082, 0.17016641780372205, 0.2552496267055831, 0.5955824623130271, 0.31917366403277975, 0.37190670417732596, 0.3108473945362724, 0.21947597301602517, 0.21947597301602517, 0.6584279190480755, 0.36245418745131236, 0.3316455815179508, 0.3044615174591024], \"Term\": [\"136\", \"136\", \"136\", \"15\", \"15\", \"15\", \"155th\", \"155th\", \"1702\", \"20\", \"20\", \"20\", \"204\", \"204\", \"204\", \"42nd\", \"42nd\", \"42nd\", \"91\", \"91\", \"91\", \"ac\", \"ac\", \"ac\", \"adequate\", \"adequate\", \"adequate\", \"aesop\", \"aesop\", \"aesop\", \"aka\", \"aka\", \"aka\", \"americana\", \"americana\", \"americana\", \"americano\", \"americano\", \"americano\", \"attracts\", \"attracts\", \"attracts\", \"awful\", \"awful\", \"awful\", \"bandb\", \"barely\", \"barely\", \"barely\", \"bean\", \"bean\", \"bean\", \"beanbag\", \"beanbag\", \"beanbag\", \"bento\", \"bento\", \"bento\", \"blue\", \"blue\", \"blue\", \"bridge\", \"bridge\", \"bridge\", \"bristol\", \"bristol\", \"bristol\", \"brooklyn\", \"brooklyn\", \"brooklyn\", \"budget\", \"budget\", \"budget\", \"bunk\", \"bunk\", \"bunk\", \"cabin\", \"cabin\", \"cabin\", \"candies\", \"candies\", \"candies\", \"captains\", \"captains\", \"captains\", \"cassandra\", \"cassandra\", \"cassandra\", \"cathedral\", \"cathedral\", \"cathedral\", \"cds\", \"cds\", \"cds\", \"change\", \"change\", \"change\", \"chapel\", \"chapel\", \"chapel\", \"cheap\", \"cheap\", \"cheap\", \"checking\", \"checking\", \"checking\", \"chelsea\", \"chelsea\", \"chelsea\", \"china\", \"china\", \"china\", \"chinatown\", \"chinatown\", \"chinatown\", \"chinese\", \"chinese\", \"chinese\", \"cimb\", \"cimb\", \"cimb\", \"circle\", \"circle\", \"circle\", \"cleaned\", \"cleaned\", \"cleaned\", \"closet\", \"closet\", \"closet\", \"colin\", \"colin\", \"colin\", \"construction\", \"construction\", \"construction\", \"continental\", \"continental\", \"continental\", \"cost\", \"cost\", \"cost\", \"cowshed\", \"cowshed\", \"cowshed\", \"credit\", \"credit\", \"credit\", \"csr\", \"csr\", \"csr\", \"cube\", \"cube\", \"cube\", \"da\", \"da\", \"da\", \"daily\", \"daily\", \"daily\", \"danashia\", \"danashia\", \"dark\", \"dark\", \"dark\", \"dated\", \"dated\", \"dated\", \"decided\", \"decided\", \"decided\", \"design\", \"design\", \"design\", \"despite\", \"despite\", \"despite\", \"dirty\", \"dirty\", \"dirty\", \"dylan\", \"dylan\", \"dylan\", \"edison\", \"edison\", \"edison\", \"ellen\", \"ellen\", \"ellen\", \"elyn\", \"elyn\", \"elyn\", \"ended\", \"ended\", \"ended\", \"entire\", \"entire\", \"entire\", \"esther\", \"esther\", \"esther\", \"eurostars\", \"eurostars\", \"eurostars\", \"f\", \"f\", \"f\", \"fact\", \"fact\", \"fact\", \"fairfield\", \"fairfield\", \"fairfield\", \"felix\", \"felix\", \"felix\", \"fixed\", \"fixed\", \"fixed\", \"flatiron\", \"flatiron\", \"flatiron\", \"flight\", \"flight\", \"flight\", \"fritz\", \"fritz\", \"fritz\", \"fruit\", \"fruit\", \"fruit\", \"ftrain\", \"ftrain\", \"ftrain\", \"fun\", \"fun\", \"fun\", \"gallivant\", \"gallivant\", \"gallivant\", \"grupo\", \"grupo\", \"grupo\", \"gs\", \"gs\", \"gs\", \"guesthouse\", \"guesthouse\", \"guesthouse\", \"habita\", \"habita\", \"habita\", \"heat\", \"heat\", \"heat\", \"holiday\", \"holiday\", \"holiday\", \"hotel91\", \"hotel91\", \"hotel91\", \"house\", \"house\", \"house\", \"houston\", \"houston\", \"houston\", \"hudson\", \"hudson\", \"hudson\", \"hyatt\", \"hyatt\", \"hyatt\", \"impractical\", \"impractical\", \"impractical\", \"innkeeper\", \"innkeeper\", \"innkeeper\", \"innkeepers\", \"innkeepers\", \"innkeepers\", \"innside\", \"innside\", \"innside\", \"internet\", \"internet\", \"internet\", \"isnt\", \"isnt\", \"isnt\", \"issues\", \"issues\", \"issues\", \"italy\", \"italy\", \"italy\", \"jacuzzi\", \"jacuzzi\", \"jacuzzi\", \"jane\", \"jane\", \"jane\", \"javits\", \"javits\", \"javits\", \"key\", \"key\", \"key\", \"lady\", \"lady\", \"lady\", \"lafayette\", \"lafayette\", \"lafayette\", \"laquinta\", \"laquinta\", \"laquinta\", \"later\", \"later\", \"later\", \"lawrence\", \"lawrence\", \"lawrence\", \"les\", \"les\", \"les\", \"lincoln\", \"lincoln\", \"lincoln\", \"literally\", \"literally\", \"literally\", \"loungers\", \"loungers\", \"loungers\", \"lq\", \"lq\", \"lq\", \"lutheran\", \"lutheran\", \"lutheran\", \"machine\", \"machine\", \"machine\", \"manageress\", \"manageress\", \"manageress\", \"mansfield\", \"mansfield\", \"mansfield\", \"marta\", \"marta\", \"marta\", \"mave\", \"mave\", \"mave\", \"maybe\", \"maybe\", \"maybe\", \"mayfair\", \"mayfair\", \"mayfair\", \"meatpacking\", \"meatpacking\", \"meatpacking\", \"mercer\", \"mercer\", \"mercer\", \"mind\", \"mind\", \"mind\", \"ministers\", \"ministers\", \"ministers\", \"moon\", \"moon\", \"moon\", \"nicholas\", \"nicholas\", \"nicholas\", \"nova\", \"nova\", \"nyma\", \"nyma\", \"nyma\", \"oakwood\", \"oakwood\", \"oakwood\", \"olcott\", \"olcott\", \"opera\", \"opera\", \"opera\", \"paramount\", \"paramount\", \"paramount\", \"paul\", \"paul\", \"paul\", \"phone\", \"phone\", \"phone\", \"piscine\", \"piscine\", \"piscine\", \"platform\", \"platform\", \"platform\", \"playroom\", \"playroom\", \"playroom\", \"point\", \"point\", \"point\", \"pool\", \"pool\", \"pool\", \"poor\", \"poor\", \"poor\", \"problems\", \"problems\", \"problems\", \"quiche\", \"quiche\", \"quiche\", \"read\", \"read\", \"read\", \"redbury\", \"redbury\", \"redbury\", \"republican\", \"republican\", \"republican\", \"reservation\", \"reservation\", \"reservation\", \"rest\", \"rest\", \"rest\", \"returned\", \"returned\", \"returned\", \"review\", \"review\", \"review\", \"richland\", \"riverside\", \"riverside\", \"riverside\", \"roof\", \"roof\", \"roof\", \"rude\", \"rude\", \"rude\", \"rum\", \"rum\", \"rum\", \"rumble\", \"rumble\", \"rumble\", \"run\", \"run\", \"run\", \"ruth\", \"ruth\", \"ruth\", \"ryan\", \"ryan\", \"ryan\", \"sago\", \"sago\", \"sago\", \"saint\", \"saint\", \"saint\", \"saturdays\", \"saturdays\", \"saturdays\", \"saw\", \"saw\", \"saw\", \"seafarers\", \"seafarers\", \"seafarers\", \"seamen\", \"seamen\", \"seamen\", \"seen\", \"seen\", \"seen\", \"set\", \"set\", \"set\", \"shared\", \"shared\", \"shared\", \"shelley\", \"shelley\", \"shelley\", \"sheraton\", \"sheraton\", \"sheraton\", \"shop\", \"shop\", \"shop\", \"signature\", \"signature\", \"signature\", \"sih\", \"sih\", \"sih\", \"single\", \"single\", \"single\", \"sink\", \"sink\", \"sink\", \"site\", \"site\", \"site\", \"slow\", \"slow\", \"slow\", \"solarium\", \"solarium\", \"solarium\", \"spa\", \"spa\", \"spa\", \"spg\", \"spg\", \"spg\", \"stairs\", \"stairs\", \"stairs\", \"starwood\", \"starwood\", \"starwood\", \"stop\", \"stop\", \"stop\", \"suny\", \"suny\", \"suny\", \"surprised\", \"surprised\", \"surprised\", \"sutton\", \"sutton\", \"sutton\", \"sweets\", \"sweets\", \"sweets\", \"teak\", \"tenement\", \"tenement\", \"tenement\", \"tired\", \"tired\", \"tired\", \"toilet\", \"toilet\", \"toilet\", \"touch\", \"touch\", \"touch\", \"train\", \"train\", \"train\", \"trains\", \"trains\", \"trains\", \"tryp\", \"tryp\", \"tryp\", \"tudor\", \"tudor\", \"tudor\", \"turn\", \"turn\", \"turn\", \"union\", \"union\", \"union\", \"unless\", \"unless\", \"unless\", \"upper\", \"upper\", \"upper\", \"vermont\", \"vermont\", \"vermont\", \"village\", \"village\", \"village\", \"vinci\", \"vinci\", \"vinci\", \"w\", \"w\", \"w\", \"waiting\", \"waiting\", \"waiting\", \"walls\", \"walls\", \"walls\", \"west\", \"west\", \"west\", \"womens\", \"womens\", \"womens\", \"wont\", \"wont\", \"wont\", \"worms\", \"worms\", \"worms\", \"yes\", \"yes\", \"yes\"]}, \"mdsDat\": {\"y\": [-0.008057300925074782, 0.004469086067712142, 0.0035882148573626385], \"cluster\": [1, 1, 1], \"Freq\": [36.58650874017654, 32.34496727461553, 31.068523985207953], \"topics\": [1, 2, 3], \"x\": [-0.0006204481489360791, -0.008202605131971996, 0.008823053280908077]}, \"R\": 30, \"lambda.step\": 0.01, \"tinfo\": {\"Category\": [\"Default\", \"Default\", \"Default\", \"Default\", \"Default\", \"Default\", \"Default\", \"Default\", \"Default\", \"Default\", \"Default\", \"Default\", \"Default\", \"Default\", \"Default\", \"Default\", \"Default\", \"Default\", \"Default\", \"Default\", \"Default\", \"Default\", \"Default\", \"Default\", \"Default\", \"Default\", \"Default\", \"Default\", \"Default\", \"Default\", \"Topic1\", \"Topic1\", \"Topic1\", \"Topic1\", \"Topic1\", \"Topic1\", \"Topic1\", \"Topic1\", \"Topic1\", \"Topic1\", \"Topic1\", \"Topic1\", \"Topic1\", \"Topic1\", \"Topic1\", \"Topic1\", \"Topic1\", \"Topic1\", \"Topic1\", \"Topic1\", \"Topic1\", \"Topic1\", \"Topic1\", \"Topic1\", \"Topic1\", \"Topic1\", \"Topic1\", \"Topic1\", \"Topic1\", \"Topic1\", \"Topic1\", \"Topic1\", \"Topic1\", \"Topic1\", \"Topic1\", \"Topic1\", \"Topic1\", \"Topic1\", \"Topic1\", \"Topic1\", \"Topic1\", \"Topic1\", \"Topic1\", \"Topic1\", \"Topic1\", \"Topic1\", \"Topic1\", \"Topic1\", \"Topic1\", \"Topic1\", \"Topic1\", \"Topic1\", \"Topic1\", \"Topic1\", \"Topic1\", \"Topic1\", \"Topic1\", \"Topic1\", \"Topic1\", \"Topic1\", \"Topic1\", \"Topic1\", \"Topic1\", \"Topic1\", \"Topic1\", \"Topic1\", \"Topic1\", \"Topic1\", \"Topic1\", \"Topic1\", \"Topic1\", \"Topic1\", \"Topic1\", \"Topic1\", \"Topic1\", \"Topic1\", \"Topic1\", \"Topic1\", \"Topic1\", \"Topic1\", \"Topic1\", \"Topic2\", \"Topic2\", \"Topic2\", \"Topic2\", \"Topic2\", \"Topic2\", \"Topic2\", \"Topic2\", \"Topic2\", \"Topic2\", \"Topic2\", \"Topic2\", \"Topic2\", \"Topic2\", \"Topic2\", \"Topic2\", \"Topic2\", \"Topic2\", \"Topic2\", \"Topic2\", \"Topic2\", \"Topic2\", \"Topic2\", \"Topic2\", \"Topic2\", \"Topic2\", \"Topic2\", \"Topic2\", \"Topic2\", \"Topic2\", \"Topic2\", \"Topic2\", \"Topic2\", \"Topic2\", \"Topic2\", \"Topic2\", \"Topic2\", \"Topic2\", \"Topic2\", \"Topic2\", \"Topic2\", \"Topic2\", \"Topic2\", \"Topic2\", \"Topic2\", \"Topic2\", \"Topic2\", \"Topic2\", \"Topic2\", \"Topic2\", \"Topic2\", \"Topic2\", \"Topic2\", \"Topic2\", \"Topic2\", \"Topic2\", \"Topic2\", \"Topic2\", \"Topic2\", \"Topic2\", \"Topic2\", \"Topic2\", \"Topic2\", \"Topic2\", \"Topic2\", \"Topic2\", \"Topic2\", \"Topic2\", \"Topic2\", \"Topic2\", \"Topic2\", \"Topic2\", \"Topic2\", \"Topic2\", \"Topic2\", \"Topic2\", \"Topic2\", \"Topic2\", \"Topic2\", \"Topic2\", \"Topic2\", \"Topic2\", \"Topic3\", \"Topic3\", \"Topic3\", \"Topic3\", \"Topic3\", \"Topic3\", \"Topic3\", \"Topic3\", \"Topic3\", \"Topic3\", \"Topic3\", \"Topic3\", \"Topic3\", \"Topic3\", \"Topic3\", \"Topic3\", \"Topic3\", \"Topic3\", \"Topic3\", \"Topic3\", \"Topic3\", \"Topic3\", \"Topic3\", \"Topic3\", \"Topic3\", \"Topic3\", \"Topic3\", \"Topic3\", \"Topic3\", \"Topic3\", \"Topic3\", \"Topic3\", \"Topic3\", \"Topic3\", \"Topic3\", \"Topic3\", \"Topic3\", \"Topic3\", \"Topic3\", \"Topic3\", \"Topic3\", \"Topic3\", \"Topic3\", \"Topic3\", \"Topic3\", \"Topic3\", \"Topic3\", \"Topic3\", \"Topic3\", \"Topic3\", \"Topic3\", \"Topic3\", \"Topic3\", \"Topic3\", \"Topic3\", \"Topic3\", \"Topic3\", \"Topic3\", \"Topic3\", \"Topic3\", \"Topic3\", \"Topic3\", \"Topic3\", \"Topic3\", \"Topic3\", \"Topic3\", \"Topic3\", \"Topic3\", \"Topic3\", \"Topic3\", \"Topic3\", \"Topic3\", \"Topic3\", \"Topic3\", \"Topic3\", \"Topic3\", \"Topic3\", \"Topic3\", \"Topic3\", \"Topic3\", \"Topic3\"], \"Term\": [\"chinatown\", \"bridge\", \"mercer\", \"italy\", \"jane\", \"pool\", \"edison\", \"chelsea\", \"hyatt\", \"union\", \"holiday\", \"seafarers\", \"americano\", \"houston\", \"redbury\", \"paramount\", \"mayfair\", \"vinci\", \"moon\", \"ruth\", \"elyn\", \"mave\", \"house\", \"da\", \"blue\", \"shared\", \"bunk\", \"single\", \"circle\", \"tenement\", \"nicholas\", \"innkeeper\", \"lawrence\", \"danashia\", \"edison\", \"americano\", \"aesop\", \"bean\", \"155th\", \"nova\", \"piscine\", \"beanbag\", \"platform\", \"cube\", \"rum\", \"attracts\", \"americana\", \"1702\", \"cowshed\", \"starwood\", \"saint\", \"habita\", \"colin\", \"innside\", \"impractical\", \"bandb\", \"loungers\", \"bento\", \"playroom\", \"grupo\", \"lafayette\", \"spg\", \"signature\", \"pool\", \"sheraton\", \"oakwood\", \"riverside\", \"chelsea\", \"meatpacking\", \"house\", \"w\", \"nyma\", \"shared\", \"site\", \"roof\", \"javits\", \"touch\", \"design\", \"continental\", \"checking\", \"set\", \"budget\", \"cost\", \"review\", \"construction\", \"internet\", \"maybe\", \"sink\", \"entire\", \"isnt\", \"decided\", \"dated\", \"key\", \"walls\", \"heat\", \"saw\", \"20\", \"yes\", \"village\", \"single\", \"rest\", \"slow\", \"dirty\", \"dark\", \"ac\", \"holiday\", \"cheap\", \"train\", \"change\", \"toilet\", \"cleaned\", \"elyn\", \"vermont\", \"vinci\", \"sago\", \"ruth\", \"gs\", \"redbury\", \"quiche\", \"innkeepers\", \"rumble\", \"jacuzzi\", \"paul\", \"da\", \"91\", \"204\", \"hotel91\", \"ellen\", \"cimb\", \"cds\", \"shelley\", \"sutton\", \"bridge\", \"tenement\", \"marta\", \"richland\", \"manageress\", \"candies\", \"teak\", \"ftrain\", \"sweets\", \"opera\", \"chinatown\", \"moon\", \"houston\", \"mave\", \"chinese\", \"italy\", \"blue\", \"china\", \"trains\", \"lincoln\", \"f\", \"flatiron\", \"spa\", \"daily\", \"les\", \"brooklyn\", \"stairs\", \"train\", \"lady\", \"fruit\", \"credit\", \"dirty\", \"returned\", \"ac\", \"problems\", \"upper\", \"unless\", \"budget\", \"despite\", \"toilet\", \"yes\", \"rude\", \"point\", \"west\", \"slow\", \"cheap\", \"mind\", \"stop\", \"wont\", \"tired\", \"cleaned\", \"later\", \"fun\", \"phone\", \"closet\", \"adequate\", \"cost\", \"internet\", \"dark\", \"checking\", \"walls\", \"bristol\", \"olcott\", \"seafarers\", \"republican\", \"lq\", \"sih\", \"lutheran\", \"seamen\", \"tryp\", \"gallivant\", \"guesthouse\", \"suny\", \"csr\", \"felix\", \"esther\", \"cassandra\", \"fritz\", \"solarium\", \"laquinta\", \"136\", \"saturdays\", \"captains\", \"ryan\", \"tudor\", \"jane\", \"ministers\", \"chapel\", \"womens\", \"worms\", \"mayfair\", \"paramount\", \"eurostars\", \"hyatt\", \"cabin\", \"bunk\", \"union\", \"aka\", \"mercer\", \"mansfield\", \"dylan\", \"holiday\", \"hudson\", \"fairfield\", \"single\", \"fixed\", \"barely\", \"cathedral\", \"seen\", \"dark\", \"ended\", \"42nd\", \"toilet\", \"shop\", \"surprised\", \"issues\", \"poor\", \"awful\", \"sink\", \"read\", \"cheap\", \"flight\", \"fact\", \"turn\", \"later\", \"waiting\", \"phone\", \"cleaned\", \"dirty\", \"shared\", \"closet\", \"15\", \"machine\", \"ac\", \"literally\", \"yes\", \"run\", \"reservation\", \"change\", \"maybe\", \"point\", \"budget\"], \"loglift\": [30.0, 29.0, 28.0, 27.0, 26.0, 25.0, 24.0, 23.0, 22.0, 21.0, 20.0, 19.0, 18.0, 17.0, 16.0, 15.0, 14.0, 13.0, 12.0, 11.0, 10.0, 9.0, 8.0, 7.0, 6.0, 5.0, 4.0, 3.0, 2.0, 1.0, 0.7752, 0.7612, 0.752, 0.7461, 0.738, 0.7293, 0.7069, 0.7055, 0.6811, 0.6776, 0.6764, 0.6728, 0.6659, 0.6643, 0.6624, 0.6573, 0.6399, 0.6376, 0.6374, 0.6309, 0.6305, 0.6295, 0.6258, 0.6247, 0.6239, 0.6206, 0.619, 0.6144, 0.6136, 0.6116, 0.6057, 0.5909, 0.5869, 0.5183, 0.532, 0.582, 0.5264, 0.4038, 0.511, 0.3691, 0.3945, 0.4707, 0.2528, 0.297, 0.2909, 0.394, 0.2878, 0.3243, 0.2273, 0.1613, 0.2112, 0.1175, 0.1521, 0.185, 0.1704, 0.146, 0.1388, 0.1059, 0.1622, 0.1292, 0.1626, 0.1451, 0.1839, 0.1093, 0.1415, 0.1417, 0.1159, -0.0069, 0.0956, 0.0192, 0.0858, 0.043, -0.1077, -0.0479, -0.0929, -0.0316, -0.1106, -0.0186, 0.0236, -0.2092, -0.0857, 0.8577, 0.8377, 0.8318, 0.8307, 0.824, 0.8067, 0.7977, 0.7863, 0.7766, 0.763, 0.7434, 0.7234, 0.7173, 0.717, 0.7165, 0.709, 0.7081, 0.7058, 0.7044, 0.704, 0.701, 0.6981, 0.697, 0.6936, 0.6914, 0.6907, 0.6899, 0.6883, 0.6816, 0.6814, 0.6699, 0.6061, 0.6308, 0.6195, 0.625, 0.5727, 0.4802, 0.5016, 0.5083, 0.4659, 0.4447, 0.5113, 0.439, 0.4293, 0.3075, 0.5509, 0.3233, 0.2189, 0.191, 0.2771, 0.2772, 0.227, 0.098, 0.195, 0.0833, 0.1969, 0.2679, 0.2654, 0.0504, 0.216, 0.0187, 0.0276, 0.1167, 0.1201, 0.1102, 0.0969, -0.0009, 0.1682, 0.1367, 0.138, 0.1196, -0.0014, -0.0015, 0.1561, 0.0124, 0.0073, 0.0881, 0.0285, 0.0052, -0.1827, -0.0, -0.0557, 0.9448, 0.8891, 0.8779, 0.8709, 0.8214, 0.8156, 0.8147, 0.8055, 0.7991, 0.7879, 0.7828, 0.7654, 0.7644, 0.7538, 0.7525, 0.746, 0.7436, 0.7418, 0.7375, 0.7307, 0.7281, 0.7263, 0.7236, 0.7195, 0.7186, 0.7179, 0.7126, 0.7116, 0.7111, 0.7064, 0.6935, 0.6999, 0.6492, 0.6643, 0.6484, 0.5443, 0.659, 0.4841, 0.5723, 0.5468, 0.3227, 0.383, 0.6298, 0.2543, 0.3509, 0.3357, 0.5631, 0.2845, 0.2062, 0.3042, 0.4258, 0.1846, 0.2923, 0.2423, 0.2064, 0.2181, 0.337, 0.1673, 0.1914, 0.1171, 0.2159, 0.1718, 0.1987, 0.1285, 0.1789, 0.1324, 0.0936, 0.0129, 0.0607, 0.1048, 0.1188, 0.1506, 0.0139, 0.1433, -0.0213, 0.1544, 0.0888, 0.0574, 0.0425, 0.062, -0.224], \"Freq\": [485.0, 343.0, 258.0, 387.0, 146.0, 299.0, 108.0, 459.0, 132.0, 178.0, 490.0, 50.0, 80.0, 106.0, 62.0, 82.0, 81.0, 51.0, 97.0, 50.0, 43.0, 85.0, 492.0, 61.0, 151.0, 512.0, 81.0, 472.0, 118.0, 66.0, 14.747316397291824, 7.994551654841379, 7.202596488028055, 3.5788627997546376, 83.11903840984836, 61.15256083566813, 8.244280431980927, 12.358466568708154, 2.675528970043599, 2.663295687092547, 3.331315864949165, 11.294309132516174, 24.360008363002116, 4.602525761983327, 12.471545307235495, 4.570661881071764, 28.299441764402605, 1.917377527752539, 24.952554580680637, 46.91490007316417, 12.693968710007479, 2.536523260909887, 6.301258959845815, 3.1530245658287486, 3.150368476574337, 1.8839945857926195, 2.5120223777095734, 3.7500330275727256, 3.7481661508304813, 2.4905164692595747, 26.04185757679358, 65.1861836469486, 27.92129354593897, 184.14776868064467, 90.35471977810438, 13.92274631401634, 53.129435788185994, 251.76330380970057, 32.595092503502876, 260.7782417879027, 151.7668134505597, 46.09926295623386, 241.49710778910043, 132.56624430653542, 136.38105311895413, 53.46461848852786, 113.14648537610992, 82.66308050790582, 145.43655943156537, 178.45075976026925, 135.90548988699612, 217.22121787372728, 178.64779993910875, 151.3181016467867, 160.96300812934194, 179.54147518027824, 182.32537405070224, 197.4053202412702, 154.39162872411623, 171.74411902603254, 150.80479982842272, 159.75678436848537, 139.1934959781092, 178.72474316260525, 159.1845705360244, 155.44644848866577, 158.90755981993863, 200.49423579018767, 158.9458987253524, 176.0601772024082, 159.13699608901777, 167.37337772077095, 196.88712215752594, 180.94121000457164, 186.03676977582367, 173.79333165255983, 179.44631726048905, 168.3449748080004, 163.6283483398472, 168.56500964140355, 163.94600464749524, 32.846764736348625, 21.726968772536665, 37.92711374474425, 15.698273717658353, 37.02413540650137, 5.747752422608533, 45.02687571246184, 6.897603870218958, 4.347152316569913, 7.363970516931262, 23.476454039889788, 9.452939860051606, 41.02270202247436, 30.530555357897963, 2.929592303043262, 2.9135930519613025, 5.817242496201959, 3.4859759777168766, 4.056376586604049, 6.96277469962921, 26.050538245186964, 223.26938166373984, 43.22654224762317, 17.216410481383893, 1.7178715609577497, 8.026265795566763, 2.288747777455809, 1.7120673139567117, 3.4043147579716817, 9.070691489633564, 43.740824337115285, 287.61716031038117, 59.55067433400853, 63.77654145272686, 51.476795939279555, 58.25329214232305, 202.70839915570335, 80.79718151945056, 68.72227867949907, 85.33536512807169, 83.93881116994825, 43.88478576985366, 81.52306409642256, 78.00313040217807, 139.14831899814777, 30.109226826589975, 115.04283593192665, 161.35905681826915, 183.52993004433068, 117.66695078262408, 116.63448343950968, 139.1668194199234, 213.8176645700168, 144.29345147173206, 196.15849528785807, 133.88627839347942, 112.85142780657775, 112.75499132183883, 179.57850463273385, 123.9101050731236, 187.16300611818247, 183.4718291397246, 151.63234394892416, 150.49644817108918, 152.87915012041194, 156.17670078580585, 177.04514546374486, 131.83609527878616, 135.95322049382813, 133.78831671074366, 135.5555971784228, 157.69274703441897, 150.60128596839027, 126.81725577644859, 146.40987150605815, 146.3176349084492, 135.0066506286265, 139.58070668219497, 137.8835057525647, 139.79441227377055, 134.2612910344879, 133.97367069733383, 7.985729695494466, 3.426598123893402, 37.55144546009654, 10.795651250385703, 3.215295198274872, 5.130891462853117, 6.4024218388910965, 3.808354793397383, 6.272971755921671, 28.44226397470027, 4.332144309539078, 4.846918438687735, 3.0289390973389034, 4.790198288130163, 2.999834838665357, 6.535070427391272, 2.9711708276552242, 2.372970561320926, 4.137000366359478, 2.9219243437582767, 2.9294003769673105, 18.092046921493463, 7.004033335419372, 6.98587693234772, 93.26200416007019, 2.317329049994633, 6.932788288511609, 7.4391200226351, 2.8824842931567045, 51.42312944442968, 51.1553185751446, 18.851123589961702, 78.80680747051981, 42.181916867280826, 48.45773181656592, 95.44585961431547, 14.245268489846907, 130.3757755197026, 35.23066609189424, 41.65134149979342, 210.3466318430287, 94.19739742387534, 13.238182321614028, 189.14006205855623, 96.21158372046945, 104.2422154956236, 20.359473087606986, 126.53347255999253, 198.0985286686465, 105.75956930499495, 49.835520816118915, 212.216220362822, 112.3200814219146, 143.910388907784, 169.3184111909864, 157.47101454358722, 80.24921212176639, 178.26214754014254, 147.4354985451366, 191.34619909562247, 126.98820642541617, 148.9426876205489, 132.67227642430782, 164.73033524040912, 140.3488114972741, 158.57662924217905, 166.5618279863003, 188.62388067777417, 169.2467134296566, 154.95172815891235, 148.42261014510225, 139.01367365336333, 175.78502470927523, 139.81593102821154, 167.82780840439847, 133.00492148184418, 142.17398309881082, 143.7174167376926, 140.61910049737077, 136.39646953361705, 131.09417433392744], \"Total\": [485.0, 343.0, 258.0, 387.0, 146.0, 299.0, 108.0, 459.0, 132.0, 178.0, 490.0, 50.0, 80.0, 106.0, 62.0, 82.0, 81.0, 51.0, 97.0, 50.0, 43.0, 85.0, 492.0, 61.0, 151.0, 512.0, 81.0, 472.0, 118.0, 66.0, 18.566598218669146, 10.20683048548851, 9.280405125205275, 4.638576380628744, 108.6123133019263, 80.60124955834523, 11.113062083391384, 16.68173106531185, 3.7008828264216866, 3.6967815262786163, 4.629316197777267, 15.7521982749814, 34.2088434791525, 6.473707053511112, 17.576885601796146, 6.4741094671334185, 40.790282554295786, 2.7699202257686606, 36.05733105663882, 68.23426349511172, 18.469126763471152, 3.6943805476868916, 9.21150344314213, 4.614157113246041, 4.614058606270077, 2.768319266535128, 3.697124519543672, 5.544921403061754, 5.54638597486834, 3.692846173442513, 38.841870191180064, 98.67559525120943, 42.43553568633166, 299.73219146968404, 145.0710103792415, 21.26358619969059, 85.78238579307099, 459.54117016637684, 53.44240201802651, 492.77337453024415, 279.59479031508715, 78.69904411545147, 512.645772700481, 269.22715147382024, 278.66116062244555, 98.54634879506203, 231.9052525671946, 163.36224780300878, 316.70358323478996, 415.10961667707943, 300.7308753982899, 527.8938968403886, 419.39592873056483, 343.7437506764726, 371.01499127065847, 424.07084105925907, 433.77759254409256, 485.3571350197559, 358.82014642407285, 412.54431646787054, 350.3319953142077, 377.6790226488072, 316.54710392867946, 437.92643622291087, 377.6814077452434, 368.74942716776377, 386.81181038179864, 551.7938733343108, 394.8108423959716, 472.0849117588841, 399.1794234852801, 438.2396613560155, 599.3286674053169, 518.8341509469888, 557.980289772957, 490.2885902523087, 547.8376618198563, 468.7485741556134, 436.7887549272489, 567.944236122408, 488.20057966821446, 43.07237165356448, 29.066015050264394, 51.03906504375056, 21.14834696153024, 50.21524869630877, 7.931629247231083, 62.69426684401487, 9.71461289367135, 6.181999757846294, 10.615431849910596, 34.51089805987509, 14.17718781048221, 61.90028935979198, 46.08229198140667, 4.424026568923452, 4.433282781567716, 8.858941947689937, 5.3210890085998495, 6.2006328962643025, 10.647363130750595, 39.95344953141547, 343.4213440092294, 66.56103497462394, 26.60085392700611, 2.6602997611833628, 12.437563654667608, 3.5495726638885996, 2.659420389565382, 5.323675028983551, 14.187792019635445, 69.20558813196826, 485.0219667609639, 97.98024416348352, 106.12534742607015, 85.1890551812358, 101.58152351974819, 387.70991674422106, 151.26978368247555, 127.79932934185017, 165.57045179751, 166.35808799322749, 81.36969992015759, 162.48565607001285, 156.98226402715812, 316.3105650201127, 53.65743407993843, 257.41206919555646, 400.7804520637007, 468.7485741556134, 275.7314035557372, 273.30710025620454, 342.88851560028627, 599.3286674053169, 367.0688535944081, 557.980289772957, 339.966761959114, 266.8996963720559, 267.34156689154537, 527.8938968403886, 308.6694357364714, 567.944236122408, 551.7938733343108, 417.1697396029622, 412.64336712533577, 423.32459662336873, 438.2396613560155, 547.8376618198563, 344.4968264864217, 366.60831639264677, 360.30541664048224, 371.83848222768836, 488.20057966821446, 466.29176913719493, 335.4262902284948, 447.09313782680726, 449.0969192288861, 382.1953855700416, 419.39592873056483, 424.07084105925907, 518.8341509469888, 415.10961667707943, 437.92643622291087, 9.992569371997163, 4.533082104315328, 50.23642126931359, 14.543998497050042, 4.551757238665373, 7.305381561826951, 9.124443277138422, 5.477485623865362, 9.080809335067975, 41.63388649943354, 6.374211746051373, 7.256601207591087, 4.539559298062949, 7.255721536393228, 4.549436906697942, 9.975534983807744, 4.546435163390605, 3.63748682694077, 6.369135497974078, 4.529134376180217, 4.552447860748473, 28.168052011493334, 10.9334073035977, 10.950667593499235, 146.3157621167026, 3.638210601398744, 10.942364764605859, 11.753200342425343, 4.55630740011338, 81.66999239745599, 82.29613813886161, 30.133924281383592, 132.52922591939603, 69.87425999245804, 81.55455679121441, 178.26186395565924, 23.722061643889667, 258.6039577150393, 63.980925779806604, 77.5970943521477, 490.2885902523087, 206.73018856496768, 22.698655356702524, 472.0849117588841, 218.0364128367123, 239.84033249726087, 37.31539589994034, 306.4365549200709, 518.8341509469888, 251.11313536693456, 104.77907971843827, 567.944236122408, 269.90009864998046, 363.54099837687215, 443.3646564127035, 407.5482441005651, 184.39547916167635, 485.3571350197559, 391.8950999158135, 547.8376618198563, 329.3724579256394, 403.72140190599333, 350.0833782711197, 466.29176913719493, 377.73661050009844, 447.09313782680726, 488.20057966821446, 599.3286674053169, 512.645772700481, 449.0969192288861, 424.20492550652614, 384.88071876361425, 557.980289772957, 389.957904294514, 551.7938733343108, 366.83616317321145, 418.7241635043049, 436.7887549272489, 433.77759254409256, 412.64336712533577, 527.8938968403886], \"logprob\": [30.0, 29.0, 28.0, 27.0, 26.0, 25.0, 24.0, 23.0, 22.0, 21.0, 20.0, 19.0, 18.0, 17.0, 16.0, 15.0, 14.0, 13.0, 12.0, 11.0, 10.0, 9.0, 8.0, 7.0, 6.0, 5.0, 4.0, 3.0, 2.0, 1.0, -9.2016, -9.8139, -9.9182, -10.6176, -7.4724, -7.7793, -9.7831, -9.3783, -10.9085, -10.9131, -10.6893, -9.4683, -8.6997, -10.366, -9.3692, -10.373, -8.5498, -11.2417, -8.6757, -8.0443, -9.3515, -10.9619, -10.0519, -10.7443, -10.7451, -11.2593, -10.9716, -10.5709, -10.5714, -10.9802, -8.6329, -7.7154, -8.5633, -6.6769, -7.3889, -9.2591, -7.9199, -6.3642, -8.4085, -6.329, -6.8703, -8.0619, -6.4058, -7.0056, -6.9772, -7.9136, -7.164, -7.4779, -6.9129, -6.7083, -6.9807, -6.5117, -6.7072, -6.8733, -6.8115, -6.7022, -6.6869, -6.6074, -6.8532, -6.7466, -6.8767, -6.819, -6.9568, -6.7068, -6.8226, -6.8463, -6.8243, -6.5919, -6.8241, -6.7218, -6.8229, -6.7724, -6.61, -6.6945, -6.6667, -6.7348, -6.7028, -6.7666, -6.7951, -6.7653, -6.7931, -8.2776, -8.6909, -8.1338, -9.0159, -8.1579, -10.0206, -7.9622, -9.8383, -10.2999, -9.7728, -8.6134, -9.5231, -8.0553, -8.3507, -10.6946, -10.7, -10.0086, -10.5207, -10.3691, -9.8288, -8.5094, -6.361, -8.003, -8.9236, -11.2283, -9.6867, -10.9414, -11.2317, -10.5444, -9.5644, -7.9911, -6.1078, -7.6826, -7.614, -7.8283, -7.7046, -6.4577, -7.3775, -7.5394, -7.3228, -7.3393, -7.9879, -7.3685, -7.4127, -6.8339, -8.3646, -7.0241, -6.6858, -6.557, -7.0016, -7.0104, -6.8338, -6.4043, -6.7976, -6.4905, -6.8724, -7.0434, -7.0442, -6.5788, -6.9499, -6.5374, -6.5574, -6.748, -6.7555, -6.7398, -6.7184, -6.593, -6.8879, -6.8571, -6.8732, -6.86, -6.7088, -6.7548, -6.9267, -6.783, -6.7836, -6.8641, -6.8308, -6.843, -6.8293, -6.8696, -6.8718, -9.6515, -10.4976, -8.1035, -9.35, -10.5612, -10.0939, -9.8725, -10.392, -9.8929, -8.3813, -10.2631, -10.1508, -10.621, -10.1626, -10.6306, -9.852, -10.6402, -10.865, -10.3092, -10.6569, -10.6544, -8.8337, -9.7827, -9.7853, -7.1938, -10.8887, -9.7929, -9.7224, -10.6705, -7.7891, -7.7943, -8.7926, -7.3622, -7.9872, -7.8485, -7.1706, -9.0727, -6.8587, -8.1672, -7.9998, -6.3804, -7.1838, -9.1461, -6.4867, -7.1626, -7.0824, -8.7156, -6.8887, -6.4404, -7.068, -7.8204, -6.3716, -7.0078, -6.76, -6.5974, -6.6699, -7.344, -6.5459, -6.7358, -6.4751, -6.8851, -6.7256, -6.8413, -6.6249, -6.785, -6.6629, -6.6138, -6.4894, -6.5978, -6.6861, -6.7291, -6.7946, -6.5599, -6.7888, -6.6062, -6.8388, -6.7721, -6.7613, -6.7831, -6.8136, -6.8532]}};\n",
       "\n",
       "function LDAvis_load_lib(url, callback){\n",
       "  var s = document.createElement('script');\n",
       "  s.src = url;\n",
       "  s.async = true;\n",
       "  s.onreadystatechange = s.onload = callback;\n",
       "  s.onerror = function(){console.warn(\"failed to load library \" + url);};\n",
       "  document.getElementsByTagName(\"head\")[0].appendChild(s);\n",
       "}\n",
       "\n",
       "if(typeof(LDAvis) !== \"undefined\"){\n",
       "   // already loaded: just create the visualization\n",
       "   !function(LDAvis){\n",
       "       new LDAvis(\"#\" + \"ldavis_el2166646148656167527786380\", ldavis_el2166646148656167527786380_data);\n",
       "   }(LDAvis);\n",
       "}else if(typeof define === \"function\" && define.amd){\n",
       "   // require.js is available: use it to load d3/LDAvis\n",
       "   require.config({paths: {d3: \"https://cdnjs.cloudflare.com/ajax/libs/d3/3.5.5/d3.min\"}});\n",
       "   require([\"d3\"], function(d3){\n",
       "      window.d3 = d3;\n",
       "      LDAvis_load_lib(\"https://cdn.rawgit.com/bmabey/pyLDAvis/files/ldavis.v1.0.0.js\", function(){\n",
       "        new LDAvis(\"#\" + \"ldavis_el2166646148656167527786380\", ldavis_el2166646148656167527786380_data);\n",
       "      });\n",
       "    });\n",
       "}else{\n",
       "    // require.js not available: dynamically load d3 & LDAvis\n",
       "    LDAvis_load_lib(\"https://cdnjs.cloudflare.com/ajax/libs/d3/3.5.5/d3.min.js\", function(){\n",
       "         LDAvis_load_lib(\"https://cdn.rawgit.com/bmabey/pyLDAvis/files/ldavis.v1.0.0.js\", function(){\n",
       "                 new LDAvis(\"#\" + \"ldavis_el2166646148656167527786380\", ldavis_el2166646148656167527786380_data);\n",
       "            })\n",
       "         });\n",
       "}\n",
       "</script>"
      ],
      "text/plain": [
       "PreparedData(topic_coordinates=            Freq  cluster  topics         x         y\n",
       "topic                                                \n",
       "0      36.586509        1       1 -0.000620 -0.008057\n",
       "1      32.344967        1       2 -0.008203  0.004469\n",
       "2      31.068524        1       3  0.008823  0.003588, topic_info=      Category        Freq         Term       Total  loglift  logprob\n",
       "term                                                                 \n",
       "24021  Default  485.000000    chinatown  485.000000  30.0000  30.0000\n",
       "7794   Default  343.000000       bridge  343.000000  29.0000  29.0000\n",
       "14616  Default  258.000000       mercer  258.000000  28.0000  28.0000\n",
       "20555  Default  387.000000        italy  387.000000  27.0000  27.0000\n",
       "31346  Default  146.000000         jane  146.000000  26.0000  26.0000\n",
       "3692   Default  299.000000         pool  299.000000  25.0000  25.0000\n",
       "6924   Default  108.000000       edison  108.000000  24.0000  24.0000\n",
       "24839  Default  459.000000      chelsea  459.000000  23.0000  23.0000\n",
       "104    Default  132.000000        hyatt  132.000000  22.0000  22.0000\n",
       "376    Default  178.000000        union  178.000000  21.0000  21.0000\n",
       "9640   Default  490.000000      holiday  490.000000  20.0000  20.0000\n",
       "9824   Default   50.000000    seafarers   50.000000  19.0000  19.0000\n",
       "36802  Default   80.000000    americano   80.000000  18.0000  18.0000\n",
       "1981   Default  106.000000      houston  106.000000  17.0000  17.0000\n",
       "36011  Default   62.000000      redbury   62.000000  16.0000  16.0000\n",
       "28974  Default   82.000000    paramount   82.000000  15.0000  15.0000\n",
       "8815   Default   81.000000      mayfair   81.000000  14.0000  14.0000\n",
       "25308  Default   51.000000        vinci   51.000000  13.0000  13.0000\n",
       "8684   Default   97.000000         moon   97.000000  12.0000  12.0000\n",
       "37674  Default   50.000000         ruth   50.000000  11.0000  11.0000\n",
       "2367   Default   43.000000         elyn   43.000000  10.0000  10.0000\n",
       "17052  Default   85.000000         mave   85.000000   9.0000   9.0000\n",
       "37431  Default  492.000000        house  492.000000   8.0000   8.0000\n",
       "13009  Default   61.000000           da   61.000000   7.0000   7.0000\n",
       "7548   Default  151.000000         blue  151.000000   6.0000   6.0000\n",
       "3137   Default  512.000000       shared  512.000000   5.0000   5.0000\n",
       "38672  Default   81.000000         bunk   81.000000   4.0000   4.0000\n",
       "27501  Default  472.000000       single  472.000000   3.0000   3.0000\n",
       "34899  Default  118.000000       circle  118.000000   2.0000   2.0000\n",
       "9687   Default   66.000000     tenement   66.000000   1.0000   1.0000\n",
       "...        ...         ...          ...         ...      ...      ...\n",
       "33143   Topic3  212.216220       toilet  567.944236   0.1846  -6.3716\n",
       "26526   Topic3  112.320081         shop  269.900099   0.2923  -7.0078\n",
       "31219   Topic3  143.910389    surprised  363.540998   0.2423  -6.7600\n",
       "19787   Topic3  169.318411       issues  443.364656   0.2064  -6.5974\n",
       "3681    Topic3  157.471015         poor  407.548244   0.2181  -6.6699\n",
       "29520   Topic3   80.249212        awful  184.395479   0.3370  -7.3440\n",
       "37919   Topic3  178.262148         sink  485.357135   0.1673  -6.5459\n",
       "13803   Topic3  147.435499         read  391.895100   0.1914  -6.7358\n",
       "10778   Topic3  191.346199        cheap  547.837662   0.1171  -6.4751\n",
       "9231    Topic3  126.988206       flight  329.372458   0.2159  -6.8851\n",
       "22655   Topic3  148.942688         fact  403.721402   0.1718  -6.7256\n",
       "8392    Topic3  132.672276         turn  350.083378   0.1987  -6.8413\n",
       "8460    Topic3  164.730335        later  466.291769   0.1285  -6.6249\n",
       "40558   Topic3  140.348811      waiting  377.736611   0.1789  -6.7850\n",
       "38644   Topic3  158.576629        phone  447.093138   0.1324  -6.6629\n",
       "40123   Topic3  166.561828      cleaned  488.200580   0.0936  -6.6138\n",
       "1198    Topic3  188.623881        dirty  599.328667   0.0129  -6.4894\n",
       "3137    Topic3  169.246713       shared  512.645773   0.0607  -6.5978\n",
       "40898   Topic3  154.951728       closet  449.096919   0.1048  -6.6861\n",
       "26476   Topic3  148.422610           15  424.204926   0.1188  -6.7291\n",
       "10237   Topic3  139.013674      machine  384.880719   0.1506  -6.7946\n",
       "11367   Topic3  175.785025           ac  557.980290   0.0139  -6.5599\n",
       "33270   Topic3  139.815931    literally  389.957904   0.1433  -6.7888\n",
       "5452    Topic3  167.827808          yes  551.793873  -0.0213  -6.6062\n",
       "5652    Topic3  133.004921          run  366.836163   0.1544  -6.8388\n",
       "24866   Topic3  142.173983  reservation  418.724164   0.0888  -6.7721\n",
       "13372   Topic3  143.717417       change  436.788755   0.0574  -6.7613\n",
       "16060   Topic3  140.619100        maybe  433.777593   0.0425  -6.7831\n",
       "41021   Topic3  136.396470        point  412.643367   0.0620  -6.8136\n",
       "10141   Topic3  131.094174       budget  527.893897  -0.2240  -6.8532\n",
       "\n",
       "[274 rows x 6 columns], token_table=       Topic      Freq      Term\n",
       "term                            \n",
       "30315      1  0.220793       136\n",
       "30315      2  0.220793       136\n",
       "30315      3  0.662378       136\n",
       "26476      1  0.339459        15\n",
       "26476      2  0.311170        15\n",
       "26476      3  0.348888        15\n",
       "3451       1  0.810617     155th\n",
       "3451       2  0.270206     155th\n",
       "31448      1  0.722042      1702\n",
       "27022      1  0.411053        20\n",
       "27022      2  0.274035        20\n",
       "27022      3  0.315399        20\n",
       "5917       1  0.226038       204\n",
       "5917       2  0.678115       204\n",
       "5917       3  0.226038       204\n",
       "24695      1  0.324492      42nd\n",
       "24695      2  0.200422      42nd\n",
       "24695      3  0.477194      42nd\n",
       "13017      1  0.195303        91\n",
       "13017      2  0.672710        91\n",
       "13017      3  0.151902        91\n",
       "11367      1  0.333345        ac\n",
       "11367      2  0.351267        ac\n",
       "11367      3  0.315423        ac\n",
       "23323      1  0.384620  adequate\n",
       "23323      2  0.353222  adequate\n",
       "23323      3  0.261646  adequate\n",
       "23624      1  0.719874     aesop\n",
       "23624      2  0.179968     aesop\n",
       "23624      3  0.089984     aesop\n",
       "...      ...       ...       ...\n",
       "9211       1  0.402725   village\n",
       "9211       2  0.321673   village\n",
       "9211       3  0.273549   village\n",
       "25308      1  0.097964     vinci\n",
       "25308      2  0.744528     vinci\n",
       "25308      3  0.156743     vinci\n",
       "11652      1  0.543644         w\n",
       "11652      2  0.275399         w\n",
       "11652      3  0.178830         w\n",
       "40558      1  0.346802   waiting\n",
       "40558      2  0.280619   waiting\n",
       "40558      3  0.370629   waiting\n",
       "16752      1  0.408744     walls\n",
       "16752      2  0.305987     walls\n",
       "16752      3  0.285436     walls\n",
       "1004       1  0.356700      west\n",
       "1004       2  0.361425      west\n",
       "1004       3  0.281108      west\n",
       "30069      1  0.170166    womens\n",
       "30069      2  0.255250    womens\n",
       "30069      3  0.595582    womens\n",
       "13496      1  0.319174      wont\n",
       "13496      2  0.371907      wont\n",
       "13496      3  0.310847      wont\n",
       "38563      1  0.219476     worms\n",
       "38563      2  0.219476     worms\n",
       "38563      3  0.658428     worms\n",
       "5452       1  0.362454       yes\n",
       "5452       2  0.331646       yes\n",
       "5452       3  0.304462       yes\n",
       "\n",
       "[627 rows x 3 columns], R=30, lambda_step=0.01, plot_opts={'xlab': 'PC1', 'ylab': 'PC2'}, topic_order=[1, 2, 3])"
      ]
     },
     "execution_count": 164,
     "metadata": {},
     "output_type": "execute_result"
    }
   ],
   "source": [
    "pyLDAvis.gensim.prepare(lda, corpus_301_400, dictionary)"
   ]
  },
  {
   "cell_type": "code",
   "execution_count": null,
   "metadata": {
    "collapsed": true
   },
   "outputs": [],
   "source": []
  },
  {
   "cell_type": "code",
   "execution_count": null,
   "metadata": {
    "collapsed": true
   },
   "outputs": [],
   "source": []
  },
  {
   "cell_type": "code",
   "execution_count": null,
   "metadata": {
    "collapsed": true
   },
   "outputs": [],
   "source": []
  },
  {
   "cell_type": "code",
   "execution_count": 14,
   "metadata": {
    "collapsed": true
   },
   "outputs": [],
   "source": [
    "all_text = full_df[['content_utf8','rank_num']]"
   ]
  },
  {
   "cell_type": "code",
   "execution_count": 15,
   "metadata": {
    "collapsed": false,
    "scrolled": true
   },
   "outputs": [
    {
     "data": {
      "text/plain": [
       "(440, 2)"
      ]
     },
     "execution_count": 15,
     "metadata": {},
     "output_type": "execute_result"
    }
   ],
   "source": [
    "all_text.shape"
   ]
  },
  {
   "cell_type": "code",
   "execution_count": 16,
   "metadata": {
    "collapsed": true
   },
   "outputs": [],
   "source": [
    "X_text_col = all_text['content_utf8']"
   ]
  },
  {
   "cell_type": "code",
   "execution_count": 18,
   "metadata": {
    "collapsed": true
   },
   "outputs": [],
   "source": [
    "from sklearn.feature_extraction.text import ENGLISH_STOP_WORDS\n",
    "stop_words = list(ENGLISH_STOP_WORDS)"
   ]
  },
  {
   "cell_type": "code",
   "execution_count": 19,
   "metadata": {
    "collapsed": false
   },
   "outputs": [],
   "source": [
    "# Preprocess text data to Tfidf\n",
    "vect = TfidfVectorizer(stop_words=stop_words,ngram_range=(1,2))\n",
    "X_text = vect.fit_transform(X_text_col)"
   ]
  },
  {
   "cell_type": "code",
   "execution_count": 20,
   "metadata": {
    "collapsed": false
   },
   "outputs": [
    {
     "data": {
      "text/plain": [
       "(440, 1908825)"
      ]
     },
     "execution_count": 20,
     "metadata": {},
     "output_type": "execute_result"
    }
   ],
   "source": [
    "X_text.shape"
   ]
  },
  {
   "cell_type": "code",
   "execution_count": 21,
   "metadata": {
    "collapsed": true
   },
   "outputs": [],
   "source": [
    "X_text_df = pd.DataFrame(X_text.toarray(), columns=vect.vocabulary_)"
   ]
  },
  {
   "cell_type": "code",
   "execution_count": 22,
   "metadata": {
    "collapsed": false
   },
   "outputs": [
    {
     "data": {
      "text/html": [
       "<div>\n",
       "<table border=\"1\" class=\"dataframe\">\n",
       "  <thead>\n",
       "    <tr style=\"text-align: right;\">\n",
       "      <th></th>\n",
       "      <th>cacio room</th>\n",
       "      <th>contrary feel</th>\n",
       "      <th>tv dim</th>\n",
       "      <th>electronic blinds</th>\n",
       "      <th>hunting excellent</th>\n",
       "      <th>cleansheets bit</th>\n",
       "      <th>tv did</th>\n",
       "      <th>residencelocated moma</th>\n",
       "      <th>person add</th>\n",
       "      <th>poor surrounding</th>\n",
       "      <th>...</th>\n",
       "      <th>quiter expected</th>\n",
       "      <th>lady lier</th>\n",
       "      <th>mattress dire</th>\n",
       "      <th>sinkfridge</th>\n",
       "      <th>smelling diptyque</th>\n",
       "      <th>told shed</th>\n",
       "      <th>january january</th>\n",
       "      <th>nights 26th</th>\n",
       "      <th>ounce customer</th>\n",
       "      <th>theme did</th>\n",
       "    </tr>\n",
       "  </thead>\n",
       "  <tbody>\n",
       "    <tr>\n",
       "      <th>0</th>\n",
       "      <td>0.0</td>\n",
       "      <td>0.0</td>\n",
       "      <td>0.0</td>\n",
       "      <td>0.0</td>\n",
       "      <td>0.0</td>\n",
       "      <td>0.0</td>\n",
       "      <td>0.0</td>\n",
       "      <td>0.0</td>\n",
       "      <td>0.0</td>\n",
       "      <td>0.0</td>\n",
       "      <td>...</td>\n",
       "      <td>0.0</td>\n",
       "      <td>0.0</td>\n",
       "      <td>0.0</td>\n",
       "      <td>0.0</td>\n",
       "      <td>0.0</td>\n",
       "      <td>0.0</td>\n",
       "      <td>0.0</td>\n",
       "      <td>0.0</td>\n",
       "      <td>0.0</td>\n",
       "      <td>0.0</td>\n",
       "    </tr>\n",
       "    <tr>\n",
       "      <th>1</th>\n",
       "      <td>0.0</td>\n",
       "      <td>0.0</td>\n",
       "      <td>0.0</td>\n",
       "      <td>0.0</td>\n",
       "      <td>0.0</td>\n",
       "      <td>0.0</td>\n",
       "      <td>0.0</td>\n",
       "      <td>0.0</td>\n",
       "      <td>0.0</td>\n",
       "      <td>0.0</td>\n",
       "      <td>...</td>\n",
       "      <td>0.0</td>\n",
       "      <td>0.0</td>\n",
       "      <td>0.0</td>\n",
       "      <td>0.0</td>\n",
       "      <td>0.0</td>\n",
       "      <td>0.0</td>\n",
       "      <td>0.0</td>\n",
       "      <td>0.0</td>\n",
       "      <td>0.0</td>\n",
       "      <td>0.0</td>\n",
       "    </tr>\n",
       "    <tr>\n",
       "      <th>2</th>\n",
       "      <td>0.0</td>\n",
       "      <td>0.0</td>\n",
       "      <td>0.0</td>\n",
       "      <td>0.0</td>\n",
       "      <td>0.0</td>\n",
       "      <td>0.0</td>\n",
       "      <td>0.0</td>\n",
       "      <td>0.0</td>\n",
       "      <td>0.0</td>\n",
       "      <td>0.0</td>\n",
       "      <td>...</td>\n",
       "      <td>0.0</td>\n",
       "      <td>0.0</td>\n",
       "      <td>0.0</td>\n",
       "      <td>0.0</td>\n",
       "      <td>0.0</td>\n",
       "      <td>0.0</td>\n",
       "      <td>0.0</td>\n",
       "      <td>0.0</td>\n",
       "      <td>0.0</td>\n",
       "      <td>0.0</td>\n",
       "    </tr>\n",
       "    <tr>\n",
       "      <th>3</th>\n",
       "      <td>0.0</td>\n",
       "      <td>0.0</td>\n",
       "      <td>0.0</td>\n",
       "      <td>0.0</td>\n",
       "      <td>0.0</td>\n",
       "      <td>0.0</td>\n",
       "      <td>0.0</td>\n",
       "      <td>0.0</td>\n",
       "      <td>0.0</td>\n",
       "      <td>0.0</td>\n",
       "      <td>...</td>\n",
       "      <td>0.0</td>\n",
       "      <td>0.0</td>\n",
       "      <td>0.0</td>\n",
       "      <td>0.0</td>\n",
       "      <td>0.0</td>\n",
       "      <td>0.0</td>\n",
       "      <td>0.0</td>\n",
       "      <td>0.0</td>\n",
       "      <td>0.0</td>\n",
       "      <td>0.0</td>\n",
       "    </tr>\n",
       "    <tr>\n",
       "      <th>4</th>\n",
       "      <td>0.0</td>\n",
       "      <td>0.0</td>\n",
       "      <td>0.0</td>\n",
       "      <td>0.0</td>\n",
       "      <td>0.0</td>\n",
       "      <td>0.0</td>\n",
       "      <td>0.0</td>\n",
       "      <td>0.0</td>\n",
       "      <td>0.0</td>\n",
       "      <td>0.0</td>\n",
       "      <td>...</td>\n",
       "      <td>0.0</td>\n",
       "      <td>0.0</td>\n",
       "      <td>0.0</td>\n",
       "      <td>0.0</td>\n",
       "      <td>0.0</td>\n",
       "      <td>0.0</td>\n",
       "      <td>0.0</td>\n",
       "      <td>0.0</td>\n",
       "      <td>0.0</td>\n",
       "      <td>0.0</td>\n",
       "    </tr>\n",
       "  </tbody>\n",
       "</table>\n",
       "<p>5 rows × 1908825 columns</p>\n",
       "</div>"
      ],
      "text/plain": [
       "   cacio room  contrary feel  tv dim  electronic blinds  hunting excellent  \\\n",
       "0         0.0            0.0     0.0                0.0                0.0   \n",
       "1         0.0            0.0     0.0                0.0                0.0   \n",
       "2         0.0            0.0     0.0                0.0                0.0   \n",
       "3         0.0            0.0     0.0                0.0                0.0   \n",
       "4         0.0            0.0     0.0                0.0                0.0   \n",
       "\n",
       "   cleansheets bit  tv did  residencelocated moma  person add  \\\n",
       "0              0.0     0.0                    0.0         0.0   \n",
       "1              0.0     0.0                    0.0         0.0   \n",
       "2              0.0     0.0                    0.0         0.0   \n",
       "3              0.0     0.0                    0.0         0.0   \n",
       "4              0.0     0.0                    0.0         0.0   \n",
       "\n",
       "   poor surrounding    ...      quiter expected  lady lier  mattress dire  \\\n",
       "0               0.0    ...                  0.0        0.0            0.0   \n",
       "1               0.0    ...                  0.0        0.0            0.0   \n",
       "2               0.0    ...                  0.0        0.0            0.0   \n",
       "3               0.0    ...                  0.0        0.0            0.0   \n",
       "4               0.0    ...                  0.0        0.0            0.0   \n",
       "\n",
       "   sinkfridge  smelling diptyque  told shed  january january  nights 26th  \\\n",
       "0         0.0                0.0        0.0              0.0          0.0   \n",
       "1         0.0                0.0        0.0              0.0          0.0   \n",
       "2         0.0                0.0        0.0              0.0          0.0   \n",
       "3         0.0                0.0        0.0              0.0          0.0   \n",
       "4         0.0                0.0        0.0              0.0          0.0   \n",
       "\n",
       "   ounce customer  theme did  \n",
       "0             0.0        0.0  \n",
       "1             0.0        0.0  \n",
       "2             0.0        0.0  \n",
       "3             0.0        0.0  \n",
       "4             0.0        0.0  \n",
       "\n",
       "[5 rows x 1908825 columns]"
      ]
     },
     "execution_count": 22,
     "metadata": {},
     "output_type": "execute_result"
    }
   ],
   "source": [
    "X_text_df.head()"
   ]
  },
  {
   "cell_type": "code",
   "execution_count": 24,
   "metadata": {
    "collapsed": true
   },
   "outputs": [],
   "source": [
    "keep_list = ['upgrade','cheese','delicious','pool','luxury','fabulous','style','touch','atmosphere','fruit','toilet','dark','cheap','dirty','sink','ac','issues','cleaned','closet']"
   ]
  },
  {
   "cell_type": "code",
   "execution_count": 25,
   "metadata": {
    "collapsed": true
   },
   "outputs": [],
   "source": [
    "X_text_df = X_text_df[keep_list]"
   ]
  },
  {
   "cell_type": "code",
   "execution_count": 26,
   "metadata": {
    "collapsed": false
   },
   "outputs": [
    {
     "data": {
      "text/plain": [
       "(440, 19)"
      ]
     },
     "execution_count": 26,
     "metadata": {},
     "output_type": "execute_result"
    }
   ],
   "source": [
    "X_text_df.shape"
   ]
  },
  {
   "cell_type": "code",
   "execution_count": 28,
   "metadata": {
    "collapsed": false
   },
   "outputs": [
    {
     "data": {
      "text/plain": [
       "Index([u'rank_num'], dtype='object')"
      ]
     },
     "execution_count": 28,
     "metadata": {},
     "output_type": "execute_result"
    }
   ],
   "source": [
    "all_text.columns"
   ]
  },
  {
   "cell_type": "code",
   "execution_count": 27,
   "metadata": {
    "collapsed": false
   },
   "outputs": [
    {
     "name": "stderr",
     "output_type": "stream",
     "text": [
      "/Users/sashakapralov/anaconda/envs/dsi/lib/python2.7/site-packages/ipykernel/__main__.py:1: SettingWithCopyWarning: \n",
      "A value is trying to be set on a copy of a slice from a DataFrame\n",
      "\n",
      "See the caveats in the documentation: http://pandas.pydata.org/pandas-docs/stable/indexing.html#indexing-view-versus-copy\n",
      "  if __name__ == '__main__':\n"
     ]
    }
   ],
   "source": [
    "X_text_df_w_rank = pd.concat([all_text.drop('content_utf8',axis=1,inplace=True),X_text_df],axis=1)"
   ]
  },
  {
   "cell_type": "code",
   "execution_count": 29,
   "metadata": {
    "collapsed": false
   },
   "outputs": [
    {
     "data": {
      "text/plain": [
       "(440, 19)"
      ]
     },
     "execution_count": 29,
     "metadata": {},
     "output_type": "execute_result"
    }
   ],
   "source": [
    "X_text_df_w_rank.shape"
   ]
  },
  {
   "cell_type": "code",
   "execution_count": 30,
   "metadata": {
    "collapsed": false
   },
   "outputs": [
    {
     "data": {
      "text/plain": [
       "Index([u'upgrade', u'cheese', u'delicious', u'pool', u'luxury', u'fabulous',\n",
       "       u'style', u'touch', u'atmosphere', u'fruit', u'toilet', u'dark',\n",
       "       u'cheap', u'dirty', u'sink', u'ac', u'issues', u'cleaned', u'closet'],\n",
       "      dtype='object')"
      ]
     },
     "execution_count": 30,
     "metadata": {},
     "output_type": "execute_result"
    }
   ],
   "source": [
    "X_text_df_w_rank.columns"
   ]
  },
  {
   "cell_type": "code",
   "execution_count": 31,
   "metadata": {
    "collapsed": true
   },
   "outputs": [],
   "source": [
    "X_text_df_w_rank = pd.concat([all_text,X_text_df],axis=1)"
   ]
  },
  {
   "cell_type": "code",
   "execution_count": 32,
   "metadata": {
    "collapsed": false
   },
   "outputs": [
    {
     "data": {
      "text/plain": [
       "(440, 20)"
      ]
     },
     "execution_count": 32,
     "metadata": {},
     "output_type": "execute_result"
    }
   ],
   "source": [
    "X_text_df_w_rank.shape"
   ]
  },
  {
   "cell_type": "code",
   "execution_count": 33,
   "metadata": {
    "collapsed": true
   },
   "outputs": [],
   "source": [
    "X_text_df_w_rank.to_pickle('X_text_df_w_rank.pickle')"
   ]
  }
 ],
 "metadata": {
  "anaconda-cloud": {},
  "kernelspec": {
   "display_name": "Python [conda env:dsi]",
   "language": "python",
   "name": "conda-env-dsi-py"
  },
  "language_info": {
   "codemirror_mode": {
    "name": "ipython",
    "version": 2
   },
   "file_extension": ".py",
   "mimetype": "text/x-python",
   "name": "python",
   "nbconvert_exporter": "python",
   "pygments_lexer": "ipython2",
   "version": "2.7.12"
  }
 },
 "nbformat": 4,
 "nbformat_minor": 1
}
